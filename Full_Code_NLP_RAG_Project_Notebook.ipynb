{
  "cells": [
    {
      "cell_type": "markdown",
      "metadata": {
        "id": "3CNz35ia6Bz3"
      },
      "source": [
        "## Problem Statement"
      ]
    },
    {
      "cell_type": "markdown",
      "metadata": {
        "id": "CkRbhMJH6Bz3"
      },
      "source": [
        "### Business Context"
      ]
    },
    {
      "cell_type": "markdown",
      "metadata": {
        "id": "3PBm5xaj6Bz3"
      },
      "source": [
        "The healthcare industry is rapidly evolving, with professionals facing increasing challenges in managing vast volumes of medical data while delivering accurate and timely diagnoses. The need for quick access to comprehensive, reliable, and up-to-date medical knowledge is critical for improving patient outcomes and ensuring informed decision-making in a fast-paced environment.\n",
        "\n",
        "Healthcare professionals often encounter information overload, struggling to sift through extensive research and data to create accurate diagnoses and treatment plans. This challenge is amplified by the need for efficiency, particularly in emergencies, where time-sensitive decisions are vital. Furthermore, access to trusted, current medical information from renowned manuals and research papers is essential for maintaining high standards of care.\n",
        "\n",
        "To address these challenges, healthcare centers can focus on integrating systems that streamline access to medical knowledge, provide tools to support quick decision-making, and enhance efficiency. Leveraging centralized knowledge platforms and ensuring healthcare providers have continuous access to reliable resources can significantly improve patient care and operational effectiveness."
      ]
    },
    {
      "cell_type": "markdown",
      "metadata": {
        "id": "1xDPsqvO6Bz5"
      },
      "source": [
        "**Common Questions to Answer**\n",
        "\n",
        "**1. Diagnostic Assistance**: \"What are the common symptoms and treatments for pulmonary embolism?\"\n",
        "\n",
        "**2. Drug Information**: \"Can you provide the trade names of medications used for treating hypertension?\"\n",
        "\n",
        "**3. Treatment Plans**: \"What are the first-line options and alternatives for managing rheumatoid arthritis?\"\n",
        "\n",
        "**4. Specialty Knowledge**: \"What are the diagnostic steps for suspected endocrine disorders?\"\n",
        "\n",
        "**5. Critical Care Protocols**: \"What is the protocol for managing sepsis in a critical care unit?\""
      ]
    },
    {
      "cell_type": "markdown",
      "metadata": {
        "id": "CARPKFwm6Bz4"
      },
      "source": [
        "### Objective"
      ]
    },
    {
      "cell_type": "markdown",
      "metadata": {
        "id": "dOElOEXq6Bz4"
      },
      "source": [
        "As an AI specialist, your task is to develop a RAG-based AI solution using renowned medical manuals to address healthcare challenges. The objective is to **understand** issues like information overload, **apply** AI techniques to streamline decision-making, **analyze** its impact on diagnostics and patient outcomes, **evaluate** its potential to standardize care practices, and **create** a functional prototype demonstrating its feasibility and effectiveness."
      ]
    },
    {
      "cell_type": "markdown",
      "metadata": {
        "id": "by9EvAnkSpZf"
      },
      "source": [
        "### Data Description"
      ]
    },
    {
      "cell_type": "markdown",
      "metadata": {
        "id": "Jw5LievCSru2"
      },
      "source": [
        "The **Merck Manuals** are medical references published by the American pharmaceutical company Merck & Co., that cover a wide range of medical topics, including disorders, tests, diagnoses, and drugs. The manuals have been published since 1899, when Merck & Co. was still a subsidiary of the German company Merck.\n",
        "\n",
        "The manual is provided as a PDF with over 4,000 pages divided into 23 sections."
      ]
    },
    {
      "cell_type": "markdown",
      "metadata": {
        "id": "lnwETBOE6Bz5"
      },
      "source": [
        "## Installing and Importing Necessary Libraries and Dependencies"
      ]
    },
    {
      "cell_type": "code",
      "execution_count": 1,
      "metadata": {
        "id": "q4GgLhZhUM4V",
        "colab": {
          "base_uri": "https://localhost:8080/"
        },
        "outputId": "ec3123de-916b-45c5-d537-411e5cf39a58"
      },
      "outputs": [
        {
          "output_type": "stream",
          "name": "stdout",
          "text": [
            "\u001b[?25l     \u001b[90m━━━━━━━━━━━━━━━━━━━━━━━━━━━━━━━━━━━━━━━━\u001b[0m \u001b[32m0.0/1.8 MB\u001b[0m \u001b[31m?\u001b[0m eta \u001b[36m-:--:--\u001b[0m\r\u001b[2K     \u001b[91m━━━━━━━━━━━━━━\u001b[0m\u001b[91m╸\u001b[0m\u001b[90m━━━━━━━━━━━━━━━━━━━━━━━━━\u001b[0m \u001b[32m0.7/1.8 MB\u001b[0m \u001b[31m19.7 MB/s\u001b[0m eta \u001b[36m0:00:01\u001b[0m\r\u001b[2K     \u001b[90m━━━━━━━━━━━━━━━━━━━━━━━━━━━━━━━━━━━━━━━━\u001b[0m \u001b[32m1.8/1.8 MB\u001b[0m \u001b[31m42.3 MB/s\u001b[0m eta \u001b[36m0:00:00\u001b[0m\n",
            "\u001b[?25h  Installing build dependencies ... \u001b[?25l\u001b[?25hdone\n",
            "  Getting requirements to build wheel ... \u001b[?25l\u001b[?25hdone\n",
            "  Preparing metadata (pyproject.toml) ... \u001b[?25l\u001b[?25hdone\n",
            "\u001b[2K     \u001b[90m━━━━━━━━━━━━━━━━━━━━━━━━━━━━━━━━━━━━━━━\u001b[0m \u001b[32m62.1/62.1 kB\u001b[0m \u001b[31m146.5 MB/s\u001b[0m eta \u001b[36m0:00:00\u001b[0m\n",
            "\u001b[2K   \u001b[90m━━━━━━━━━━━━━━━━━━━━━━━━━━━━━━━━━━━━━━━━\u001b[0m \u001b[32m45.5/45.5 kB\u001b[0m \u001b[31m290.0 MB/s\u001b[0m eta \u001b[36m0:00:00\u001b[0m\n",
            "\u001b[2K   \u001b[90m━━━━━━━━━━━━━━━━━━━━━━━━━━━━━━━━━━━━━━━━\u001b[0m \u001b[32m16.9/16.9 MB\u001b[0m \u001b[31m253.4 MB/s\u001b[0m eta \u001b[36m0:00:00\u001b[0m\n",
            "\u001b[2K   \u001b[90m━━━━━━━━━━━━━━━━━━━━━━━━━━━━━━━━━━━━━━━━\u001b[0m \u001b[32m43.9/43.9 kB\u001b[0m \u001b[31m278.8 MB/s\u001b[0m eta \u001b[36m0:00:00\u001b[0m\n",
            "\u001b[?25h  Building wheel for llama-cpp-python (pyproject.toml) ... \u001b[?25l\u001b[?25hdone\n",
            "\u001b[31mERROR: pip's dependency resolver does not currently take into account all the packages that are installed. This behaviour is the source of the following dependency conflicts.\n",
            "torch 2.6.0+cu124 requires nvidia-cublas-cu12==12.4.5.8; platform_system == \"Linux\" and platform_machine == \"x86_64\", but you have nvidia-cublas-cu12 12.5.3.2 which is incompatible.\n",
            "torch 2.6.0+cu124 requires nvidia-cuda-cupti-cu12==12.4.127; platform_system == \"Linux\" and platform_machine == \"x86_64\", but you have nvidia-cuda-cupti-cu12 12.5.82 which is incompatible.\n",
            "torch 2.6.0+cu124 requires nvidia-cuda-nvrtc-cu12==12.4.127; platform_system == \"Linux\" and platform_machine == \"x86_64\", but you have nvidia-cuda-nvrtc-cu12 12.5.82 which is incompatible.\n",
            "torch 2.6.0+cu124 requires nvidia-cuda-runtime-cu12==12.4.127; platform_system == \"Linux\" and platform_machine == \"x86_64\", but you have nvidia-cuda-runtime-cu12 12.5.82 which is incompatible.\n",
            "torch 2.6.0+cu124 requires nvidia-cudnn-cu12==9.1.0.70; platform_system == \"Linux\" and platform_machine == \"x86_64\", but you have nvidia-cudnn-cu12 9.3.0.75 which is incompatible.\n",
            "torch 2.6.0+cu124 requires nvidia-cufft-cu12==11.2.1.3; platform_system == \"Linux\" and platform_machine == \"x86_64\", but you have nvidia-cufft-cu12 11.2.3.61 which is incompatible.\n",
            "torch 2.6.0+cu124 requires nvidia-curand-cu12==10.3.5.147; platform_system == \"Linux\" and platform_machine == \"x86_64\", but you have nvidia-curand-cu12 10.3.6.82 which is incompatible.\n",
            "torch 2.6.0+cu124 requires nvidia-cusolver-cu12==11.6.1.9; platform_system == \"Linux\" and platform_machine == \"x86_64\", but you have nvidia-cusolver-cu12 11.6.3.83 which is incompatible.\n",
            "torch 2.6.0+cu124 requires nvidia-cusparse-cu12==12.3.1.170; platform_system == \"Linux\" and platform_machine == \"x86_64\", but you have nvidia-cusparse-cu12 12.5.1.3 which is incompatible.\n",
            "torch 2.6.0+cu124 requires nvidia-nccl-cu12==2.21.5; platform_system == \"Linux\" and platform_machine == \"x86_64\", but you have nvidia-nccl-cu12 2.23.4 which is incompatible.\n",
            "torch 2.6.0+cu124 requires nvidia-nvjitlink-cu12==12.4.127; platform_system == \"Linux\" and platform_machine == \"x86_64\", but you have nvidia-nvjitlink-cu12 12.5.82 which is incompatible.\n",
            "opencv-contrib-python 4.12.0.88 requires numpy<2.3.0,>=2; python_version >= \"3.9\", but you have numpy 2.3.2 which is incompatible.\n",
            "numba 0.60.0 requires numpy<2.1,>=1.22, but you have numpy 2.3.2 which is incompatible.\n",
            "opencv-python-headless 4.12.0.88 requires numpy<2.3.0,>=2; python_version >= \"3.9\", but you have numpy 2.3.2 which is incompatible.\n",
            "opencv-python 4.12.0.88 requires numpy<2.3.0,>=2; python_version >= \"3.9\", but you have numpy 2.3.2 which is incompatible.\n",
            "tensorflow 2.19.0 requires numpy<2.2.0,>=1.26.0, but you have numpy 2.3.2 which is incompatible.\n",
            "cupy-cuda12x 13.3.0 requires numpy<2.3,>=1.22, but you have numpy 2.3.2 which is incompatible.\u001b[0m\u001b[31m\n",
            "\u001b[0m"
          ]
        }
      ],
      "source": [
        "# Installation for GPU llama-cpp-python\n",
        "# uncomment and run the following code in case GPU is being used\n",
        "!CMAKE_ARGS=\"-DLLAMA_CUBLAS=on\" FORCE_CMAKE=1 pip install llama-cpp-python==0.1.85 --force-reinstall --no-cache-dir -q\n",
        "\n",
        "# Installation for CPU llama-cpp-python\n",
        "# uncomment and run the following code in case GPU is not being used\n",
        "# !CMAKE_ARGS=\"-DLLAMA_CUBLAS=off\" FORCE_CMAKE=1 pip install llama-cpp-python==0.1.85 --force-reinstall --no-cache-dir -q"
      ]
    },
    {
      "cell_type": "markdown",
      "source": [
        "**Note**:\n",
        "- After running the above cell, kindly restart the runtime (for Google Colab) or notebook kernel (for Jupyter Notebook), and run all cells sequentially from the next cell.\n",
        "- On executing the above line of code, you might see a warning regarding package dependencies. This error message can be ignored as the above code ensures that all necessary libraries and their dependencies are maintained to successfully execute the code in ***this notebook***."
      ],
      "metadata": {
        "id": "mDp-EYZH-69E"
      }
    },
    {
      "cell_type": "code",
      "execution_count": 2,
      "metadata": {
        "id": "0VOckDVkWGei",
        "colab": {
          "base_uri": "https://localhost:8080/"
        },
        "outputId": "3c54e1b2-6361-479d-ebe6-478d85baef20"
      },
      "outputs": [
        {
          "output_type": "stream",
          "name": "stdout",
          "text": [
            "\u001b[?25l     \u001b[90m━━━━━━━━━━━━━━━━━━━━━━━━━━━━━━━━━━━━━━━━\u001b[0m \u001b[32m0.0/67.3 kB\u001b[0m \u001b[31m?\u001b[0m eta \u001b[36m-:--:--\u001b[0m\r\u001b[2K     \u001b[90m━━━━━━━━━━━━━━━━━━━━━━━━━━━━━━━━━━━━━━━━\u001b[0m \u001b[32m67.3/67.3 kB\u001b[0m \u001b[31m5.2 MB/s\u001b[0m eta \u001b[36m0:00:00\u001b[0m\n",
            "\u001b[?25h  Installing build dependencies ... \u001b[?25l\u001b[?25hdone\n",
            "  Getting requirements to build wheel ... \u001b[?25l\u001b[?25hdone\n",
            "  Preparing metadata (pyproject.toml) ... \u001b[?25l\u001b[?25hdone\n",
            "\u001b[2K     \u001b[90m━━━━━━━━━━━━━━━━━━━━━━━━━━━━━━━━━━━━━━━━\u001b[0m \u001b[32m41.7/41.7 kB\u001b[0m \u001b[31m3.7 MB/s\u001b[0m eta \u001b[36m0:00:00\u001b[0m\n",
            "\u001b[2K     \u001b[90m━━━━━━━━━━━━━━━━━━━━━━━━━━━━━━━━━━━━━━━━\u001b[0m \u001b[32m41.7/41.7 kB\u001b[0m \u001b[31m3.8 MB/s\u001b[0m eta \u001b[36m0:00:00\u001b[0m\n",
            "\u001b[2K     \u001b[90m━━━━━━━━━━━━━━━━━━━━━━━━━━━━━━━━━━━━━━━━\u001b[0m \u001b[32m40.9/40.9 kB\u001b[0m \u001b[31m3.4 MB/s\u001b[0m eta \u001b[36m0:00:00\u001b[0m\n",
            "\u001b[2K     \u001b[90m━━━━━━━━━━━━━━━━━━━━━━━━━━━━━━━━━━━━━━━━\u001b[0m \u001b[32m40.9/40.9 kB\u001b[0m \u001b[31m3.4 MB/s\u001b[0m eta \u001b[36m0:00:00\u001b[0m\n",
            "\u001b[2K     \u001b[90m━━━━━━━━━━━━━━━━━━━━━━━━━━━━━━━━━━━━━━━━\u001b[0m \u001b[32m40.9/40.9 kB\u001b[0m \u001b[31m3.5 MB/s\u001b[0m eta \u001b[36m0:00:00\u001b[0m\n",
            "\u001b[2K     \u001b[90m━━━━━━━━━━━━━━━━━━━━━━━━━━━━━━━━━━━━━━━━\u001b[0m \u001b[32m40.2/40.2 kB\u001b[0m \u001b[31m3.6 MB/s\u001b[0m eta \u001b[36m0:00:00\u001b[0m\n",
            "\u001b[2K     \u001b[90m━━━━━━━━━━━━━━━━━━━━━━━━━━━━━━━━━━━━━━━━\u001b[0m \u001b[32m40.2/40.2 kB\u001b[0m \u001b[31m3.6 MB/s\u001b[0m eta \u001b[36m0:00:00\u001b[0m\n",
            "\u001b[2K     \u001b[90m━━━━━━━━━━━━━━━━━━━━━━━━━━━━━━━━━━━━━━━━\u001b[0m \u001b[32m44.0/44.0 kB\u001b[0m \u001b[31m3.8 MB/s\u001b[0m eta \u001b[36m0:00:00\u001b[0m\n",
            "\u001b[2K     \u001b[90m━━━━━━━━━━━━━━━━━━━━━━━━━━━━━━━━━━━━━━━━\u001b[0m \u001b[32m44.4/44.4 kB\u001b[0m \u001b[31m4.1 MB/s\u001b[0m eta \u001b[36m0:00:00\u001b[0m\n",
            "\u001b[2K     \u001b[90m━━━━━━━━━━━━━━━━━━━━━━━━━━━━━━━━━━━━━━━━\u001b[0m \u001b[32m44.4/44.4 kB\u001b[0m \u001b[31m3.2 MB/s\u001b[0m eta \u001b[36m0:00:00\u001b[0m\n",
            "\u001b[2K     \u001b[90m━━━━━━━━━━━━━━━━━━━━━━━━━━━━━━━━━━━━━━━━\u001b[0m \u001b[32m44.4/44.4 kB\u001b[0m \u001b[31m3.4 MB/s\u001b[0m eta \u001b[36m0:00:00\u001b[0m\n",
            "\u001b[2K     \u001b[90m━━━━━━━━━━━━━━━━━━━━━━━━━━━━━━━━━━━━━━━━\u001b[0m \u001b[32m44.4/44.4 kB\u001b[0m \u001b[31m3.5 MB/s\u001b[0m eta \u001b[36m0:00:00\u001b[0m\n",
            "\u001b[2K     \u001b[90m━━━━━━━━━━━━━━━━━━━━━━━━━━━━━━━━━━━━━━━━\u001b[0m \u001b[32m44.1/44.1 kB\u001b[0m \u001b[31m4.1 MB/s\u001b[0m eta \u001b[36m0:00:00\u001b[0m\n",
            "\u001b[2K     \u001b[90m━━━━━━━━━━━━━━━━━━━━━━━━━━━━━━━━━━━━━━━━\u001b[0m \u001b[32m43.5/43.5 kB\u001b[0m \u001b[31m3.2 MB/s\u001b[0m eta \u001b[36m0:00:00\u001b[0m\n",
            "\u001b[2K     \u001b[90m━━━━━━━━━━━━━━━━━━━━━━━━━━━━━━━━━━━━━━━━\u001b[0m \u001b[32m44.1/44.1 kB\u001b[0m \u001b[31m3.8 MB/s\u001b[0m eta \u001b[36m0:00:00\u001b[0m\n",
            "\u001b[2K   \u001b[90m━━━━━━━━━━━━━━━━━━━━━━━━━━━━━━━━━━━━━━━━\u001b[0m \u001b[32m401.7/401.7 kB\u001b[0m \u001b[31m16.9 MB/s\u001b[0m eta \u001b[36m0:00:00\u001b[0m\n",
            "\u001b[2K   \u001b[90m━━━━━━━━━━━━━━━━━━━━━━━━━━━━━━━━━━━━━━━━\u001b[0m \u001b[32m12.0/12.0 MB\u001b[0m \u001b[31m76.5 MB/s\u001b[0m eta \u001b[36m0:00:00\u001b[0m\n",
            "\u001b[2K   \u001b[90m━━━━━━━━━━━━━━━━━━━━━━━━━━━━━━━━━━━━━━━━\u001b[0m \u001b[32m1.8/1.8 MB\u001b[0m \u001b[31m82.2 MB/s\u001b[0m eta \u001b[36m0:00:00\u001b[0m\n",
            "\u001b[2K   \u001b[90m━━━━━━━━━━━━━━━━━━━━━━━━━━━━━━━━━━━━━━━━\u001b[0m \u001b[32m20.0/20.0 MB\u001b[0m \u001b[31m98.0 MB/s\u001b[0m eta \u001b[36m0:00:00\u001b[0m\n",
            "\u001b[2K   \u001b[90m━━━━━━━━━━━━━━━━━━━━━━━━━━━━━━━━━━━━━━━━\u001b[0m \u001b[32m867.6/867.6 kB\u001b[0m \u001b[31m57.4 MB/s\u001b[0m eta \u001b[36m0:00:00\u001b[0m\n",
            "\u001b[2K   \u001b[90m━━━━━━━━━━━━━━━━━━━━━━━━━━━━━━━━━━━━━━━━\u001b[0m \u001b[32m302.9/302.9 kB\u001b[0m \u001b[31m27.8 MB/s\u001b[0m eta \u001b[36m0:00:00\u001b[0m\n",
            "\u001b[2K   \u001b[90m━━━━━━━━━━━━━━━━━━━━━━━━━━━━━━━━━━━━━━━━\u001b[0m \u001b[32m2.0/2.0 MB\u001b[0m \u001b[31m91.3 MB/s\u001b[0m eta \u001b[36m0:00:00\u001b[0m\n",
            "\u001b[2K   \u001b[90m━━━━━━━━━━━━━━━━━━━━━━━━━━━━━━━━━━━━━━━━\u001b[0m \u001b[32m509.0/509.0 kB\u001b[0m \u001b[31m43.6 MB/s\u001b[0m eta \u001b[36m0:00:00\u001b[0m\n",
            "\u001b[2K   \u001b[90m━━━━━━━━━━━━━━━━━━━━━━━━━━━━━━━━━━━━━━━━\u001b[0m \u001b[32m132.8/132.8 kB\u001b[0m \u001b[31m13.0 MB/s\u001b[0m eta \u001b[36m0:00:00\u001b[0m\n",
            "\u001b[2K   \u001b[90m━━━━━━━━━━━━━━━━━━━━━━━━━━━━━━━━━━━━━━━━\u001b[0m \u001b[32m18.2/18.2 MB\u001b[0m \u001b[31m113.5 MB/s\u001b[0m eta \u001b[36m0:00:00\u001b[0m\n",
            "\u001b[2K   \u001b[90m━━━━━━━━━━━━━━━━━━━━━━━━━━━━━━━━━━━━━━━━\u001b[0m \u001b[32m2.4/2.4 MB\u001b[0m \u001b[31m84.0 MB/s\u001b[0m eta \u001b[36m0:00:00\u001b[0m\n",
            "\u001b[2K   \u001b[90m━━━━━━━━━━━━━━━━━━━━━━━━━━━━━━━━━━━━━━━━\u001b[0m \u001b[32m284.2/284.2 kB\u001b[0m \u001b[31m26.0 MB/s\u001b[0m eta \u001b[36m0:00:00\u001b[0m\n",
            "\u001b[2K   \u001b[90m━━━━━━━━━━━━━━━━━━━━━━━━━━━━━━━━━━━━━━━━\u001b[0m \u001b[32m1.9/1.9 MB\u001b[0m \u001b[31m86.0 MB/s\u001b[0m eta \u001b[36m0:00:00\u001b[0m\n",
            "\u001b[2K   \u001b[90m━━━━━━━━━━━━━━━━━━━━━━━━━━━━━━━━━━━━━━━━\u001b[0m \u001b[32m311.8/311.8 kB\u001b[0m \u001b[31m26.8 MB/s\u001b[0m eta \u001b[36m0:00:00\u001b[0m\n",
            "\u001b[2K   \u001b[90m━━━━━━━━━━━━━━━━━━━━━━━━━━━━━━━━━━━━━━━━\u001b[0m \u001b[32m103.1/103.1 kB\u001b[0m \u001b[31m9.3 MB/s\u001b[0m eta \u001b[36m0:00:00\u001b[0m\n",
            "\u001b[2K   \u001b[90m━━━━━━━━━━━━━━━━━━━━━━━━━━━━━━━━━━━━━━━━\u001b[0m \u001b[32m16.5/16.5 MB\u001b[0m \u001b[31m102.1 MB/s\u001b[0m eta \u001b[36m0:00:00\u001b[0m\n",
            "\u001b[2K   \u001b[90m━━━━━━━━━━━━━━━━━━━━━━━━━━━━━━━━━━━━━━━━\u001b[0m \u001b[32m65.6/65.6 kB\u001b[0m \u001b[31m6.3 MB/s\u001b[0m eta \u001b[36m0:00:00\u001b[0m\n",
            "\u001b[2K   \u001b[90m━━━━━━━━━━━━━━━━━━━━━━━━━━━━━━━━━━━━━━━━\u001b[0m \u001b[32m72.5/72.5 kB\u001b[0m \u001b[31m6.7 MB/s\u001b[0m eta \u001b[36m0:00:00\u001b[0m\n",
            "\u001b[2K   \u001b[90m━━━━━━━━━━━━━━━━━━━━━━━━━━━━━━━━━━━━━━━━\u001b[0m \u001b[32m201.6/201.6 kB\u001b[0m \u001b[31m19.0 MB/s\u001b[0m eta \u001b[36m0:00:00\u001b[0m\n",
            "\u001b[2K   \u001b[90m━━━━━━━━━━━━━━━━━━━━━━━━━━━━━━━━━━━━━━━━\u001b[0m \u001b[32m120.0/120.0 kB\u001b[0m \u001b[31m12.9 MB/s\u001b[0m eta \u001b[36m0:00:00\u001b[0m\n",
            "\u001b[2K   \u001b[90m━━━━━━━━━━━━━━━━━━━━━━━━━━━━━━━━━━━━━━━━\u001b[0m \u001b[32m53.0/53.0 kB\u001b[0m \u001b[31m5.4 MB/s\u001b[0m eta \u001b[36m0:00:00\u001b[0m\n",
            "\u001b[2K   \u001b[90m━━━━━━━━━━━━━━━━━━━━━━━━━━━━━━━━━━━━━━━━\u001b[0m \u001b[32m116.7/116.7 kB\u001b[0m \u001b[31m11.5 MB/s\u001b[0m eta \u001b[36m0:00:00\u001b[0m\n",
            "\u001b[2K   \u001b[90m━━━━━━━━━━━━━━━━━━━━━━━━━━━━━━━━━━━━━━━━\u001b[0m \u001b[32m6.6/6.6 MB\u001b[0m \u001b[31m124.9 MB/s\u001b[0m eta \u001b[36m0:00:00\u001b[0m\n",
            "\u001b[2K   \u001b[90m━━━━━━━━━━━━━━━━━━━━━━━━━━━━━━━━━━━━━━━━\u001b[0m \u001b[32m363.4/363.4 MB\u001b[0m \u001b[31m3.9 MB/s\u001b[0m eta \u001b[36m0:00:00\u001b[0m\n",
            "\u001b[2K   \u001b[90m━━━━━━━━━━━━━━━━━━━━━━━━━━━━━━━━━━━━━━━━\u001b[0m \u001b[32m13.8/13.8 MB\u001b[0m \u001b[31m127.7 MB/s\u001b[0m eta \u001b[36m0:00:00\u001b[0m\n",
            "\u001b[2K   \u001b[90m━━━━━━━━━━━━━━━━━━━━━━━━━━━━━━━━━━━━━━━━\u001b[0m \u001b[32m24.6/24.6 MB\u001b[0m \u001b[31m100.3 MB/s\u001b[0m eta \u001b[36m0:00:00\u001b[0m\n",
            "\u001b[2K   \u001b[90m━━━━━━━━━━━━━━━━━━━━━━━━━━━━━━━━━━━━━━━━\u001b[0m \u001b[32m883.7/883.7 kB\u001b[0m \u001b[31m56.7 MB/s\u001b[0m eta \u001b[36m0:00:00\u001b[0m\n",
            "\u001b[2K   \u001b[90m━━━━━━━━━━━━━━━━━━━━━━━━━━━━━━━━━━━━━━━━\u001b[0m \u001b[32m664.8/664.8 MB\u001b[0m \u001b[31m2.7 MB/s\u001b[0m eta \u001b[36m0:00:00\u001b[0m\n",
            "\u001b[2K   \u001b[90m━━━━━━━━━━━━━━━━━━━━━━━━━━━━━━━━━━━━━━━━\u001b[0m \u001b[32m211.5/211.5 MB\u001b[0m \u001b[31m5.4 MB/s\u001b[0m eta \u001b[36m0:00:00\u001b[0m\n",
            "\u001b[2K   \u001b[90m━━━━━━━━━━━━━━━━━━━━━━━━━━━━━━━━━━━━━━━━\u001b[0m \u001b[32m56.3/56.3 MB\u001b[0m \u001b[31m14.8 MB/s\u001b[0m eta \u001b[36m0:00:00\u001b[0m\n",
            "\u001b[2K   \u001b[90m━━━━━━━━━━━━━━━━━━━━━━━━━━━━━━━━━━━━━━━━\u001b[0m \u001b[32m127.9/127.9 MB\u001b[0m \u001b[31m6.9 MB/s\u001b[0m eta \u001b[36m0:00:00\u001b[0m\n",
            "\u001b[2K   \u001b[90m━━━━━━━━━━━━━━━━━━━━━━━━━━━━━━━━━━━━━━━━\u001b[0m \u001b[32m207.5/207.5 MB\u001b[0m \u001b[31m5.7 MB/s\u001b[0m eta \u001b[36m0:00:00\u001b[0m\n",
            "\u001b[2K   \u001b[90m━━━━━━━━━━━━━━━━━━━━━━━━━━━━━━━━━━━━━━━━\u001b[0m \u001b[32m188.7/188.7 MB\u001b[0m \u001b[31m5.8 MB/s\u001b[0m eta \u001b[36m0:00:00\u001b[0m\n",
            "\u001b[2K   \u001b[90m━━━━━━━━━━━━━━━━━━━━━━━━━━━━━━━━━━━━━━━━\u001b[0m \u001b[32m21.1/21.1 MB\u001b[0m \u001b[31m101.2 MB/s\u001b[0m eta \u001b[36m0:00:00\u001b[0m\n",
            "\u001b[2K   \u001b[90m━━━━━━━━━━━━━━━━━━━━━━━━━━━━━━━━━━━━━━━━\u001b[0m \u001b[32m10.0/10.0 MB\u001b[0m \u001b[31m122.4 MB/s\u001b[0m eta \u001b[36m0:00:00\u001b[0m\n",
            "\u001b[2K   \u001b[90m━━━━━━━━━━━━━━━━━━━━━━━━━━━━━━━━━━━━━━━━\u001b[0m \u001b[32m3.0/3.0 MB\u001b[0m \u001b[31m103.3 MB/s\u001b[0m eta \u001b[36m0:00:00\u001b[0m\n",
            "\u001b[2K   \u001b[90m━━━━━━━━━━━━━━━━━━━━━━━━━━━━━━━━━━━━━━━━\u001b[0m \u001b[32m459.8/459.8 kB\u001b[0m \u001b[31m38.1 MB/s\u001b[0m eta \u001b[36m0:00:00\u001b[0m\n",
            "\u001b[2K   \u001b[90m━━━━━━━━━━━━━━━━━━━━━━━━━━━━━━━━━━━━━━━━\u001b[0m \u001b[32m50.9/50.9 kB\u001b[0m \u001b[31m4.6 MB/s\u001b[0m eta \u001b[36m0:00:00\u001b[0m\n",
            "\u001b[2K   \u001b[90m━━━━━━━━━━━━━━━━━━━━━━━━━━━━━━━━━━━━━━━━\u001b[0m \u001b[32m4.0/4.0 MB\u001b[0m \u001b[31m111.0 MB/s\u001b[0m eta \u001b[36m0:00:00\u001b[0m\n",
            "\u001b[2K   \u001b[90m━━━━━━━━━━━━━━━━━━━━━━━━━━━━━━━━━━━━━━━━\u001b[0m \u001b[32m453.1/453.1 kB\u001b[0m \u001b[31m37.0 MB/s\u001b[0m eta \u001b[36m0:00:00\u001b[0m\n",
            "\u001b[2K   \u001b[90m━━━━━━━━━━━━━━━━━━━━━━━━━━━━━━━━━━━━━━━━\u001b[0m \u001b[32m46.0/46.0 kB\u001b[0m \u001b[31m4.1 MB/s\u001b[0m eta \u001b[36m0:00:00\u001b[0m\n",
            "\u001b[2K   \u001b[90m━━━━━━━━━━━━━━━━━━━━━━━━━━━━━━━━━━━━━━━━\u001b[0m \u001b[32m86.8/86.8 kB\u001b[0m \u001b[31m8.1 MB/s\u001b[0m eta \u001b[36m0:00:00\u001b[0m\n",
            "\u001b[?25h  Building wheel for pypika (pyproject.toml) ... \u001b[?25l\u001b[?25hdone\n",
            "\u001b[31mERROR: pip's dependency resolver does not currently take into account all the packages that are installed. This behaviour is the source of the following dependency conflicts.\n",
            "google-colab 1.0.0 requires pandas==2.2.2, but you have pandas 1.5.3 which is incompatible.\n",
            "xarray 2025.7.1 requires numpy>=1.26, but you have numpy 1.25.2 which is incompatible.\n",
            "xarray 2025.7.1 requires packaging>=24.1, but you have packaging 23.2 which is incompatible.\n",
            "xarray 2025.7.1 requires pandas>=2.2, but you have pandas 1.5.3 which is incompatible.\n",
            "datasets 4.0.0 requires huggingface-hub>=0.24.0, but you have huggingface-hub 0.23.2 which is incompatible.\n",
            "arviz 0.22.0 requires numpy>=1.26.0, but you have numpy 1.25.2 which is incompatible.\n",
            "arviz 0.22.0 requires pandas>=2.1.0, but you have pandas 1.5.3 which is incompatible.\n",
            "opencv-contrib-python 4.12.0.88 requires numpy<2.3.0,>=2; python_version >= \"3.9\", but you have numpy 1.25.2 which is incompatible.\n",
            "dask-cudf-cu12 25.6.0 requires pandas<2.2.4dev0,>=2.0, but you have pandas 1.5.3 which is incompatible.\n",
            "plotnine 0.14.5 requires pandas>=2.2.0, but you have pandas 1.5.3 which is incompatible.\n",
            "mizani 0.13.5 requires pandas>=2.2.0, but you have pandas 1.5.3 which is incompatible.\n",
            "blosc2 3.6.1 requires numpy>=1.26, but you have numpy 1.25.2 which is incompatible.\n",
            "opencv-python-headless 4.12.0.88 requires numpy<2.3.0,>=2; python_version >= \"3.9\", but you have numpy 1.25.2 which is incompatible.\n",
            "opencv-python 4.12.0.88 requires numpy<2.3.0,>=2; python_version >= \"3.9\", but you have numpy 1.25.2 which is incompatible.\n",
            "cudf-cu12 25.6.0 requires pandas<2.2.4dev0,>=2.0, but you have pandas 1.5.3 which is incompatible.\n",
            "geopandas 1.1.1 requires pandas>=2.0.0, but you have pandas 1.5.3 which is incompatible.\n",
            "thinc 8.3.6 requires numpy<3.0.0,>=2.0.0, but you have numpy 1.25.2 which is incompatible.\n",
            "peft 0.17.0 requires huggingface_hub>=0.25.0, but you have huggingface-hub 0.23.2 which is incompatible.\n",
            "google-cloud-bigquery 3.35.1 requires packaging>=24.2.0, but you have packaging 23.2 which is incompatible.\n",
            "gradio 5.41.0 requires huggingface-hub<1.0,>=0.33.5, but you have huggingface-hub 0.23.2 which is incompatible.\n",
            "tensorflow 2.19.0 requires numpy<2.2.0,>=1.26.0, but you have numpy 1.25.2 which is incompatible.\n",
            "diffusers 0.34.0 requires huggingface-hub>=0.27.0, but you have huggingface-hub 0.23.2 which is incompatible.\n",
            "db-dtypes 1.4.3 requires packaging>=24.2.0, but you have packaging 23.2 which is incompatible.\u001b[0m\u001b[31m\n",
            "\u001b[0mCollecting posthog==3.0.1\n",
            "  Downloading posthog-3.0.1-py2.py3-none-any.whl.metadata (2.0 kB)\n",
            "Requirement already satisfied: requests<3.0,>=2.7 in /usr/local/lib/python3.11/dist-packages (from posthog==3.0.1) (2.32.3)\n",
            "Requirement already satisfied: six>=1.5 in /usr/local/lib/python3.11/dist-packages (from posthog==3.0.1) (1.17.0)\n",
            "Collecting monotonic>=1.5 (from posthog==3.0.1)\n",
            "  Downloading monotonic-1.6-py2.py3-none-any.whl.metadata (1.5 kB)\n",
            "Requirement already satisfied: backoff>=1.10.0 in /usr/local/lib/python3.11/dist-packages (from posthog==3.0.1) (2.2.1)\n",
            "Requirement already satisfied: python-dateutil>2.1 in /usr/local/lib/python3.11/dist-packages (from posthog==3.0.1) (2.9.0.post0)\n",
            "Requirement already satisfied: charset-normalizer<4,>=2 in /usr/local/lib/python3.11/dist-packages (from requests<3.0,>=2.7->posthog==3.0.1) (3.4.2)\n",
            "Requirement already satisfied: idna<4,>=2.5 in /usr/local/lib/python3.11/dist-packages (from requests<3.0,>=2.7->posthog==3.0.1) (3.10)\n",
            "Requirement already satisfied: urllib3<3,>=1.21.1 in /usr/local/lib/python3.11/dist-packages (from requests<3.0,>=2.7->posthog==3.0.1) (2.5.0)\n",
            "Requirement already satisfied: certifi>=2017.4.17 in /usr/local/lib/python3.11/dist-packages (from requests<3.0,>=2.7->posthog==3.0.1) (2025.8.3)\n",
            "Downloading posthog-3.0.1-py2.py3-none-any.whl (37 kB)\n",
            "Downloading monotonic-1.6-py2.py3-none-any.whl (8.2 kB)\n",
            "Installing collected packages: monotonic, posthog\n",
            "  Attempting uninstall: posthog\n",
            "    Found existing installation: posthog 6.5.0\n",
            "    Uninstalling posthog-6.5.0:\n",
            "      Successfully uninstalled posthog-6.5.0\n",
            "Successfully installed monotonic-1.6 posthog-3.0.1\n"
          ]
        }
      ],
      "source": [
        "# For installing the libraries & downloading models from HF Hub\n",
        "!pip install huggingface_hub==0.23.2 pandas==1.5.3 tiktoken==0.6.0 pymupdf==1.25.1 langchain==0.1.17 langchain-core==0.1.51 langchain-community==0.0.36 chromadb==0.4.22 sentence-transformers==2.3.1 numpy==1.25.2 -q\n",
        "!pip install posthog==3.0.1  # installing a compatible version"
      ]
    },
    {
      "cell_type": "markdown",
      "source": [
        "**Note**:\n",
        "- After running the above cell, kindly restart the runtime (for Google Colab) or notebook kernel (for Jupyter Notebook), and run all cells sequentially from the next cell.\n",
        "- On executing the above line of code, you might see a warning regarding package dependencies. This error message can be ignored as the above code ensures that all necessary libraries and their dependencies are maintained to successfully execute the code in ***this notebook***."
      ],
      "metadata": {
        "id": "y2EEYodpoUhW"
      }
    },
    {
      "cell_type": "code",
      "source": [
        "#Libraries for downloading and loading the llm\n",
        "from huggingface_hub import hf_hub_download\n",
        "from llama_cpp import Llama"
      ],
      "metadata": {
        "id": "ZsOohZqvf6t9"
      },
      "execution_count": 1,
      "outputs": []
    },
    {
      "cell_type": "code",
      "source": [
        "# fuction for formatting response text\n",
        "import textwrap\n",
        "import re\n",
        "\n",
        "def format_response_text(model_output, width=150):\n",
        "    raw_text = model_output[\"choices\"][0][\"text\"].strip()\n",
        "    formatted_text = textwrap.fill(raw_text, width=width, replace_whitespace=False)\n",
        "    verbose=False  # This hides prefix-match hit logs\n",
        "    return formatted_text"
      ],
      "metadata": {
        "id": "LJzrgBJQXQRj"
      },
      "execution_count": 2,
      "outputs": []
    },
    {
      "cell_type": "markdown",
      "metadata": {
        "id": "TtZWqj0wFTS1"
      },
      "source": [
        "## Question Answering using LLM"
      ]
    },
    {
      "cell_type": "markdown",
      "metadata": {
        "id": "Uq1lhM4WFTS2"
      },
      "source": [
        "#### Downloading and Loading the model"
      ]
    },
    {
      "cell_type": "code",
      "source": [
        "# Defining the Hugging Face repository and model version for Mistral-7B fine-tuned\n",
        "model_name_or_path = 'TheBloke/Mistral-7B-Instruct-v0.2-GGUF'\n",
        "\n",
        "# Defining the file name for the quantized Mistral-7B model in GGUF format (Q6_K for optimal performance)\n",
        "model_basename = 'mistral-7b-instruct-v0.2.Q6_K.gguf'"
      ],
      "metadata": {
        "id": "dA3XQMWmQLJp"
      },
      "execution_count": 3,
      "outputs": []
    },
    {
      "cell_type": "code",
      "source": [
        "# Downloading the specified model file from Hugging Face Hub and store its local path\n",
        "model_path = hf_hub_download(\n",
        "    repo_id=model_name_or_path,\n",
        "    filename=model_basename  # The specific model file to download (in GGUF format)\n",
        ")"
      ],
      "metadata": {
        "id": "jNL_F-9doZbj",
        "colab": {
          "base_uri": "https://localhost:8080/",
          "height": 173,
          "referenced_widgets": [
            "b1abb95f93eb4af1b28af33295a8c057",
            "b9741e85e23041cdac8e1e1505685ced",
            "b70b131f23c649a6afd492cd1800c626",
            "160bad23b574415bb059c6b9bd8c7491",
            "20c175f01eb549f4b1b657bb446704e9",
            "514f90e87d0a43c38ed24632991d0387",
            "9e4c9e1f117447c68a67f30f66160f24",
            "145fcbfb23774256ad06991f80befeb1",
            "f1985b30b7cf4936a630545fd77db146",
            "0cd4964c0bdf417a8e5d2ed6fb9b5565",
            "98cc1563bc5d481b9dd890b02e8d99c1"
          ]
        },
        "outputId": "4e76cb0f-8fd9-4f14-dfa9-faeec57e3103"
      },
      "execution_count": 4,
      "outputs": [
        {
          "output_type": "stream",
          "name": "stderr",
          "text": [
            "/usr/local/lib/python3.11/dist-packages/huggingface_hub/utils/_token.py:89: UserWarning: \n",
            "The secret `HF_TOKEN` does not exist in your Colab secrets.\n",
            "To authenticate with the Hugging Face Hub, create a token in your settings tab (https://huggingface.co/settings/tokens), set it as secret in your Google Colab and restart your session.\n",
            "You will be able to reuse this secret in all of your notebooks.\n",
            "Please note that authentication is recommended but still optional to access public models or datasets.\n",
            "  warnings.warn(\n"
          ]
        },
        {
          "output_type": "display_data",
          "data": {
            "text/plain": [
              "mistral-7b-instruct-v0.2.Q6_K.gguf:   0%|          | 0.00/5.94G [00:00<?, ?B/s]"
            ],
            "application/vnd.jupyter.widget-view+json": {
              "version_major": 2,
              "version_minor": 0,
              "model_id": "b1abb95f93eb4af1b28af33295a8c057"
            }
          },
          "metadata": {}
        }
      ]
    },
    {
      "cell_type": "code",
      "source": [
        "# Loading the LLaMA model with specified context, GPU layers, and batch size\n",
        "llm = Llama(\n",
        "    model_path=model_path, #Path to the GGUF model file\n",
        "    n_ctx=4096, #Sets the context window to 4096 tokens (how much text the model can \"see\" at once)\n",
        "    n_gpu_layers=38, #Loads 38 model layers onto GPU for faster inference (set to 0 for CPU-only)\n",
        "    n_batch=512, #Number of tokens processed at once\n",
        "    seed=42  # Setting once here\n",
        ")"
      ],
      "metadata": {
        "id": "mcIdONOqoaHj",
        "colab": {
          "base_uri": "https://localhost:8080/"
        },
        "outputId": "a29bbb1f-03cd-44c3-e8fb-9133aa43b044"
      },
      "execution_count": 82,
      "outputs": [
        {
          "output_type": "stream",
          "name": "stderr",
          "text": [
            "AVX = 1 | AVX2 = 1 | AVX512 = 0 | AVX512_VBMI = 0 | AVX512_VNNI = 0 | FMA = 1 | NEON = 0 | ARM_FMA = 0 | F16C = 1 | FP16_VA = 0 | WASM_SIMD = 0 | BLAS = 1 | SSE3 = 1 | SSSE3 = 1 | VSX = 0 | \n"
          ]
        }
      ]
    },
    {
      "cell_type": "markdown",
      "metadata": {
        "id": "EzzkvIXvFTS4"
      },
      "source": [
        "#### Response"
      ]
    },
    {
      "cell_type": "code",
      "source": [
        "def response(query,max_tokens=128,temperature=0,top_p=0.95,top_k=50):\n",
        "    model_output = llm(\n",
        "      prompt=query,\n",
        "      max_tokens=max_tokens,\n",
        "      temperature=temperature,\n",
        "      top_p=top_p,\n",
        "      top_k=top_k\n",
        "    )\n",
        "    return format_response_text(model_output)# calling function to format text"
      ],
      "metadata": {
        "id": "hG_IaZj0QLw4"
      },
      "execution_count": 6,
      "outputs": []
    },
    {
      "cell_type": "markdown",
      "metadata": {
        "id": "K8YgK91SFjVY"
      },
      "source": [
        "### Query 1: What is the protocol for managing sepsis in a critical care unit?"
      ]
    },
    {
      "cell_type": "code",
      "source": [
        "print(response('What is the protocol for managing sepsis in a critical care unit?'))"
      ],
      "metadata": {
        "id": "-JLIVmpPQH0f",
        "colab": {
          "base_uri": "https://localhost:8080/"
        },
        "outputId": "6168dadc-dac7-483a-980d-c1394d9b5634"
      },
      "execution_count": 7,
      "outputs": [
        {
          "output_type": "stream",
          "name": "stdout",
          "text": [
            "Sepsis is a life-threatening condition that can arise from an infection, and it requires prompt recognition and aggressive management in a critical\n",
            "care unit. The following are general steps for managing sepsis in a critical care unit:\n",
            "\n",
            "1. Early recognition: Recognize the signs and symptoms of\n",
            "sepsis early and initiate treatment as soon as possible. Sepsis can present with various clinical features, including fever or hypothermia,\n",
            "tachycardia or bradycardia, altered mental status, respiratory distress, and lactic acidosis.\n",
            "2. Resusc\n"
          ]
        }
      ]
    },
    {
      "cell_type": "markdown",
      "source": [],
      "metadata": {
        "id": "FPzWqum_ZKaE"
      }
    },
    {
      "cell_type": "markdown",
      "metadata": {
        "id": "J6yxICeVFjVc"
      },
      "source": [
        "### Query 2: What are the common symptoms for appendicitis, and can it be cured via medicine? If not, what surgical procedure should be followed to treat it?"
      ]
    },
    {
      "cell_type": "code",
      "source": [
        "print(response('What are the common symptoms for appendicitis, and can it be cured via medicine? If not, what surgical procedure should be followed to treat it?'))"
      ],
      "metadata": {
        "id": "BdiHRgEqQIP9",
        "colab": {
          "base_uri": "https://localhost:8080/"
        },
        "outputId": "7f850dcb-098c-4606-e2da-a1c419da9447"
      },
      "execution_count": 8,
      "outputs": [
        {
          "output_type": "stream",
          "name": "stderr",
          "text": [
            "Llama.generate: prefix-match hit\n"
          ]
        },
        {
          "output_type": "stream",
          "name": "stdout",
          "text": [
            "Appendicitis is a medical condition characterized by inflammation of the appendix, a small tube-shaped organ located in the lower right side of the\n",
            "abdomen. The symptoms of appendicitis can vary from person to person, but some common signs include:\n",
            "\n",
            "1. Abdominal pain: The pain may start as a mild\n",
            "discomfort around the navel or in the lower right abdomen, which then gradually moves to the right lower quadrant and becomes more severe over time.\n",
            "The pain may be constant or intermittent and is often worsened by movement, coughing, or deep breathing\n"
          ]
        }
      ]
    },
    {
      "cell_type": "markdown",
      "metadata": {
        "id": "oflaoOGiFjVd"
      },
      "source": [
        "### Query 3: What are the effective treatments or solutions for addressing sudden patchy hair loss, commonly seen as localized bald spots on the scalp, and what could be the possible causes behind it?"
      ]
    },
    {
      "cell_type": "code",
      "source": [
        "print(response('What are the effective treatments or solutions for addressing sudden patchy hair loss, commonly seen as localized bald spots on the scalp, and what could be the possible causes behind it?'))"
      ],
      "metadata": {
        "id": "N-mx9yboQIt-",
        "colab": {
          "base_uri": "https://localhost:8080/"
        },
        "outputId": "58fde44d-459f-4d62-f994-d26dced4f643"
      },
      "execution_count": 9,
      "outputs": [
        {
          "output_type": "stream",
          "name": "stderr",
          "text": [
            "Llama.generate: prefix-match hit\n"
          ]
        },
        {
          "output_type": "stream",
          "name": "stdout",
          "text": [
            "Sudden patchy hair loss, also known as alopecia areata, is a common autoimmune disorder that affects the hair follicles. It can result in round or\n",
            "oval bald patches on the scalp, but it can also occur on other parts of the body such as the beard area, eyebrows, or eyelashes.\n",
            "\n",
            "The exact cause of\n",
            "alopecia areata is not known, but it's believed to be related to a problem with the immune system. Some possible triggers for this condition include\n",
            "stress, genetics, viral infections, and certain medications.\n"
          ]
        }
      ]
    },
    {
      "cell_type": "markdown",
      "metadata": {
        "id": "WUUqY4FbFjVe"
      },
      "source": [
        "### Query 4:  What treatments are recommended for a person who has sustained a physical injury to brain tissue, resulting in temporary or permanent impairment of brain function?"
      ]
    },
    {
      "cell_type": "code",
      "source": [
        "print(response('What treatments are recommended for a person who has sustained a physical injury to brain tissue, resulting in temporary or permanent impairment of brain function?'))"
      ],
      "metadata": {
        "id": "TEsVMaKaQJzh",
        "colab": {
          "base_uri": "https://localhost:8080/"
        },
        "outputId": "28caba4f-d3ef-4b01-94d2-2fd1547e63f4"
      },
      "execution_count": 10,
      "outputs": [
        {
          "output_type": "stream",
          "name": "stderr",
          "text": [
            "Llama.generate: prefix-match hit\n"
          ]
        },
        {
          "output_type": "stream",
          "name": "stdout",
          "text": [
            "A person who has sustained a physical injury to brain tissue, also known as a traumatic brain injury (TBI), may require various treatments depending\n",
            "on the severity and location of the injury. Here are some common treatments recommended for TBIs:\n",
            "\n",
            "1. Emergency care: The first priority is to ensure\n",
            "the person's airway is clear, they are breathing, and their heart is beating normally. In severe cases, emergency surgery may be required to remove\n",
            "hematomas or other obstructions.\n",
            "2. Medications: Depending on the symptoms, medications may be prescribed to manage conditions such as\n"
          ]
        }
      ]
    },
    {
      "cell_type": "markdown",
      "metadata": {
        "id": "5laPFTHrFjVf"
      },
      "source": [
        "### Query 5: What are the necessary precautions and treatment steps for a person who has fractured their leg during a hiking trip, and what should be considered for their care and recovery?"
      ]
    },
    {
      "cell_type": "code",
      "source": [
        "print(response('What are the necessary precautions and treatment steps for a person who has fractured their leg during a hiking trip, and what should be considered for their care and recovery?'))"
      ],
      "metadata": {
        "id": "VfrlmrP5QKJz",
        "colab": {
          "base_uri": "https://localhost:8080/"
        },
        "outputId": "ecaa98a8-d4a8-4869-a8bc-40aa5e4fd444"
      },
      "execution_count": 11,
      "outputs": [
        {
          "output_type": "stream",
          "name": "stderr",
          "text": [
            "Llama.generate: prefix-match hit\n"
          ]
        },
        {
          "output_type": "stream",
          "name": "stdout",
          "text": [
            "First and foremost, if you suspect that someone has fractured their leg while hiking, it's essential to ensure their safety and prevent further\n",
            "injury. Here are some necessary precautions:\n",
            "\n",
            "1. Keep the person calm and still: Encourage them to remain as still as possible to minimize pain and\n",
            "prevent worsening the injury.\n",
            "2. Assess the situation: Check for any signs of shock, such as pale skin, rapid heartbeat, or shallow breathing. If you\n",
            "notice these symptoms, seek medical help immediately.\n",
            "3. Immobilize the leg: Use a splint, sl\n"
          ]
        }
      ]
    },
    {
      "cell_type": "markdown",
      "metadata": {
        "id": "g5myZ5dOOefc"
      },
      "source": [
        "## Question Answering using LLM with Prompt Engineering"
      ]
    },
    {
      "cell_type": "code",
      "source": [
        "system_prompt = \"\"\"\n",
        "You are an AI assistant specializing in medical knowledge. Your role is to provide clear, precise, and medically reliable responses based on established medical guidelines and best practices.\n",
        "\n",
        "When answering, prioritize factual correctness, align with widely accepted medical standards, and ensure clarity for both medical professionals and general users.\n",
        "If a query requires specific reference materials beyond general medical knowledge, acknowledge the limitation rather than speculating.\n",
        "\"\"\""
      ],
      "metadata": {
        "id": "YPJKJUyhLdVc"
      },
      "execution_count": 12,
      "outputs": []
    },
    {
      "cell_type": "code",
      "source": [
        "def generate_llama_response(query,max_tokens=128,temperature=0,top_p=0.95,top_k=50):\n",
        "\n",
        "    # Create system message with instructions for the model\n",
        "    instruction=\"Answer the following question clearly and concisely.\"\n",
        "    system_message = f\"[INST]<<SYS>>\\n{instruction}\\n<</SYS>>[/INST]\"\n",
        "\n",
        "    # Construct the final prompt using the user's query and system message\n",
        "    prompt = f\"{system_message} {query}\"\n",
        "\n",
        "    # Generate a response using the LLaMA model\n",
        "    response = llm(\n",
        "        prompt=prompt,\n",
        "        max_tokens=max_tokens,\n",
        "        temperature=temperature,\n",
        "        top_p=top_p,\n",
        "        repeat_penalty=1.1,\n",
        "        top_k=top_k,\n",
        "        stop=['</s>'],\n",
        "        echo=False,\n",
        "    )\n",
        "\n",
        "    return format_response_text(response)\n"
      ],
      "metadata": {
        "id": "i1MatHu9ph-X"
      },
      "execution_count": 13,
      "outputs": []
    },
    {
      "cell_type": "markdown",
      "metadata": {
        "id": "9Jg3r_LWOeff"
      },
      "source": [
        "### Query 1: What is the protocol for managing sepsis in a critical care unit?"
      ]
    },
    {
      "cell_type": "markdown",
      "source": [
        "**Response with basic parameters**"
      ],
      "metadata": {
        "id": "tA1nWMnLg60N"
      }
    },
    {
      "cell_type": "code",
      "source": [
        "print(generate_llama_response('What is the protocol for managing sepsis in a critical care unit?'))"
      ],
      "metadata": {
        "id": "YqM4VMw5ROhX",
        "colab": {
          "base_uri": "https://localhost:8080/"
        },
        "outputId": "c6a7d6bf-e4a3-4ab3-ed7f-a92b02421743"
      },
      "execution_count": 14,
      "outputs": [
        {
          "output_type": "stream",
          "name": "stderr",
          "text": [
            "Llama.generate: prefix-match hit\n"
          ]
        },
        {
          "output_type": "stream",
          "name": "stdout",
          "text": [
            "The management of sepsis in a critical care unit involves early recognition, prompt initiation of antibiotics, fluid resuscitation, and supportive\n",
            "measures. The Sequential [Sepsis-related] Organ Failure Assessment (SOFA) score can be used to identify patients at risk for developing sepsis or\n",
            "worsening sepsis. Once sepsis is suspected, blood cultures should be obtained and broad-spectrum antibiotics administered based on the patient's\n",
            "clinical presentation and local microbiology data. Fluid resuscitation with crystalloids or colloids may be necessary\n"
          ]
        }
      ]
    },
    {
      "cell_type": "markdown",
      "source": [
        "**Response with Modified parameters - Temperature = 0.0**"
      ],
      "metadata": {
        "id": "MtXI6lIkhCTz"
      }
    },
    {
      "cell_type": "code",
      "source": [
        "def generate_llama_response1(query, instruction=\"Answer the following question clearly and concisely.\"):\n",
        "\n",
        "    # Create system message with instructions for the model\n",
        "    system_message = f\"[INST]<<SYS>>\\n{instruction}\\n<</SYS>>[/INST]\"\n",
        "\n",
        "    # Construct the final prompt using the user's query and system message\n",
        "    prompt = f\"{system_message} {query}\"\n",
        "\n",
        "    # Generate a response using the LLaMA model\n",
        "    response = llm(\n",
        "        prompt=prompt,\n",
        "        max_tokens=1024,\n",
        "        temperature=0.0, # changed temparature\n",
        "        top_p=0.95,\n",
        "        repeat_penalty=1.1,\n",
        "        top_k=50,\n",
        "        stop=['</s>'],\n",
        "        echo=False,\n",
        "        #seed=42,\n",
        "    )\n",
        "\n",
        "    # Return only the generated answer formatted text\n",
        "    return format_response_text(response)"
      ],
      "metadata": {
        "id": "L0rxvBoOqDdj"
      },
      "execution_count": 17,
      "outputs": []
    },
    {
      "cell_type": "code",
      "source": [
        "print(generate_llama_response1('What is the protocol for managing sepsis in a critical care unit?'))"
      ],
      "metadata": {
        "id": "ylEVZVE0qEYN",
        "colab": {
          "base_uri": "https://localhost:8080/"
        },
        "outputId": "5225e434-46c8-4454-d165-4a88de97e7f4"
      },
      "execution_count": 18,
      "outputs": [
        {
          "output_type": "stream",
          "name": "stderr",
          "text": [
            "Llama.generate: prefix-match hit\n"
          ]
        },
        {
          "output_type": "stream",
          "name": "stdout",
          "text": [
            "The management of sepsis in a critical care unit involves early recognition, prompt initiation of antibiotics, fluid resuscitation, and supportive\n",
            "measures. The Sequential [Sepsis-related] Organ Failure Assessment (SOFA) score can be used to identify patients at risk for developing sepsis or\n",
            "worsening sepsis. Once sepsis is suspected, blood cultures should be obtained and broad-spectrum antibiotics administered based on the patient's\n",
            "clinical presentation and local microbiology data. Fluid resuscitation with crystalloids or colloids may be necessary to maintain adequate tissue\n",
            "perfusion. Vasopressors and/or mechanical ventilation may also be required for hemodynamic support. Corticosteroids, anticoagulation, and other\n",
            "adjunctive therapies may be considered based on individual patient needs and clinical trials data. Close monitoring of vital signs, laboratory values,\n",
            "and organ function is essential to guide therapy and prevent progression to septic shock or multiple organ failure.\n"
          ]
        }
      ]
    },
    {
      "cell_type": "markdown",
      "source": [
        "### **Observations on Q.1 responses:**\n",
        "\n",
        "* **Response1** With Temp 0.7 is structured, Highly detailed and comprehensive,provides quantitative treatment goals for fluid resuscitation, oxygenation, and hemodynamic monitoring.Covers specific tools for diagnosis (SOFA, qSOFA, NEWS).\n",
        "Includes specific targets (e.g., MAP ≥ 65 mmHg, ScvO₂ > 70%).\n",
        "* **Response2** with Temp 0.0 is Written in paragraph form like a clinical summary or textbook explanation.Covers the same main concepts (early recognition, antibiotics, fluids, vasopressors, corticosteroids, supportive care).\n",
        "Provides context for when to use different interventions (e.g., based on microbiology data or clinical trials).\n",
        "* **Response1** contains more concrete clinical parameters and operational steps, making it more useful for procedural reference.\n",
        "* **Response2** is better suited for educational summaries or high‑level discussions."
      ],
      "metadata": {
        "id": "YUA9w4UviVLS"
      }
    },
    {
      "cell_type": "markdown",
      "metadata": {
        "id": "iYpyw4HjOeff"
      },
      "source": [
        "### Query 2: What are the common symptoms for appendicitis, and can it be cured via medicine? If not, what surgical procedure should be followed to treat it?"
      ]
    },
    {
      "cell_type": "markdown",
      "source": [
        " **Response with basic parameters**"
      ],
      "metadata": {
        "id": "uyJAsbrYnG7J"
      }
    },
    {
      "cell_type": "code",
      "source": [
        "print(generate_llama_response('What are the common symptoms for appendicitis, and can it be cured via medicine? If not, what surgical procedure should be followed to treat it?'))"
      ],
      "metadata": {
        "id": "pKyAnKAyp1zW",
        "colab": {
          "base_uri": "https://localhost:8080/"
        },
        "outputId": "30dd53e3-721d-4fa3-e63c-587b1b5524b8"
      },
      "execution_count": 19,
      "outputs": [
        {
          "output_type": "stream",
          "name": "stderr",
          "text": [
            "Llama.generate: prefix-match hit\n"
          ]
        },
        {
          "output_type": "stream",
          "name": "stdout",
          "text": [
            "Appendicitis is an inflammatory condition of the appendix, a small pouch located in the lower right side of the abdomen. Common symptoms include:\n",
            "1.\n",
            "Sudden pain in the lower right abdomen, often starting around the navel and moving to the right.\n",
            "2. Loss of appetite.\n",
            "3. Nausea and vomiting.\n",
            "4. Fever\n",
            "(often low-grade).\n",
            "5. Abdominal swelling and tenderness.\n",
            "6. Constipation or diarrhea.\n",
            "7. Inability to pass gas or have a bow\n"
          ]
        }
      ]
    },
    {
      "cell_type": "markdown",
      "source": [
        "**Recponse with modified parameter- Top_p = 0.85**"
      ],
      "metadata": {
        "id": "38iNml2JpF_o"
      }
    },
    {
      "cell_type": "code",
      "source": [
        "def generate_llama_response2(query, instruction=\"Answer the following question clearly and concisely.\"):\n",
        "\n",
        "    # Create system message with instructions for the model\n",
        "    system_message = f\"[INST]<<SYS>>\\n{instruction}\\n<</SYS>>[/INST]\"\n",
        "\n",
        "    # Construct the final prompt using the user's query and system message\n",
        "    prompt = f\"{system_message} {query}\"\n",
        "\n",
        "    # Generate a response using the LLaMA model\n",
        "    response = llm(\n",
        "        prompt=prompt,\n",
        "        max_tokens=1024,\n",
        "        temperature=0.7,\n",
        "        top_p=0.85,\n",
        "        repeat_penalty=1.1,\n",
        "        top_k=50,\n",
        "        stop=['</s>'],\n",
        "        echo=False,\n",
        "        #seed=42,\n",
        "    )\n",
        "\n",
        "    # Return only the generated formatted answer text\n",
        "    return format_response_text(response)\n"
      ],
      "metadata": {
        "id": "Z1Pe8t4agFBB"
      },
      "execution_count": 20,
      "outputs": []
    },
    {
      "cell_type": "code",
      "source": [
        "print(generate_llama_response2('What are the common symptoms for appendicitis, and can it be cured via medicine? If not, what surgical procedure should be followed to treat it?'))"
      ],
      "metadata": {
        "id": "EDg-zqJLgKX0",
        "colab": {
          "base_uri": "https://localhost:8080/"
        },
        "outputId": "3976487a-db95-495e-e480-9e5e1ce20f61"
      },
      "execution_count": 21,
      "outputs": [
        {
          "output_type": "stream",
          "name": "stderr",
          "text": [
            "Llama.generate: prefix-match hit\n"
          ]
        },
        {
          "output_type": "stream",
          "name": "stdout",
          "text": [
            "Appendicitis is characterized by symptoms such as:\n",
            "1. Sudden pain in the lower right abdomen, often starting around the belly button and then moving\n",
            "to the right side.\n",
            "2. Loss of appetite.\n",
            "3. Nausea and vomiting.\n",
            "4. Fever (usually low-grade).\n",
            "5. Abdominal swelling and tenderness.\n",
            "\n",
            "Appendicitis\n",
            "cannot be cured via medicine alone, as the inflamed appendix may rupture if left untreated. If a rupture occurs, it can lead to peritonitis, a serious\n",
            "infection in the abdominal cavity. Once the appendix has ruptured, emergency surgery called an appendectomy is necessary to remove the infected\n",
            "appendix and prevent further complications. In some cases, a laparoscopic appendectomy may be performed, which uses small incisions and a camera to\n",
            "guide the surgeon, resulting in a faster recovery time compared to traditional open surgery.\n"
          ]
        }
      ]
    },
    {
      "cell_type": "markdown",
      "source": [
        "**Observation on Q.2 the responses**\n",
        "* **Response1** generated with a top_p of 0.95, allows the model to sample from a broader range of potential next tokens. As a result, the response is more diverse and expansive, though its structure tends to be somewhat general.\n",
        "\n",
        "* **Response2**, created with a lower top_p of 0.85, narrows the sampling range to more likely tokens. This leads to a response that is more focused, concise, and relevant.\n",
        "\n",
        "Overall, **Response2** is preferable, as the reduced top_p value encourages the model to produce more targeted and coherent content, avoiding unnecessary variability."
      ],
      "metadata": {
        "id": "yy4skVTtpyWJ"
      }
    },
    {
      "cell_type": "markdown",
      "metadata": {
        "id": "dRp92JQZOeff"
      },
      "source": [
        "### Query 3: What are the effective treatments or solutions for addressing sudden patchy hair loss, commonly seen as localized bald spots on the scalp, and what could be the possible causes behind it?"
      ]
    },
    {
      "cell_type": "markdown",
      "source": [
        "**Response with Basic Parameters**"
      ],
      "metadata": {
        "id": "VRqZq8BhrXwH"
      }
    },
    {
      "cell_type": "code",
      "source": [
        "print(generate_llama_response('What are the effective treatments or solutions for addressing sudden patchy hair loss, commonly seen as localized bald spots on the scalp, and what could be the possible causes behind it?'))"
      ],
      "metadata": {
        "id": "JOgATEpMRPve",
        "colab": {
          "base_uri": "https://localhost:8080/"
        },
        "outputId": "6e09c452-ab50-46d9-ba9d-4eada692b327"
      },
      "execution_count": 22,
      "outputs": [
        {
          "output_type": "stream",
          "name": "stderr",
          "text": [
            "Llama.generate: prefix-match hit\n"
          ]
        },
        {
          "output_type": "stream",
          "name": "stdout",
          "text": [
            "Sudden patchy hair loss, also known as alopecia areata, is an autoimmune condition that results in hair loss from specific areas of the scalp or other\n",
            "parts of the body. The exact cause of alopecia areata is unknown, but it's believed to be related to a problem with the immune system.\n",
            "\n",
            "There are\n",
            "several treatments for alopecia areata:\n",
            "\n",
            "1. Corticosteroids: These medications can help reduce inflammation and suppress the immune response that\n",
            "causes hair loss. They can be applied topically or taken orally.\n",
            "2\n"
          ]
        }
      ]
    },
    {
      "cell_type": "markdown",
      "source": [
        "**Response with modified parameter- max_token=512 and top_k=80**"
      ],
      "metadata": {
        "id": "yFzZflYCriw3"
      }
    },
    {
      "cell_type": "code",
      "source": [
        "def generate_llama_response3(query, instruction=\"Answer the following question clearly and concisely.\"):\n",
        "\n",
        "    # Create system message with instructions for the model\n",
        "    system_message = f\"[INST]<<SYS>>\\n{instruction}\\n<</SYS>>[/INST]\"\n",
        "\n",
        "    # Construct the final prompt using the user's query and system message\n",
        "    prompt = f\"{system_message} {query}\"\n",
        "\n",
        "    # Generate a response using the LLaMA model\n",
        "    response = llm(\n",
        "        prompt=prompt,\n",
        "        max_tokens=512,\n",
        "        temperature=0.7,\n",
        "        top_p=0.95,\n",
        "        repeat_penalty=1.1,\n",
        "        top_k=80,\n",
        "        stop=['</s>'],\n",
        "        echo=False,\n",
        "    )\n",
        "\n",
        "    # Return only the generated answer text\n",
        "    return format_response_text(response)"
      ],
      "metadata": {
        "id": "V0haqwrnggsL"
      },
      "execution_count": 23,
      "outputs": []
    },
    {
      "cell_type": "code",
      "source": [
        "print(generate_llama_response3('What are the effective treatments or solutions for addressing sudden patchy hair loss, commonly seen as localized bald spots on the scalp, and what could be the possible causes behind it?'))"
      ],
      "metadata": {
        "id": "4ndt0opqgjse",
        "colab": {
          "base_uri": "https://localhost:8080/"
        },
        "outputId": "14722aa3-04c4-4252-eb16-261162729fd4"
      },
      "execution_count": 24,
      "outputs": [
        {
          "output_type": "stream",
          "name": "stderr",
          "text": [
            "Llama.generate: prefix-match hit\n"
          ]
        },
        {
          "output_type": "stream",
          "name": "stdout",
          "text": [
            "Sudden patchy hair loss can be distressing, but several potential causes and treatments exist. Here are some common causes and potential solutions:\n",
            "1. Alopecia Areata: This is an autoimmune condition where your immune system attacks your hair follicles, causing circular bald patches. Treatment\n",
            "options include topical corticosteroids, immunotherapy injections (such as Minoxidil or Diphencyprone), and in severe cases, systemic steroids or\n",
            "other immune-modulating drugs.\n",
            "\n",
            "2. Traction Alopecia: This occurs when hair is pulled too tightly and repeatedly, leading to damage and eventual hair\n",
            "loss. Treatment involves stopping the damaging behavior and allowing the hair to grow back naturally.\n",
            "\n",
            "3. Tinea Capitis (Ringworm of the scalp):\n",
            "Fungal infection of the scalp that can cause circular patches of hair loss. Antifungal medication (topical or oral) is the treatment for this\n",
            "condition.\n",
            "\n",
            "4. Nutritional Deficiencies: Lack of adequate nutrients, such as iron, zinc, and vitamin B12, can lead to hair thinning and loss. Eating a\n",
            "balanced diet or taking supplements may help address these deficiencies.\n",
            "\n",
            "5. Thyroid Disorders: Hypothyroidism or hyperthyroidism can result in hair\n",
            "loss. Treatment involves managing the underlying thyroid condition with medication.\n",
            "\n",
            "6. Medications: Certain medications, such as chemotherapy drugs\n",
            "and some antidepressants, can cause hair loss. In these cases, there may be no effective treatment other than allowing the hair to grow back once the\n",
            "medication is stopped.\n",
            "\n",
            "It's important to consult a healthcare professional or dermatologist for an accurate diagnosis and personalized treatment\n",
            "recommendations if you are experiencing sudden patchy hair loss.\n"
          ]
        }
      ]
    },
    {
      "cell_type": "markdown",
      "source": [
        "**Observation on Q.3 responses**\n",
        "* **Response1** keeps the cause list more focused and concise, ideal for general users,includes more medical treatment options (e.g., corticosteroid injections, LED therapy, immunomodulators).\n",
        "* **Response1** is more structured for patient education or health blog content.\n",
        "* **Response2** provides a wider range of potential causes, including autoimmune diseases, PCOS, hormonal imbalances, and genetics.\n",
        "* **Response2** includes more medical treatment options (e.g., corticosteroid injections, LED therapy, immunomodulators), includes more medical treatment options (e.g., corticosteroid injections, LED therapy, immunomodulators).\n",
        "* Combine both responses to form a well-rounded, layered explanation.\n",
        "Use Response 1's structure, and enrich it with Response 2's medical detail."
      ],
      "metadata": {
        "id": "5Kqkgos2tIpd"
      }
    },
    {
      "cell_type": "markdown",
      "metadata": {
        "id": "AA45zwyUOefg"
      },
      "source": [
        "### Query 4:  What treatments are recommended for a person who has sustained a physical injury to brain tissue, resulting in temporary or permanent impairment of brain function?"
      ]
    },
    {
      "cell_type": "markdown",
      "source": [
        "**Response with basic parameters**"
      ],
      "metadata": {
        "id": "hzsDDXYXugFA"
      }
    },
    {
      "cell_type": "code",
      "source": [
        "print(generate_llama_response('What treatments are recommended for a person who has sustained a physical injury to brain tissue, resulting in temporary or permanent impairment of brain function?'))"
      ],
      "metadata": {
        "id": "VA7G8FOnRQZY",
        "colab": {
          "base_uri": "https://localhost:8080/"
        },
        "outputId": "b8994115-a526-4cf9-a696-85508dbb9081"
      },
      "execution_count": 25,
      "outputs": [
        {
          "output_type": "stream",
          "name": "stderr",
          "text": [
            "Llama.generate: prefix-match hit\n"
          ]
        },
        {
          "output_type": "stream",
          "name": "stdout",
          "text": [
            "The treatment for a brain injury depends on the severity and location of the injury. For mild injuries, such as concussions, rest, hydration, and\n",
            "avoiding activities that may worsen symptoms are usually recommended. More severe injuries may require hospitalization, surgery, or rehabilitation.\n",
            "Rehabilitation therapies, including physical therapy, occupational therapy, speech therapy, and cognitive rehabilitation, can help improve function\n",
            "and reduce the impact of impairments on daily life. Medications may also be prescribed to manage symptoms such as pain, swelling, or seizures. In some\n",
            "cases, assist\n"
          ]
        }
      ]
    },
    {
      "cell_type": "markdown",
      "source": [
        "**Response with modified parameters-Top_k = 100**"
      ],
      "metadata": {
        "id": "0gEqf7IdumTt"
      }
    },
    {
      "cell_type": "code",
      "source": [
        "def generate_llama_response4(query, instruction=\"Answer the following question clearly and concisely.\"):\n",
        "\n",
        "    # Create system message with instructions for the model\n",
        "    system_message = f\"[INST]<<SYS>>\\n{instruction}\\n<</SYS>>[/INST]\"\n",
        "\n",
        "    # Construct the final prompt using the user's query and system message\n",
        "    prompt = f\"{system_message} {query}\"\n",
        "\n",
        "    # Generate a response using the LLaMA model\n",
        "    response = llm(\n",
        "        prompt=prompt,\n",
        "        max_tokens=1024,\n",
        "        temperature=0.7,\n",
        "        top_p=0.95,\n",
        "        repeat_penalty=1.1,\n",
        "        top_k=100,\n",
        "        stop=['</s>'],\n",
        "        echo=False,\n",
        "    )\n",
        "\n",
        "    # Return only the generated answer text\n",
        "    return format_response_text(response)\n"
      ],
      "metadata": {
        "id": "Wolu1Fk9g3qg"
      },
      "execution_count": 26,
      "outputs": []
    },
    {
      "cell_type": "code",
      "source": [
        "print(generate_llama_response4('What treatments are recommended for a person who has sustained a physical injury to brain tissue, resulting in temporary or permanent impairment of brain function?'))"
      ],
      "metadata": {
        "id": "XU8L0yrMg_3l",
        "colab": {
          "base_uri": "https://localhost:8080/"
        },
        "outputId": "2d1e8455-dcc0-4500-e862-42b7595c7db8"
      },
      "execution_count": 27,
      "outputs": [
        {
          "output_type": "stream",
          "name": "stderr",
          "text": [
            "Llama.generate: prefix-match hit\n"
          ]
        },
        {
          "output_type": "stream",
          "name": "stdout",
          "text": [
            "The treatment for a traumatic brain injury (TBI) depends on the severity and location of the injury. Here are some common interventions:\n",
            "\n",
            "1. Initial\n",
            "care: The first priority is to ensure the person's airway is clear, they are breathing, and their circulation is stable. This may involve CPR or use\n",
            "of a cervical collar to prevent neck movement.\n",
            "2. Medications: Certain medications can help manage symptoms such as swelling in the brain (causing\n",
            "increased pressure), seizures, and pain.\n",
            "3. Surgery: Depending on the injury's location and severity, surgery may be necessary to remove hematomas or\n",
            "decompress the skull.\n",
            "4. Rehabilitation: Physical therapy, occupational therapy, speech therapy, and other forms of rehabilitation can help improve\n",
            "function and mobility, as well as address cognitive deficits.\n",
            "5. Assistive devices: Devices such as wheelchairs, walkers, or communication aids may be\n",
            "required to help with daily activities.\n",
            "6. Support groups: Joining support groups can provide emotional and practical support from others who have\n",
            "experienced similar injuries.\n",
            "7. Long-term care: Depending on the extent of the injury, long-term care may be necessary to ensure proper medical\n",
            "management and assistance with daily living activities.\n"
          ]
        }
      ]
    },
    {
      "cell_type": "markdown",
      "source": [
        "**Oberservation for Q.4 responses:**\n",
        "* **Response1** (Top_k = 50) is more clinical, structured, and reads like a step-by-step recovery protocol — ideal for healthcare guidance.and Mentions lifestyle modifications (diet, stress management)\n",
        "* **Response2** (Top_k = 100) is broader and more human-centered, offering a holistic overview with emotional and nutritional considerations — ideal for general education or patient-facing material and Mentions psychological counseling for both patients and families,Provides a strong conclusion emphasizing urgency and early care\n",
        "\n"
      ],
      "metadata": {
        "id": "BiZsdG32yMD1"
      }
    },
    {
      "cell_type": "markdown",
      "metadata": {
        "id": "TYXxiSuBOefg"
      },
      "source": [
        "### Query 5: What are the necessary precautions and treatment steps for a person who has fractured their leg during a hiking trip, and what should be considered for their care and recovery?"
      ]
    },
    {
      "cell_type": "code",
      "source": [
        "print(generate_llama_response('What are the necessary precautions and treatment steps for a person who has fractured their leg during a hiking trip, and what should be considered for their care and recovery?'))"
      ],
      "metadata": {
        "id": "mE2GMQk8RQ_p",
        "colab": {
          "base_uri": "https://localhost:8080/"
        },
        "outputId": "fb005eca-829b-453e-e9fb-8260e323ba48"
      },
      "execution_count": 28,
      "outputs": [
        {
          "output_type": "stream",
          "name": "stderr",
          "text": [
            "Llama.generate: prefix-match hit\n"
          ]
        },
        {
          "output_type": "stream",
          "name": "stdout",
          "text": [
            "Firstly, if you suspect someone has fractured their leg while hiking, it's essential to keep them calm and still to prevent further injury. Try to\n",
            "immobilize the affected leg using a makeshift splint or sling if possible. Do not attempt to move the person unless it is necessary for their safety\n",
            "or to get them to medical help.\n",
            "\n",
            "Once you have reached medical assistance, the healthcare professional will assess the severity of the fracture and\n",
            "determine the appropriate treatment. This may include immobilizing the leg with a cast or splint, administering pain medication, or performing surgery\n",
            "in severe\n"
          ]
        }
      ]
    },
    {
      "cell_type": "markdown",
      "source": [
        "**Response with modified paramerters- Temp = 0.7, Top_p = 0.85, Top_k = 80,\n",
        "Max_tokens = 256**"
      ],
      "metadata": {
        "id": "UjXkkJ5QzQpU"
      }
    },
    {
      "cell_type": "code",
      "source": [
        "def generate_llama_response5(query, instruction=\"Answer the following question clearly and concisely.\"):\n",
        "\n",
        "    # Create system message with instructions for the model\n",
        "    system_message = f\"[INST]<<SYS>>\\n{instruction}\\n<</SYS>>[/INST]\"\n",
        "\n",
        "    # Construct the final prompt using the user's query and system message\n",
        "    prompt = f\"{system_message} {query}\"\n",
        "\n",
        "    # Generate a response using the LLaMA model\n",
        "    response = llm(\n",
        "        prompt=prompt,\n",
        "        max_tokens=256,\n",
        "        temperature=0.7,\n",
        "        top_p=0.85,\n",
        "        repeat_penalty=1.1,\n",
        "        top_k=80,\n",
        "        stop=['</s>'],\n",
        "        echo=False,\n",
        "    )\n",
        "\n",
        "    # Return only the generated answer text\n",
        "    return format_response_text(response)"
      ],
      "metadata": {
        "id": "J8DY9sVghKkn"
      },
      "execution_count": 29,
      "outputs": []
    },
    {
      "cell_type": "code",
      "source": [
        "print(generate_llama_response5('What are the necessary precautions and treatment steps for a person who has fractured their leg during a hiking trip, and what should be considered for their care and recovery?'))"
      ],
      "metadata": {
        "id": "1p3Lp5IEhML4",
        "colab": {
          "base_uri": "https://localhost:8080/"
        },
        "outputId": "2e92148d-7161-4230-e421-15caad71b241"
      },
      "execution_count": 30,
      "outputs": [
        {
          "output_type": "stream",
          "name": "stderr",
          "text": [
            "Llama.generate: prefix-match hit\n"
          ]
        },
        {
          "output_type": "stream",
          "name": "stdout",
          "text": [
            "1. Assess the severity of the injury: If the fracture is open (compound), keep the area clean to prevent infection. Do not attempt to realign the bone\n",
            "yourself if it is displaced or angulated severely.\n",
            "2. Immobilize the leg: Use a splint, sling, or brace to immobilize the injured leg. Make sure the\n",
            "injured limb is not bearing weight to avoid further damage.\n",
            "3. Seek medical attention: It's essential to seek professional medical help as soon as\n",
            "possible for proper diagnosis and treatment. If the injury occurs in a remote location, try to make your way to the nearest medical facility.\n",
            "4. Pain\n",
            "management: Over-the-counter pain relievers such as acetaminophen or ibuprofen can be used to manage pain. However, consult a healthcare professional\n",
            "before taking any medication, especially if you're on other medications or have pre-existing conditions.\n",
            "5. Proper positioning: Position the injured\n",
            "leg in a comfortable and supported position during transportation. Keep it elevated above heart level to reduce swelling.\n",
            "6. Monitor vital signs:\n",
            "Watch for signs of shock (pale skin, rapid heartbeat, shallow breathing) and\n"
          ]
        }
      ]
    },
    {
      "cell_type": "markdown",
      "source": [
        "**Observation on Q.5 responses-**\n",
        "* **Response1** is clear and easy to follow but with lacks detailed emergency handling steps and It has missing preventive care aspects like clot prevention, muscle atrophy.\n",
        "* **REsponse2** is More medically comprehensive, with Open vs. closed fracture handling, Use of splints, cleaning wounds, and not realigning bones, and Physical therapy and blood clot prevention.\n",
        "* **Response2** is better overall, especially in terms of Medical accuracy Scenario relevance and Practical emergency and recovery guidance"
      ],
      "metadata": {
        "id": "il_HSw0c1cLA"
      }
    },
    {
      "cell_type": "markdown",
      "source": [
        "## Data Preparation for RAG"
      ],
      "metadata": {
        "id": "t_O1PGdNO2M9"
      }
    },
    {
      "cell_type": "code",
      "source": [
        "#Libraries for processing dataframes,text\n",
        "import json,os\n",
        "import tiktoken\n",
        "import pandas as pd\n",
        "\n",
        "#Libraries for Loading Data, Chunking, Embedding, and Vector Databases\n",
        "from langchain.text_splitter import RecursiveCharacterTextSplitter\n",
        "from langchain_community.document_loaders import PyMuPDFLoader\n",
        "from langchain_community.embeddings.sentence_transformer import SentenceTransformerEmbeddings\n",
        "from langchain_community.vectorstores import Chroma"
      ],
      "metadata": {
        "id": "0TY8N5SHNTw3"
      },
      "execution_count": 31,
      "outputs": []
    },
    {
      "cell_type": "markdown",
      "metadata": {
        "id": "uTpWESc53dL9"
      },
      "source": [
        "### Loading the Data"
      ]
    },
    {
      "cell_type": "code",
      "source": [
        "from google.colab import drive\n",
        "drive.mount('/content/drive')"
      ],
      "metadata": {
        "id": "ybj2cEnzRSXq",
        "colab": {
          "base_uri": "https://localhost:8080/"
        },
        "outputId": "fffc3977-f8ea-4932-a811-9bdb327a9ddb"
      },
      "execution_count": 33,
      "outputs": [
        {
          "output_type": "stream",
          "name": "stdout",
          "text": [
            "Mounted at /content/drive\n"
          ]
        }
      ]
    },
    {
      "cell_type": "code",
      "source": [
        "merck_pdf_path = '/content/drive/MyDrive/medical_diagnosis_manual.pdf'\n",
        "pdf_loader = PyMuPDFLoader(merck_pdf_path)\n",
        "merck_pdf = pdf_loader.load()"
      ],
      "metadata": {
        "id": "oVvbvSvDhg8l"
      },
      "execution_count": 34,
      "outputs": []
    },
    {
      "cell_type": "markdown",
      "metadata": {
        "id": "ffj0ca3eZT4u"
      },
      "source": [
        "### Data Overview"
      ]
    },
    {
      "cell_type": "markdown",
      "metadata": {
        "id": "f9weTDzMxRRS"
      },
      "source": [
        "#### Checking the first 5 pages"
      ]
    },
    {
      "cell_type": "code",
      "source": [
        "for i in range(5):\n",
        "    print(f\"Page Number : {i+1}\",end=\"\\n\")\n",
        "    print(merck_pdf[i].page_content,end=\"\\n\")"
      ],
      "metadata": {
        "id": "MSEiL--bRTZT",
        "colab": {
          "base_uri": "https://localhost:8080/"
        },
        "outputId": "9cbdc178-8841-418a-9dd7-996934578bdf"
      },
      "execution_count": 35,
      "outputs": [
        {
          "output_type": "stream",
          "name": "stdout",
          "text": [
            "Page Number : 1\n",
            "desai.sana1@gmail.com\n",
            "B0PAGYZ4X1\n",
            "ant for personal use by desai.sana1@gm\n",
            "shing the contents in part or full is liable \n",
            "\n",
            "Page Number : 2\n",
            "desai.sana1@gmail.com\n",
            "B0PAGYZ4X1\n",
            "This file is meant for personal use by desai.sana1@gmail.com only.\n",
            "Sharing or publishing the contents in part or full is liable for legal action.\n",
            "\n",
            "Page Number : 3\n",
            "Table of Contents\n",
            "1\n",
            "Front    ................................................................................................................................................................................................................\n",
            "1\n",
            "Cover    .......................................................................................................................................................................................................\n",
            "2\n",
            "Front Matter    ...........................................................................................................................................................................................\n",
            "53\n",
            "1 - Nutritional Disorders    ...............................................................................................................................................................\n",
            "53\n",
            "Chapter 1. Nutrition: General Considerations    .....................................................................................................................\n",
            "59\n",
            "Chapter 2. Undernutrition    .............................................................................................................................................................\n",
            "69\n",
            "Chapter 3. Nutritional Support    ...................................................................................................................................................\n",
            "76\n",
            "Chapter 4. Vitamin Deficiency, Dependency & Toxicity    ..................................................................................................\n",
            "99\n",
            "Chapter 5. Mineral Deficiency & Toxicity    ..............................................................................................................................\n",
            "108\n",
            "Chapter 6. Obesity & the Metabolic Syndrome    ...............................................................................................................\n",
            "120\n",
            "2 - Gastrointestinal Disorders    ..............................................................................................................................................\n",
            "120\n",
            "Chapter 7. Approach to the Patient With Upper GI Complaints    ...............................................................................\n",
            "132\n",
            "Chapter 8. Approach to the Patient With Lower GI Complaints    ...............................................................................\n",
            "143\n",
            "Chapter 9. Diagnostic & Therapeutic GI Procedures    ....................................................................................................\n",
            "150\n",
            "Chapter 10. GI Bleeding    ............................................................................................................................................................\n",
            "158\n",
            "Chapter 11. Acute Abdomen & Surgical Gastroenterology    .........................................................................................\n",
            "172\n",
            "Chapter 12. Esophageal & Swallowing Disorders    ..........................................................................................................\n",
            "183\n",
            "Chapter 13. Gastritis & Peptic Ulcer Disease    ..................................................................................................................\n",
            "196\n",
            "Chapter 14. Bezoars & Foreign Bodies    ..............................................................................................................................\n",
            "199\n",
            "Chapter 15. Pancreatitis    ............................................................................................................................................................\n",
            "206\n",
            "Chapter 16. Gastroenteritis    ......................................................................................................................................................\n",
            "213\n",
            "Chapter 17. Malabsorption Syndromes    ..............................................................................................................................\n",
            "225\n",
            "Chapter 18. Irritable Bowel Syndrome    ................................................................................................................................\n",
            "229\n",
            "Chapter 19. Inflammatory Bowel Disease    .........................................................................................................................\n",
            "241\n",
            "Chapter 20. Diverticular Disease    ...........................................................................................................................................\n",
            "246\n",
            "Chapter 21. Anorectal Disorders    ............................................................................................................................................\n",
            "254\n",
            "Chapter 22. Tumors of the GI Tract    ......................................................................................................................................\n",
            "275\n",
            "3 - Hepatic & Biliary Disorders    ............................................................................................................................................\n",
            "275\n",
            "Chapter 23. Approach to the Patient With Liver Disease    ...........................................................................................\n",
            "294\n",
            "Chapter 24. Testing for Hepatic & Biliary Disorders    ......................................................................................................\n",
            "305\n",
            "Chapter 25. Drugs & the Liver    ................................................................................................................................................\n",
            "308\n",
            "Chapter 26. Alcoholic Liver Disease    ....................................................................................................................................\n",
            "314\n",
            "Chapter 27. Fibrosis & Cirrhosis    ............................................................................................................................................\n",
            "322\n",
            "Chapter 28. Hepatitis    ..................................................................................................................................................................\n",
            "333\n",
            "Chapter 29. Vascular Disorders of the Liver    .....................................................................................................................\n",
            "341\n",
            "Chapter 30. Liver Masses & Granulomas    ..........................................................................................................................\n",
            "348\n",
            "Chapter 31. Gallbladder & Bile Duct Disorders    ...............................................................................................................\n",
            "362\n",
            "4 - Musculoskeletal & Connective Tissue Disorders    .........................................................................................\n",
            "362\n",
            "Chapter 32. Approach to the Patient With Joint Disease    ............................................................................................\n",
            "373\n",
            "Chapter 33. Autoimmune Rheumatic Disorders    ..............................................................................................................\n",
            "391\n",
            "Chapter 34. Vasculitis    .................................................................................................................................................................\n",
            "416\n",
            "Chapter 35. Joint Disorders    .....................................................................................................................................................\n",
            "435\n",
            "Chapter 36. Crystal-Induced Arthritides    ..............................................................................................................................\n",
            "443\n",
            "Chapter 37. Osteoporosis    .........................................................................................................................................................\n",
            "448\n",
            "Chapter 38. Paget's Disease of Bone    ..................................................................................................................................\n",
            "451\n",
            "Chapter 39. Osteonecrosis    .......................................................................................................................................................\n",
            "455\n",
            "Chapter 40. Infections of Joints & Bones    ...........................................................................................................................\n",
            "463\n",
            "Chapter 41. Bursa, Muscle & Tendon Disorders    .............................................................................................................\n",
            "470\n",
            "Chapter 42. Neck & Back Pain    ...............................................................................................................................................\n",
            "481\n",
            "Chapter 43. Hand Disorders    ....................................................................................................................................................\n",
            "desai.sana1@gmail.com\n",
            "B0PAGYZ4X1\n",
            "This file is meant for personal use by desai.sana1@gmail.com only.\n",
            "Sharing or publishing the contents in part or full is liable for legal action.\n",
            "\n",
            "Page Number : 4\n",
            "491\n",
            "Chapter 44. Foot & Ankle Disorders    .....................................................................................................................................\n",
            "502\n",
            "Chapter 45. Tumors of Bones & Joints    ...............................................................................................................................\n",
            "510\n",
            "5 - Ear, Nose, Throat & Dental Disorders    ..................................................................................................................\n",
            "510\n",
            "Chapter 46. Approach to the Patient With Ear Problems    ...........................................................................................\n",
            "523\n",
            "Chapter 47. Hearing Loss    .........................................................................................................................................................\n",
            "535\n",
            "Chapter 48. Inner Ear Disorders    ............................................................................................................................................\n",
            "542\n",
            "Chapter 49. Middle Ear & Tympanic Membrane Disorders    ........................................................................................\n",
            "550\n",
            "Chapter 50. External Ear Disorders    .....................................................................................................................................\n",
            "554\n",
            "Chapter 51. Approach to the Patient With Nasal & Pharyngeal Symptoms    .......................................................\n",
            "567\n",
            "Chapter 52. Oral & Pharyngeal Disorders    .........................................................................................................................\n",
            "578\n",
            "Chapter 53. Nose & Paranasal Sinus Disorders    .............................................................................................................\n",
            "584\n",
            "Chapter 54. Laryngeal Disorders    ...........................................................................................................................................\n",
            "590\n",
            "Chapter 55. Tumors of the Head & Neck    ...........................................................................................................................\n",
            "600\n",
            "Chapter 56. Approach to Dental & Oral Symptoms    .......................................................................................................\n",
            "619\n",
            "Chapter 57. Common Dental Disorders    .............................................................................................................................\n",
            "629\n",
            "Chapter 58. Dental Emergencies    ..........................................................................................................................................\n",
            "635\n",
            "Chapter 59. Temporomandibular Disorders    ......................................................................................................................\n",
            "641\n",
            "6 - Eye Disorders    ............................................................................................................................................................................\n",
            "641\n",
            "Chapter 60. Approach to the Ophthalmologic Patient    ..................................................................................................\n",
            "669\n",
            "Chapter 61. Refractive Error    ...................................................................................................................................................\n",
            "674\n",
            "Chapter 62. Eyelid & Lacrimal Disorders    ...........................................................................................................................\n",
            "680\n",
            "Chapter 63. Conjunctival & Scleral Disorders    .................................................................................................................\n",
            "690\n",
            "Chapter 64. Corneal Disorders    ...............................................................................................................................................\n",
            "703\n",
            "Chapter 65. Glaucoma    ...............................................................................................................................................................\n",
            "710\n",
            "Chapter 66. Cataract    ...................................................................................................................................................................\n",
            "713\n",
            "Chapter 67. Uveitis    ......................................................................................................................................................................\n",
            "719\n",
            "Chapter 68. Retinal Disorders    .................................................................................................................................................\n",
            "731\n",
            "Chapter 69. Optic Nerve Disorders    ......................................................................................................................................\n",
            "737\n",
            "Chapter 70. Orbital Diseases    ..................................................................................................................................................\n",
            "742\n",
            "7 - Dermatologic Disorders    ....................................................................................................................................................\n",
            "742\n",
            "Chapter 71. Approach to the Dermatologic Patient    .......................................................................................................\n",
            "755\n",
            "Chapter 72. Principles of Topical Dermatologic Therapy    ............................................................................................\n",
            "760\n",
            "Chapter 73. Acne & Related Disorders    ...............................................................................................................................\n",
            "766\n",
            "Chapter 74. Bullous Diseases    .................................................................................................................................................\n",
            "771\n",
            "Chapter 75. Cornification Disorders    .....................................................................................................................................\n",
            "775\n",
            "Chapter 76. Dermatitis    ...............................................................................................................................................................\n",
            "786\n",
            "Chapter 77. Reactions to Sunlight    ........................................................................................................................................\n",
            "791\n",
            "Chapter 78. Psoriasis & Scaling Diseases    ........................................................................................................................\n",
            "799\n",
            "Chapter 79. Hypersensitivity & Inflammatory Disorders    .............................................................................................\n",
            "808\n",
            "Chapter 80. Sweating Disorders    ............................................................................................................................................\n",
            "811\n",
            "Chapter 81. Bacterial Skin Infections    ...................................................................................................................................\n",
            "822\n",
            "Chapter 82. Fungal Skin Infections    ......................................................................................................................................\n",
            "831\n",
            "Chapter 83. Parasitic Skin Infections    ...................................................................................................................................\n",
            "836\n",
            "Chapter 84. Viral Skin Diseases    ............................................................................................................................................\n",
            "841\n",
            "Chapter 85. Pigmentation Disorders    ....................................................................................................................................\n",
            "846\n",
            "Chapter 86. Hair Disorders    .......................................................................................................................................................\n",
            "855\n",
            "Chapter 87. Nail Disorders    .......................................................................................................................................................\n",
            "861\n",
            "Chapter 88. Pressure Ulcers    ...................................................................................................................................................\n",
            "867\n",
            "Chapter 89. Benign Tumors    .....................................................................................................................................................\n",
            "874\n",
            "Chapter 90. Cancers of the Skin    ............................................................................................................................................\n",
            "882\n",
            "8 - Endocrine & Metabolic Disorders    .............................................................................................................................\n",
            "882\n",
            "Chapter 91. Principles of Endocrinology    ............................................................................................................................\n",
            "887\n",
            "Chapter 92. Pituitary Disorders    ..............................................................................................................................................\n",
            "901\n",
            "Chapter 93. Thyroid Disorders    ................................................................................................................................................\n",
            "desai.sana1@gmail.com\n",
            "B0PAGYZ4X1\n",
            "This file is meant for personal use by desai.sana1@gmail.com only.\n",
            "Sharing or publishing the contents in part or full is liable for legal action.\n",
            "\n",
            "Page Number : 5\n",
            "921\n",
            "Chapter 94. Adrenal Disorders    ................................................................................................................................................\n",
            "936\n",
            "Chapter 95. Polyglandular Deficiency Syndromes    ........................................................................................................\n",
            "939\n",
            "Chapter 96. Porphyrias    ..............................................................................................................................................................\n",
            "949\n",
            "Chapter 97. Fluid & Electrolyte Metabolism    .....................................................................................................................\n",
            "987\n",
            "Chapter 98. Acid-Base Regulation & Disorders    ..............................................................................................................\n",
            "1001\n",
            "Chapter 99. Diabetes Mellitus & Disorders of Carbohydrate Metabolism    ........................................................\n",
            "1024\n",
            "Chapter 100. Lipid Disorders    ................................................................................................................................................\n",
            "1034\n",
            "Chapter 101. Amyloidosis    ......................................................................................................................................................\n",
            "1037\n",
            "Chapter 102. Carcinoid Tumors    ..........................................................................................................................................\n",
            "1040\n",
            "Chapter 103. Multiple Endocrine Neoplasia Syndromes    .........................................................................................\n",
            "1046\n",
            "9 - Hematology & Oncology    ...............................................................................................................................................\n",
            "1046\n",
            "Chapter 104. Approach to the Patient With Anemia    ..................................................................................................\n",
            "1050\n",
            "Chapter 105. Anemias Caused by Deficient Erythropoiesis    ...................................................................................\n",
            "1061\n",
            "Chapter 106. Anemias Caused by Hemolysis    ...............................................................................................................\n",
            "1078\n",
            "Chapter 107. Neutropenia & Lymphocytopenia    ...........................................................................................................\n",
            "1086\n",
            "Chapter 108. Thrombocytopenia & Platelet Dysfunction    .........................................................................................\n",
            "1097\n",
            "Chapter 109. Hemostasis    ......................................................................................................................................................\n",
            "1104\n",
            "Chapter 110. Thrombotic Disorders    ...................................................................................................................................\n",
            "1107\n",
            "Chapter 111. Coagulation Disorders    ..................................................................................................................................\n",
            "1113\n",
            "Chapter 112. Bleeding Due to Abnormal Blood Vessels    ...........................................................................................\n",
            "1116\n",
            "Chapter 113. Spleen Disorders    ............................................................................................................................................\n",
            "1120\n",
            "Chapter 114. Eosinophilic Disorders    .................................................................................................................................\n",
            "1126\n",
            "Chapter 115. Histiocytic Syndromes    .................................................................................................................................\n",
            "1131\n",
            "Chapter 116. Myeloproliferative Disorders    .....................................................................................................................\n",
            "1141\n",
            "Chapter 117. Leukemias    .........................................................................................................................................................\n",
            "1154\n",
            "Chapter 118. Lymphomas    ......................................................................................................................................................\n",
            "1164\n",
            "Chapter 119. Plasma Cell Disorders    .................................................................................................................................\n",
            "1172\n",
            "Chapter 120. Iron Overload    ...................................................................................................................................................\n",
            "1177\n",
            "Chapter 121. Transfusion Medicine    ...................................................................................................................................\n",
            "1186\n",
            "Chapter 122. Overview of Cancer    ......................................................................................................................................\n",
            "1198\n",
            "Chapter 123. Tumor Immunology    .......................................................................................................................................\n",
            "1204\n",
            "Chapter 124. Principles of Cancer Therapy    ...................................................................................................................\n",
            "1215\n",
            "10 - Immunology; Allergic Disorders    ...........................................................................................................................\n",
            "1215\n",
            "Chapter 125. Biology of the Immune System    ...............................................................................................................\n",
            "1227\n",
            "Chapter 126. Immunodeficiency Disorders    ....................................................................................................................\n",
            "1243\n",
            "Chapter 127. Allergic & Other Hypersensitivity Disorders    .......................................................................................\n",
            "1263\n",
            "Chapter 128. Transplantation    ...............................................................................................................................................\n",
            "1281\n",
            "11 - Infectious Diseases    ........................................................................................................................................................\n",
            "1281\n",
            "Chapter 129. Biology of Infectious Disease    ...................................................................................................................\n",
            "1300\n",
            "Chapter 130. Laboratory Diagnosis of Infectious Disease    ......................................................................................\n",
            "1306\n",
            "Chapter 131. Immunization    ...................................................................................................................................................\n",
            "1313\n",
            "Chapter 132. Bacteria & Antibacterial Drugs    .................................................................................................................\n",
            "1353\n",
            "Chapter 133. Gram-Positive Cocci    ....................................................................................................................................\n",
            "1366\n",
            "Chapter 134. Gram-Positive Bacilli    ...................................................................................................................................\n",
            "1376\n",
            "Chapter 135. Gram-Negative Bacilli    .................................................................................................................................\n",
            "1405\n",
            "Chapter 136. Spirochetes    ......................................................................................................................................................\n",
            "1413\n",
            "Chapter 137. Neisseriaceae    .................................................................................................................................................\n",
            "1419\n",
            "Chapter 138. Chlamydia & Mycoplasmas    ......................................................................................................................\n",
            "1421\n",
            "Chapter 139. Rickettsiae & Related Organisms    ..........................................................................................................\n",
            "1431\n",
            "Chapter 140. Anaerobic Bacteria    ........................................................................................................................................\n",
            "1450\n",
            "Chapter 141. Mycobacteria    ...................................................................................................................................................\n",
            "1470\n",
            "Chapter 142. Fungi    ...................................................................................................................................................................\n",
            "1493\n",
            "Chapter 143. Approach to Parasitic Infections    .............................................................................................................\n",
            "1496\n",
            "Chapter 144. Nematodes (Roundworms)    .......................................................................................................................\n",
            "desai.sana1@gmail.com\n",
            "B0PAGYZ4X1\n",
            "This file is meant for personal use by desai.sana1@gmail.com only.\n",
            "Sharing or publishing the contents in part or full is liable for legal action.\n",
            "\n"
          ]
        }
      ]
    },
    {
      "cell_type": "markdown",
      "metadata": {
        "id": "7-wNNalNxPKT"
      },
      "source": [
        "#### Checking the number of pages"
      ]
    },
    {
      "cell_type": "code",
      "source": [
        "print(\"length of merck PDF is-\",len(merck_pdf))"
      ],
      "metadata": {
        "id": "-NuC-6SNRT7K",
        "colab": {
          "base_uri": "https://localhost:8080/"
        },
        "outputId": "36d4d451-ed74-497c-bc8d-a409700783e2"
      },
      "execution_count": 36,
      "outputs": [
        {
          "output_type": "stream",
          "name": "stdout",
          "text": [
            "length of merck PDF is- 4114\n"
          ]
        }
      ]
    },
    {
      "cell_type": "markdown",
      "metadata": {
        "id": "LECMxTH-zB-R"
      },
      "source": [
        "### Data Chunking"
      ]
    },
    {
      "cell_type": "code",
      "source": [
        "# Initializing a RecursiveCharacterTextSplitter to split the text into manageable chunks for embedding and retrieval\n",
        "text_splitter = RecursiveCharacterTextSplitter.from_tiktoken_encoder(\n",
        "    encoding_name='cl100k_base',\n",
        "    chunk_size=512,\n",
        "    chunk_overlap= 20\n",
        ")"
      ],
      "metadata": {
        "id": "ir9Zi8rKRUmG"
      },
      "execution_count": 37,
      "outputs": []
    },
    {
      "cell_type": "code",
      "source": [
        "#loading the PDF document, extracting its text, and splitting it into smaller chunks\n",
        "document_chunks = pdf_loader.load_and_split(text_splitter)"
      ],
      "metadata": {
        "id": "sdNPT22fYoT8"
      },
      "execution_count": 38,
      "outputs": []
    },
    {
      "cell_type": "code",
      "source": [
        "#Checking the number of text chunks the pdf has been split into\n",
        "print(\"number of text chunks the pdf has been split into-\",len(document_chunks))"
      ],
      "metadata": {
        "id": "dzAlYmHbYs0b",
        "colab": {
          "base_uri": "https://localhost:8080/"
        },
        "outputId": "75bf32cb-69c3-4d0e-f160-74e9fc9e1a78"
      },
      "execution_count": 39,
      "outputs": [
        {
          "output_type": "stream",
          "name": "stdout",
          "text": [
            "number of text chunks the pdf has been split into- 8487\n"
          ]
        }
      ]
    },
    {
      "cell_type": "markdown",
      "source": [
        "Confirming that there is overlap between chunks"
      ],
      "metadata": {
        "id": "OLYYSRuQ4Ou1"
      }
    },
    {
      "cell_type": "code",
      "source": [
        "document_chunks[0].page_content"
      ],
      "metadata": {
        "id": "lL574pEgYt7n",
        "colab": {
          "base_uri": "https://localhost:8080/",
          "height": 36
        },
        "outputId": "59d81e3f-16f1-4976-a385-436d9c43cbad"
      },
      "execution_count": 40,
      "outputs": [
        {
          "output_type": "execute_result",
          "data": {
            "text/plain": [
              "'desai.sana1@gmail.com\\nB0PAGYZ4X1\\nant for personal use by desai.sana1@gm\\nshing the contents in part or full is liable'"
            ],
            "application/vnd.google.colaboratory.intrinsic+json": {
              "type": "string"
            }
          },
          "metadata": {},
          "execution_count": 40
        }
      ]
    },
    {
      "cell_type": "code",
      "source": [
        "document_chunks[1].page_content"
      ],
      "metadata": {
        "id": "WArYhdKyY7lW",
        "colab": {
          "base_uri": "https://localhost:8080/",
          "height": 53
        },
        "outputId": "3817b271-ac0f-45a6-f8a5-31a977c68242"
      },
      "execution_count": 41,
      "outputs": [
        {
          "output_type": "execute_result",
          "data": {
            "text/plain": [
              "'desai.sana1@gmail.com\\nB0PAGYZ4X1\\nThis file is meant for personal use by desai.sana1@gmail.com only.\\nSharing or publishing the contents in part or full is liable for legal action.'"
            ],
            "application/vnd.google.colaboratory.intrinsic+json": {
              "type": "string"
            }
          },
          "metadata": {},
          "execution_count": 41
        }
      ]
    },
    {
      "cell_type": "code",
      "source": [
        "document_chunks[2].page_content"
      ],
      "metadata": {
        "id": "EZWXh_JzY96B",
        "colab": {
          "base_uri": "https://localhost:8080/",
          "height": 195
        },
        "outputId": "1539bb35-a4d0-4734-e730-2622c7e1b35e"
      },
      "execution_count": 42,
      "outputs": [
        {
          "output_type": "execute_result",
          "data": {
            "text/plain": [
              "'Table of Contents\\n1\\nFront    ................................................................................................................................................................................................................\\n1\\nCover    .......................................................................................................................................................................................................\\n2\\nFront Matter    ...........................................................................................................................................................................................\\n53\\n1 - Nutritional Disorders    ...............................................................................................................................................................\\n53\\nChapter 1. Nutrition: General Considerations    .....................................................................................................................\\n59\\nChapter 2. Undernutrition    .............................................................................................................................................................\\n69\\nChapter 3. Nutritional Support    ...................................................................................................................................................\\n76\\nChapter 4. Vitamin Deficiency, Dependency & Toxicity    ..................................................................................................\\n99\\nChapter 5. Mineral Deficiency & Toxicity    ..............................................................................................................................\\n108\\nChapter 6. Obesity & the Metabolic Syndrome    ...............................................................................................................\\n120\\n2 - Gastrointestinal Disorders    ..............................................................................................................................................\\n120\\nChapter 7. Approach to the Patient With Upper GI Complaints    ...............................................................................\\n132\\nChapter 8. Approach to the Patient With Lower GI Complaints    ...............................................................................\\n143\\nChapter 9. Diagnostic & Therapeutic GI Procedures    ....................................................................................................\\n150\\nChapter 10. GI Bleeding    ............................................................................................................................................................\\n158\\nChapter 11. Acute Abdomen & Surgical Gastroenterology    .........................................................................................\\n172\\nChapter 12. Esophageal & Swallowing Disorders    ..........................................................................................................\\n183\\nChapter 13. Gastritis & Peptic Ulcer Disease    ..................................................................................................................\\n196\\nChapter 14. Bezoars & Foreign Bodies    ..............................................................................................................................\\n199\\nChapter 15. Pancreatitis    ............................................................................................................................................................\\n206\\nChapter 16. Gastroenteritis    ......................................................................................................................................................\\n213\\nChapter 17. Malabsorption Syndromes    ..............................................................................................................................\\n225\\nChapter 18. Irritable Bowel Syndrome    ................................................................................................................................\\n229\\nChapter 19. Inflammatory Bowel Disease    .........................................................................................................................\\n241\\nChapter 20. Diverticular Disease    ...........................................................................................................................................\\n246\\nChapter 21. Anorectal Disorders    ............................................................................................................................................\\n254\\nChapter 22. Tumors of the GI Tract    ......................................................................................................................................\\n275\\n3 - Hepatic & Biliary Disorders    ............................................................................................................................................\\n275\\nChapter 23. Approach to the Patient With Liver Disease    ...........................................................................................\\n294\\nChapter 24. Testing for Hepatic & Biliary Disorders    ......................................................................................................\\n305'"
            ],
            "application/vnd.google.colaboratory.intrinsic+json": {
              "type": "string"
            }
          },
          "metadata": {},
          "execution_count": 42
        }
      ]
    },
    {
      "cell_type": "markdown",
      "source": [
        "**Observation-**\n",
        "\n",
        "As expected, there are some overlaps:\n",
        "* The last 20 tokens (not characters) of document_chunks[0]\n",
        "appear at the beginning of document_chunks[1].\n",
        "* Last sentence fragment of chunk 0 occurs in the First word of chunk 1:\n",
        "* If we increase the chunk_overlap, the overlapping length of the sentence will also increase."
      ],
      "metadata": {
        "id": "dm11UOzB5fI2"
      }
    },
    {
      "cell_type": "markdown",
      "metadata": {
        "id": "BvHVejcWz0Bl"
      },
      "source": [
        "### Embedding"
      ]
    },
    {
      "cell_type": "code",
      "source": [
        "# This model is chosen because it supports a maximum input length of 512 tokens,\n",
        "# which matches our chunk size during document splitting. It also produces high-quality\n",
        "# 1024-dimensional embeddings suitable for semantic search and RAG pipelines.\n",
        "embedding_model = SentenceTransformerEmbeddings(model_name='thenlper/gte-large')"
      ],
      "metadata": {
        "id": "R3CAgoUeRVLa",
        "colab": {
          "base_uri": "https://localhost:8080/",
          "height": 406,
          "referenced_widgets": [
            "176590e9f15c46e0bd8639d455dd9bfa",
            "5696ec4332ca42d584dc12b2edd1ff76",
            "e2cc5d2ca948469db2ca8e9dcac7167d",
            "9fe5a1c77e354f0ab77403ea3d135256",
            "227a0857f5174d9a949703310585ef42",
            "f5ca5f6600ed49f4bde7c23b2b8d566a",
            "ff35f480095f42b9a74251c95d8014cd",
            "11445e0056c24193bd840896e820f8c6",
            "b1fd08480dc74feba2f3804e1c8eef9c",
            "a4dfe08e845b4c609607096964805bca",
            "4022206fcb2648c4bd77fc3824dcc4c9",
            "d1403cf287764614abafeb4f6e85c119",
            "23708ad5da4a4228949a3dddce686027",
            "495ea0e5706740c28a05d20c7c808547",
            "957d8048ae8d4cecb753417ed2c14e8a",
            "065c5100d2804529b09eae7055150ae4",
            "0cb62652cac54b24b4c1edbd96308921",
            "0b234a110afb4327b4510e753893ddc0",
            "c6d1c104114c4639872ce989e6fcbc6d",
            "98a83093eddd4f71b69166ff21156491",
            "93f9c10b762d41ecb77c3a49638a41d1",
            "8923b37d477c47a2ade30a31793ff612",
            "22a0d04aa9bf4e50927b11c60aa206db",
            "7e713f7eaf8c46abaff0d22f875da908",
            "b0cc379dfa55403aaca9dd318787c6de",
            "51b3053c1b6841dd96bb778cb7c8cd61",
            "0151a2a372d442a7bc48d8984bf28b90",
            "193961b6d09f40449ca5c45384eb8ae3",
            "a9957add551f4976860c287089b3e998",
            "3af33476513d424cb79fb5a55e2e501c",
            "cc6808867c2c4e04b94c8ff79b1f419a",
            "4dcebcc7e08e400a87cbc5ae578e13da",
            "9e7edb2af550441a9a3d1774c95a9928",
            "503973f9e69344cb80e790d4059beb9c",
            "582ca48d49cf451c954dfed85460434c",
            "9fb3835f9f444958aeeae50fdc11335e",
            "87b7ca5cdff44bf98f8b0383f5bdce45",
            "cb2e52fad1e84f879e60c8e599e1d61a",
            "1975f213d5f94894ae54935a7689142f",
            "9eb463a5341f4d7f8a5e04726b30cd13",
            "81fae37df3944e75a7a49a7cee6a8096",
            "563bbb730256479f99ff063eb8eabb4a",
            "faca4e409c064b05b3cb3b36788d26a4",
            "9a71ed4da74a48df8ed78ddf6f7f178d",
            "c853cd2da6ba44da858b44c960ca0627",
            "8f00a4098a8541a3ab528f87e76c5589",
            "77accc8a51444008bc70078ddbd8f8e6",
            "d89f77a8f27f44dfa35501e4d2d34bd9",
            "cb13f6ed29e341c8b3d3bda7665be7e2",
            "28708f1188f747919c134206932e5dde",
            "c41beecb91854dccbb902b11d0ec562b",
            "c5205d8359f7453a9299c731729de37e",
            "3c71526a91dd41dda7c1811be1536c4a",
            "82b58d3279da4735826f291f0a97bcc9",
            "df0551757bd24c719fd92f76100c9e2e",
            "47ab9b518e244f08942c0219d5103873",
            "85ecbeb018a24032bd8ab2db1cb9438e",
            "48c9e1eda0f345898dc5788e85d800a1",
            "b9539df0eac54f21bbc8f1a47f496b16",
            "c188d1c846074cf9935d7514f1854a00",
            "f057864463e140dd81f3868a97fe9b75",
            "e2349ed74f824f7fb7a8607d4ab86596",
            "11787a029d0c457da9d362e088bff07a",
            "dca26118c6134d0c863d6859386c9acc",
            "c6b2df65ae334519b8f065255cefac7f",
            "bf87f5f6b8a2416eba3896f3adb424bf",
            "8fbc7f99657f44fc813b006136c81549",
            "283b053516b84efaae99181296b136df",
            "bfb8fc3ebbb34b399f0c9aa1fae07552",
            "8bc1bc94fb694dcc89260acd3fb4a4ce",
            "83c3d42257094a7ea6a3a21fda7bfbfe",
            "0931d4c1754044b5a05665c734b05319",
            "70a95d1cf3bd43a28c62ceba9a2fda64",
            "cac4c179ba8d494597007a64e9298f2d",
            "9442a3231a5c4051812c198068ec637d",
            "d6b688f574d842feae80c16753349926",
            "5f76f470fcf74f27be25c3a4caaa1183",
            "ab0a885576e74698a0b633625d790efd",
            "c870a2b243e34df9a14679104cce1616",
            "98c8b320f1c64d959bba8a2d4331a875",
            "35dbb679281c4f27a0f3145193a94f5c",
            "d0e3130646a342d189bbe66e0247b16e",
            "5c8d1ae5e550453cba2b642071830eeb",
            "8ea4b1a6e0e04de49ff519dad8cab93b",
            "53530c7ae0774a72aee9527b028fc4cf",
            "5e663796eb1c4b1d87a58b243f813628",
            "2fcfc174ee3945a09d8f29ef42bd7ace",
            "2e67a182b7d94a81b03f7fdf6ff9af71",
            "20b5fc7bfcb6471c838118de2836324b",
            "7e884a78399641d48f0fec85a8735d7e",
            "e5a70d09c884481cb8275f734bed6249",
            "3b892b8a35b74becbd7f90f3e547b694",
            "2dcd5bd96d59456bb95d11e0263a17cf",
            "10c8977cc3ff46d1bfd5483098520adc",
            "dc52599c39554d379c3de95e06720928",
            "52df34de80e64fd187549e51c7c409b0",
            "9a08c4e614174e248eb5595ade04daea",
            "f706788c1b0448b69555565bbc148d7d",
            "a9c58714259d46a891fed2d0c632cc8d",
            "60acbe8d27874d47bbe5faa79fb0d82d",
            "a4c1c0dce3cc44328d42d39fdcfff75a",
            "cefe910e39d945c38e0d5eff597f24d9",
            "6ef450a827714826a9efd691c6ba5e1f",
            "73f7b20c47ba4d8d9ecc1819307f512b",
            "655272ed8de84a5dbfa82e0e7f8b26d5",
            "7c8f43696b294882b53db0d84bd89ac9",
            "a64699aef4214a9491eee1ca14f60f1b",
            "be7847d81f224c598c559047330c57c5",
            "0aa08790fc964143b4902d36a8ae23ee",
            "534c433c16964a1f9cc155be5a049694",
            "35c23ef7f9414ecbbb4d16754475baba",
            "3fad67e6daf24bbb926ca64c648975f8",
            "eee83bc7155d4b2ca998ecfa595d93a0",
            "a38f3ee9d8de40fe9701fcd2dba9e76b",
            "271774b1ee7f44c2bfb2f5ace78e50ff",
            "3bad0439545a47f8ac5a868dcfa5e165",
            "12d0450005614a79ae9fea47a2e846ba",
            "cdc1a12cbfe449fb9fc2f7733f00363a",
            "6ca8a99f4c294cb19b5000028db00dfa",
            "07676a68e35f4700b46705ad58936961",
            "437dba4ef12049218b0d0003c599bc68"
          ]
        },
        "outputId": "fbe514ca-e839-48b8-f5f5-74fd15fa693b"
      },
      "execution_count": 43,
      "outputs": [
        {
          "output_type": "stream",
          "name": "stderr",
          "text": [
            "The cache for model files in Transformers v4.22.0 has been updated. Migrating your old cache. This is a one-time only operation. You can interrupt this and resume the migration later on by calling `transformers.utils.move_cache()`.\n"
          ]
        },
        {
          "output_type": "display_data",
          "data": {
            "text/plain": [
              "0it [00:00, ?it/s]"
            ],
            "application/vnd.jupyter.widget-view+json": {
              "version_major": 2,
              "version_minor": 0,
              "model_id": "176590e9f15c46e0bd8639d455dd9bfa"
            }
          },
          "metadata": {}
        },
        {
          "output_type": "display_data",
          "data": {
            "text/plain": [
              "modules.json:   0%|          | 0.00/385 [00:00<?, ?B/s]"
            ],
            "application/vnd.jupyter.widget-view+json": {
              "version_major": 2,
              "version_minor": 0,
              "model_id": "d1403cf287764614abafeb4f6e85c119"
            }
          },
          "metadata": {}
        },
        {
          "output_type": "display_data",
          "data": {
            "text/plain": [
              "README.md: 0.00B [00:00, ?B/s]"
            ],
            "application/vnd.jupyter.widget-view+json": {
              "version_major": 2,
              "version_minor": 0,
              "model_id": "22a0d04aa9bf4e50927b11c60aa206db"
            }
          },
          "metadata": {}
        },
        {
          "output_type": "display_data",
          "data": {
            "text/plain": [
              "sentence_bert_config.json:   0%|          | 0.00/57.0 [00:00<?, ?B/s]"
            ],
            "application/vnd.jupyter.widget-view+json": {
              "version_major": 2,
              "version_minor": 0,
              "model_id": "503973f9e69344cb80e790d4059beb9c"
            }
          },
          "metadata": {}
        },
        {
          "output_type": "display_data",
          "data": {
            "text/plain": [
              "config.json:   0%|          | 0.00/619 [00:00<?, ?B/s]"
            ],
            "application/vnd.jupyter.widget-view+json": {
              "version_major": 2,
              "version_minor": 0,
              "model_id": "c853cd2da6ba44da858b44c960ca0627"
            }
          },
          "metadata": {}
        },
        {
          "output_type": "display_data",
          "data": {
            "text/plain": [
              "model.safetensors:   0%|          | 0.00/670M [00:00<?, ?B/s]"
            ],
            "application/vnd.jupyter.widget-view+json": {
              "version_major": 2,
              "version_minor": 0,
              "model_id": "47ab9b518e244f08942c0219d5103873"
            }
          },
          "metadata": {}
        },
        {
          "output_type": "display_data",
          "data": {
            "text/plain": [
              "tokenizer_config.json:   0%|          | 0.00/342 [00:00<?, ?B/s]"
            ],
            "application/vnd.jupyter.widget-view+json": {
              "version_major": 2,
              "version_minor": 0,
              "model_id": "8fbc7f99657f44fc813b006136c81549"
            }
          },
          "metadata": {}
        },
        {
          "output_type": "display_data",
          "data": {
            "text/plain": [
              "vocab.txt: 0.00B [00:00, ?B/s]"
            ],
            "application/vnd.jupyter.widget-view+json": {
              "version_major": 2,
              "version_minor": 0,
              "model_id": "ab0a885576e74698a0b633625d790efd"
            }
          },
          "metadata": {}
        },
        {
          "output_type": "display_data",
          "data": {
            "text/plain": [
              "tokenizer.json: 0.00B [00:00, ?B/s]"
            ],
            "application/vnd.jupyter.widget-view+json": {
              "version_major": 2,
              "version_minor": 0,
              "model_id": "20b5fc7bfcb6471c838118de2836324b"
            }
          },
          "metadata": {}
        },
        {
          "output_type": "display_data",
          "data": {
            "text/plain": [
              "special_tokens_map.json:   0%|          | 0.00/125 [00:00<?, ?B/s]"
            ],
            "application/vnd.jupyter.widget-view+json": {
              "version_major": 2,
              "version_minor": 0,
              "model_id": "60acbe8d27874d47bbe5faa79fb0d82d"
            }
          },
          "metadata": {}
        },
        {
          "output_type": "display_data",
          "data": {
            "text/plain": [
              "config.json:   0%|          | 0.00/191 [00:00<?, ?B/s]"
            ],
            "application/vnd.jupyter.widget-view+json": {
              "version_major": 2,
              "version_minor": 0,
              "model_id": "35c23ef7f9414ecbbb4d16754475baba"
            }
          },
          "metadata": {}
        }
      ]
    },
    {
      "cell_type": "code",
      "source": [
        "# Generating embedding for the first document chunk\n",
        "embedding_1 = embedding_model.embed_query(document_chunks[0].page_content)\n",
        "# Generating embedding for the second document chunk\n",
        "embedding_2 = embedding_model.embed_query(document_chunks[1].page_content)"
      ],
      "metadata": {
        "id": "obvL8iAEZG3C"
      },
      "execution_count": 44,
      "outputs": []
    },
    {
      "cell_type": "code",
      "source": [
        "#Checking if both are of the same size\n",
        "print(\"Dimension of the embedding vector \",len(embedding_1))\n",
        "len(embedding_1)==len(embedding_2)"
      ],
      "metadata": {
        "id": "wi6Zm1CqZJqE",
        "colab": {
          "base_uri": "https://localhost:8080/"
        },
        "outputId": "3fe95a86-be09-4a9c-a646-578df07fd073"
      },
      "execution_count": 45,
      "outputs": [
        {
          "output_type": "stream",
          "name": "stdout",
          "text": [
            "Dimension of the embedding vector  1024\n"
          ]
        },
        {
          "output_type": "execute_result",
          "data": {
            "text/plain": [
              "True"
            ]
          },
          "metadata": {},
          "execution_count": 45
        }
      ]
    },
    {
      "cell_type": "code",
      "source": [
        "embedding_1,embedding_2"
      ],
      "metadata": {
        "id": "8hzL4mwxOjbt",
        "colab": {
          "base_uri": "https://localhost:8080/"
        },
        "outputId": "e8faca44-de9b-4d2e-e0bb-ecbe4d802456"
      },
      "execution_count": 46,
      "outputs": [
        {
          "output_type": "execute_result",
          "data": {
            "text/plain": [
              "([-0.02141253463923931,\n",
              "  -0.004343502223491669,\n",
              "  -0.002323613502085209,\n",
              "  -0.011759995482861996,\n",
              "  -0.014929787255823612,\n",
              "  -0.026302766054868698,\n",
              "  -0.013058159500360489,\n",
              "  0.030034080147743225,\n",
              "  0.008949949406087399,\n",
              "  0.01830601878464222,\n",
              "  0.02505834400653839,\n",
              "  0.004774370230734348,\n",
              "  0.017779041081666946,\n",
              "  -0.03663885220885277,\n",
              "  -0.00422451039776206,\n",
              "  -0.01146604958921671,\n",
              "  0.0014619737630710006,\n",
              "  -0.019188594073057175,\n",
              "  -0.00695505365729332,\n",
              "  0.004877684637904167,\n",
              "  0.010211425833404064,\n",
              "  0.010608792304992676,\n",
              "  -0.07724888622760773,\n",
              "  -0.02444807067513466,\n",
              "  -0.009776102378964424,\n",
              "  0.03191791847348213,\n",
              "  0.0024320296943187714,\n",
              "  -0.007021660450845957,\n",
              "  0.07554978132247925,\n",
              "  0.046516094356775284,\n",
              "  -0.01974877528846264,\n",
              "  -0.0022843307815492153,\n",
              "  0.039009422063827515,\n",
              "  -0.0476209819316864,\n",
              "  -0.02252781391143799,\n",
              "  -0.0010169813176617026,\n",
              "  0.057295240461826324,\n",
              "  -0.03271351009607315,\n",
              "  -0.02905232273042202,\n",
              "  -0.04068784415721893,\n",
              "  0.023215264081954956,\n",
              "  0.0010455420706421137,\n",
              "  0.047996990382671356,\n",
              "  -0.020706448704004288,\n",
              "  -0.0367099829018116,\n",
              "  -0.009861830621957779,\n",
              "  -0.028980392962694168,\n",
              "  -0.015421776100993156,\n",
              "  0.004565573763102293,\n",
              "  -0.03503582626581192,\n",
              "  0.02023947983980179,\n",
              "  -0.004963038023561239,\n",
              "  0.030189763754606247,\n",
              "  0.008832982741296291,\n",
              "  -0.003290128195658326,\n",
              "  -0.02579502761363983,\n",
              "  0.0013209738535806537,\n",
              "  -0.03753652796149254,\n",
              "  -0.036920465528964996,\n",
              "  0.04518084600567818,\n",
              "  0.0106224175542593,\n",
              "  -0.012363230809569359,\n",
              "  0.03366760164499283,\n",
              "  -0.06347233802080154,\n",
              "  0.015845471993088722,\n",
              "  0.01062027271836996,\n",
              "  0.01524491049349308,\n",
              "  -0.014841267839074135,\n",
              "  -0.006953574251383543,\n",
              "  -0.005964125040918589,\n",
              "  -0.015530070289969444,\n",
              "  -0.004347280133515596,\n",
              "  -0.007910976186394691,\n",
              "  -0.010696855373680592,\n",
              "  0.015194575302302837,\n",
              "  -0.005223424639552832,\n",
              "  0.0008078449754975736,\n",
              "  -0.01880558766424656,\n",
              "  -0.027436139062047005,\n",
              "  0.033267099410295486,\n",
              "  0.002360136713832617,\n",
              "  0.0541292242705822,\n",
              "  0.02112070471048355,\n",
              "  0.009075386449694633,\n",
              "  -0.029088415205478668,\n",
              "  -0.006546801421791315,\n",
              "  0.0004846688825637102,\n",
              "  0.017179958522319794,\n",
              "  -0.010051701217889786,\n",
              "  -0.0005089982878416777,\n",
              "  -0.01720951683819294,\n",
              "  0.05041832849383354,\n",
              "  -0.0156671404838562,\n",
              "  -0.0005175925325602293,\n",
              "  0.034586019814014435,\n",
              "  0.05412500724196434,\n",
              "  -0.06209556758403778,\n",
              "  0.03884842246770859,\n",
              "  -0.013483518734574318,\n",
              "  0.0011210122611373663,\n",
              "  0.04330991581082344,\n",
              "  0.032112132757902145,\n",
              "  0.0021951566450297832,\n",
              "  0.06204342842102051,\n",
              "  -0.01903376914560795,\n",
              "  -0.005727742798626423,\n",
              "  0.032625917345285416,\n",
              "  -0.018123742192983627,\n",
              "  -0.001338821486569941,\n",
              "  -0.03302504122257233,\n",
              "  0.021154997870326042,\n",
              "  -0.015214785002171993,\n",
              "  -0.011730614118278027,\n",
              "  -0.010034439153969288,\n",
              "  0.027135977521538734,\n",
              "  0.035383179783821106,\n",
              "  0.008025387302041054,\n",
              "  0.04207200929522514,\n",
              "  -0.01730816252529621,\n",
              "  -0.011248290538787842,\n",
              "  0.004847635515034199,\n",
              "  0.0068437280133366585,\n",
              "  0.043424226343631744,\n",
              "  -0.026084301993250847,\n",
              "  0.00026866255211643875,\n",
              "  -0.026363428682088852,\n",
              "  0.000441821466665715,\n",
              "  0.039201971143484116,\n",
              "  -0.03468867018818855,\n",
              "  -0.010204373858869076,\n",
              "  0.017582988366484642,\n",
              "  -0.037572503089904785,\n",
              "  -0.0005433600745163858,\n",
              "  0.011002268642187119,\n",
              "  0.0011914746137335896,\n",
              "  0.036663513630628586,\n",
              "  -0.0038982750847935677,\n",
              "  0.021198546513915062,\n",
              "  0.03250894322991371,\n",
              "  -0.0281879510730505,\n",
              "  0.02538253553211689,\n",
              "  0.029332691803574562,\n",
              "  -0.0016213044291362166,\n",
              "  0.09115836024284363,\n",
              "  -0.0028058351017534733,\n",
              "  0.04112152382731438,\n",
              "  0.00876824650913477,\n",
              "  0.00959839764982462,\n",
              "  -0.03878661245107651,\n",
              "  0.04098255932331085,\n",
              "  -0.04329578951001167,\n",
              "  -0.016509180888533592,\n",
              "  -0.013388199731707573,\n",
              "  0.03541010245680809,\n",
              "  0.011396772228181362,\n",
              "  0.003166194772347808,\n",
              "  -0.011897227726876736,\n",
              "  0.007980814203619957,\n",
              "  0.03024088777601719,\n",
              "  0.03876018896698952,\n",
              "  -0.0040695564821362495,\n",
              "  -0.018217602744698524,\n",
              "  -0.00888072233647108,\n",
              "  0.060859911143779755,\n",
              "  -0.01660132221877575,\n",
              "  0.08854784816503525,\n",
              "  -0.024455096572637558,\n",
              "  -0.0023086920846253633,\n",
              "  -0.009783620946109295,\n",
              "  -0.027722232043743134,\n",
              "  0.04568827152252197,\n",
              "  -0.01346229761838913,\n",
              "  -0.014446459710597992,\n",
              "  0.029514221474528313,\n",
              "  0.014476743526756763,\n",
              "  0.04232669994235039,\n",
              "  0.026613913476467133,\n",
              "  0.0070186518132686615,\n",
              "  0.05694297328591347,\n",
              "  0.02855701930820942,\n",
              "  -0.013702493160963058,\n",
              "  0.032549694180488586,\n",
              "  0.031474243849515915,\n",
              "  0.0757715106010437,\n",
              "  0.010958144441246986,\n",
              "  -0.0059502627700567245,\n",
              "  0.006956575438380241,\n",
              "  -0.03271735459566116,\n",
              "  -0.04203388839960098,\n",
              "  -0.02533569745719433,\n",
              "  0.03126974776387215,\n",
              "  0.03022262454032898,\n",
              "  -0.022512715309858322,\n",
              "  0.007051815744489431,\n",
              "  -0.015639621764421463,\n",
              "  0.004503315780311823,\n",
              "  -0.012952308170497417,\n",
              "  -0.012702581472694874,\n",
              "  -0.009299159049987793,\n",
              "  -0.07963613420724869,\n",
              "  -0.006680459249764681,\n",
              "  0.03673421964049339,\n",
              "  -0.023125147446990013,\n",
              "  0.01793568581342697,\n",
              "  -0.01015465147793293,\n",
              "  -0.016324538737535477,\n",
              "  0.021470000967383385,\n",
              "  0.061256274580955505,\n",
              "  -0.03787282854318619,\n",
              "  -0.024539997801184654,\n",
              "  0.03252451494336128,\n",
              "  0.014278654009103775,\n",
              "  -0.029064452275633812,\n",
              "  -0.006177568808197975,\n",
              "  -0.003609834471717477,\n",
              "  0.0030077528208494186,\n",
              "  -0.03690534457564354,\n",
              "  0.05507080629467964,\n",
              "  -0.019156770780682564,\n",
              "  -0.01278139278292656,\n",
              "  0.006637322250753641,\n",
              "  0.02249841019511223,\n",
              "  0.0043891300447285175,\n",
              "  0.04459233582019806,\n",
              "  -0.005815766751766205,\n",
              "  0.003859024029225111,\n",
              "  0.002907278249040246,\n",
              "  0.03659455105662346,\n",
              "  -0.02349252440035343,\n",
              "  -0.020008865743875504,\n",
              "  -0.013877077028155327,\n",
              "  0.04187396541237831,\n",
              "  0.01502932421863079,\n",
              "  0.06785961985588074,\n",
              "  0.01657879538834095,\n",
              "  -0.0012398625258356333,\n",
              "  0.045567113906145096,\n",
              "  0.027610410004854202,\n",
              "  -0.005419193301349878,\n",
              "  0.03569136932492256,\n",
              "  -0.007528967224061489,\n",
              "  0.0353824757039547,\n",
              "  0.03465953469276428,\n",
              "  0.007065036334097385,\n",
              "  0.017930513247847557,\n",
              "  0.056612011045217514,\n",
              "  -0.012921763584017754,\n",
              "  0.013887050561606884,\n",
              "  -0.0481475330889225,\n",
              "  0.02960224635899067,\n",
              "  0.001025112927891314,\n",
              "  0.04576152563095093,\n",
              "  0.006069229915738106,\n",
              "  0.038452137261629105,\n",
              "  -0.04451927915215492,\n",
              "  -0.006032964214682579,\n",
              "  0.07108831405639648,\n",
              "  0.04623541980981827,\n",
              "  -0.0521606020629406,\n",
              "  -0.005092701409012079,\n",
              "  0.0016855086432769895,\n",
              "  0.01881442405283451,\n",
              "  -0.010746042244136333,\n",
              "  0.03377211093902588,\n",
              "  0.01950596459209919,\n",
              "  -0.013042285107076168,\n",
              "  0.002828796859830618,\n",
              "  -0.019040262326598167,\n",
              "  -0.022745691239833832,\n",
              "  -0.021232862025499344,\n",
              "  -0.047530777752399445,\n",
              "  -0.03922741860151291,\n",
              "  -0.05131024867296219,\n",
              "  -0.03555385023355484,\n",
              "  -0.05251500383019447,\n",
              "  -0.027507640421390533,\n",
              "  0.05266275256872177,\n",
              "  -0.043245505541563034,\n",
              "  0.033791664987802505,\n",
              "  -0.008807852864265442,\n",
              "  0.003037851070985198,\n",
              "  -0.0501796118915081,\n",
              "  -0.03530885651707649,\n",
              "  0.03732750937342644,\n",
              "  0.05563477799296379,\n",
              "  0.07483697682619095,\n",
              "  -0.04058999940752983,\n",
              "  0.024878500029444695,\n",
              "  0.007044145837426186,\n",
              "  0.021422211080789566,\n",
              "  -0.05165037512779236,\n",
              "  -0.010310652665793896,\n",
              "  0.000897931691724807,\n",
              "  -0.00896195974200964,\n",
              "  0.041825514286756516,\n",
              "  0.011190253309905529,\n",
              "  -0.002882433356717229,\n",
              "  -0.011561982333660126,\n",
              "  -0.041623201221227646,\n",
              "  -0.043102920055389404,\n",
              "  -0.009142066352069378,\n",
              "  0.009893613867461681,\n",
              "  -0.018734388053417206,\n",
              "  -0.008152258582413197,\n",
              "  -0.04200597479939461,\n",
              "  0.0332651361823082,\n",
              "  0.0539935864508152,\n",
              "  -0.017290515825152397,\n",
              "  0.049638960510492325,\n",
              "  0.01618734374642372,\n",
              "  -0.02652360312640667,\n",
              "  0.03470473736524582,\n",
              "  0.00489742960780859,\n",
              "  0.01688908226788044,\n",
              "  -0.05437556654214859,\n",
              "  0.04030356556177139,\n",
              "  0.05799415707588196,\n",
              "  0.017230600118637085,\n",
              "  -0.04954484850168228,\n",
              "  -0.025301378220319748,\n",
              "  -0.03613107651472092,\n",
              "  0.041037417948246,\n",
              "  -0.004239165224134922,\n",
              "  -0.02590293250977993,\n",
              "  -0.030374325811862946,\n",
              "  -0.009477301500737667,\n",
              "  0.04525227099657059,\n",
              "  -0.0773128941655159,\n",
              "  0.034154586493968964,\n",
              "  -0.047205012291669846,\n",
              "  -0.02630690485239029,\n",
              "  -0.04076960310339928,\n",
              "  -0.035018183290958405,\n",
              "  -0.0002171970554627478,\n",
              "  0.0022568251006305218,\n",
              "  0.0231497623026371,\n",
              "  0.010549783706665039,\n",
              "  -0.026911847293376923,\n",
              "  0.005196068435907364,\n",
              "  -0.004403941333293915,\n",
              "  0.04830024763941765,\n",
              "  -0.026999907568097115,\n",
              "  0.017492283135652542,\n",
              "  0.0506916306912899,\n",
              "  -0.010143610648810863,\n",
              "  0.012818645685911179,\n",
              "  0.03838836029171944,\n",
              "  0.0017812498845160007,\n",
              "  0.01330193504691124,\n",
              "  0.012969562783837318,\n",
              "  -0.013380127027630806,\n",
              "  0.002030859934166074,\n",
              "  0.024683702737092972,\n",
              "  0.01939285174012184,\n",
              "  0.01671725884079933,\n",
              "  0.06136397272348404,\n",
              "  -0.016210751608014107,\n",
              "  0.0034077998716384172,\n",
              "  0.019849302247166634,\n",
              "  0.031010419130325317,\n",
              "  0.023312440142035484,\n",
              "  0.007131077349185944,\n",
              "  0.010973717086017132,\n",
              "  -0.021327566355466843,\n",
              "  -0.04600127786397934,\n",
              "  -0.037807367742061615,\n",
              "  0.012935095466673374,\n",
              "  0.02361823059618473,\n",
              "  0.0357954278588295,\n",
              "  -0.054895754903554916,\n",
              "  0.02530858851969242,\n",
              "  -0.005774020217359066,\n",
              "  -0.03351977467536926,\n",
              "  0.0327271968126297,\n",
              "  -0.047828011214733124,\n",
              "  0.005525986663997173,\n",
              "  0.030245808884501457,\n",
              "  -0.027151459828019142,\n",
              "  0.04648406058549881,\n",
              "  -0.027329398319125175,\n",
              "  0.002140355994924903,\n",
              "  -0.007628307212144136,\n",
              "  0.02533433586359024,\n",
              "  0.037910524755716324,\n",
              "  0.0014435779303312302,\n",
              "  0.023434339091181755,\n",
              "  -0.03322949260473251,\n",
              "  -0.009828556329011917,\n",
              "  -0.010933059267699718,\n",
              "  -0.015312142670154572,\n",
              "  -0.012824016623198986,\n",
              "  -0.01644056662917137,\n",
              "  0.003642174182459712,\n",
              "  0.0016970300348475575,\n",
              "  -0.031131451949477196,\n",
              "  -0.09484493732452393,\n",
              "  0.03201401233673096,\n",
              "  0.025721237063407898,\n",
              "  0.03909081965684891,\n",
              "  -0.007846731692552567,\n",
              "  0.031511854380369186,\n",
              "  0.020059773698449135,\n",
              "  0.030804118141531944,\n",
              "  0.033603206276893616,\n",
              "  -0.04484909772872925,\n",
              "  -0.013428842648863792,\n",
              "  -0.027786266058683395,\n",
              "  0.05440192669630051,\n",
              "  0.02918916381895542,\n",
              "  -0.013764121569693089,\n",
              "  -0.005068022292107344,\n",
              "  -0.015961801633238792,\n",
              "  -0.02545294724404812,\n",
              "  0.04039172828197479,\n",
              "  -0.00873848982155323,\n",
              "  -0.013630892150104046,\n",
              "  -0.017477264627814293,\n",
              "  0.02005881816148758,\n",
              "  -0.019422728568315506,\n",
              "  0.01623540185391903,\n",
              "  -0.026603475213050842,\n",
              "  -0.014479666016995907,\n",
              "  -0.019896388053894043,\n",
              "  0.02152203395962715,\n",
              "  0.024496721103787422,\n",
              "  -0.04282223433256149,\n",
              "  0.024362217634916306,\n",
              "  -0.04524189233779907,\n",
              "  0.048836227506399155,\n",
              "  0.0308894794434309,\n",
              "  0.016120687127113342,\n",
              "  -0.03363581374287605,\n",
              "  -0.015655318275094032,\n",
              "  -0.0317513532936573,\n",
              "  -0.02389191836118698,\n",
              "  -0.014153951779007912,\n",
              "  0.035741206258535385,\n",
              "  -0.024558033794164658,\n",
              "  0.013544336892664433,\n",
              "  -0.04532761871814728,\n",
              "  0.04877961426973343,\n",
              "  -8.920465188566595e-05,\n",
              "  -0.015529871918261051,\n",
              "  -0.0019666654989123344,\n",
              "  0.001207362161949277,\n",
              "  0.006990090012550354,\n",
              "  -0.004198098089545965,\n",
              "  0.04592862352728844,\n",
              "  -0.014951220713555813,\n",
              "  -0.027550840750336647,\n",
              "  0.03454354777932167,\n",
              "  -0.048982322216033936,\n",
              "  0.012961297295987606,\n",
              "  0.006013717968016863,\n",
              "  -0.03908998891711235,\n",
              "  0.0019545957911759615,\n",
              "  0.04551566019654274,\n",
              "  0.030015287920832634,\n",
              "  0.040214937180280685,\n",
              "  -0.02048090472817421,\n",
              "  -0.0005662955809384584,\n",
              "  -0.009209576062858105,\n",
              "  0.0314127653837204,\n",
              "  -0.060090016573667526,\n",
              "  -0.04419641196727753,\n",
              "  0.03319632634520531,\n",
              "  0.0024835062213242054,\n",
              "  -0.03392015025019646,\n",
              "  0.05098830908536911,\n",
              "  0.03504578024148941,\n",
              "  -0.03349972516298294,\n",
              "  0.021186575293540955,\n",
              "  0.008462057448923588,\n",
              "  -0.03516170382499695,\n",
              "  0.028641939163208008,\n",
              "  -0.050608646124601364,\n",
              "  0.006488447077572346,\n",
              "  -0.02764754556119442,\n",
              "  -0.04871611297130585,\n",
              "  0.0208952147513628,\n",
              "  -0.04369443282485008,\n",
              "  0.05133672058582306,\n",
              "  0.001959258923307061,\n",
              "  -0.034236274659633636,\n",
              "  -0.02391175739467144,\n",
              "  -0.04906792193651199,\n",
              "  -0.028466952964663506,\n",
              "  -0.0026001357473433018,\n",
              "  -0.020631587132811546,\n",
              "  0.014407495968043804,\n",
              "  0.0062126037664711475,\n",
              "  -0.026522209867835045,\n",
              "  -0.0058401175774633884,\n",
              "  -0.0005507682799361646,\n",
              "  0.001760584069415927,\n",
              "  0.013640016317367554,\n",
              "  -0.038831986486911774,\n",
              "  -0.004045403562486172,\n",
              "  0.035634879022836685,\n",
              "  -0.0008377848425880075,\n",
              "  0.0038149708416312933,\n",
              "  -0.003589764703065157,\n",
              "  -0.05247630923986435,\n",
              "  0.0026528288144618273,\n",
              "  -0.003761645872145891,\n",
              "  -0.009444775059819221,\n",
              "  -0.061198972165584564,\n",
              "  0.02622215636074543,\n",
              "  -0.02883128821849823,\n",
              "  0.005915864836424589,\n",
              "  -0.03587236627936363,\n",
              "  0.009536880999803543,\n",
              "  -0.01944136433303356,\n",
              "  0.007075490429997444,\n",
              "  0.036570481956005096,\n",
              "  0.01798948273062706,\n",
              "  -0.0035232354421168566,\n",
              "  0.0003245458647143096,\n",
              "  -0.04187462478876114,\n",
              "  0.04865909740328789,\n",
              "  0.030263138934969902,\n",
              "  -0.05271980166435242,\n",
              "  -0.005794107913970947,\n",
              "  0.02556680142879486,\n",
              "  0.004384176805615425,\n",
              "  0.029418164864182472,\n",
              "  0.046770453453063965,\n",
              "  -0.03626120835542679,\n",
              "  -0.04127969592809677,\n",
              "  -0.06017892807722092,\n",
              "  0.027280651032924652,\n",
              "  -0.03740435838699341,\n",
              "  -0.02594231814146042,\n",
              "  -0.05581504851579666,\n",
              "  -0.04688102751970291,\n",
              "  -0.019589127972722054,\n",
              "  0.054984237998723984,\n",
              "  0.014732079580426216,\n",
              "  -0.0388898067176342,\n",
              "  -0.005171729251742363,\n",
              "  -0.052410248667001724,\n",
              "  0.023955924436450005,\n",
              "  -0.03667473420500755,\n",
              "  -0.01908191293478012,\n",
              "  -0.03262581303715706,\n",
              "  -0.030171308666467667,\n",
              "  -0.0006055032135918736,\n",
              "  0.052808791399002075,\n",
              "  0.0057340944185853004,\n",
              "  0.024880584329366684,\n",
              "  0.03229205682873726,\n",
              "  0.0067742750979959965,\n",
              "  0.0084944237023592,\n",
              "  -0.004566235467791557,\n",
              "  -0.05832447111606598,\n",
              "  -0.026398520916700363,\n",
              "  0.034756410866975784,\n",
              "  0.007998604327440262,\n",
              "  -0.029092000797390938,\n",
              "  0.02864576131105423,\n",
              "  -0.059215109795331955,\n",
              "  0.06085372716188431,\n",
              "  -0.04101461544632912,\n",
              "  -0.01381154078990221,\n",
              "  -0.006531047634780407,\n",
              "  0.008117971941828728,\n",
              "  0.0087577560916543,\n",
              "  0.006834133993834257,\n",
              "  0.05065236613154411,\n",
              "  -0.04876076057553291,\n",
              "  0.022063925862312317,\n",
              "  -0.027536675333976746,\n",
              "  0.05496763810515404,\n",
              "  0.014453411102294922,\n",
              "  0.010174854658544064,\n",
              "  -0.027704261243343353,\n",
              "  -0.027168063446879387,\n",
              "  -0.06477677822113037,\n",
              "  -0.06885486096143723,\n",
              "  0.016898632049560547,\n",
              "  -0.04446442052721977,\n",
              "  -0.031771887093782425,\n",
              "  -0.023683980107307434,\n",
              "  -0.005701268557459116,\n",
              "  0.03218528628349304,\n",
              "  -0.054886531084775925,\n",
              "  0.04433474317193031,\n",
              "  0.07233316451311111,\n",
              "  0.008523372001945972,\n",
              "  -0.01916005089879036,\n",
              "  -0.003173004137352109,\n",
              "  0.016546955332159996,\n",
              "  0.03672429546713829,\n",
              "  -0.05277073383331299,\n",
              "  -0.025953983888030052,\n",
              "  -0.007135248742997646,\n",
              "  -0.0045548840425908566,\n",
              "  0.006433611735701561,\n",
              "  -0.04704929143190384,\n",
              "  -0.025225676596164703,\n",
              "  -0.05058712139725685,\n",
              "  0.004741543438285589,\n",
              "  0.08152195066213608,\n",
              "  -0.027598517015576363,\n",
              "  0.03999674320220947,\n",
              "  0.011140476912260056,\n",
              "  -0.06244168430566788,\n",
              "  -0.040080856531858444,\n",
              "  0.04533340036869049,\n",
              "  0.01054907776415348,\n",
              "  0.030753083527088165,\n",
              "  0.03827280551195145,\n",
              "  -0.01815621927380562,\n",
              "  -0.017750058323144913,\n",
              "  0.004966254811733961,\n",
              "  0.004414367955178022,\n",
              "  0.004802847746759653,\n",
              "  -0.051908623427152634,\n",
              "  0.06311846524477005,\n",
              "  -0.0010936972685158253,\n",
              "  -0.021195773035287857,\n",
              "  0.00022061102208681405,\n",
              "  0.05818578973412514,\n",
              "  -0.06339050084352493,\n",
              "  -0.06281563639640808,\n",
              "  0.017089171335101128,\n",
              "  0.005093392450362444,\n",
              "  0.008651877753436565,\n",
              "  -0.0485178641974926,\n",
              "  0.0060390327125787735,\n",
              "  -0.005057069472968578,\n",
              "  -0.013421591371297836,\n",
              "  0.00830781739205122,\n",
              "  0.026374002918601036,\n",
              "  0.016937337815761566,\n",
              "  0.04183356463909149,\n",
              "  0.010393104515969753,\n",
              "  0.01580817438662052,\n",
              "  -0.029275937005877495,\n",
              "  0.013923920691013336,\n",
              "  0.03730993717908859,\n",
              "  -0.008904372341930866,\n",
              "  -0.02200552076101303,\n",
              "  -0.0727374330163002,\n",
              "  0.0029594015795737505,\n",
              "  -0.019407570362091064,\n",
              "  0.003291945206001401,\n",
              "  0.04764780402183533,\n",
              "  -0.0062151881866157055,\n",
              "  0.0227256640791893,\n",
              "  0.03376647084951401,\n",
              "  0.014148632064461708,\n",
              "  0.07109740376472473,\n",
              "  -0.011155211366713047,\n",
              "  -0.02346835285425186,\n",
              "  0.007648131810128689,\n",
              "  -0.056650154292583466,\n",
              "  -0.04777020961046219,\n",
              "  -0.04545847699046135,\n",
              "  0.036943256855010986,\n",
              "  -0.033016689121723175,\n",
              "  0.009621165692806244,\n",
              "  -0.05402449145913124,\n",
              "  0.008153507485985756,\n",
              "  0.0441211499273777,\n",
              "  0.01825839839875698,\n",
              "  0.006660180632025003,\n",
              "  -0.05400427430868149,\n",
              "  -0.03489399328827858,\n",
              "  -0.0477663017809391,\n",
              "  -0.027852725237607956,\n",
              "  -0.031422361731529236,\n",
              "  -0.024763673543930054,\n",
              "  0.01578136906027794,\n",
              "  0.040405575186014175,\n",
              "  0.01629566214978695,\n",
              "  -0.037602175027132034,\n",
              "  0.018977398052811623,\n",
              "  0.016056302934885025,\n",
              "  -0.02224714681506157,\n",
              "  0.010397836565971375,\n",
              "  -0.023239141330122948,\n",
              "  0.012064177542924881,\n",
              "  -0.06579241156578064,\n",
              "  -0.03850283846259117,\n",
              "  -0.053268689662218094,\n",
              "  3.839107375824824e-05,\n",
              "  -0.034947458654642105,\n",
              "  0.016140682622790337,\n",
              "  0.002902287757024169,\n",
              "  0.03669676184654236,\n",
              "  0.010257836431264877,\n",
              "  0.0076621356420218945,\n",
              "  0.024186471477150917,\n",
              "  0.00010962503438349813,\n",
              "  -0.009645026177167892,\n",
              "  -0.03356814384460449,\n",
              "  -0.006615260150283575,\n",
              "  0.03449322283267975,\n",
              "  -0.033641595393419266,\n",
              "  0.009754970669746399,\n",
              "  0.03964575007557869,\n",
              "  -0.02062985487282276,\n",
              "  0.03765636682510376,\n",
              "  -0.044391702860593796,\n",
              "  -0.03608204424381256,\n",
              "  -0.04053522273898125,\n",
              "  0.01760883629322052,\n",
              "  0.020380627363920212,\n",
              "  -0.003265371546149254,\n",
              "  -0.018033353611826897,\n",
              "  -0.019804691895842552,\n",
              "  -0.0010285546304658055,\n",
              "  -0.012073815800249577,\n",
              "  0.02494189329445362,\n",
              "  -0.002710691187530756,\n",
              "  0.017885083332657814,\n",
              "  0.02006303332746029,\n",
              "  -0.023260103538632393,\n",
              "  -0.02529682032763958,\n",
              "  0.05118582397699356,\n",
              "  -0.015334367752075195,\n",
              "  0.0005743859219364822,\n",
              "  0.023429984226822853,\n",
              "  0.0040133558213710785,\n",
              "  0.02367314323782921,\n",
              "  -0.014980295673012733,\n",
              "  0.03628773242235184,\n",
              "  0.017250051721930504,\n",
              "  0.0590311661362648,\n",
              "  -0.010625424794852734,\n",
              "  0.0012675292091444135,\n",
              "  0.023832600563764572,\n",
              "  -0.0030308053828775883,\n",
              "  0.03494184464216232,\n",
              "  -0.011603203602135181,\n",
              "  -0.02198897674679756,\n",
              "  -0.04812150448560715,\n",
              "  -0.021508442237973213,\n",
              "  0.005946474615484476,\n",
              "  0.031913984566926956,\n",
              "  0.0025775968097150326,\n",
              "  -0.0016826409846544266,\n",
              "  0.030618470162153244,\n",
              "  -0.02233019843697548,\n",
              "  -0.037615831941366196,\n",
              "  0.009455337189137936,\n",
              "  -0.03885950520634651,\n",
              "  -0.043416578322649,\n",
              "  0.046513333916664124,\n",
              "  -0.026478838175535202,\n",
              "  -0.03092890791594982,\n",
              "  -0.02774721197783947,\n",
              "  -0.032212033867836,\n",
              "  -0.007114673964679241,\n",
              "  -0.02264857292175293,\n",
              "  -0.01294681429862976,\n",
              "  -0.015027199871838093,\n",
              "  0.013996753841638565,\n",
              "  0.0016874551074579358,\n",
              "  0.04389789327979088,\n",
              "  -0.046526990830898285,\n",
              "  -0.0017472596373409033,\n",
              "  0.012531698681414127,\n",
              "  0.06968774646520615,\n",
              "  -0.03662893921136856,\n",
              "  -0.0392051562666893,\n",
              "  0.028497211635112762,\n",
              "  0.032440755516290665,\n",
              "  -0.011679391376674175,\n",
              "  -0.005409157369285822,\n",
              "  -0.012260179035365582,\n",
              "  0.012838516384363174,\n",
              "  -0.01245995331555605,\n",
              "  0.012262161821126938,\n",
              "  0.018602408468723297,\n",
              "  0.017932705581188202,\n",
              "  -0.012545815669000149,\n",
              "  0.02991192601621151,\n",
              "  -0.004296271596103907,\n",
              "  0.020620616152882576,\n",
              "  -0.0334337092936039,\n",
              "  0.02318054996430874,\n",
              "  0.010866125114262104,\n",
              "  -0.031572043895721436,\n",
              "  -0.01913435570895672,\n",
              "  -0.0025271945632994175,\n",
              "  0.03871668502688408,\n",
              "  -0.012705786153674126,\n",
              "  0.06003641337156296,\n",
              "  0.03370288386940956,\n",
              "  0.04933566600084305,\n",
              "  0.002178589813411236,\n",
              "  -0.013551311567425728,\n",
              "  -0.015624899417161942,\n",
              "  0.049861468374729156,\n",
              "  0.054501213133335114,\n",
              "  0.043770499527454376,\n",
              "  -0.026952989399433136,\n",
              "  0.03305160999298096,\n",
              "  0.04310952499508858,\n",
              "  -0.006678594276309013,\n",
              "  -0.01098295021802187,\n",
              "  -0.01549484021961689,\n",
              "  0.025934673845767975,\n",
              "  -0.029014695435762405,\n",
              "  -0.002752583008259535,\n",
              "  -0.032853346318006516,\n",
              "  0.020642895251512527,\n",
              "  -0.00635898020118475,\n",
              "  -0.04870040342211723,\n",
              "  0.0069702258333563805,\n",
              "  -0.0643974095582962,\n",
              "  -0.01096668466925621,\n",
              "  -0.03451516851782799,\n",
              "  -0.024914994835853577,\n",
              "  0.0481979176402092,\n",
              "  -0.030371464788913727,\n",
              "  0.0022301850840449333,\n",
              "  0.013280939310789108,\n",
              "  -0.029376333579421043,\n",
              "  0.02456323429942131,\n",
              "  0.03871438652276993,\n",
              "  0.024474656209349632,\n",
              "  -0.01649794541299343,\n",
              "  0.043135128915309906,\n",
              "  0.045187778770923615,\n",
              "  -0.006860833615064621,\n",
              "  0.03529983013868332,\n",
              "  0.007393203675746918,\n",
              "  0.023100469261407852,\n",
              "  -0.03555992990732193,\n",
              "  0.04238519072532654,\n",
              "  0.024692682549357414,\n",
              "  -0.022207239642739296,\n",
              "  -0.02312628924846649,\n",
              "  -0.003409003373235464,\n",
              "  -0.052650708705186844,\n",
              "  0.024526942521333694,\n",
              "  -0.011116591282188892,\n",
              "  0.004355230834335089,\n",
              "  0.03844742476940155,\n",
              "  -0.06677129864692688,\n",
              "  0.006617899518460035,\n",
              "  -0.04702536016702652,\n",
              "  0.048535462468862534,\n",
              "  -0.0310860313475132,\n",
              "  0.006532648578286171,\n",
              "  0.037452179938554764,\n",
              "  -0.02424437925219536,\n",
              "  -0.03418862074613571,\n",
              "  0.05171750485897064,\n",
              "  -0.018556302413344383,\n",
              "  0.024283302947878838,\n",
              "  0.005981731694191694,\n",
              "  0.0608205571770668,\n",
              "  -0.010610959492623806,\n",
              "  0.042783066630363464,\n",
              "  0.059477951377630234,\n",
              "  -0.030819086357951164,\n",
              "  -0.008900237269699574,\n",
              "  0.0044793784618377686,\n",
              "  -0.04140763357281685,\n",
              "  -0.010395561344921589,\n",
              "  -0.009579713456332684,\n",
              "  -0.044759705662727356,\n",
              "  -0.005243491381406784,\n",
              "  -0.009874790906906128,\n",
              "  0.009616000577807426,\n",
              "  -0.004149410407990217,\n",
              "  0.03865887597203255,\n",
              "  0.010817425325512886,\n",
              "  -0.03561527654528618,\n",
              "  0.015631064772605896,\n",
              "  0.024292681366205215,\n",
              "  -0.05470910668373108,\n",
              "  0.008068331517279148,\n",
              "  -0.011752533726394176,\n",
              "  0.05801914259791374,\n",
              "  -0.026874184608459473,\n",
              "  -0.016284560784697533,\n",
              "  -0.02371453307569027,\n",
              "  -0.036439795047044754,\n",
              "  -0.001108895055949688,\n",
              "  -0.08736753463745117,\n",
              "  0.03363288938999176,\n",
              "  0.01269451156258583,\n",
              "  -0.027943914756178856,\n",
              "  -0.04876767098903656,\n",
              "  -0.04148231819272041,\n",
              "  -0.012119344435632229,\n",
              "  0.016436222940683365,\n",
              "  -0.023727765306830406,\n",
              "  -0.033114735037088394,\n",
              "  0.046553127467632294,\n",
              "  0.0489996001124382,\n",
              "  0.0069891298189759254,\n",
              "  0.022565197199583054,\n",
              "  -0.021995047107338905,\n",
              "  -0.006187915336340666,\n",
              "  0.054140593856573105,\n",
              "  0.0735153928399086,\n",
              "  0.0010582988616079092,\n",
              "  0.018771028146147728,\n",
              "  0.00934646651148796,\n",
              "  0.0008482153061777353,\n",
              "  0.01782628521323204,\n",
              "  -0.023286812007427216,\n",
              "  0.019201593473553658,\n",
              "  -0.019647682085633278,\n",
              "  -0.019119571894407272,\n",
              "  -0.031488820910453796,\n",
              "  0.013444360345602036,\n",
              "  -0.03317979350686073,\n",
              "  -0.07516944408416748,\n",
              "  0.026744939386844635,\n",
              "  0.032668717205524445,\n",
              "  -0.003896009409800172,\n",
              "  -0.013561471365392208,\n",
              "  -0.05540083348751068,\n",
              "  0.005794812459498644,\n",
              "  -0.06004350632429123,\n",
              "  -0.005345627199858427,\n",
              "  -0.06290443241596222,\n",
              "  0.011387060396373272,\n",
              "  -0.0035967824514955282,\n",
              "  -0.019281422719359398,\n",
              "  0.0076239281333982944,\n",
              "  -0.07454808056354523,\n",
              "  0.1361061930656433,\n",
              "  0.059150971472263336,\n",
              "  0.02073889970779419,\n",
              "  -0.005531086586415768,\n",
              "  0.024482209235429764,\n",
              "  0.08073807507753372,\n",
              "  0.0033956931438297033,\n",
              "  -0.02479568123817444,\n",
              "  -0.011077236384153366,\n",
              "  -0.03198392316699028,\n",
              "  0.03695783391594887,\n",
              "  -0.0023884570691734552,\n",
              "  0.02007821574807167,\n",
              "  0.008800406008958817,\n",
              "  0.010557541623711586,\n",
              "  0.06805381923913956,\n",
              "  -0.03699624538421631,\n",
              "  -0.014284078031778336,\n",
              "  0.012835987843573093,\n",
              "  -0.03526756167411804,\n",
              "  -0.05063638091087341,\n",
              "  0.022239286452531815,\n",
              "  0.0019418912706896663,\n",
              "  0.028720086440443993,\n",
              "  0.0020275162532925606,\n",
              "  0.004523699637502432,\n",
              "  0.03354277089238167,\n",
              "  -0.03196024149656296,\n",
              "  -0.009813902899622917,\n",
              "  -0.023428678512573242,\n",
              "  0.04018964245915413,\n",
              "  -0.011713646352291107,\n",
              "  0.07308194041252136,\n",
              "  -0.021423589438199997,\n",
              "  -0.03115772269666195,\n",
              "  0.030527906492352486,\n",
              "  -0.01812240667641163,\n",
              "  -0.038584377616643906,\n",
              "  0.03197353705763817,\n",
              "  0.008343899622559547,\n",
              "  -0.04637064412236214,\n",
              "  0.010601287707686424,\n",
              "  0.026784487068653107,\n",
              "  -0.036248963326215744,\n",
              "  0.009606664068996906,\n",
              "  0.01920262910425663,\n",
              "  -0.021988851949572563,\n",
              "  0.013774339109659195,\n",
              "  0.019434090703725815,\n",
              "  -0.046478092670440674,\n",
              "  0.04844332113862038,\n",
              "  -0.04283678159117699,\n",
              "  0.012774554081261158,\n",
              "  -0.03819951415061951,\n",
              "  -0.03584199771285057,\n",
              "  0.027048010379076004,\n",
              "  0.01029192190617323,\n",
              "  -0.028360139578580856,\n",
              "  -0.025730393826961517,\n",
              "  0.0018843243597075343,\n",
              "  0.012183459475636482,\n",
              "  0.004503380507230759,\n",
              "  0.0027046857867389917,\n",
              "  0.005599114578217268,\n",
              "  -0.03514372184872627,\n",
              "  0.007283498533070087,\n",
              "  0.03666624054312706,\n",
              "  0.04609145224094391,\n",
              "  0.011026376858353615,\n",
              "  -0.006653657648712397,\n",
              "  -0.012924830429255962,\n",
              "  ...],\n",
              " [-0.011408045887947083,\n",
              "  0.0019434633431956172,\n",
              "  -0.0036662532947957516,\n",
              "  -0.005580938421189785,\n",
              "  -0.02215116284787655,\n",
              "  -0.03019973449409008,\n",
              "  -0.023337697610259056,\n",
              "  0.032326534390449524,\n",
              "  0.007436561398208141,\n",
              "  0.02497386559844017,\n",
              "  0.02508305013179779,\n",
              "  2.7678281185217202e-05,\n",
              "  0.029692400246858597,\n",
              "  -0.035847004503011703,\n",
              "  -0.006339616142213345,\n",
              "  -0.014449387788772583,\n",
              "  -0.001960465218871832,\n",
              "  -0.026877842843532562,\n",
              "  -0.009455184452235699,\n",
              "  0.0064976029098033905,\n",
              "  -7.032672147033736e-05,\n",
              "  0.01734170690178871,\n",
              "  -0.06754155457019806,\n",
              "  -0.022188298404216766,\n",
              "  0.006179061718285084,\n",
              "  0.040556471794843674,\n",
              "  0.0008246733923442662,\n",
              "  -0.010515565052628517,\n",
              "  0.0752793624997139,\n",
              "  0.033532291650772095,\n",
              "  -0.013036483898758888,\n",
              "  -0.004565738141536713,\n",
              "  0.03963440656661987,\n",
              "  -0.04419369250535965,\n",
              "  -0.019495494663715363,\n",
              "  -0.007157288026064634,\n",
              "  0.06375415623188019,\n",
              "  -0.03311203420162201,\n",
              "  -0.02702818252146244,\n",
              "  -0.04943013936281204,\n",
              "  0.013398643583059311,\n",
              "  -0.0014551396016031504,\n",
              "  0.04366932436823845,\n",
              "  -0.022513248026371002,\n",
              "  -0.040672339498996735,\n",
              "  -0.014091715216636658,\n",
              "  -0.038288965821266174,\n",
              "  -0.00024993205443024635,\n",
              "  0.0023679062724113464,\n",
              "  -0.036610543727874756,\n",
              "  0.012087788432836533,\n",
              "  -0.00948152132332325,\n",
              "  0.02716713212430477,\n",
              "  0.01643451116979122,\n",
              "  -0.010184159502387047,\n",
              "  -0.026928991079330444,\n",
              "  -0.002906197216361761,\n",
              "  -0.03445381671190262,\n",
              "  -0.037353258579969406,\n",
              "  0.05269822105765343,\n",
              "  0.010447428561747074,\n",
              "  -0.01979059912264347,\n",
              "  0.03975806385278702,\n",
              "  -0.05042272061109543,\n",
              "  0.021252034232020378,\n",
              "  0.019526271149516106,\n",
              "  0.014764049090445042,\n",
              "  -0.003947545774281025,\n",
              "  -0.006226574536412954,\n",
              "  -0.01732669398188591,\n",
              "  -0.027249470353126526,\n",
              "  -0.0009926268830895424,\n",
              "  -0.010148233734071255,\n",
              "  -0.002081058919429779,\n",
              "  0.023579595610499382,\n",
              "  0.00767186563462019,\n",
              "  -0.004360773600637913,\n",
              "  -0.008565232157707214,\n",
              "  -0.01875598542392254,\n",
              "  0.029780380427837372,\n",
              "  0.005432788748294115,\n",
              "  0.06123591214418411,\n",
              "  0.014980921521782875,\n",
              "  0.008314878679811954,\n",
              "  -0.02768191695213318,\n",
              "  -0.02050897106528282,\n",
              "  0.0056979237124323845,\n",
              "  0.014205836690962315,\n",
              "  0.0003154079313389957,\n",
              "  0.00482232216745615,\n",
              "  -0.01628357544541359,\n",
              "  0.05782720074057579,\n",
              "  -0.012809276580810547,\n",
              "  -0.004541039001196623,\n",
              "  0.03978921100497246,\n",
              "  0.045296791940927505,\n",
              "  -0.0609295628964901,\n",
              "  0.04238260164856911,\n",
              "  -0.01606934145092964,\n",
              "  -0.00020626089826691896,\n",
              "  0.046555109322071075,\n",
              "  0.04544850438833237,\n",
              "  0.01517851185053587,\n",
              "  0.03951888158917427,\n",
              "  -0.028809836134314537,\n",
              "  -0.00649358332157135,\n",
              "  0.035026032477617264,\n",
              "  -0.018908830359578133,\n",
              "  -0.013173927552998066,\n",
              "  -0.03810612112283707,\n",
              "  0.025586163625121117,\n",
              "  -0.018486429005861282,\n",
              "  -0.006600408814847469,\n",
              "  -0.006264995783567429,\n",
              "  0.02079838514328003,\n",
              "  0.036532990634441376,\n",
              "  0.0028585444670170546,\n",
              "  0.04923680052161217,\n",
              "  -0.01863553188741207,\n",
              "  -0.017604593187570572,\n",
              "  -0.00515911215916276,\n",
              "  0.018579093739390373,\n",
              "  0.05164341628551483,\n",
              "  -0.038082294166088104,\n",
              "  0.00014457326324190944,\n",
              "  -0.030220821499824524,\n",
              "  -0.0027450346387922764,\n",
              "  0.05044524371623993,\n",
              "  -0.02443484403192997,\n",
              "  -0.017552437260746956,\n",
              "  0.016693543642759323,\n",
              "  -0.03322742506861687,\n",
              "  -0.010969982482492924,\n",
              "  0.016559241339564323,\n",
              "  -0.012542185373604298,\n",
              "  0.039907459169626236,\n",
              "  0.00799617636948824,\n",
              "  0.014264821074903011,\n",
              "  0.01926029846072197,\n",
              "  -0.030423825606703758,\n",
              "  0.020123247057199478,\n",
              "  0.031942643225193024,\n",
              "  -0.010376675985753536,\n",
              "  0.09832973033189774,\n",
              "  -0.006015492603182793,\n",
              "  0.04680667072534561,\n",
              "  0.009126966819167137,\n",
              "  0.0026786511298269033,\n",
              "  -0.04225997254252434,\n",
              "  0.03332439437508583,\n",
              "  -0.032851092517375946,\n",
              "  -0.013908719643950462,\n",
              "  -0.0076204403303563595,\n",
              "  0.04055679216980934,\n",
              "  0.00841644499450922,\n",
              "  0.010739096440374851,\n",
              "  -0.012541764415800571,\n",
              "  0.006498967297375202,\n",
              "  0.02950335666537285,\n",
              "  0.0365091934800148,\n",
              "  0.00047565391287207603,\n",
              "  -0.011241094209253788,\n",
              "  -0.0037548355758190155,\n",
              "  0.05391014367341995,\n",
              "  -0.029524065554142,\n",
              "  0.0893431007862091,\n",
              "  -0.03036971017718315,\n",
              "  -0.0011032125912606716,\n",
              "  0.006714460905641317,\n",
              "  -0.02659519761800766,\n",
              "  0.03988634794950485,\n",
              "  -0.005221113096922636,\n",
              "  -0.009843716397881508,\n",
              "  0.03625520318746567,\n",
              "  0.0034249192103743553,\n",
              "  0.02594584785401821,\n",
              "  0.026410700753331184,\n",
              "  0.0007700293208472431,\n",
              "  0.0620754137635231,\n",
              "  0.031740132719278336,\n",
              "  -0.011600881814956665,\n",
              "  0.03597959876060486,\n",
              "  0.03730611875653267,\n",
              "  0.08681750297546387,\n",
              "  0.008643606677651405,\n",
              "  0.007795675192028284,\n",
              "  -0.00043832979281432927,\n",
              "  -0.03523516282439232,\n",
              "  -0.04624618962407112,\n",
              "  -0.0283425934612751,\n",
              "  0.014228429645299911,\n",
              "  0.04777725413441658,\n",
              "  -0.014338457956910133,\n",
              "  0.00289326929487288,\n",
              "  -0.0050612702034413815,\n",
              "  -0.008290784433484077,\n",
              "  -0.024410083889961243,\n",
              "  -0.01863119937479496,\n",
              "  -0.00920160673558712,\n",
              "  -0.08345519006252289,\n",
              "  -0.010872982442378998,\n",
              "  0.04308851808309555,\n",
              "  -0.017560740932822227,\n",
              "  0.034161608666181564,\n",
              "  -0.007796477526426315,\n",
              "  -0.01190116722136736,\n",
              "  0.020434843376278877,\n",
              "  0.07354169338941574,\n",
              "  -0.02786623314023018,\n",
              "  -0.024611014872789383,\n",
              "  0.04363527521491051,\n",
              "  0.002929776906967163,\n",
              "  -0.032333262264728546,\n",
              "  -0.012300047092139721,\n",
              "  0.002270621946081519,\n",
              "  -0.002861541695892811,\n",
              "  -0.02920365147292614,\n",
              "  0.06517763435840607,\n",
              "  -0.016829172149300575,\n",
              "  -0.002900471678003669,\n",
              "  0.004682192113250494,\n",
              "  0.036345742642879486,\n",
              "  0.008495158515870571,\n",
              "  0.04457226023077965,\n",
              "  -0.01806548982858658,\n",
              "  0.009867269545793533,\n",
              "  0.012287789024412632,\n",
              "  0.024321869015693665,\n",
              "  -0.021086955443024635,\n",
              "  -0.03982114419341087,\n",
              "  -0.0203924048691988,\n",
              "  0.04463272541761398,\n",
              "  -0.0018064846517518163,\n",
              "  0.05066588521003723,\n",
              "  0.024602845311164856,\n",
              "  0.00593548733741045,\n",
              "  0.0424344576895237,\n",
              "  0.03498990833759308,\n",
              "  -0.020947661250829697,\n",
              "  0.03986065834760666,\n",
              "  -0.0292272437363863,\n",
              "  0.03031894564628601,\n",
              "  0.026277057826519012,\n",
              "  0.0172662865370512,\n",
              "  0.018782733008265495,\n",
              "  0.03782296180725098,\n",
              "  -0.007739626802504063,\n",
              "  0.01571139320731163,\n",
              "  -0.041465308517217636,\n",
              "  0.0245448499917984,\n",
              "  -0.018957361578941345,\n",
              "  0.04881289601325989,\n",
              "  0.008190571330487728,\n",
              "  0.04122130572795868,\n",
              "  -0.03940514847636223,\n",
              "  -0.00278476788662374,\n",
              "  0.07127214223146439,\n",
              "  0.0587405301630497,\n",
              "  -0.05461050197482109,\n",
              "  -0.00853399932384491,\n",
              "  -0.010519206523895264,\n",
              "  0.026259716600179672,\n",
              "  -0.01684470660984516,\n",
              "  0.028875134885311127,\n",
              "  0.029758725315332413,\n",
              "  -0.01642557606101036,\n",
              "  -0.001409810152836144,\n",
              "  -0.01917450502514839,\n",
              "  -0.008672958239912987,\n",
              "  -0.02373918518424034,\n",
              "  -0.04161730408668518,\n",
              "  -0.042596083134412766,\n",
              "  -0.057429518550634384,\n",
              "  -0.030729269608855247,\n",
              "  -0.03974391520023346,\n",
              "  -0.019185880199074745,\n",
              "  0.048509664833545685,\n",
              "  -0.04912806674838066,\n",
              "  0.030430808663368225,\n",
              "  -0.0018530760426074266,\n",
              "  0.008620223961770535,\n",
              "  -0.042749904096126556,\n",
              "  -0.025427967309951782,\n",
              "  0.039177920669317245,\n",
              "  0.04237379506230354,\n",
              "  0.060133613646030426,\n",
              "  -0.03965334966778755,\n",
              "  0.02190062403678894,\n",
              "  0.0031454667914658785,\n",
              "  0.02619156427681446,\n",
              "  -0.05795484781265259,\n",
              "  -0.01877407170832157,\n",
              "  0.0013685746816918254,\n",
              "  0.0010759661672636867,\n",
              "  0.045051950961351395,\n",
              "  0.005616828333586454,\n",
              "  0.006426900625228882,\n",
              "  -0.009339649230241776,\n",
              "  -0.028059083968400955,\n",
              "  -0.04011666402220726,\n",
              "  -0.010837707668542862,\n",
              "  0.011001966893672943,\n",
              "  -0.022105349227786064,\n",
              "  -0.001975999679416418,\n",
              "  -0.05056455358862877,\n",
              "  0.031604375690221786,\n",
              "  0.057179227471351624,\n",
              "  -0.01511735562235117,\n",
              "  0.05539825186133385,\n",
              "  0.02750234119594097,\n",
              "  -0.017432475462555885,\n",
              "  0.03855490684509277,\n",
              "  0.012124321423470974,\n",
              "  0.028386639431118965,\n",
              "  -0.050285253673791885,\n",
              "  0.05091169476509094,\n",
              "  0.05101209878921509,\n",
              "  0.003946338780224323,\n",
              "  -0.047096263617277145,\n",
              "  -0.02956143394112587,\n",
              "  -0.03906307369470596,\n",
              "  0.031189825385808945,\n",
              "  0.00511489761993289,\n",
              "  -0.025447966530919075,\n",
              "  -0.026426251977682114,\n",
              "  0.0012241811491549015,\n",
              "  0.050573572516441345,\n",
              "  -0.07451389729976654,\n",
              "  0.029752641916275024,\n",
              "  -0.04878464713692665,\n",
              "  -0.031087901443243027,\n",
              "  -0.03596028313040733,\n",
              "  -0.030802275985479355,\n",
              "  -9.568658424541354e-05,\n",
              "  0.0028689403552562,\n",
              "  0.031115632504224777,\n",
              "  0.009127872996032238,\n",
              "  -0.03118811920285225,\n",
              "  -0.009459528140723705,\n",
              "  -0.011065710335969925,\n",
              "  0.036511193960905075,\n",
              "  -0.02515203319489956,\n",
              "  0.02744406647980213,\n",
              "  0.035771697759628296,\n",
              "  -0.014386957511305809,\n",
              "  0.006020467262715101,\n",
              "  0.03256819397211075,\n",
              "  -0.005080500617623329,\n",
              "  0.020634764805436134,\n",
              "  0.011310020461678505,\n",
              "  -0.00688285892829299,\n",
              "  -0.002339279744774103,\n",
              "  0.01833747699856758,\n",
              "  0.01991637796163559,\n",
              "  0.018968641757965088,\n",
              "  0.06669815629720688,\n",
              "  -0.03118649311363697,\n",
              "  0.009974553249776363,\n",
              "  -0.0016980798682197928,\n",
              "  0.016190167516469955,\n",
              "  0.017546184360980988,\n",
              "  0.00044337284634821117,\n",
              "  0.015065345913171768,\n",
              "  -0.033810220658779144,\n",
              "  -0.039093587547540665,\n",
              "  -0.04132314771413803,\n",
              "  0.004896463360637426,\n",
              "  0.020763356238603592,\n",
              "  0.043172869831323624,\n",
              "  -0.05775217339396477,\n",
              "  0.03915887698531151,\n",
              "  0.0007787359063513577,\n",
              "  -0.043794307857751846,\n",
              "  0.03799056634306908,\n",
              "  -0.04947115480899811,\n",
              "  0.02535800077021122,\n",
              "  0.038506507873535156,\n",
              "  -0.029743250459432602,\n",
              "  0.04570593312382698,\n",
              "  -0.03935347497463226,\n",
              "  0.0005434668273665011,\n",
              "  -0.009188922122120857,\n",
              "  0.03486752510070801,\n",
              "  0.048772044479846954,\n",
              "  -0.006629650481045246,\n",
              "  0.04178809002041817,\n",
              "  -0.027842598035931587,\n",
              "  -0.01981434039771557,\n",
              "  -0.0058914185501635075,\n",
              "  -0.022057265043258667,\n",
              "  -0.007901882752776146,\n",
              "  -0.019367126747965813,\n",
              "  0.006930400151759386,\n",
              "  -0.0037401258014142513,\n",
              "  -0.033352017402648926,\n",
              "  -0.08544266223907471,\n",
              "  0.03647730126976967,\n",
              "  0.04202776029706001,\n",
              "  0.038040924817323685,\n",
              "  -0.01742132380604744,\n",
              "  0.038416847586631775,\n",
              "  0.014294857159256935,\n",
              "  0.04169243574142456,\n",
              "  0.03088202327489853,\n",
              "  -0.03841707482933998,\n",
              "  -0.0073151970282197,\n",
              "  -0.036151111125946045,\n",
              "  0.06477931886911392,\n",
              "  0.026852374896407127,\n",
              "  -0.003526949090883136,\n",
              "  0.0046891625970602036,\n",
              "  -0.022593412548303604,\n",
              "  -0.02051604725420475,\n",
              "  0.04459114745259285,\n",
              "  -0.01326222438365221,\n",
              "  -0.004110882990062237,\n",
              "  -0.02216941863298416,\n",
              "  0.007324254140257835,\n",
              "  -0.02121991291642189,\n",
              "  0.013699190691113472,\n",
              "  -0.028164533898234367,\n",
              "  -0.0275211650878191,\n",
              "  -0.033398065716028214,\n",
              "  0.02830478921532631,\n",
              "  0.027746053412556648,\n",
              "  -0.02945287525653839,\n",
              "  0.012421445921063423,\n",
              "  -0.045246422290802,\n",
              "  0.04780606925487518,\n",
              "  0.018496938049793243,\n",
              "  0.0033790324814617634,\n",
              "  -0.03899499028921127,\n",
              "  -0.022875230759382248,\n",
              "  -0.02818256802856922,\n",
              "  -0.024527374655008316,\n",
              "  -0.01414561178535223,\n",
              "  0.02528548054397106,\n",
              "  -0.01597803644835949,\n",
              "  0.006037273909896612,\n",
              "  -0.049314841628074646,\n",
              "  0.0425434410572052,\n",
              "  0.00404147757217288,\n",
              "  -0.01044030673801899,\n",
              "  -0.00798170268535614,\n",
              "  -0.0032955352216959,\n",
              "  0.009485806338489056,\n",
              "  -0.006174270994961262,\n",
              "  0.03845704346895218,\n",
              "  -0.015407114289700985,\n",
              "  -0.02799994871020317,\n",
              "  0.02855982817709446,\n",
              "  -0.05313317850232124,\n",
              "  0.005485129542648792,\n",
              "  0.005206144880503416,\n",
              "  -0.03942140191793442,\n",
              "  -0.0021942344028502703,\n",
              "  0.03336646407842636,\n",
              "  0.029147258028388023,\n",
              "  0.04336929693818092,\n",
              "  -0.012710556387901306,\n",
              "  0.0012083344627171755,\n",
              "  0.006287905387580395,\n",
              "  0.02274801954627037,\n",
              "  -0.05461334437131882,\n",
              "  -0.060597553849220276,\n",
              "  0.04355844110250473,\n",
              "  -0.013594641350209713,\n",
              "  -0.03342025727033615,\n",
              "  0.04668841511011124,\n",
              "  0.029728306457400322,\n",
              "  -0.02798369713127613,\n",
              "  0.009401845745742321,\n",
              "  0.010688317008316517,\n",
              "  -0.03560028597712517,\n",
              "  0.0365135557949543,\n",
              "  -0.05870162323117256,\n",
              "  0.001545472303405404,\n",
              "  -0.02149292640388012,\n",
              "  -0.03504269942641258,\n",
              "  0.0141887366771698,\n",
              "  -0.04362954944372177,\n",
              "  0.04801482707262039,\n",
              "  0.009845677763223648,\n",
              "  -0.02342376857995987,\n",
              "  -0.016312170773744583,\n",
              "  -0.05032255873084068,\n",
              "  -0.024120433256030083,\n",
              "  -0.00448398245498538,\n",
              "  -0.02242748625576496,\n",
              "  0.014398934319615364,\n",
              "  0.004873849917203188,\n",
              "  -0.025763414800167084,\n",
              "  -0.004784692544490099,\n",
              "  -0.011649476364254951,\n",
              "  -0.005386917386204004,\n",
              "  0.014413226395845413,\n",
              "  -0.03446539118885994,\n",
              "  -0.004544174298644066,\n",
              "  0.029276376590132713,\n",
              "  -0.0037714028730988503,\n",
              "  0.005318332463502884,\n",
              "  0.013443296775221825,\n",
              "  -0.04017888382077217,\n",
              "  -0.0008371974108740687,\n",
              "  -0.0062572164461016655,\n",
              "  -0.0035515902563929558,\n",
              "  -0.06161642074584961,\n",
              "  0.034851688891649246,\n",
              "  -0.025797054171562195,\n",
              "  0.007991768419742584,\n",
              "  -0.042272355407476425,\n",
              "  0.003835872048512101,\n",
              "  -0.0232352614402771,\n",
              "  0.007051595486700535,\n",
              "  0.02208428457379341,\n",
              "  0.0220439862459898,\n",
              "  0.006620452273637056,\n",
              "  0.0090170344337821,\n",
              "  -0.032393720000982285,\n",
              "  0.05164564400911331,\n",
              "  0.032738056033849716,\n",
              "  -0.04499151557683945,\n",
              "  -0.004989827051758766,\n",
              "  0.007599290460348129,\n",
              "  -0.0006159751792438328,\n",
              "  0.022778473794460297,\n",
              "  0.03015274927020073,\n",
              "  -0.03923724964261055,\n",
              "  -0.04695723205804825,\n",
              "  -0.0511222742497921,\n",
              "  0.019132185727357864,\n",
              "  -0.04327632114291191,\n",
              "  -0.03379891440272331,\n",
              "  -0.0584988072514534,\n",
              "  -0.04388679563999176,\n",
              "  -0.028615377843379974,\n",
              "  0.05132855847477913,\n",
              "  0.010911543853580952,\n",
              "  -0.03229176253080368,\n",
              "  -0.011422292329370975,\n",
              "  -0.05280860885977745,\n",
              "  0.01521324086934328,\n",
              "  -0.037365540862083435,\n",
              "  -0.017089737579226494,\n",
              "  -0.030065642669796944,\n",
              "  -0.02214142680168152,\n",
              "  0.001918313093483448,\n",
              "  0.05779702588915825,\n",
              "  -0.0016746827168390155,\n",
              "  0.01788560301065445,\n",
              "  0.04573587328195572,\n",
              "  0.009584440849721432,\n",
              "  0.01469157449901104,\n",
              "  0.002608241280540824,\n",
              "  -0.05880996584892273,\n",
              "  -0.021054236218333244,\n",
              "  0.030740885064005852,\n",
              "  0.002195254433900118,\n",
              "  -0.0279783234000206,\n",
              "  0.010623537935316563,\n",
              "  -0.06861037015914917,\n",
              "  0.05934305116534233,\n",
              "  -0.04510510340332985,\n",
              "  -0.012636609375476837,\n",
              "  -0.0015120991738513112,\n",
              "  6.700135418213904e-05,\n",
              "  0.012749651446938515,\n",
              "  0.007970704697072506,\n",
              "  0.04574068263173103,\n",
              "  -0.054919783025979996,\n",
              "  0.02729536034166813,\n",
              "  -0.032142460346221924,\n",
              "  0.05049088969826698,\n",
              "  0.01147659495472908,\n",
              "  0.005032004322856665,\n",
              "  -0.027488457038998604,\n",
              "  -0.01775364950299263,\n",
              "  -0.05169017240405083,\n",
              "  -0.057256873697042465,\n",
              "  0.016840945929288864,\n",
              "  -0.04285205528140068,\n",
              "  -0.03173215687274933,\n",
              "  -0.045268215239048004,\n",
              "  -0.004301681648939848,\n",
              "  0.03394833207130432,\n",
              "  -0.060704007744789124,\n",
              "  0.049745868891477585,\n",
              "  0.0607244037091732,\n",
              "  0.010480154305696487,\n",
              "  -0.024074619635939598,\n",
              "  -0.013726368546485901,\n",
              "  0.019955307245254517,\n",
              "  0.030659671872854233,\n",
              "  -0.053394995629787445,\n",
              "  -0.028053980320692062,\n",
              "  -0.01058617141097784,\n",
              "  -0.022009382024407387,\n",
              "  0.0037395742256194353,\n",
              "  -0.036179784685373306,\n",
              "  -0.020363710820674896,\n",
              "  -0.04866238310933113,\n",
              "  0.010766956023871899,\n",
              "  0.0753764659166336,\n",
              "  -0.026481585577130318,\n",
              "  0.040351253002882004,\n",
              "  0.009223553352057934,\n",
              "  -0.05449536070227623,\n",
              "  -0.042772501707077026,\n",
              "  0.045586757361888885,\n",
              "  0.012796033173799515,\n",
              "  0.01550311129540205,\n",
              "  0.036758095026016235,\n",
              "  -0.03151820972561836,\n",
              "  -0.00959513895213604,\n",
              "  0.015168559737503529,\n",
              "  0.002982616890221834,\n",
              "  0.02051675133407116,\n",
              "  -0.047532860189676285,\n",
              "  0.06041174381971359,\n",
              "  -0.0010700970888137817,\n",
              "  -0.02206364832818508,\n",
              "  0.014655513688921928,\n",
              "  0.0631822943687439,\n",
              "  -0.072369784116745,\n",
              "  -0.05684513971209526,\n",
              "  0.01804768107831478,\n",
              "  0.002062462968751788,\n",
              "  0.01628260686993599,\n",
              "  -0.04505610093474388,\n",
              "  0.014138086698949337,\n",
              "  0.003334691282361746,\n",
              "  -0.020358165726065636,\n",
              "  0.015485563315451145,\n",
              "  0.02239426225423813,\n",
              "  0.02526680752635002,\n",
              "  0.03794890642166138,\n",
              "  0.0030354787595570087,\n",
              "  0.022524885833263397,\n",
              "  -0.02987710013985634,\n",
              "  0.03768356889486313,\n",
              "  0.03862828016281128,\n",
              "  -0.012603621929883957,\n",
              "  -0.040104400366544724,\n",
              "  -0.06444491446018219,\n",
              "  -0.0029300388414412737,\n",
              "  -0.011771973222494125,\n",
              "  0.008616543374955654,\n",
              "  0.04783704876899719,\n",
              "  0.0023493694607168436,\n",
              "  0.02782454900443554,\n",
              "  0.03589366748929024,\n",
              "  0.01683395728468895,\n",
              "  0.07895097881555557,\n",
              "  -0.012560476548969746,\n",
              "  -0.0135781429708004,\n",
              "  0.004652205854654312,\n",
              "  -0.05772772431373596,\n",
              "  -0.05016210675239563,\n",
              "  -0.04100006818771362,\n",
              "  0.03698289766907692,\n",
              "  -0.03387827053666115,\n",
              "  0.021606801077723503,\n",
              "  -0.051148563623428345,\n",
              "  0.009557516314089298,\n",
              "  0.04678269103169441,\n",
              "  0.033841412514448166,\n",
              "  0.013973169028759003,\n",
              "  -0.05839933454990387,\n",
              "  -0.03979463130235672,\n",
              "  -0.04277530685067177,\n",
              "  -0.019016001373529434,\n",
              "  -0.019294168800115585,\n",
              "  -0.013948339968919754,\n",
              "  0.007241330109536648,\n",
              "  0.028331441804766655,\n",
              "  0.016168296337127686,\n",
              "  -0.03922882676124573,\n",
              "  0.0076821669936180115,\n",
              "  0.015488379634916782,\n",
              "  -0.01756010390818119,\n",
              "  0.017146756872534752,\n",
              "  -0.03319835662841797,\n",
              "  0.010866865515708923,\n",
              "  -0.06412946432828903,\n",
              "  -0.04033324122428894,\n",
              "  -0.05293087288737297,\n",
              "  -0.002922272076830268,\n",
              "  -0.01901032216846943,\n",
              "  0.009714451618492603,\n",
              "  0.01753474399447441,\n",
              "  0.024303290992975235,\n",
              "  0.00157026422675699,\n",
              "  0.003907316830009222,\n",
              "  0.01734251156449318,\n",
              "  0.01656595803797245,\n",
              "  -0.0036221896298229694,\n",
              "  -0.031215542927384377,\n",
              "  -0.0011887198779731989,\n",
              "  0.040201425552368164,\n",
              "  -0.036326006054878235,\n",
              "  0.020062824711203575,\n",
              "  0.03619743511080742,\n",
              "  -0.013231905177235603,\n",
              "  0.03270640969276428,\n",
              "  -0.043755438178777695,\n",
              "  -0.037276893854141235,\n",
              "  -0.03099803626537323,\n",
              "  0.015697043389081955,\n",
              "  0.016410568729043007,\n",
              "  0.009336935356259346,\n",
              "  -0.012157970108091831,\n",
              "  -0.02245173789560795,\n",
              "  0.002075046068057418,\n",
              "  -0.0025319410488009453,\n",
              "  0.02576679177582264,\n",
              "  0.002548500429838896,\n",
              "  0.018831344321370125,\n",
              "  0.029067691415548325,\n",
              "  -0.004738312214612961,\n",
              "  -0.011062456294894218,\n",
              "  0.0527033656835556,\n",
              "  -0.016861408948898315,\n",
              "  0.0009384927107021213,\n",
              "  0.020865311846137047,\n",
              "  0.017364775761961937,\n",
              "  0.017756063491106033,\n",
              "  -0.03378111124038696,\n",
              "  0.03229321539402008,\n",
              "  0.03011625073850155,\n",
              "  0.06192689761519432,\n",
              "  -0.01026300061494112,\n",
              "  0.008666858077049255,\n",
              "  0.011198161169886589,\n",
              "  0.0015282805543392897,\n",
              "  0.025013143196702003,\n",
              "  -0.015710148960351944,\n",
              "  -0.03223410248756409,\n",
              "  -0.049893755465745926,\n",
              "  -0.03247566521167755,\n",
              "  0.012691291980445385,\n",
              "  0.0371750108897686,\n",
              "  0.002673549111932516,\n",
              "  -0.021328499540686607,\n",
              "  0.0254609826952219,\n",
              "  -0.013926037587225437,\n",
              "  -0.03843150660395622,\n",
              "  0.003341715084388852,\n",
              "  -0.04378906637430191,\n",
              "  -0.058807794004678726,\n",
              "  0.050186675041913986,\n",
              "  -0.02908882312476635,\n",
              "  -0.026168987154960632,\n",
              "  -0.04155765473842621,\n",
              "  -0.02624497190117836,\n",
              "  0.005615700036287308,\n",
              "  -0.021330785006284714,\n",
              "  -0.0140755670145154,\n",
              "  -0.01267950888723135,\n",
              "  -0.007149792276322842,\n",
              "  0.0037849610671401024,\n",
              "  0.03437186777591705,\n",
              "  -0.040517039597034454,\n",
              "  0.0016970849828794599,\n",
              "  0.006092700641602278,\n",
              "  0.06832712888717651,\n",
              "  -0.040379878133535385,\n",
              "  -0.04281982034444809,\n",
              "  0.03304269537329674,\n",
              "  0.04335572570562363,\n",
              "  0.002609396819025278,\n",
              "  -0.02153044193983078,\n",
              "  -0.02493736706674099,\n",
              "  0.002505628392100334,\n",
              "  -0.005495824385434389,\n",
              "  0.011670343577861786,\n",
              "  0.01997649483382702,\n",
              "  0.006833188701421022,\n",
              "  -0.006023152731359005,\n",
              "  0.0215752050280571,\n",
              "  -0.0083854915574193,\n",
              "  0.027999509125947952,\n",
              "  -0.026869583874940872,\n",
              "  0.010739414021372795,\n",
              "  0.01870262436568737,\n",
              "  -0.0152351763099432,\n",
              "  -0.023118004202842712,\n",
              "  -0.0015502286842092872,\n",
              "  0.0352148711681366,\n",
              "  -0.014878232032060623,\n",
              "  0.06054109334945679,\n",
              "  0.03243404999375343,\n",
              "  0.04992220178246498,\n",
              "  -0.0070599885657429695,\n",
              "  -0.005203597247600555,\n",
              "  -0.009908425621688366,\n",
              "  0.046592626720666885,\n",
              "  0.0558047741651535,\n",
              "  0.036728911101818085,\n",
              "  -0.01641272008419037,\n",
              "  0.0341019369661808,\n",
              "  0.04278185963630676,\n",
              "  -0.015501906163990498,\n",
              "  -0.017134085297584534,\n",
              "  -0.011491050943732262,\n",
              "  0.03697165846824646,\n",
              "  -0.03450259193778038,\n",
              "  -2.8767059120582417e-05,\n",
              "  -0.02913856692612171,\n",
              "  0.016478272154927254,\n",
              "  0.005186617840081453,\n",
              "  -0.044280558824539185,\n",
              "  0.007936962880194187,\n",
              "  -0.05632605776190758,\n",
              "  -0.0008716735756024718,\n",
              "  -0.039134010672569275,\n",
              "  -0.035014331340789795,\n",
              "  0.05380987748503685,\n",
              "  -0.027579722926020622,\n",
              "  0.0007639517425559461,\n",
              "  0.009450818412005901,\n",
              "  -0.021432792767882347,\n",
              "  0.008468523621559143,\n",
              "  0.032872047275304794,\n",
              "  0.029164964333176613,\n",
              "  -0.005562822334468365,\n",
              "  0.0451657809317112,\n",
              "  0.038212817162275314,\n",
              "  0.0018559573218226433,\n",
              "  0.031024791300296783,\n",
              "  0.00572694418951869,\n",
              "  0.028757253661751747,\n",
              "  -0.027340175583958626,\n",
              "  0.04445544257760048,\n",
              "  0.02526475302875042,\n",
              "  -0.020685279741883278,\n",
              "  -0.02689523994922638,\n",
              "  -0.009163218550384045,\n",
              "  -0.04631653428077698,\n",
              "  0.031133482232689857,\n",
              "  -0.010485857725143433,\n",
              "  -0.0015347454464063048,\n",
              "  0.03081977553665638,\n",
              "  -0.056169942021369934,\n",
              "  0.007261573802679777,\n",
              "  -0.048192109912633896,\n",
              "  0.042257197201251984,\n",
              "  -0.025780919939279556,\n",
              "  -0.004697642754763365,\n",
              "  0.0400468073785305,\n",
              "  -0.025972984731197357,\n",
              "  -0.023436525836586952,\n",
              "  0.04820916801691055,\n",
              "  -0.014718104153871536,\n",
              "  0.01699826680123806,\n",
              "  0.008604719303548336,\n",
              "  0.05469702184200287,\n",
              "  -0.008056811057031155,\n",
              "  0.04896712303161621,\n",
              "  0.05201748386025429,\n",
              "  -0.03307099640369415,\n",
              "  -0.0006431800429709256,\n",
              "  -0.003145179944112897,\n",
              "  -0.03608376160264015,\n",
              "  -0.013021682389080524,\n",
              "  -0.025209728628396988,\n",
              "  -0.03983589634299278,\n",
              "  -0.018625179305672646,\n",
              "  -0.010754871182143688,\n",
              "  0.0006869195494800806,\n",
              "  -0.010076402686536312,\n",
              "  0.029326187446713448,\n",
              "  0.010148300789296627,\n",
              "  -0.03418360650539398,\n",
              "  0.02219463139772415,\n",
              "  0.021276259794831276,\n",
              "  -0.053853075951337814,\n",
              "  0.014609712176024914,\n",
              "  -0.01259357575327158,\n",
              "  0.046628255397081375,\n",
              "  -0.03176948428153992,\n",
              "  -0.020030520856380463,\n",
              "  -0.01819656975567341,\n",
              "  -0.04039256274700165,\n",
              "  -0.009745297022163868,\n",
              "  -0.08200062066316605,\n",
              "  0.036069758236408234,\n",
              "  0.01709796115756035,\n",
              "  -0.03085862100124359,\n",
              "  -0.051169704645872116,\n",
              "  -0.04154191538691521,\n",
              "  -0.007911945693194866,\n",
              "  0.018145844340324402,\n",
              "  -0.016995767131447792,\n",
              "  -0.03349246457219124,\n",
              "  0.04505983740091324,\n",
              "  0.05315859615802765,\n",
              "  0.014529077336192131,\n",
              "  0.026556143537163734,\n",
              "  -0.03428877890110016,\n",
              "  0.004019406624138355,\n",
              "  0.047463301569223404,\n",
              "  0.07623366266489029,\n",
              "  -0.0006573453429155052,\n",
              "  0.025454659014940262,\n",
              "  0.011265029199421406,\n",
              "  -0.006487593520432711,\n",
              "  0.0215255506336689,\n",
              "  -0.01250357273966074,\n",
              "  0.029070641845464706,\n",
              "  -0.01310708001255989,\n",
              "  -0.013382338918745518,\n",
              "  -0.04116445779800415,\n",
              "  0.01257995143532753,\n",
              "  -0.04069472849369049,\n",
              "  -0.07782720774412155,\n",
              "  0.01718590222299099,\n",
              "  0.02803325653076172,\n",
              "  -0.01186856348067522,\n",
              "  -0.009738077409565449,\n",
              "  -0.061305854469537735,\n",
              "  -0.00226803682744503,\n",
              "  -0.05741478502750397,\n",
              "  -0.005837415345013142,\n",
              "  -0.059675849974155426,\n",
              "  0.016234170645475388,\n",
              "  0.0003339346149004996,\n",
              "  -0.01696937531232834,\n",
              "  0.012536777183413506,\n",
              "  -0.06614316999912262,\n",
              "  0.14046795666217804,\n",
              "  0.05933418869972229,\n",
              "  0.020929940044879913,\n",
              "  -0.006359343882650137,\n",
              "  0.013647864572703838,\n",
              "  0.0752570852637291,\n",
              "  0.002973891096189618,\n",
              "  -0.01614072360098362,\n",
              "  -0.00018357050430495292,\n",
              "  -0.04535987600684166,\n",
              "  0.04220924153923988,\n",
              "  -0.008031162433326244,\n",
              "  0.021749261766672134,\n",
              "  0.013146950863301754,\n",
              "  0.0074476818554103374,\n",
              "  0.0718582272529602,\n",
              "  -0.0351843535900116,\n",
              "  -0.02562813274562359,\n",
              "  0.020940447226166725,\n",
              "  -0.03183369338512421,\n",
              "  -0.04988830164074898,\n",
              "  0.011223560199141502,\n",
              "  -0.009182091802358627,\n",
              "  0.025158189237117767,\n",
              "  -0.0030077544506639242,\n",
              "  0.002124042948707938,\n",
              "  0.021209649741649628,\n",
              "  -0.0383182018995285,\n",
              "  0.001137281651608646,\n",
              "  -0.010317153297364712,\n",
              "  0.04085088148713112,\n",
              "  -0.0162360779941082,\n",
              "  0.06392709910869598,\n",
              "  -0.031157368794083595,\n",
              "  -0.027431489899754524,\n",
              "  0.02795267105102539,\n",
              "  -0.010185303166508675,\n",
              "  -0.03212623670697212,\n",
              "  0.021434729918837547,\n",
              "  0.011569257825613022,\n",
              "  -0.043909601867198944,\n",
              "  0.011715286411345005,\n",
              "  0.010037406347692013,\n",
              "  -0.041829757392406464,\n",
              "  -0.008831816725432873,\n",
              "  0.035246822983026505,\n",
              "  -0.017729181796312332,\n",
              "  0.010377129539847374,\n",
              "  0.01837776042521,\n",
              "  -0.04734834283590317,\n",
              "  0.04738381505012512,\n",
              "  -0.04501248523592949,\n",
              "  0.015404763631522655,\n",
              "  -0.032332196831703186,\n",
              "  -0.049668896943330765,\n",
              "  0.004455382935702801,\n",
              "  0.017778964713215828,\n",
              "  -0.01938229240477085,\n",
              "  -0.020630015060305595,\n",
              "  0.005987177602946758,\n",
              "  0.0108712799847126,\n",
              "  0.002761350478976965,\n",
              "  0.0036235519219189882,\n",
              "  -0.001447068527340889,\n",
              "  -0.05172615498304367,\n",
              "  0.007204533088952303,\n",
              "  0.026789110153913498,\n",
              "  0.038970910012722015,\n",
              "  0.007439139299094677,\n",
              "  -0.018634865060448647,\n",
              "  -0.014998308382928371,\n",
              "  ...])"
            ]
          },
          "metadata": {},
          "execution_count": 46
        }
      ]
    },
    {
      "cell_type": "markdown",
      "source": [
        "\n",
        "* The embedding model provides a fixed-length vector for any number of chunks.\n",
        "* This is necessary because we want to compare them for similarity.\n"
      ],
      "metadata": {
        "id": "FzoY1SB-PYQI"
      }
    },
    {
      "cell_type": "markdown",
      "metadata": {
        "id": "qiKCOv4X0d7B"
      },
      "source": [
        "### Vector Database"
      ]
    },
    {
      "cell_type": "code",
      "source": [
        "import os\n",
        "import time\n"
      ],
      "metadata": {
        "id": "vHHt1MQQRVzs"
      },
      "execution_count": 47,
      "outputs": []
    },
    {
      "cell_type": "code",
      "source": [
        "# Creating the output directory 'merck_db' if it doesn't already exist, so we can save the processed data or vector database files there.\n",
        "out_dir = 'merck_db'\n",
        "\n",
        "if not os.path.exists(out_dir):\n",
        "  os.makedirs(out_dir)"
      ],
      "metadata": {
        "id": "WXVEVp26ZbCy"
      },
      "execution_count": 48,
      "outputs": []
    },
    {
      "cell_type": "code",
      "source": [
        "start = time.time()\n",
        "document_chunks = document_chunks[:100]"
      ],
      "metadata": {
        "id": "BaukLH5R2qfi"
      },
      "execution_count": 50,
      "outputs": []
    },
    {
      "cell_type": "code",
      "source": [
        "vectorstore = Chroma.from_documents( #creating a Chroma vector store from a set of document chunks.\n",
        "    document_chunks, #creating a list of text chunks that will be converted into embeddings..\n",
        "    embedding_model, #model responsible for embedding the document chunks into vector representations\n",
        "    persist_directory=out_dir #name of the collection in the Chroma database\n",
        ")\n",
        "print(\"Execution time:\", time.time() - start)"
      ],
      "metadata": {
        "id": "pT5LEaGUZdLt",
        "colab": {
          "base_uri": "https://localhost:8080/"
        },
        "outputId": "b1160f2c-a436-4da5-9449-ce924b7befdf"
      },
      "execution_count": 51,
      "outputs": [
        {
          "output_type": "stream",
          "name": "stdout",
          "text": [
            "Execution time: 11.103809356689453\n"
          ]
        }
      ]
    },
    {
      "cell_type": "code",
      "source": [
        "#Loading Chroma vector store with the given embedding model\n",
        "vectorstore = Chroma(persist_directory=out_dir, embedding_function=embedding_model)"
      ],
      "metadata": {
        "id": "qo8XHrDmZf1C"
      },
      "execution_count": 52,
      "outputs": []
    },
    {
      "cell_type": "code",
      "source": [
        "#Accessing the embedding function used in the Chroma vector store\n",
        "vectorstore.embeddings"
      ],
      "metadata": {
        "id": "5BOOAy3tZ8T9",
        "colab": {
          "base_uri": "https://localhost:8080/"
        },
        "outputId": "cbaf3b7b-7eff-45a6-850b-4066fe086d7b"
      },
      "execution_count": 53,
      "outputs": [
        {
          "output_type": "execute_result",
          "data": {
            "text/plain": [
              "HuggingFaceEmbeddings(client=SentenceTransformer(\n",
              "  (0): Transformer({'max_seq_length': 512, 'do_lower_case': False}) with Transformer model: BertModel \n",
              "  (1): Pooling({'word_embedding_dimension': 1024, 'pooling_mode_cls_token': False, 'pooling_mode_mean_tokens': True, 'pooling_mode_max_tokens': False, 'pooling_mode_mean_sqrt_len_tokens': False, 'pooling_mode_weightedmean_tokens': False, 'pooling_mode_lasttoken': False})\n",
              "  (2): Normalize()\n",
              "), model_name='thenlper/gte-large', cache_folder=None, model_kwargs={}, encode_kwargs={}, multi_process=False, show_progress=False)"
            ]
          },
          "metadata": {},
          "execution_count": 53
        }
      ]
    },
    {
      "cell_type": "code",
      "source": [
        "#Performing a similarity search in the vector store to find the top 3 most similar documents to \"Alopecia Areata\"\n",
        "vectorstore.similarity_search(\"Alopecia Areata \",k=3)"
      ],
      "metadata": {
        "id": "TxNm4FXfZ_h4",
        "colab": {
          "base_uri": "https://localhost:8080/"
        },
        "outputId": "54689e01-135f-425e-b4a2-c9afd34f2f0f"
      },
      "execution_count": 54,
      "outputs": [
        {
          "output_type": "execute_result",
          "data": {
            "text/plain": [
              "[Document(page_content='742\\n7 - Dermatologic Disorders    ....................................................................................................................................................\\n742\\nChapter 71. Approach to the Dermatologic Patient    .......................................................................................................\\n755\\nChapter 72. Principles of Topical Dermatologic Therapy    ............................................................................................\\n760\\nChapter 73. Acne & Related Disorders    ...............................................................................................................................\\n766\\nChapter 74. Bullous Diseases    .................................................................................................................................................\\n771\\nChapter 75. Cornification Disorders    .....................................................................................................................................\\n775\\nChapter 76. Dermatitis    ...............................................................................................................................................................\\n786\\nChapter 77. Reactions to Sunlight    ........................................................................................................................................\\n791\\nChapter 78. Psoriasis & Scaling Diseases    ........................................................................................................................\\n799\\nChapter 79. Hypersensitivity & Inflammatory Disorders    .............................................................................................\\n808\\nChapter 80. Sweating Disorders    ............................................................................................................................................\\n811\\nChapter 81. Bacterial Skin Infections    ...................................................................................................................................\\n822\\nChapter 82. Fungal Skin Infections    ......................................................................................................................................\\n831\\nChapter 83. Parasitic Skin Infections    ...................................................................................................................................\\n836\\nChapter 84. Viral Skin Diseases    ............................................................................................................................................\\n841\\nChapter 85. Pigmentation Disorders    ....................................................................................................................................\\n846\\nChapter 86. Hair Disorders    .......................................................................................................................................................\\n855\\nChapter 87. Nail Disorders    .......................................................................................................................................................\\n861\\nChapter 88. Pressure Ulcers    ...................................................................................................................................................\\n867\\nChapter 89. Benign Tumors    .....................................................................................................................................................\\n874\\nChapter 90. Cancers of the Skin    ............................................................................................................................................\\n882\\n8 - Endocrine & Metabolic Disorders    .............................................................................................................................\\n882\\nChapter 91. Principles of Endocrinology    ............................................................................................................................\\n887\\nChapter 92. Pituitary Disorders    ..............................................................................................................................................\\n901\\nChapter 93. Thyroid Disorders    ................................................................................................................................................\\ndesai.sana1@gmail.com\\nB0PAGYZ4X1\\nThis file is meant for personal use by desai.sana1@gmail.com only.\\nSharing or publishing the contents in part or full is liable for legal action.', metadata={'author': '', 'creationDate': 'D:20120615054440Z', 'creator': 'Atop CHM to PDF Converter', 'file_path': '/content/drive/MyDrive/medical_diagnosis_manual.pdf', 'format': 'PDF 1.7', 'keywords': '', 'modDate': 'D:20250711161103Z', 'page': 3, 'producer': 'pdf-lib (https://github.com/Hopding/pdf-lib)', 'source': '/content/drive/MyDrive/medical_diagnosis_manual.pdf', 'subject': '', 'title': 'The Merck Manual of Diagnosis & Therapy, 19th Edition', 'total_pages': 4114, 'trapped': ''}),\n",
              " Document(page_content='Professor J. Wollensak via ONJOPH (Plates 8, 9, 15, 16, 17 [top], and 18); Dr. Brooks McCuen via\\nONJOPH (Plate 11 [top]); Jonathan J. Dutton via ONJOPH (Plate 12); University of California at San\\nDiego via ONJOPH (Plate 13); Professor H.J. Meyer via ONJOPH (Plate 14); Dr. James Garrity (Plate\\n19); World Health Organization via ONJOPH (Plate 20); C. Newman (Plate 21) and B. Biller (Plate 22)\\nfrom Atlas of Clinical Endocrinology: Neuroendocrinology and Pituitary Disease ; Thomas Habif, MD\\n(Plates 24, 26-30, 32-37, 38 [top], 39-47, 49, 51-55, and 60); Prof. Dr. K.W. Ruprecht and Dr. Med. B.\\nKaesmann-Kellner via ONJOPH (Plate 25 [top]); Allen W. Mathies, MD, via the Public Health Image\\nLibrary of the Centers for Disease Control and Prevention (CDC) (Plate 31); Dennis D. Juranek, MD, via\\nthe Public Health Image Library of the CDC (Plate 38 [bottom]) and via www.doctorfungus.com (Plates\\n48 and 50); S. Deitcher from Atlas of Clinical Hematology  (Plate 56); E. Joe and N. Soter from Current\\nDermatologic Diagnosis and Treatment (Plate 57); Public Health Image Library of the CDC (Plates 58,\\n64-67, and 70); Drs. S.E. Thompson and J. Pledger via the Public Health Image Library of the CDC\\n(Plate 59); Noel Armenakas, MD (Plate 61); Dr. Susan Lindsley via the Public Health Image Library of the\\nCDC (Plate 62); Joe Miller and Dr. Cornelio Arevalo via the Public Health Image Library of the CDC\\n(Plate 63); M.S. Klempner from Atlas of Infectious Diseases: External Manifestations of Systemic\\nInfections (Plate 68); R. Kaufman and D. Brown from Atlas of Clinical Gynecology: Gynecologic', metadata={'author': '', 'creationDate': 'D:20120615054440Z', 'creator': 'Atop CHM to PDF Converter', 'file_path': '/content/drive/MyDrive/medical_diagnosis_manual.pdf', 'format': 'PDF 1.7', 'keywords': '', 'modDate': 'D:20250711161103Z', 'page': 25, 'producer': 'pdf-lib (https://github.com/Hopding/pdf-lib)', 'source': '/content/drive/MyDrive/medical_diagnosis_manual.pdf', 'subject': '', 'title': 'The Merck Manual of Diagnosis & Therapy, 19th Edition', 'total_pages': 4114, 'trapped': ''}),\n",
              " Document(page_content='y\\ng\\n;\\ng\\n,\\nFront Royal Internal Medicine, VA\\nMultiple Endocrine Neoplasia Syndromes\\nDANIEL F. DANZL, MD\\nProfessor and Chair of Emergency Medicine,\\nUniversity of Louisville School of Medicine\\nCold Injury\\nNORMAN L. DEAN, MD\\nFellow (Emeritus), American College of Chest\\nPhysicians; Lifetime Fellow, American College\\nof Physicians\\nDrowning\\nALAN H. DeCHERNEY, MD\\nBranch Chief, Reproductive Biology and\\nMedicine, National Institute of Child Health\\nand Human Development, National Institutes\\nof Health\\nEndometriosis\\nPETER J. DELVES, PhD\\nReader in Immunology, Department of\\nImmunology and Molecular Pathology,\\nDivision of Infection and Immunity, University\\nCollege London\\nBiology of the Immune System; Allergic and\\nOther Hypersensitivity Disorders\\nARA DerMARDEROSIAN, PhD\\nProfessor of Pharmacognosy and Medicinal\\nChemistry, Roth Chair of Natural Products,\\nScientific Director, Complementary and\\nAlternative Medicine Institute, University of\\nthe Sciences in Philadelphia\\nDietary Supplements\\nDEEPINDER K. DHALIWAL, MD\\nAssociate Professor, Department of\\nOphthalmology, University of Pittsburgh\\nSchool of Medicine; Director of Cornea/\\nExternal Disease and Director of Refractive\\nSurgery, University of Pittsburgh Medical\\nCenter Eye Center; Medical Director,\\nUniversity of Pittsburgh Medical Center Laser\\nCenter; Director and Founder, Center for\\nIntegrative Eye Care, University of Pittsburgh\\nRefractive Error\\nA. DAMIAN DHAR, MD, JD\\nPrivate Practice, North Atlanta Dermatology\\nBacterial Skin Infections; Fungal Skin Infections\\nMICHAEL C. DiMARINO, MD\\nClinical Assistant Professor of Medicine,\\nDivision of Gastroenterology and Hepatology,\\nDepartment of Medicine, Thomas Jefferson\\nThe Merck Manual of Diagnosis & Therapy, 19th Edition\\nFront Matter\\n24\\ndesai.sana1@gmail.com\\nB0PAGYZ4X1\\nThis file is meant for personal use by desai.sana1@gmail.com only.\\nSharing or publishing the contents in part or full is liable for legal action.', metadata={'author': '', 'creationDate': 'D:20120615054440Z', 'creator': 'Atop CHM to PDF Converter', 'file_path': '/content/drive/MyDrive/medical_diagnosis_manual.pdf', 'format': 'PDF 1.7', 'keywords': '', 'modDate': 'D:20250711161103Z', 'page': 33, 'producer': 'pdf-lib (https://github.com/Hopding/pdf-lib)', 'source': '/content/drive/MyDrive/medical_diagnosis_manual.pdf', 'subject': '', 'title': 'The Merck Manual of Diagnosis & Therapy, 19th Edition', 'total_pages': 4114, 'trapped': ''})]"
            ]
          },
          "metadata": {},
          "execution_count": 54
        }
      ]
    },
    {
      "cell_type": "code",
      "source": [
        "#Performing a similarity search in the vector store to find the top  most similar documents to \"Alopecia Areata\"\n",
        "vectorstore.similarity_search(\"Alopecia Areata \",k=1)"
      ],
      "metadata": {
        "id": "8YfLLzUuO8Qj",
        "colab": {
          "base_uri": "https://localhost:8080/"
        },
        "outputId": "1fdcb272-7a3b-4e79-812d-d029e9c45884"
      },
      "execution_count": 55,
      "outputs": [
        {
          "output_type": "execute_result",
          "data": {
            "text/plain": [
              "[Document(page_content='742\\n7 - Dermatologic Disorders    ....................................................................................................................................................\\n742\\nChapter 71. Approach to the Dermatologic Patient    .......................................................................................................\\n755\\nChapter 72. Principles of Topical Dermatologic Therapy    ............................................................................................\\n760\\nChapter 73. Acne & Related Disorders    ...............................................................................................................................\\n766\\nChapter 74. Bullous Diseases    .................................................................................................................................................\\n771\\nChapter 75. Cornification Disorders    .....................................................................................................................................\\n775\\nChapter 76. Dermatitis    ...............................................................................................................................................................\\n786\\nChapter 77. Reactions to Sunlight    ........................................................................................................................................\\n791\\nChapter 78. Psoriasis & Scaling Diseases    ........................................................................................................................\\n799\\nChapter 79. Hypersensitivity & Inflammatory Disorders    .............................................................................................\\n808\\nChapter 80. Sweating Disorders    ............................................................................................................................................\\n811\\nChapter 81. Bacterial Skin Infections    ...................................................................................................................................\\n822\\nChapter 82. Fungal Skin Infections    ......................................................................................................................................\\n831\\nChapter 83. Parasitic Skin Infections    ...................................................................................................................................\\n836\\nChapter 84. Viral Skin Diseases    ............................................................................................................................................\\n841\\nChapter 85. Pigmentation Disorders    ....................................................................................................................................\\n846\\nChapter 86. Hair Disorders    .......................................................................................................................................................\\n855\\nChapter 87. Nail Disorders    .......................................................................................................................................................\\n861\\nChapter 88. Pressure Ulcers    ...................................................................................................................................................\\n867\\nChapter 89. Benign Tumors    .....................................................................................................................................................\\n874\\nChapter 90. Cancers of the Skin    ............................................................................................................................................\\n882\\n8 - Endocrine & Metabolic Disorders    .............................................................................................................................\\n882\\nChapter 91. Principles of Endocrinology    ............................................................................................................................\\n887\\nChapter 92. Pituitary Disorders    ..............................................................................................................................................\\n901\\nChapter 93. Thyroid Disorders    ................................................................................................................................................\\ndesai.sana1@gmail.com\\nB0PAGYZ4X1\\nThis file is meant for personal use by desai.sana1@gmail.com only.\\nSharing or publishing the contents in part or full is liable for legal action.', metadata={'author': '', 'creationDate': 'D:20120615054440Z', 'creator': 'Atop CHM to PDF Converter', 'file_path': '/content/drive/MyDrive/medical_diagnosis_manual.pdf', 'format': 'PDF 1.7', 'keywords': '', 'modDate': 'D:20250711161103Z', 'page': 3, 'producer': 'pdf-lib (https://github.com/Hopding/pdf-lib)', 'source': '/content/drive/MyDrive/medical_diagnosis_manual.pdf', 'subject': '', 'title': 'The Merck Manual of Diagnosis & Therapy, 19th Edition', 'total_pages': 4114, 'trapped': ''})]"
            ]
          },
          "metadata": {},
          "execution_count": 55
        }
      ]
    },
    {
      "cell_type": "markdown",
      "metadata": {
        "id": "uEa5sKc41T1z"
      },
      "source": [
        "### Retriever"
      ]
    },
    {
      "cell_type": "code",
      "source": [
        "retriever = vectorstore.as_retriever( #Converting the Chroma vector store into a retriever for querying.\n",
        "    search_type='similarity', #Specifying that retrieval is based on cosine similarity\n",
        "    search_kwargs={'k': 2} #Retrieving the top 2 most similar documents for a given query.\n",
        ")"
      ],
      "metadata": {
        "id": "wBlQUGx3RWUD"
      },
      "execution_count": 56,
      "outputs": []
    },
    {
      "cell_type": "code",
      "source": [
        "user_input = 'What are the symptoms of migraine?'\n",
        "rel_docs = retriever.get_relevant_documents(user_input)\n",
        "rel_docs"
      ],
      "metadata": {
        "id": "4eYiTWq8aOt6",
        "colab": {
          "base_uri": "https://localhost:8080/"
        },
        "outputId": "fff11a56-d5c4-44b6-d8fc-addfa8fe7958"
      },
      "execution_count": 57,
      "outputs": [
        {
          "output_type": "stream",
          "name": "stderr",
          "text": [
            "/usr/local/lib/python3.11/dist-packages/langchain_core/_api/deprecation.py:119: LangChainDeprecationWarning: The method `BaseRetriever.get_relevant_documents` was deprecated in langchain-core 0.1.46 and will be removed in 0.3.0. Use invoke instead.\n",
            "  warn_deprecated(\n"
          ]
        },
        {
          "output_type": "execute_result",
          "data": {
            "text/plain": [
              "[Document(page_content=\"Testing for Hepatic and Biliary Disorders;\\nAlcoholic Liver Disease; Fibrosis and Cirrhosis;\\nVascular Disorders of the Liver; Gallbladder\\nand Bile Duct Disorders\\nSTEWART SHANKEL, MD\\nClinical Professor of Medicine and Director\\nof Clinical Instruction, University of California,\\nRiverside\\nUrinary Tract Infections\\nWILLIAM R. SHAPIRO, MD\\nProfessor of Clinical Neurology, University\\nof Arizona College of Medicine, Tucson;\\nChief, Neuro-oncology, Barrow Neurological\\nInstitute\\nIntracranial and Spinal Tumors\\nMICHAEL J. SHEA, MD\\nProfessor of Internal Medicine, Section Head,\\nCardiovascular Medicine Outpatient Services\\nand Clinical Evaluation, University of\\nMichigan Health Systems\\nCardiovascular Tests and Procedures\\nDAVID D. SHERRY, MD\\nProfessor of Pediatrics, University of\\nPennsylvania; Director, Clinical\\nRheumatology, The Children's Hospital of\\nPhiladelphia\\nRheumatic Fever; Bone and Connective Tissue\\nDisorders in Children\\nSTEPHEN D. SILBERSTEIN, MD\\nProfessor of Neurology, Headache Center,\\nThomas Jefferson University\\nHeadache\\nDAPHNE SIMEON, MD\\nAssociate Professor, Department of\\nPsychiatry, Mount Sinai School of Medicine\\nDissociative Disorders\\nADAM J. SINGER, MD\\nProfessor and Vice Chairman for Research,\\nDepartment of Emergency Medicine, Stony\\nBrook University and Medical Center\\nLacerations\\nASHISH C. SINHA, MD, PhD\\nAssistant Professor, Anesthesiology and\\nCritical Care, University of Pennsylvania\\nSchool of Medicine\\nObesity and the Metabolic Syndrome\\n(Bariatric Surgery portion)\\nRICHARD V. SMITH, MD\\nThe Merck Manual of Diagnosis & Therapy, 19th Edition\\nFront Matter\\n46\\ndesai.sana1@gmail.com\\nB0PAGYZ4X1\\nThis file is meant for personal use by desai.sana1@gmail.com only.\\nSharing or publishing the contents in part or full is liable for legal action.\", metadata={'author': '', 'creationDate': 'D:20120615054440Z', 'creator': 'Atop CHM to PDF Converter', 'file_path': '/content/drive/MyDrive/medical_diagnosis_manual.pdf', 'format': 'PDF 1.7', 'keywords': '', 'modDate': 'D:20250711161103Z', 'page': 55, 'producer': 'pdf-lib (https://github.com/Hopding/pdf-lib)', 'source': '/content/drive/MyDrive/medical_diagnosis_manual.pdf', 'subject': '', 'title': 'The Merck Manual of Diagnosis & Therapy, 19th Edition', 'total_pages': 4114, 'trapped': ''}),\n",
              " Document(page_content='Professor, Department of Emergency\\nMedicine, University of Illinois at Chicago\\nElectrical and Lightning Injuries\\nWILLIAM CORYELL, MD\\nGeorge Winokur Professor of Psychiatry,\\nUniversity of Iowa\\nMood Disorders\\nBRYAN D. COWAN, MD\\nProfessor and Chairman, Department of\\nObstetrics and Gynecology, University of\\nMississippi Medical Center\\nUterine Fibroids\\nJILL P. CRANDALL, MD\\nAssociate Professor of Clinical Medicine,\\nAlbert Einstein College of Medicine\\nDiabetes Mellitus and Disorders of\\nCarbohydrate Metabolism\\nRICARDO CRUCIANI, MD, PhD\\nClinical Assistant and Professor, Department\\nof Neurology and Anesthesiology, Albert\\nEinstein College of Medicine; Director,\\nResearch Division, Department of Pain\\nMedicine and Palliative Care, Beth Israel\\nMedical Center\\nNeurotransmission\\nBURKE A. CUNHA, MD\\nProfessor of Medicine, State University of\\nNew York School of Medicine, Stony Brook;\\nChief, Infectious Disease Division, Winthrop-\\nUniversity Hospital, Mineola\\nGram-Negative Bacilli; Spirochetes\\nEMMETT T. CUNNINGHAM, Jr., MD,\\nPhD, MPH\\nProfessor of Ophthalmology, Stanford\\nUniversity; Director, The Uveitis Service,\\nCalifornia Pacific Medical Center and Clinic\\nUveitis\\nDREW C. CUTLER, MD\\nAssociate Professor of Pediatrics, Loma Linda\\nUniversity School of Medicine\\nCystic Kidney Disease\\nRALPH E. CUTLER, MD (Deceased)\\nProfessor of Medicine (Emeritus), Loma Linda\\nUniversity School of Medicine; Consultant in\\nNephrology, Loma Linda VA Medical Center\\nObstructive Uropathy; Urinary Tract Infections\\nPATRICIA A. DALY, MD\\nVisiting Assistant Professor of Medicine,\\nUniversity of Virginia; Clinical Endocrinologist,\\nThe Merck Manual of Diagnosis & Therapy, 19th Edition\\nFront Matter\\n23\\ndesai.sana1@gmail.com\\nB0PAGYZ4X1\\nThis file is meant for personal use by desai.sana1@gmail.com only.\\nSharing or publishing the contents in part or full is liable for legal action.', metadata={'author': '', 'creationDate': 'D:20120615054440Z', 'creator': 'Atop CHM to PDF Converter', 'file_path': '/content/drive/MyDrive/medical_diagnosis_manual.pdf', 'format': 'PDF 1.7', 'keywords': '', 'modDate': 'D:20250711161103Z', 'page': 32, 'producer': 'pdf-lib (https://github.com/Hopding/pdf-lib)', 'source': '/content/drive/MyDrive/medical_diagnosis_manual.pdf', 'subject': '', 'title': 'The Merck Manual of Diagnosis & Therapy, 19th Edition', 'total_pages': 4114, 'trapped': ''})]"
            ]
          },
          "metadata": {},
          "execution_count": 57
        }
      ]
    },
    {
      "cell_type": "code",
      "source": [
        "model_output = llm (\n",
        "    prompt=\"what is Bromhidrosis\",\n",
        "    max_tokens=4500,\n",
        "    temperature=10\n",
        ")\n",
        "print(model_output)"
      ],
      "metadata": {
        "id": "r9v7if8ZQpGM",
        "colab": {
          "base_uri": "https://localhost:8080/"
        },
        "outputId": "5e903755-d77a-4340-de64-b7f216bc0463"
      },
      "execution_count": 58,
      "outputs": [
        {
          "output_type": "stream",
          "name": "stderr",
          "text": [
            "Llama.generate: prefix-match hit\n"
          ]
        },
        {
          "output_type": "stream",
          "name": "stdout",
          "text": [
            "{'id': 'cmpl-e4c4a382-b5f7-4ff3-b77c-ec433c145005', 'object': 'text_completion', 'created': 1754758455, 'model': '/root/.cache/huggingface/hub/models--TheBloke--Mistral-7B-Instruct-v0.2-GGUF/snapshots/3a6fbf4a41a1d52e415a4958cde6856d34b2db93/mistral-7b-instruct-v0.2.Q6_K.gguf', 'choices': [{'text': ', How do we develop this smell condition?\\nBromhidrosis is a medical condition that causes a particularly foul body odor. This odor is the result of bacterial action on sweat that hasn\\'t been washed away properly.\\nThe bacteria in question are usually found in the armpits and the genital area, as these are areas where sweat collects and where it\\'s more difficult to keep clean through daily washing. The bacteria feed on the sweat, which contains amino acids and lipids, producing unpleasant smelling byproducts.\\nBromhidrosis can be divided into two types based on when it occurs:\\n1. Odistichiasis: This type is also known as \"axillary bromhidrosis,\" and it affects the armpits. The odor usually becomes noticeable in adolescence or young adulthood and worsens during stress, anxiety, or exercise. The smell can be especially potent when clothing isn\\'t changed often.\\n2. Anhidrosis-associated bromhidrosis: This type affects people who have anhydrosis (a condition where they don\\'t sweat properly) or whose sweating glands don\\'t function adequately in specific areas of their bodies, most notably the feet. Since their body doesn\\'t produce enough moisture to clean the skin, the bacterial action becomes concentrated and leads to an extremely unpleasant smell. This type typically manifests itself during early childhood.\\n\\nThe exact causes of bromhidrosis are still not entirely clear, but certain factors have been linked to an increased risk:\\n\\n1. Hyperhidrosis: The condition may develop as a result of excessive sweating due to anxiety, stress, or hormonal changes during puberty, leading to the production of a large amount of sweat that can\\'t be efficiently removed.\\n2. Infrequent bathing and personal hygiene: Regular cleaning helps keep body odor at bay, and not showering regularly makes it easier for bacteria to accumulate.\\n3. Genetics: It is thought that some people may be genetically predisposed to developing bromhidrosis. Studies have found associations between the condition and variations in certain genes.\\n4. Medical conditions and medications: Various underlying health problems and certain prescription drugs can disrupt normal sweat function, increasing the risk for bromhidrosis development. Examples include thyroid diseases, renal disorders, cystic fibrosis, obesity, and malnutrition, among others.', 'index': 0, 'logprobs': None, 'finish_reason': 'stop'}], 'usage': {'prompt_tokens': 8, 'completion_tokens': 536, 'total_tokens': 544}}\n"
          ]
        }
      ]
    },
    {
      "cell_type": "markdown",
      "metadata": {
        "id": "vw8qcwq66B0C",
        "nteract": {
          "transient": {
            "deleting": false
          }
        }
      },
      "source": [
        "### System and User Prompt Template"
      ]
    },
    {
      "cell_type": "code",
      "source": [
        "# System message instructing the LLM to only answer using Merck Manual 19th Edition\n",
        "qna_system_message = \"\"\"\n",
        "You are a helpful assistant trained to answer questions based only on the Merck Manual of Medical Diagnosis and Therapy, Nineteenth Edition.\n",
        "Use the context provided to find accurate and reliable answers.\n",
        "If the answer is not found in the context, reply with \"I don't know\".\n",
        "Do not mention the context or the Merck Manual in your final answer.\n",
        "\n",
        "You are an AI assistant specializing in medical knowledge. Your role is to provide clear, precise, and medically reliable responses based on established medical guidelines and best practices.\n",
        "\n",
        "When answering, prioritize factual correctness, align with widely accepted medical standards, and ensure clarity for both medical professionals and general users.\n",
        "If a query requires specific reference materials beyond general medical knowledge, acknowledge the limitation rather than speculating.\n",
        "\"\"\""
      ],
      "metadata": {
        "id": "GF_4399TRW5D"
      },
      "execution_count": 59,
      "outputs": []
    },
    {
      "cell_type": "code",
      "source": [
        "# Template for formatting the user's input with context from the Merck Manual, 19th Edition and the actual medical question.\n",
        "qna_user_message_template = \"\"\"\n",
        "###Context\n",
        "The following excerpts are from the Merck Manual of Medical Diagnosis and Therapy, Nineteenth Edition:\n",
        "{context}\n",
        "\n",
        "###Question\n",
        "{question}\n",
        "\"\"\""
      ],
      "metadata": {
        "id": "WSEUiiHKaWeM"
      },
      "execution_count": 60,
      "outputs": []
    },
    {
      "cell_type": "markdown",
      "metadata": {
        "id": "TkIteX4m6mny"
      },
      "source": [
        "### Response Function"
      ]
    },
    {
      "cell_type": "code",
      "source": [
        "def generate_rag_response(user_input,k=3,max_tokens=128,temperature=0,top_p=0.95,top_k=50):\n",
        "    global qna_system_message,qna_user_message_template\n",
        "    # Retrieve relevant document chunks\n",
        "    relevant_document_chunks = retriever.get_relevant_documents(query=user_input,k=k)\n",
        "    context_list = [d.page_content for d in relevant_document_chunks]\n",
        "\n",
        "    # Combine document chunks into a single context\n",
        "    context_for_query = \". \".join(context_list)\n",
        "\n",
        "    user_message = qna_user_message_template.replace('{context}', context_for_query)\n",
        "    user_message = user_message.replace('{question}', user_input)\n",
        "\n",
        "    prompt = qna_system_message + '\\n' + user_message\n",
        "\n",
        "    # Generate the response\n",
        "    try:\n",
        "        response = llm(\n",
        "                  prompt=prompt,\n",
        "                  max_tokens=max_tokens,\n",
        "                  temperature=temperature,\n",
        "                  top_p=top_p,\n",
        "                  top_k=top_k\n",
        "                  )\n",
        "\n",
        "        # Extract and print the model's response\n",
        "        response = response['choices'][0]['text'].strip()\n",
        "    except Exception as e:\n",
        "        response = f'Sorry, I encountered the following error: \\n {e}'\n",
        "\n",
        "    return response"
      ],
      "metadata": {
        "id": "5jFvGnOJRXZx"
      },
      "execution_count": 61,
      "outputs": []
    },
    {
      "cell_type": "markdown",
      "source": [
        "## Question Answering using RAG"
      ],
      "metadata": {
        "id": "ffP1SRYbPQHN"
      }
    },
    {
      "cell_type": "markdown",
      "metadata": {
        "id": "JjajBEj06B0E"
      },
      "source": [
        "### Query 1: What is the protocol for managing sepsis in a critical care unit?"
      ]
    },
    {
      "cell_type": "code",
      "source": [
        "user_input1 = 'What is the protocol for managing sepsis in a critical care unit?'\n",
        "print(generate_rag_response(user_input1))"
      ],
      "metadata": {
        "id": "Nlo9sMpPRbTP",
        "colab": {
          "base_uri": "https://localhost:8080/"
        },
        "outputId": "5ec86faa-983d-4246-b6fc-926f0c0fb27c"
      },
      "execution_count": 62,
      "outputs": [
        {
          "output_type": "stream",
          "name": "stderr",
          "text": [
            "Llama.generate: prefix-match hit\n"
          ]
        },
        {
          "output_type": "stream",
          "name": "stdout",
          "text": [
            "Based on the context provided, the Merck Manual includes information on sepsis and septic shock under Chapter 244.7, Sepsis & Septic Shock (p. 2448). The protocol for managing sepsis in a critical care unit involves early recognition, prompt initiation of appropriate antibiotic therapy, fluid resuscitation, and supportive measures such as mechanical ventilation and vasopressor support if necessary.\n",
            "\n",
            "1. Recognition: Identify patients at risk based on clinical signs and laboratory findings (fever, tachycardia, tach\n"
          ]
        }
      ]
    },
    {
      "cell_type": "markdown",
      "source": [
        "Fine Tuning-max_tokens=370"
      ],
      "metadata": {
        "id": "_4l0y5PIfUzo"
      }
    },
    {
      "cell_type": "code",
      "source": [
        "user_input1 = 'What is the protocol for managing sepsis in a critical care unit?'\n",
        "print(generate_rag_response(user_input1,max_tokens=370))"
      ],
      "metadata": {
        "id": "Ctx3kaSh4e1x",
        "colab": {
          "base_uri": "https://localhost:8080/"
        },
        "outputId": "e7003c13-1db2-42b9-8116-0658ce3f9713"
      },
      "execution_count": 64,
      "outputs": [
        {
          "output_type": "stream",
          "name": "stderr",
          "text": [
            "Llama.generate: prefix-match hit\n"
          ]
        },
        {
          "output_type": "stream",
          "name": "stdout",
          "text": [
            "Based on the context provided, the Merck Manual includes information on sepsis and septic shock under Chapter 244.7, Sepsis & Septic Shock (p. 2448). The protocol for managing sepsis in a critical care unit involves early recognition, prompt initiation of appropriate antibiotic therapy, fluid resuscitation, and supportive measures such as mechanical ventilation and vasopressor support if necessary.\n",
            "\n",
            "1. Recognition: Identify patients at risk based on clinical signs and laboratory findings (fever, tachycardia, respiratory distress, altered mental status, lactic acidosis, leukocytosis or leukopenia, thrombocytopenia, and microbiological evidence of infection).\n",
            "2. Antibiotic therapy: Administer broad-spectrum antibiotics based on the suspected source of infection and local microbial resistance patterns.\n",
            "3. Fluid resuscitation: Aim for a mean arterial pressure (MAP) ≥65 mm Hg and a central venous pressure (CVP) 8-12 cm H2O in patients with septic shock. Use crystalloids, colloids, or blood products as needed to maintain adequate tissue perfusion.\n",
            "4. Vasopressor support: If MAP remains below 65 mm Hg despite fluid resuscitation, administer vasopressors (such as norepinephrine) to maintain adequate tissue perfusion.\n",
            "5. Mechanical ventilation: Provide mechanical ventilation if the patient develops respiratory failure or requires oxygenation support.\n",
            "6. Other supportive measures: Monitor and manage electrolyte imbalances,\n"
          ]
        }
      ]
    },
    {
      "cell_type": "markdown",
      "source": [
        "**Observations:**\n",
        "\n",
        "* **Response1** is too high-level and incomplete.\n",
        "\n",
        "* **Response2** is more clinically actionable, structured, and aligns better with actual sepsis protocols.\n",
        "\n",
        "  The truncation in both is likely due to the max_tokens=370 limit — increasing this would allow a full protocol output."
      ],
      "metadata": {
        "id": "SUI9jZ7I_rvL"
      }
    },
    {
      "cell_type": "markdown",
      "metadata": {
        "id": "QDw8zXuq6B0F"
      },
      "source": [
        "### Query 2: What are the common symptoms for appendicitis, and can it be cured via medicine? If not, what surgical procedure should be followed to treat it?"
      ]
    },
    {
      "cell_type": "code",
      "source": [
        "user_input2 = 'What are the common symptoms for appendicitis, and can it be cured via medicine? If not, what surgical procedure should be followed to treat it?'\n",
        "print(generate_rag_response(user_input2))"
      ],
      "metadata": {
        "id": "PVReF4G8RbzR",
        "colab": {
          "base_uri": "https://localhost:8080/"
        },
        "outputId": "7e40ec41-0b12-4b06-fd6c-f18661c49890"
      },
      "execution_count": 65,
      "outputs": [
        {
          "output_type": "stream",
          "name": "stderr",
          "text": [
            "Llama.generate: prefix-match hit\n"
          ]
        },
        {
          "output_type": "stream",
          "name": "stdout",
          "text": [
            "Based on the context provided, the Merck Manual does not contain specific information about the treatment of appendicitis with medication. However, it is mentioned that appendicitis typically presents with symptoms such as periumbilical pain, anorexia, nausea, and vomiting, which may be followed by rebound tenderness and guarding in the right lower quadrant (RLQ) on physical examination. The manual also states that appendicitis is usually treated surgically, specifically with an appendectomy. Therefore, the answer would be:\n",
            "\n",
            "Appendicitis is characterized by symptoms such as per\n"
          ]
        }
      ]
    },
    {
      "cell_type": "markdown",
      "source": [
        "Fine Tuning - Retreiver Parameters\n",
        "k = 2"
      ],
      "metadata": {
        "id": "8s0rVlwv_0hD"
      }
    },
    {
      "cell_type": "code",
      "source": [
        "retriever2 = vectorstore.as_retriever( #Converting the Chroma vector store into a retriever for querying.\n",
        "    search_type='similarity', #Specifying that retrieval is based on cosine similarity\n",
        "    search_kwargs={'k': 2} #Retrieving the top 2 most similar documents for a given query.\n",
        ")"
      ],
      "metadata": {
        "id": "MFuQowdb4pYJ"
      },
      "execution_count": 66,
      "outputs": []
    },
    {
      "cell_type": "code",
      "source": [
        "def generate_rag_response2(user_input,k=3,max_tokens=128,temperature=0,top_p=0.95,top_k=50):\n",
        "    global qna_system_message,qna_user_message_template\n",
        "    # Retrieve relevant document chunks\n",
        "    relevant_document_chunks = retriever2.get_relevant_documents(query=user_input,k=k)\n",
        "    context_list = [d.page_content for d in relevant_document_chunks]\n",
        "\n",
        "    # Combine document chunks into a single context\n",
        "    context_for_query = \". \".join(context_list)\n",
        "\n",
        "    user_message = qna_user_message_template.replace('{context}', context_for_query)\n",
        "    user_message = user_message.replace('{question}', user_input)\n",
        "\n",
        "    prompt = qna_system_message + '\\n' + user_message\n",
        "\n",
        "    # Generate the response\n",
        "    try:\n",
        "        response = llm(\n",
        "                  prompt=prompt,\n",
        "                  max_tokens=max_tokens,\n",
        "                  temperature=temperature,\n",
        "                  top_p=top_p,\n",
        "                  top_k=top_k\n",
        "                  )\n",
        "\n",
        "        # Extract and print the model's response\n",
        "        response = response['choices'][0]['text'].strip()\n",
        "    except Exception as e:\n",
        "        response = f'Sorry, I encountered the following error: \\n {e}'\n",
        "\n",
        "    return response"
      ],
      "metadata": {
        "id": "TcUj2oOl4rlu"
      },
      "execution_count": 67,
      "outputs": []
    },
    {
      "cell_type": "code",
      "source": [
        "user_input2 = 'What are the common symptoms for appendicitis, and can it be cured via medicine? If not, what surgical procedure should be followed to treat it?'\n",
        "print(generate_rag_response2(user_input2))"
      ],
      "metadata": {
        "id": "syTJzKqM4yMJ",
        "colab": {
          "base_uri": "https://localhost:8080/"
        },
        "outputId": "3f7635d9-e9b6-4353-f3f8-b1fe38fefd9c"
      },
      "execution_count": 68,
      "outputs": [
        {
          "output_type": "stream",
          "name": "stderr",
          "text": [
            "Llama.generate: prefix-match hit\n"
          ]
        },
        {
          "output_type": "stream",
          "name": "stdout",
          "text": [
            "###Answer\n",
            "The common symptoms for appendicitis include sudden onset of pain in the lower right abdomen, loss of appetite, nausea and vomiting, constipation or diarrhea, fever, and a feeling of being sick. Appendicitis cannot be cured via medicine alone as it requires surgical removal of the appendix to prevent rupture and potential complications such as peritonitis. The standard surgical procedure for treating appendicitis is an appendectomy, which can be performed laparoscopically or open depending on the severity of the case.\n"
          ]
        }
      ]
    },
    {
      "cell_type": "markdown",
      "source": [
        "**Observation:**\n",
        "* **Response1** is more source-driven but incomplete and truncated.\n",
        "\n",
        "* **Response2** is clearer, more complete, and more actionable for both medical and lay readers."
      ],
      "metadata": {
        "id": "iBSq-dpV_9IX"
      }
    },
    {
      "cell_type": "markdown",
      "metadata": {
        "id": "TggYyQPL6B0G"
      },
      "source": [
        "### Query 3: What are the effective treatments or solutions for addressing sudden patchy hair loss, commonly seen as localized bald spots on the scalp, and what could be the possible causes behind it?"
      ]
    },
    {
      "cell_type": "markdown",
      "source": [
        "Basic parameters"
      ],
      "metadata": {
        "id": "bGox2V8fAGwu"
      }
    },
    {
      "cell_type": "code",
      "source": [
        "user_input3 = 'What are the effective treatments or solutions for addressing sudden patchy hair loss, commonly seen as localized bald spots on the scalp, and what could be the possible causes behind it?'\n",
        "print(generate_rag_response(user_input3))"
      ],
      "metadata": {
        "id": "0aRbadGtRcX0",
        "colab": {
          "base_uri": "https://localhost:8080/"
        },
        "outputId": "f993ec1f-5b46-47ee-89af-93900e7efc82"
      },
      "execution_count": 69,
      "outputs": [
        {
          "output_type": "stream",
          "name": "stderr",
          "text": [
            "Llama.generate: prefix-match hit\n"
          ]
        },
        {
          "output_type": "stream",
          "name": "stdout",
          "text": [
            "Based on the provided context, the relevant chapters to consider for answering this question are Chapters 76 (Dermatitis) and 86 (Hair Disorders).\n",
            "\n",
            "First, let's discuss potential causes:\n",
            "1. Dermatitis: This is a common skin condition that can cause patchy hair loss. Various types of dermatitis include contact dermatitis, seborrheic dermatitis, and alopecia areata. Contact dermatitis results from an allergic or irritant reaction to substances like cosmetics, metals\n"
          ]
        }
      ]
    },
    {
      "cell_type": "markdown",
      "source": [
        "Fine Tuning - LLM Parameters\n",
        "Temperature = 0.7"
      ],
      "metadata": {
        "id": "DwT-2JbIAFIa"
      }
    },
    {
      "cell_type": "code",
      "source": [
        "user_input3 = 'What are the effective treatments or solutions for addressing sudden patchy hair loss, commonly seen as localized bald spots on the scalp, and what could be the possible causes behind it?'\n",
        "print(generate_rag_response(user_input3, temperature=0.7))"
      ],
      "metadata": {
        "id": "SUw2Rcbl46pE",
        "colab": {
          "base_uri": "https://localhost:8080/"
        },
        "outputId": "d4da067c-d46d-4749-c8fd-f0673fc28a94"
      },
      "execution_count": 70,
      "outputs": [
        {
          "output_type": "stream",
          "name": "stderr",
          "text": [
            "Llama.generate: prefix-match hit\n"
          ]
        },
        {
          "output_type": "stream",
          "name": "stdout",
          "text": [
            "Based on the context provided, Chapter 76 of the Merck Manual covers Dermatitis. While there isn't a specific mention of \"sudden patchy hair loss\" in the given text, dermatitis can cause hair loss as a symptom. The following are some causes and treatments for common types of dermatitis:\n",
            "\n",
            "1. **Contact Dermatitis**: This type is caused by an allergic or irritant reaction to certain substances that come into contact with the skin. Common causes include cosmetics, hair dyes, metals (like nickel),\n"
          ]
        }
      ]
    },
    {
      "cell_type": "markdown",
      "source": [
        "**Observation**\n",
        "* **Response1** is broader (two chapters, more conditions) but less explicit about context limitations.\n",
        "\n",
        "* **Response2** is more cautious and structured but narrower in scope.\n",
        "\n",
        "  A combined approach — acknowledging the context gap like Response 2, but including the wider condition coverage from Response 1 — would give the best result."
      ],
      "metadata": {
        "id": "7rIGA-dKy5Hz"
      }
    },
    {
      "cell_type": "markdown",
      "metadata": {
        "id": "1TgxdI-_6B0G"
      },
      "source": [
        "### Query 4:  What treatments are recommended for a person who has sustained a physical injury to brain tissue, resulting in temporary or permanent impairment of brain function?"
      ]
    },
    {
      "cell_type": "markdown",
      "source": [
        "Basic parameters"
      ],
      "metadata": {
        "id": "49km8kdLAO5W"
      }
    },
    {
      "cell_type": "code",
      "source": [
        "user_input4 = 'What treatments are recommended for a person who has sustained a physical injury to brain tissue, resulting in temporary or permanent impairment of brain function?'\n",
        "print(generate_rag_response(user_input4))"
      ],
      "metadata": {
        "id": "0vzRX1TcRc29",
        "colab": {
          "base_uri": "https://localhost:8080/"
        },
        "outputId": "91757fde-09d3-408e-de60-24d80fa3fb7d"
      },
      "execution_count": 71,
      "outputs": [
        {
          "output_type": "stream",
          "name": "stderr",
          "text": [
            "Llama.generate: prefix-match hit\n"
          ]
        },
        {
          "output_type": "stream",
          "name": "stdout",
          "text": [
            "Based on the context provided, the relevant chapters are 324 (Traumatic Brain Injury), 174 (Coma & Impaired Consciousness), and 175 (Delirium & Dementia). The Merck Manual discusses various aspects of brain injuries, including diagnosis, prognosis, and treatment.\n",
            "\n",
            "The treatments for a person with a brain injury may include:\n",
            "\n",
            "1. Supportive care: This includes maintaining adequate ventilation, controlling intracranial pressure, managing fluids and electrolytes, providing nutrition, and preventing complications such\n"
          ]
        }
      ]
    },
    {
      "cell_type": "markdown",
      "source": [
        "Fine Tuning - LLM Parameters\n",
        "Top_p = 0.8"
      ],
      "metadata": {
        "id": "Od2lYsSNASGr"
      }
    },
    {
      "cell_type": "code",
      "source": [
        "user_input4 = 'What treatments are recommended for a person who has sustained a physical injury to brain tissue, resulting in temporary or permanent impairment of brain function?'\n",
        "print(generate_rag_response(user_input4, top_p=0.8))"
      ],
      "metadata": {
        "id": "hvB1qF-B4-Iy",
        "colab": {
          "base_uri": "https://localhost:8080/"
        },
        "outputId": "0118650f-8e76-4ebe-9fc1-08dc1988357c"
      },
      "execution_count": 72,
      "outputs": [
        {
          "output_type": "stream",
          "name": "stderr",
          "text": [
            "Llama.generate: prefix-match hit\n"
          ]
        },
        {
          "output_type": "stream",
          "name": "stdout",
          "text": [
            "Based on the context provided, the relevant chapters are 324 (Traumatic Brain Injury), 174 (Coma & Impaired Consciousness), and 175 (Delirium & Dementia). The Merck Manual discusses various aspects of brain injuries, including diagnosis, prognosis, and treatment.\n",
            "\n",
            "The treatments for a person with a brain injury may include:\n",
            "\n",
            "1. Supportive care: This includes maintaining adequate ventilation, controlling intracranial pressure, managing fluid and electrolyte balance, providing nutritional support, and preventing\n"
          ]
        }
      ]
    },
    {
      "cell_type": "markdown",
      "source": [
        "**Observation**\n",
        "* Both are nearly identical in structure and content.\n",
        "\n",
        "* Both are cut off prematurely — likely due to max_tokens limit or early stop in generation.\n",
        "\n",
        "* Neither fully covers the complete treatment spectrum for brain injury.\n",
        "\n",
        "* Top_p = 0.8 setting in Response 2 doesn’t seem to have affected diversity since both are near duplicates.\n",
        "\n"
      ],
      "metadata": {
        "id": "40lW9GBxzhh8"
      }
    },
    {
      "cell_type": "markdown",
      "metadata": {
        "id": "FlHXYCkm6B0H"
      },
      "source": [
        "### Query 5: What are the necessary precautions and treatment steps for a person who has fractured their leg during a hiking trip, and what should be considered for their care and recovery?"
      ]
    },
    {
      "cell_type": "markdown",
      "source": [
        "Basic Parameters"
      ],
      "metadata": {
        "id": "qLZmu9BSAdKE"
      }
    },
    {
      "cell_type": "code",
      "source": [
        "user_input5 = 'What are the necessary precautions and treatment steps for a person who has fractured their leg during a hiking trip, and what should be considered for their care and recovery?'\n",
        "print(generate_rag_response(user_input5))"
      ],
      "metadata": {
        "id": "sarpUibcRdhq",
        "colab": {
          "base_uri": "https://localhost:8080/"
        },
        "outputId": "cfdde919-005f-4785-a7cb-d119124280bf"
      },
      "execution_count": 73,
      "outputs": [
        {
          "output_type": "stream",
          "name": "stderr",
          "text": [
            "Llama.generate: prefix-match hit\n"
          ]
        },
        {
          "output_type": "stream",
          "name": "stdout",
          "text": [
            "Based on the context provided, I do not find specific information regarding the necessary precautions and treatment steps for a person who has fractured their leg during a hiking trip. However, I can provide some general information about leg fractures and their management from Chapter 349 (Care of the Surgical Patient) in the Merck Manual:\n",
            "\n",
            "1. Immobilize the affected limb using a splint or cast to prevent further injury and promote healing.\n",
            "2. Apply ice packs intermittently to reduce swelling and pain.\n",
            "3. Administer pain medication as prescribed\n"
          ]
        }
      ]
    },
    {
      "cell_type": "markdown",
      "source": [
        "### Fine-tuning"
      ],
      "metadata": {
        "id": "K7TYrqycEITB"
      }
    },
    {
      "cell_type": "markdown",
      "source": [
        "Fine Tuning - LLM Parameters\n",
        "Top_k = 25"
      ],
      "metadata": {
        "id": "j8CA-qKvAlbW"
      }
    },
    {
      "cell_type": "code",
      "source": [
        "user_input5 = 'What are the necessary precautions and treatment steps for a person who has fractured their leg during a hiking trip, and what should be considered for their care and recovery?'\n",
        "print(generate_rag_response(user_input5, top_k=25))"
      ],
      "metadata": {
        "id": "7UYBR-hcReSo",
        "colab": {
          "base_uri": "https://localhost:8080/"
        },
        "outputId": "24f74f7d-e2e5-49cc-ec04-76347e5ac405"
      },
      "execution_count": 74,
      "outputs": [
        {
          "output_type": "stream",
          "name": "stderr",
          "text": [
            "Llama.generate: prefix-match hit\n"
          ]
        },
        {
          "output_type": "stream",
          "name": "stdout",
          "text": [
            "Based on the context provided, I do not find specific information regarding the necessary precautions and treatment steps for a person who has fractured their leg during a hiking trip. However, I can provide some general information about leg fractures and their care from Chapters 349 (Care of the Surgical Patient) and 350 (Rehabilitation).\n",
            "\n",
            "1. Precautions:\n",
            "   - Maintain immobilization to prevent further injury or displacement of the fracture.\n",
            "   - Monitor for signs of complications such as infection, nerve damage, or compartment\n"
          ]
        }
      ]
    },
    {
      "cell_type": "markdown",
      "source": [
        "**Observation**\n",
        "* **Response1** Very general, no explanation of when to seek advanced care or specifics on splinting.\n",
        "* **Response2** Adds more medically relevant advice (complication monitoring).\n",
        "Still lacks treatment details such as elevation, transport safety, and fracture stabilization technique.\n",
        "* **Response1** is short and overly general.\n",
        "\n",
        "* **Response2** is more comprehensive but still incomplete due to truncation."
      ],
      "metadata": {
        "id": "f-78USib0UCO"
      }
    },
    {
      "cell_type": "markdown",
      "metadata": {
        "id": "yyQrTipNfuBN"
      },
      "source": [
        "## Output Evaluation"
      ]
    },
    {
      "cell_type": "markdown",
      "metadata": {
        "id": "HbXMSxqa-65E"
      },
      "source": [
        "Let us now use the LLM-as-a-judge method to check the quality of the RAG system on two parameters - retrieval and generation. We illustrate this evaluation based on the answeres generated to the question from the previous section.\n",
        "\n",
        "- We are using the same Mistral model for evaluation, so basically here the llm is rating itself on how well he has performed in the task."
      ]
    },
    {
      "cell_type": "markdown",
      "source": [
        "Rating System"
      ],
      "metadata": {
        "id": "nOsPrlucAvXc"
      }
    },
    {
      "cell_type": "code",
      "source": [
        "groundedness_rater_system_message  = \"\"\"\n",
        "\n",
        "You will be presented a ###Question, ###Context used by the AI system and AI generated ###Answer.\n",
        "\n",
        "Your task is to judge the extent to which the ###Answer is derived from ###Context.\n",
        "\n",
        "Rate it 1 - if The ###Answer is not derived from the ###Context at all\n",
        "Rate it 2 - if The ###Answer is derived from the ###Context only to a limited extent\n",
        "Rate it 3 - if The ###Answer is derived from ###Context to a good extent\n",
        "Rate it 4 - if The ###Answer is derived from ###Context mostly\n",
        "Rate it 5 - if The ###Answer is is derived from ###Context completely\n",
        "\n",
        "Please note: Make sure you give a single overall rating in the range of 1 to 5 along with an overall explanation.\n",
        "\n",
        "Instructions:\n",
        "1. First write down the steps that are needed to evaluate the answer as per the metric.\n",
        "2. Give a step-by-step explanation if the answer adheres to the metric considering the question and context as the input.\n",
        "3. Next, evaluate the extent to which the metric is followed.\n",
        "4. Use the previous information to rate the answer using the evaluation criteria and assign a score.\n",
        "\n",
        "\"\"\""
      ],
      "metadata": {
        "id": "IHbfLAxAGdhW"
      },
      "execution_count": 75,
      "outputs": []
    },
    {
      "cell_type": "code",
      "source": [
        "relevance_rater_system_message = \"\"\"\n",
        "You are tasked with rating AI generated answers to questions posed by users.\n",
        "You will be presented a question, context used by the AI system to generate the answer and an AI generated answer to the question.\n",
        "In the input, the question will begin with ###Question, the context will begin with ###Context while the AI generated answer will begin with ###Answer.\n",
        "\n",
        "Evaluation criteria:\n",
        "The task is to judge the extent to which the metric is followed by the answer.\n",
        "1 - The metric is not followed at all\n",
        "2 - The metric is followed only to a limited extent\n",
        "3 - The metric is followed to a good extent\n",
        "4 - The metric is followed mostly\n",
        "5 - The metric is followed completely\n",
        "\n",
        "Metric:\n",
        "Relevance measures how well the answer addresses the main aspects of the question, based on the context.\n",
        "Consider whether all and only the important aspects are contained in the answer when evaluating relevance.\n",
        "\n",
        "Instructions:\n",
        "1. First write down the steps that are needed to evaluate the context as per the metric.\n",
        "2. Give a step-by-step explanation if the context adheres to the metric considering the question as the input.\n",
        "3. Next, evaluate the extent to which the metric is followed.\n",
        "4. Use the previous information to rate the context using the evaluation criteria and assign a score.\n",
        "\"\"\""
      ],
      "metadata": {
        "id": "159OZZa0Rinv"
      },
      "execution_count": 76,
      "outputs": []
    },
    {
      "cell_type": "code",
      "source": [
        "user_message_template = \"\"\"\n",
        "###Question\n",
        "{question}\n",
        "\n",
        "###Context\n",
        "{context}\n",
        "\n",
        "###Answer\n",
        "{answer}\n",
        "\"\"\""
      ],
      "metadata": {
        "id": "RLqiSn-iRwSl"
      },
      "execution_count": 77,
      "outputs": []
    },
    {
      "cell_type": "code",
      "source": [
        "def generate_ground_relevance_response(user_input,k=3,max_tokens=128,temperature=0,top_p=0.95,top_k=50):\n",
        "    global qna_system_message,qna_user_message_template\n",
        "    # Retrieve relevant document chunks\n",
        "    relevant_document_chunks = retriever.get_relevant_documents(query=user_input,k=3)\n",
        "    context_list = [d.page_content for d in relevant_document_chunks]\n",
        "    context_for_query = \". \".join(context_list)\n",
        "\n",
        "    # Combine user_prompt and system_message to create the prompt\n",
        "    prompt = f\"\"\"[INST]{qna_system_message}\\n\n",
        "                {'user'}: {qna_user_message_template.format(context=context_for_query, question=user_input)}\n",
        "                [/INST]\"\"\"\n",
        "\n",
        "    response = llm(\n",
        "            prompt=prompt,\n",
        "            max_tokens=max_tokens,\n",
        "            temperature=temperature,\n",
        "            top_p=top_p,\n",
        "            top_k=top_k,\n",
        "            stop=['INST'],\n",
        "            echo=False\n",
        "            )\n",
        "\n",
        "    answer =  response[\"choices\"][0][\"text\"]\n",
        "\n",
        "    # Combine user_prompt and system_message to create the prompt\n",
        "    groundedness_prompt = f\"\"\"[INST]{groundedness_rater_system_message}\\n\n",
        "                {'user'}: {user_message_template.format(context=context_for_query, question=user_input, answer=answer)}\n",
        "                [/INST]\"\"\"\n",
        "\n",
        "    # Combine user_prompt and system_message to create the prompt\n",
        "    relevance_prompt = f\"\"\"[INST]{relevance_rater_system_message}\\n\n",
        "                {'user'}: {user_message_template.format(context=context_for_query, question=user_input, answer=answer)}\n",
        "                [/INST]\"\"\"\n",
        "\n",
        "    response_1 = llm(\n",
        "            prompt=groundedness_prompt,\n",
        "            max_tokens=max_tokens,\n",
        "            temperature=temperature,\n",
        "            top_p=top_p,\n",
        "            top_k=top_k,\n",
        "            stop=['INST'],\n",
        "            echo=False\n",
        "            )\n",
        "\n",
        "    response_2 = llm(\n",
        "            prompt=relevance_prompt,\n",
        "            max_tokens=max_tokens,\n",
        "            temperature=temperature,\n",
        "            top_p=top_p,\n",
        "            top_k=top_k,\n",
        "            stop=['INST'],\n",
        "            echo=False\n",
        "            )\n",
        "\n",
        "    return response_1['choices'][0]['text'],response_2['choices'][0]['text']"
      ],
      "metadata": {
        "id": "XIbZybyuRi2p"
      },
      "execution_count": 78,
      "outputs": []
    },
    {
      "cell_type": "markdown",
      "metadata": {
        "id": "f6qxqyJLYA2x"
      },
      "source": [
        "### Query 1: What is the protocol for managing sepsis in a critical care unit?"
      ]
    },
    {
      "cell_type": "code",
      "execution_count": 87,
      "metadata": {
        "id": "ANzurSjuYA2x",
        "colab": {
          "base_uri": "https://localhost:8080/"
        },
        "outputId": "929e47a7-94f0-42ca-bbb4-7d5f1cfad0b2"
      },
      "outputs": [
        {
          "output_type": "stream",
          "name": "stderr",
          "text": [
            "Llama.generate: prefix-match hit\n",
            "Llama.generate: prefix-match hit\n",
            "Llama.generate: prefix-match hit\n"
          ]
        },
        {
          "output_type": "stream",
          "name": "stdout",
          "text": [
            " To evaluate the answer, we need to follow these steps:\n",
            "\n",
            "1. Identify the key information in the context related to sepsis management in a critical care unit.\n",
            "2. Compare this information with the steps mentioned in the answer.\n",
            "3. Determine the extent to which the answer is derived from the context.\n",
            "\n",
            "Step 1: The context provides several chapters related to various aspects of critical care, including one on shock and fluid resuscitation (Chapter 226), which discusses sepsis and septic shock in detail.\n",
            "\n",
            "Step 2: The answer mentions the following steps for managing sepsis in a critical care unit:\n",
            "\n",
            "   a. Recognize signs and symptoms of sepsis\n",
            "   b. Obtain diagnostic tests\n",
            "   c. Initiate fluid resuscitation\n",
            "   d. Administer antibiotics\n",
            "   e. Provide adequate oxygenation and ventilation\n",
            "   f. Monitor and manage hemodynamic instability\n",
            "   g. Correct electrolyte imbalances, acid-base disturbances, and coagulation abnormalities\n",
            "   h. Provide source control for the infection\n",
            "   i. Monitor and manage complications\n",
            "\n",
            "Step 3: The answer closely follows the information in the context. The context discusses recognizing sepsis signs and symptoms (Chapter 226), obtaining diagnostic tests, initiating fluid resuscitation, administering antibiotics, providing adequate oxygenation and ventilation, monitoring hemodynamic instability, correcting electrolyte imbalances, acid-base disturbances, and coagulation abnormalities, and managing complications. Therefore, the answer is derived from the context to a great extent (rating: 4).\n",
            "\n",
            "\n",
            "\n",
            " Steps to evaluate context as per relevance metric:\n",
            "1. Identify the main aspects of the question which are \"managing sepsis in a critical care unit\" and \"protocol\".\n",
            "2. Search for information related to these aspects in the context.\n",
            "3. Check if all important aspects are present in the context and if they are discussed in sufficient detail.\n",
            "4. Consider how well the context sets up or introduces the answer, as this can impact relevance.\n",
            "\n",
            "Context adherence to metric:\n",
            "The context does not directly address the question, but it does provide a comprehensive list of chapters related to various aspects of critical care medicine, including sepsis and shock management. The information is organized in a logical manner, making it easy to locate relevant sections. While the context itself does not contain an explicit protocol for managing sepsis in a critical care unit, it does provide a solid foundation for understanding the broader context of critical care management and sets up the answer well.\n",
            "\n",
            "Extent of metric following:\n",
            "The context follows the relevance metric mostly. It provides a wealth of information related to various aspects of critical care medicine, including sepsis and shock management, which is essential for understanding the protocol for managing sepsis in a critical care unit. However, it does not directly provide an answer to the question or explicitly outline a protocol for managing sepsis in a critical care unit.\n",
            "\n",
            "Rating based on evaluation criteria:\n",
            "Based on the provided context and question, I would rate its relevance as follows:\n",
            "3 - The metric is followed to a good extent.\n",
            "The context provides a solid foundation of knowledge related to various aspects of critical care medicine, including sepsis and shock management, which is essential for understanding the protocol for managing sepsis in a\n"
          ]
        }
      ],
      "source": [
        "user_input1 = 'What is the protocol for managing sepsis in a critical care unit?'\n",
        "ground,rel = generate_ground_relevance_response(user_input1,max_tokens=370)\n",
        "\n",
        "print(ground,end=\"\\n\\n\")\n",
        "print(rel)"
      ]
    },
    {
      "cell_type": "markdown",
      "source": [
        "**Observation:**\n",
        "\n",
        "* Groundedness (Score: 4/5)\n",
        "\n",
        "  Stepwise structure: Clearly outlines the evaluation steps (identify, compare, determine extent).\n",
        "  Detailed mapping: Lists each step in the answer (a–i) and matches them to context content (e.g., Chapter 226).\n",
        "  Specific reference: Mentions an actual chapter number where relevant content is located.\n",
        "\n",
        "  Logical conclusion: The 4/5 rating is justified with coverage alignment.\n",
        "\n",
        "* Relevance (Context Score: 3/5)\n",
        "\n",
        "  Defines what to look for (main aspects, completeness, detail level).\n",
        "  Notes that the context is rich in related information but lacks an explicit protocol.\n",
        "  \n",
        "  Honest limitation: Acknowledges that the context sets up the answer but doesn’t fully answer the question directly."
      ],
      "metadata": {
        "id": "kj642VT-BH3J"
      }
    },
    {
      "cell_type": "markdown",
      "metadata": {
        "id": "7A60Q6x3YA2y"
      },
      "source": [
        "### Query 2: What are the common symptoms for appendicitis, and can it be cured via medicine? If not, what surgical procedure should be followed to treat it?"
      ]
    },
    {
      "cell_type": "code",
      "execution_count": 83,
      "metadata": {
        "id": "LOZQyoLwYA2y",
        "colab": {
          "base_uri": "https://localhost:8080/"
        },
        "outputId": "d1d5b573-7c5c-4b8c-9436-213c2d780619"
      },
      "outputs": [
        {
          "output_type": "stream",
          "name": "stderr",
          "text": [
            "Llama.generate: prefix-match hit\n",
            "Llama.generate: prefix-match hit\n"
          ]
        },
        {
          "output_type": "stream",
          "name": "stdout",
          "text": [
            " To evaluate the answer, we need to follow these steps:\n",
            "\n",
            "1. Identify the key information in the question and context.\n",
            "2. Determine if the answer addresses the question directly.\n",
            "3. Evaluate how well the answer uses information from the context.\n",
            "\n",
            "The question asks about the common symptoms of appendicitis and whether it can be cured via medicine or if surgery is required. The context provided is a list of chapters from a medical textbook, with no direct relation to the question.\n",
            "\n",
            "The answer provides the common symptoms for appendicitis and states that it cannot be cured via medicine alone and requires surgery (appendectomy) for treatment.\n",
            "\n",
            "Based on this information, we can evaluate the answer as follows:\n",
            "\n",
            "1. The answer directly addresses the question by providing the common symptoms of appendicitis and explaining that it cannot be cured with medicine alone and requires surgery.\n",
            "2. The answer uses information from the context indirectly, as there is no specific context related to appendicitis or its treatment. However, the answer is based on medical knowledge that can be found in various chapters within the textbook.\n",
            "\n",
            "Therefore, I would rate the answer a 3 - it is derived from the context to a good extent, as it is based on accurate medical information that can be found within the textbook, even though there is no direct relation between the question and the provided context.\n",
            "\n",
            " To evaluate the context as per the relevance metric:\n",
            "1. Identify the main aspects of the question: common symptoms for appendicitis and whether it can be cured via medicine or if surgery is required.\n",
            "2. Determine if the context contains information related to these aspects.\n",
            "3. Check if all important aspects are covered in the context.\n",
            "\n",
            "The context does not directly address the question about common symptoms for appendicitis and whether it can be cured via medicine or requires surgery. However, it does contain relevant chapters on various disorders, including those related to the digestive system where appendicitis is classified. Therefore, the context may provide some indirectly relevant information that could help generate an answer.\n",
            "\n",
            "The extent to which the metric is followed:\n",
            "1 - The metric is not followed at all (the context does not directly address the question)\n",
            "2 - The metric is followed only to a limited extent (the context contains some potentially relevant information but may not cover all important aspects of the question)\n",
            "\n",
            "Based on the evaluation criteria, I would rate the context as:\n",
            "2 - The metric is followed only to a limited extent.\n",
            "\n",
            "The context does contain chapters related to various disorders, including those related to the digestive system where appendicitis is classified. However, it does not directly provide information about the common symptoms for appendicitis or whether it can be cured via medicine or requires surgery. Therefore, while some potentially relevant information may be present in the context, it may not be sufficient to generate a complete and accurate answer to the question.\n"
          ]
        }
      ],
      "source": [
        "user_input2 = 'What are the common symptoms for appendicitis, and can it be cured via medicine? If not, what surgical procedure should be followed to treat it?'\n",
        "ground,rel = generate_ground_relevance_response(user_input2,max_tokens=350)\n",
        "\n",
        "print(ground,end=\"\\n\\n\")\n",
        "print(rel)"
      ]
    },
    {
      "cell_type": "markdown",
      "source": [
        "**Observations:**\n",
        "* Groundedness (Score: 3/5)\n",
        "\n",
        "  Structured approach: Clearly lists steps for evaluation before scoring.\n",
        "  Direct question addressing: Confirms that the answer gives both the symptoms of appendicitis and the treatment approach (surgery).\n",
        "\n",
        "* Relevance (Context Score: 2/5)\n",
        "\n",
        "  Clear reasoning: Notes explicitly that the context contains chapters on digestive system disorders, which may include appendicitis.\n",
        "\n",
        "  Honest limitation acknowledgment: States the context does not directly cover symptoms or treatment specifics.\n",
        "\n"
      ],
      "metadata": {
        "id": "L_B0NjM4BMDz"
      }
    },
    {
      "cell_type": "markdown",
      "metadata": {
        "id": "ZmYnriTdYA2z"
      },
      "source": [
        "### Query 3: What are the effective treatments or solutions for addressing sudden patchy hair loss, commonly seen as localized bald spots on the scalp, and what could be the possible causes behind it?"
      ]
    },
    {
      "cell_type": "code",
      "execution_count": 84,
      "metadata": {
        "id": "Qp898M2iYA2z",
        "colab": {
          "base_uri": "https://localhost:8080/"
        },
        "outputId": "9657a465-f241-4b71-b434-aafefa521baa"
      },
      "outputs": [
        {
          "output_type": "stream",
          "name": "stderr",
          "text": [
            "Llama.generate: prefix-match hit\n",
            "Llama.generate: prefix-match hit\n",
            "Llama.generate: prefix-match hit\n"
          ]
        },
        {
          "output_type": "stream",
          "name": "stdout",
          "text": [
            " To evaluate the answer, we need to follow these steps:\n",
            "\n",
            "1. Identify the key information in the context related to the question.\n",
            "2. Determine if the answer mentions and correctly interprets the key information from the context.\n",
            "3. Evaluate the extent to which the answer goes beyond the context, if any.\n",
            "\n",
            "Firstly, the key information in the context is that Chapter 86 of The Merck Manual discusses hair disorders.\n",
            "\n",
            "Secondly, the answer correctly identifies this information and adds that sudden patchy hair loss can be caused by various conditions such as alopecia areata, telogen effluvium, or traction alopecia. It also mentions some treatments for these conditions based on The Merck Manual.\n",
            "\n",
            "Thirdly, the answer goes beyond the context to a good extent by providing more detailed information about each condition and their respective treatments. However, it does not provide any new or incorrect information.\n",
            "\n",
            "Therefore, I would rate the answer as a 4 because it is derived from the context mostly, but it also provides additional relevant information that is not explicitly stated in the context.\n",
            "\n",
            " Steps to evaluate the context as per the metric:\n",
            "1. Identify the chapters in the context that are relevant to the question about sudden patchy hair loss and its causes and treatments.\n",
            "2. Read through these chapters to understand the information they provide regarding the topic.\n",
            "3. Determine if the important aspects of the question, which include the causes and effective treatments for sudden patchy hair loss, are covered in the context.\n",
            "4. Check if any irrelevant information is present in the context that may detract from the relevance of the answer.\n",
            "\n",
            "The context adheres to the metric considering the question as the input:\n",
            "1. The context includes a chapter on Hair Disorders (Chapter 86), which is directly related to the question about sudden patchy hair loss.\n",
            "2. The information in Chapter 86 discusses various conditions that can cause sudden patchy hair loss, such as alopecia areata, telogen effluvium, and traction alopecia.\n",
            "3. The context also mentions treatments for these conditions, including topical corticosteroids, minoxidil, anthralin, injections of corticosteroids, systemic corticosteroids or immunomodulatory agents, avoiding tight hairstyles, and using gentle hair care techniques or hair transplantation.\n",
            "4. No irrelevant information is present in the context that may detract from the relevance of the answer.\n",
            "\n",
            "The metric is followed mostly:\n",
            "1. The context provides a comprehensive overview of the causes and treatments for sudden patchy hair loss, making it highly relevant to the question.\n",
            "2. All important aspects of the\n"
          ]
        }
      ],
      "source": [
        "user_input3 = 'What are the effective treatments or solutions for addressing sudden patchy hair loss, commonly seen as localized bald spots on the scalp, and what could be the possible causes behind it?'\n",
        "ground,rel = generate_ground_relevance_response(user_input3,max_tokens=350)\n",
        "\n",
        "print(ground,end=\"\\n\\n\")\n",
        "print(rel)"
      ]
    },
    {
      "cell_type": "markdown",
      "source": [
        "**Observations:**\n",
        "\n",
        "* Groundedness ( Score: 4/5)\n",
        "\n",
        "  Structured process: Lists explicit evaluation steps before giving the score.\n",
        "\n",
        "  Clear reasoning: Notes that the answer is mostly from the context but also includes relevant additions.\n",
        "\n",
        "  No hallucinations detected: States that added details are correct and relevant.\n",
        "\n",
        "* Relevance( Score: Mostly Relevant)\n",
        "\n",
        "  Topic alignment: Clearly matches question scope (“causes and treatments for sudden patchy hair loss”).\n",
        "\n",
        "  Detailed breakdown: Lists both causes and treatments as found in the context.\n",
        "\n",
        "  No irrelevant info: Explicitly states no unrelated content is present."
      ],
      "metadata": {
        "id": "_aWe4NDoBP8k"
      }
    },
    {
      "cell_type": "markdown",
      "metadata": {
        "id": "jz-lGsVxYA2z"
      },
      "source": [
        "### Query 4: What treatments are recommended for a person who has sustained a physical injury to brain tissue, resulting in temporary or permanent impairment of brain function?"
      ]
    },
    {
      "cell_type": "code",
      "execution_count": 85,
      "metadata": {
        "id": "gBRTYnFVYA2z",
        "colab": {
          "base_uri": "https://localhost:8080/"
        },
        "outputId": "e9b147d8-dd4e-40aa-b346-a721f798345c"
      },
      "outputs": [
        {
          "output_type": "stream",
          "name": "stderr",
          "text": [
            "Llama.generate: prefix-match hit\n",
            "Llama.generate: prefix-match hit\n",
            "Llama.generate: prefix-match hit\n"
          ]
        },
        {
          "output_type": "stream",
          "name": "stdout",
          "text": [
            " To evaluate the answer, we need to follow these steps:\n",
            "\n",
            "1. Identify the key concepts from the question and context. In this case, the key concepts are \"person,\" \"brain injury,\" \"temporary or permanent impairment of brain function,\" and \"treatments.\"\n",
            "2. Determine if the answer addresses all the key concepts from the question. The answer does address the person with a brain injury and the temporary or permanent impairment of brain function, as well as the recommended treatments.\n",
            "3. Check if the information in the answer is derived directly from the context. The answer mentions \"Chapter 324\" for the treatment recommendations, which is indeed present in the context. It also refers to \"Chapters 174, 180, and 182\" for additional information on brain injuries and their treatments, which are also present in the context.\n",
            "\n",
            "Based on this evaluation, I would rate the answer as a 5 because it is completely derived from the context. The answer accurately references specific chapters in the context that provide information about the treatment recommendations for a person with a traumatic brain injury.\n",
            "\n",
            " Steps to evaluate the context as per the relevance metric:\n",
            "1. Identify the main aspects of the question: The question asks about treatments for a person with a brain injury resulting in impairment of brain function.\n",
            "2. Determine if the context covers all and only the important aspects: The context mentions various types of injuries, including traumatic brain injury (TBI), and provides information on the treatment approaches for TBIs. This information is directly related to the question and covers an essential aspect of it.\n",
            "3. Evaluate the extent to which the metric is followed: The context follows the relevance metric mostly as it covers all important aspects of the question, providing detailed information about treatments for traumatic brain injuries.\n",
            "\n",
            "Rating the context using the evaluation criteria:\n",
            "Since the context follows the relevance metric mostly, I would rate it a 4 on the evaluation criteria scale.\n"
          ]
        }
      ],
      "source": [
        "user_input4 = 'What treatments are recommended for a person who has sustained a physical injury to brain tissue, resulting in temporary or permanent impairment of brain function?'\n",
        "ground,rel = generate_ground_relevance_response(user_input4,max_tokens=350)\n",
        "\n",
        "print(ground,end=\"\\n\\n\")\n",
        "print(rel)"
      ]
    },
    {
      "cell_type": "markdown",
      "source": [
        "**Observations:**\n",
        "* Groundedness (rating = 5/5)\n",
        "\n",
        "  Cites specific chapters and claims the answer is drawn from them.\n",
        "* Relevance (rating = 4/5)\n",
        "\n",
        "  Identifies the main ask (treatments for TBI) and says the context covers it."
      ],
      "metadata": {
        "id": "euuFfJ2NBTMV"
      }
    },
    {
      "cell_type": "markdown",
      "metadata": {
        "id": "x2WxSxzDYA2z"
      },
      "source": [
        "### Query 5: What are the necessary precautions and treatment steps for a person who has fractured their leg during a hiking trip, and what should be considered for their care and recovery?"
      ]
    },
    {
      "cell_type": "code",
      "execution_count": 86,
      "metadata": {
        "id": "mKCq09_YYA20",
        "colab": {
          "base_uri": "https://localhost:8080/"
        },
        "outputId": "53ad5c6e-09e1-4cb1-a6b6-c612b676ab73"
      },
      "outputs": [
        {
          "output_type": "stream",
          "name": "stderr",
          "text": [
            "Llama.generate: prefix-match hit\n",
            "Llama.generate: prefix-match hit\n",
            "Llama.generate: prefix-match hit\n"
          ]
        },
        {
          "output_type": "stream",
          "name": "stdout",
          "text": [
            " The answer provided is derived from the context to a good extent (rating: 3). The context includes chapters related to \"Care of the Surgical Patient\" and \"Rehabilitation,\" which directly address the necessary precautions and treatment steps for a person with a fractured leg. The answer covers several aspects, such as immobilization, pain management, positioning, nutrition, infection prevention, mobility assistance, and rehabilitation services, all of which are discussed in the context. However, some parts of the answer, like psychological support and return-to-work considerations, are not explicitly mentioned in the context but are generally applicable to patients with injuries or health conditions.\n",
            "\n",
            " To evaluate the context as per the relevance metric, the following steps are needed:\n",
            "\n",
            "1. Identify the main aspects of the question: necessary precautions and treatment steps for a person who has fractured their leg during a hiking trip, and what should be considered for their care and recovery.\n",
            "2. Search through the context to find information related to the identified aspects.\n",
            "3. Evaluate each piece of information found in the context to determine if it addresses the main aspects of the question.\n",
            "4. Determine if all important aspects are contained in the answer when evaluating relevance.\n",
            "\n",
            "The context adheres to the metric considering the question as the input because:\n",
            "\n",
            "1. The context includes chapters related to foot and ankle disorders, which is a relevant area for a fractured leg.\n",
            "2. Within the chapter on foot and ankle disorders, there are sections discussing care of the patient with various types of injuries, including fractures.\n",
            "3. These sections provide information on necessary precautions (immobilization, ice packs, pain management) and treatment steps (elevation, position changes, balanced diet, monitoring for infection, assistance with mobility, gentle exercises) for a person with a fractured leg.\n",
            "4. The context also includes sections discussing rehabilitation services, psychological support, home environment adjustments, return-to-work considerations, and long-term follow-up care, which are all relevant considerations for the care and recovery of a person with a fractured leg.\n",
            "\n",
            "Based on this evaluation, the metric is followed mostly (score 4) in the context because it provides comprehensive information addressing both the necessary precautions and\n"
          ]
        }
      ],
      "source": [
        "user_input5 = 'What are the necessary precautions and treatment steps for a person who has fractured their leg during a hiking trip, and what should be considered for their care and recovery?'\n",
        "ground,rel = generate_ground_relevance_response(user_input5,max_tokens=350)\n",
        "\n",
        "print(ground,end=\"\\n\\n\")\n",
        "print(rel)"
      ]
    },
    {
      "cell_type": "markdown",
      "source": [
        "**Observations:**\n",
        "* Groundedness: 2–3/5 (depending on whether those rehab/psych sections truly exist in context).\n",
        "\n",
        "* Relevance: 3–4/5 (good topical alignment, but weak evidence + truncation)."
      ],
      "metadata": {
        "id": "CV2h5d3dBV1k"
      }
    },
    {
      "cell_type": "markdown",
      "metadata": {
        "id": "Y7QICRU-njdj"
      },
      "source": [
        "## Actionable Insights and Business Recommendations"
      ]
    },
    {
      "cell_type": "markdown",
      "source": [
        "**Business Insights**\n",
        "\n",
        "* **Accuracy and Trustworthiness**\n",
        "\n",
        "  RAG-based answers deliver context-specific, reliable, and trustworthy information, enhancing customer confidence and satisfaction in medical applications.\n",
        "\n",
        "* **Enhanced User Experience**\n",
        "\n",
        "  The RAG model provides personalized, contextually relevant, and highly accurate responses, improving overall user engagement.\n",
        "\n",
        "* **Cost Optimization in Medical Consultations**\n",
        "\n",
        "  By automating medical Q&A, the model reduces the need for routine consultations, lowering costs in telemedicine and healthcare support services.\n",
        "\n",
        "**Recommendations**\n",
        "\n",
        "* **Ongoing Fine-Tuning**\n",
        "\n",
        "  Regularly update and fine-tune the model to align with the latest medical guidelines and research findings.\n",
        "\n",
        "* **Ethical Compliance**\n",
        "\n",
        "  Prioritize data privacy and security to ensure adherence to regulations such as HIPAA and GDPR.\n",
        "\n",
        "* **Specialized Model Development**\n",
        "\n",
        "  Create dedicated models for specific medical domains such as orthopedics, gastroenterology, and oncology to further enhance accuracy and relevance."
      ],
      "metadata": {
        "id": "OcsRpOP-6BCZ"
      }
    },
    {
      "cell_type": "markdown",
      "metadata": {
        "id": "ybRlzaIhWaM9"
      },
      "source": [
        "<font size=6 color='blue'>Power Ahead</font>\n",
        "___"
      ]
    }
  ],
  "metadata": {
    "colab": {
      "collapsed_sections": [
        "3CNz35ia6Bz3",
        "CkRbhMJH6Bz3",
        "CARPKFwm6Bz4",
        "by9EvAnkSpZf",
        "TtZWqj0wFTS1",
        "Uq1lhM4WFTS2",
        "EzzkvIXvFTS4",
        "K8YgK91SFjVY",
        "J6yxICeVFjVc",
        "oflaoOGiFjVd",
        "WUUqY4FbFjVe",
        "5laPFTHrFjVf",
        "g5myZ5dOOefc",
        "9Jg3r_LWOeff",
        "iYpyw4HjOeff",
        "dRp92JQZOeff",
        "AA45zwyUOefg",
        "TYXxiSuBOefg",
        "ffj0ca3eZT4u",
        "f9weTDzMxRRS",
        "7-wNNalNxPKT",
        "LECMxTH-zB-R",
        "BvHVejcWz0Bl",
        "qiKCOv4X0d7B",
        "uEa5sKc41T1z",
        "vw8qcwq66B0C",
        "ffP1SRYbPQHN",
        "JjajBEj06B0E",
        "QDw8zXuq6B0F",
        "TggYyQPL6B0G",
        "1TgxdI-_6B0G",
        "FlHXYCkm6B0H",
        "K7TYrqycEITB"
      ],
      "gpuType": "T4",
      "provenance": []
    },
    "kernel_info": {
      "name": "python310-sdkv2"
    },
    "kernelspec": {
      "display_name": "Python 3",
      "name": "python3"
    },
    "language_info": {
      "name": "python"
    },
    "microsoft": {
      "host": {
        "AzureML": {
          "notebookHasBeenCompleted": true
        }
      },
      "ms_spell_check": {
        "ms_spell_check_language": "en"
      }
    },
    "nteract": {
      "version": "nteract-front-end@1.0.0"
    },
    "accelerator": "GPU",
    "widgets": {
      "application/vnd.jupyter.widget-state+json": {
        "b1abb95f93eb4af1b28af33295a8c057": {
          "model_module": "@jupyter-widgets/controls",
          "model_name": "HBoxModel",
          "model_module_version": "1.5.0",
          "state": {
            "_dom_classes": [],
            "_model_module": "@jupyter-widgets/controls",
            "_model_module_version": "1.5.0",
            "_model_name": "HBoxModel",
            "_view_count": null,
            "_view_module": "@jupyter-widgets/controls",
            "_view_module_version": "1.5.0",
            "_view_name": "HBoxView",
            "box_style": "",
            "children": [
              "IPY_MODEL_b9741e85e23041cdac8e1e1505685ced",
              "IPY_MODEL_b70b131f23c649a6afd492cd1800c626",
              "IPY_MODEL_160bad23b574415bb059c6b9bd8c7491"
            ],
            "layout": "IPY_MODEL_20c175f01eb549f4b1b657bb446704e9"
          }
        },
        "b9741e85e23041cdac8e1e1505685ced": {
          "model_module": "@jupyter-widgets/controls",
          "model_name": "HTMLModel",
          "model_module_version": "1.5.0",
          "state": {
            "_dom_classes": [],
            "_model_module": "@jupyter-widgets/controls",
            "_model_module_version": "1.5.0",
            "_model_name": "HTMLModel",
            "_view_count": null,
            "_view_module": "@jupyter-widgets/controls",
            "_view_module_version": "1.5.0",
            "_view_name": "HTMLView",
            "description": "",
            "description_tooltip": null,
            "layout": "IPY_MODEL_514f90e87d0a43c38ed24632991d0387",
            "placeholder": "​",
            "style": "IPY_MODEL_9e4c9e1f117447c68a67f30f66160f24",
            "value": "mistral-7b-instruct-v0.2.Q6_K.gguf: 100%"
          }
        },
        "b70b131f23c649a6afd492cd1800c626": {
          "model_module": "@jupyter-widgets/controls",
          "model_name": "FloatProgressModel",
          "model_module_version": "1.5.0",
          "state": {
            "_dom_classes": [],
            "_model_module": "@jupyter-widgets/controls",
            "_model_module_version": "1.5.0",
            "_model_name": "FloatProgressModel",
            "_view_count": null,
            "_view_module": "@jupyter-widgets/controls",
            "_view_module_version": "1.5.0",
            "_view_name": "ProgressView",
            "bar_style": "success",
            "description": "",
            "description_tooltip": null,
            "layout": "IPY_MODEL_145fcbfb23774256ad06991f80befeb1",
            "max": 5942065440,
            "min": 0,
            "orientation": "horizontal",
            "style": "IPY_MODEL_f1985b30b7cf4936a630545fd77db146",
            "value": 5942065440
          }
        },
        "160bad23b574415bb059c6b9bd8c7491": {
          "model_module": "@jupyter-widgets/controls",
          "model_name": "HTMLModel",
          "model_module_version": "1.5.0",
          "state": {
            "_dom_classes": [],
            "_model_module": "@jupyter-widgets/controls",
            "_model_module_version": "1.5.0",
            "_model_name": "HTMLModel",
            "_view_count": null,
            "_view_module": "@jupyter-widgets/controls",
            "_view_module_version": "1.5.0",
            "_view_name": "HTMLView",
            "description": "",
            "description_tooltip": null,
            "layout": "IPY_MODEL_0cd4964c0bdf417a8e5d2ed6fb9b5565",
            "placeholder": "​",
            "style": "IPY_MODEL_98cc1563bc5d481b9dd890b02e8d99c1",
            "value": " 5.94G/5.94G [00:31&lt;00:00, 239MB/s]"
          }
        },
        "20c175f01eb549f4b1b657bb446704e9": {
          "model_module": "@jupyter-widgets/base",
          "model_name": "LayoutModel",
          "model_module_version": "1.2.0",
          "state": {
            "_model_module": "@jupyter-widgets/base",
            "_model_module_version": "1.2.0",
            "_model_name": "LayoutModel",
            "_view_count": null,
            "_view_module": "@jupyter-widgets/base",
            "_view_module_version": "1.2.0",
            "_view_name": "LayoutView",
            "align_content": null,
            "align_items": null,
            "align_self": null,
            "border": null,
            "bottom": null,
            "display": null,
            "flex": null,
            "flex_flow": null,
            "grid_area": null,
            "grid_auto_columns": null,
            "grid_auto_flow": null,
            "grid_auto_rows": null,
            "grid_column": null,
            "grid_gap": null,
            "grid_row": null,
            "grid_template_areas": null,
            "grid_template_columns": null,
            "grid_template_rows": null,
            "height": null,
            "justify_content": null,
            "justify_items": null,
            "left": null,
            "margin": null,
            "max_height": null,
            "max_width": null,
            "min_height": null,
            "min_width": null,
            "object_fit": null,
            "object_position": null,
            "order": null,
            "overflow": null,
            "overflow_x": null,
            "overflow_y": null,
            "padding": null,
            "right": null,
            "top": null,
            "visibility": null,
            "width": null
          }
        },
        "514f90e87d0a43c38ed24632991d0387": {
          "model_module": "@jupyter-widgets/base",
          "model_name": "LayoutModel",
          "model_module_version": "1.2.0",
          "state": {
            "_model_module": "@jupyter-widgets/base",
            "_model_module_version": "1.2.0",
            "_model_name": "LayoutModel",
            "_view_count": null,
            "_view_module": "@jupyter-widgets/base",
            "_view_module_version": "1.2.0",
            "_view_name": "LayoutView",
            "align_content": null,
            "align_items": null,
            "align_self": null,
            "border": null,
            "bottom": null,
            "display": null,
            "flex": null,
            "flex_flow": null,
            "grid_area": null,
            "grid_auto_columns": null,
            "grid_auto_flow": null,
            "grid_auto_rows": null,
            "grid_column": null,
            "grid_gap": null,
            "grid_row": null,
            "grid_template_areas": null,
            "grid_template_columns": null,
            "grid_template_rows": null,
            "height": null,
            "justify_content": null,
            "justify_items": null,
            "left": null,
            "margin": null,
            "max_height": null,
            "max_width": null,
            "min_height": null,
            "min_width": null,
            "object_fit": null,
            "object_position": null,
            "order": null,
            "overflow": null,
            "overflow_x": null,
            "overflow_y": null,
            "padding": null,
            "right": null,
            "top": null,
            "visibility": null,
            "width": null
          }
        },
        "9e4c9e1f117447c68a67f30f66160f24": {
          "model_module": "@jupyter-widgets/controls",
          "model_name": "DescriptionStyleModel",
          "model_module_version": "1.5.0",
          "state": {
            "_model_module": "@jupyter-widgets/controls",
            "_model_module_version": "1.5.0",
            "_model_name": "DescriptionStyleModel",
            "_view_count": null,
            "_view_module": "@jupyter-widgets/base",
            "_view_module_version": "1.2.0",
            "_view_name": "StyleView",
            "description_width": ""
          }
        },
        "145fcbfb23774256ad06991f80befeb1": {
          "model_module": "@jupyter-widgets/base",
          "model_name": "LayoutModel",
          "model_module_version": "1.2.0",
          "state": {
            "_model_module": "@jupyter-widgets/base",
            "_model_module_version": "1.2.0",
            "_model_name": "LayoutModel",
            "_view_count": null,
            "_view_module": "@jupyter-widgets/base",
            "_view_module_version": "1.2.0",
            "_view_name": "LayoutView",
            "align_content": null,
            "align_items": null,
            "align_self": null,
            "border": null,
            "bottom": null,
            "display": null,
            "flex": null,
            "flex_flow": null,
            "grid_area": null,
            "grid_auto_columns": null,
            "grid_auto_flow": null,
            "grid_auto_rows": null,
            "grid_column": null,
            "grid_gap": null,
            "grid_row": null,
            "grid_template_areas": null,
            "grid_template_columns": null,
            "grid_template_rows": null,
            "height": null,
            "justify_content": null,
            "justify_items": null,
            "left": null,
            "margin": null,
            "max_height": null,
            "max_width": null,
            "min_height": null,
            "min_width": null,
            "object_fit": null,
            "object_position": null,
            "order": null,
            "overflow": null,
            "overflow_x": null,
            "overflow_y": null,
            "padding": null,
            "right": null,
            "top": null,
            "visibility": null,
            "width": null
          }
        },
        "f1985b30b7cf4936a630545fd77db146": {
          "model_module": "@jupyter-widgets/controls",
          "model_name": "ProgressStyleModel",
          "model_module_version": "1.5.0",
          "state": {
            "_model_module": "@jupyter-widgets/controls",
            "_model_module_version": "1.5.0",
            "_model_name": "ProgressStyleModel",
            "_view_count": null,
            "_view_module": "@jupyter-widgets/base",
            "_view_module_version": "1.2.0",
            "_view_name": "StyleView",
            "bar_color": null,
            "description_width": ""
          }
        },
        "0cd4964c0bdf417a8e5d2ed6fb9b5565": {
          "model_module": "@jupyter-widgets/base",
          "model_name": "LayoutModel",
          "model_module_version": "1.2.0",
          "state": {
            "_model_module": "@jupyter-widgets/base",
            "_model_module_version": "1.2.0",
            "_model_name": "LayoutModel",
            "_view_count": null,
            "_view_module": "@jupyter-widgets/base",
            "_view_module_version": "1.2.0",
            "_view_name": "LayoutView",
            "align_content": null,
            "align_items": null,
            "align_self": null,
            "border": null,
            "bottom": null,
            "display": null,
            "flex": null,
            "flex_flow": null,
            "grid_area": null,
            "grid_auto_columns": null,
            "grid_auto_flow": null,
            "grid_auto_rows": null,
            "grid_column": null,
            "grid_gap": null,
            "grid_row": null,
            "grid_template_areas": null,
            "grid_template_columns": null,
            "grid_template_rows": null,
            "height": null,
            "justify_content": null,
            "justify_items": null,
            "left": null,
            "margin": null,
            "max_height": null,
            "max_width": null,
            "min_height": null,
            "min_width": null,
            "object_fit": null,
            "object_position": null,
            "order": null,
            "overflow": null,
            "overflow_x": null,
            "overflow_y": null,
            "padding": null,
            "right": null,
            "top": null,
            "visibility": null,
            "width": null
          }
        },
        "98cc1563bc5d481b9dd890b02e8d99c1": {
          "model_module": "@jupyter-widgets/controls",
          "model_name": "DescriptionStyleModel",
          "model_module_version": "1.5.0",
          "state": {
            "_model_module": "@jupyter-widgets/controls",
            "_model_module_version": "1.5.0",
            "_model_name": "DescriptionStyleModel",
            "_view_count": null,
            "_view_module": "@jupyter-widgets/base",
            "_view_module_version": "1.2.0",
            "_view_name": "StyleView",
            "description_width": ""
          }
        },
        "176590e9f15c46e0bd8639d455dd9bfa": {
          "model_module": "@jupyter-widgets/controls",
          "model_name": "HBoxModel",
          "model_module_version": "1.5.0",
          "state": {
            "_dom_classes": [],
            "_model_module": "@jupyter-widgets/controls",
            "_model_module_version": "1.5.0",
            "_model_name": "HBoxModel",
            "_view_count": null,
            "_view_module": "@jupyter-widgets/controls",
            "_view_module_version": "1.5.0",
            "_view_name": "HBoxView",
            "box_style": "",
            "children": [
              "IPY_MODEL_5696ec4332ca42d584dc12b2edd1ff76",
              "IPY_MODEL_e2cc5d2ca948469db2ca8e9dcac7167d",
              "IPY_MODEL_9fe5a1c77e354f0ab77403ea3d135256"
            ],
            "layout": "IPY_MODEL_227a0857f5174d9a949703310585ef42"
          }
        },
        "5696ec4332ca42d584dc12b2edd1ff76": {
          "model_module": "@jupyter-widgets/controls",
          "model_name": "HTMLModel",
          "model_module_version": "1.5.0",
          "state": {
            "_dom_classes": [],
            "_model_module": "@jupyter-widgets/controls",
            "_model_module_version": "1.5.0",
            "_model_name": "HTMLModel",
            "_view_count": null,
            "_view_module": "@jupyter-widgets/controls",
            "_view_module_version": "1.5.0",
            "_view_name": "HTMLView",
            "description": "",
            "description_tooltip": null,
            "layout": "IPY_MODEL_f5ca5f6600ed49f4bde7c23b2b8d566a",
            "placeholder": "​",
            "style": "IPY_MODEL_ff35f480095f42b9a74251c95d8014cd",
            "value": ""
          }
        },
        "e2cc5d2ca948469db2ca8e9dcac7167d": {
          "model_module": "@jupyter-widgets/controls",
          "model_name": "FloatProgressModel",
          "model_module_version": "1.5.0",
          "state": {
            "_dom_classes": [],
            "_model_module": "@jupyter-widgets/controls",
            "_model_module_version": "1.5.0",
            "_model_name": "FloatProgressModel",
            "_view_count": null,
            "_view_module": "@jupyter-widgets/controls",
            "_view_module_version": "1.5.0",
            "_view_name": "ProgressView",
            "bar_style": "success",
            "description": "",
            "description_tooltip": null,
            "layout": "IPY_MODEL_11445e0056c24193bd840896e820f8c6",
            "max": 1,
            "min": 0,
            "orientation": "horizontal",
            "style": "IPY_MODEL_b1fd08480dc74feba2f3804e1c8eef9c",
            "value": 0
          }
        },
        "9fe5a1c77e354f0ab77403ea3d135256": {
          "model_module": "@jupyter-widgets/controls",
          "model_name": "HTMLModel",
          "model_module_version": "1.5.0",
          "state": {
            "_dom_classes": [],
            "_model_module": "@jupyter-widgets/controls",
            "_model_module_version": "1.5.0",
            "_model_name": "HTMLModel",
            "_view_count": null,
            "_view_module": "@jupyter-widgets/controls",
            "_view_module_version": "1.5.0",
            "_view_name": "HTMLView",
            "description": "",
            "description_tooltip": null,
            "layout": "IPY_MODEL_a4dfe08e845b4c609607096964805bca",
            "placeholder": "​",
            "style": "IPY_MODEL_4022206fcb2648c4bd77fc3824dcc4c9",
            "value": " 0/0 [00:00&lt;?, ?it/s]"
          }
        },
        "227a0857f5174d9a949703310585ef42": {
          "model_module": "@jupyter-widgets/base",
          "model_name": "LayoutModel",
          "model_module_version": "1.2.0",
          "state": {
            "_model_module": "@jupyter-widgets/base",
            "_model_module_version": "1.2.0",
            "_model_name": "LayoutModel",
            "_view_count": null,
            "_view_module": "@jupyter-widgets/base",
            "_view_module_version": "1.2.0",
            "_view_name": "LayoutView",
            "align_content": null,
            "align_items": null,
            "align_self": null,
            "border": null,
            "bottom": null,
            "display": null,
            "flex": null,
            "flex_flow": null,
            "grid_area": null,
            "grid_auto_columns": null,
            "grid_auto_flow": null,
            "grid_auto_rows": null,
            "grid_column": null,
            "grid_gap": null,
            "grid_row": null,
            "grid_template_areas": null,
            "grid_template_columns": null,
            "grid_template_rows": null,
            "height": null,
            "justify_content": null,
            "justify_items": null,
            "left": null,
            "margin": null,
            "max_height": null,
            "max_width": null,
            "min_height": null,
            "min_width": null,
            "object_fit": null,
            "object_position": null,
            "order": null,
            "overflow": null,
            "overflow_x": null,
            "overflow_y": null,
            "padding": null,
            "right": null,
            "top": null,
            "visibility": null,
            "width": null
          }
        },
        "f5ca5f6600ed49f4bde7c23b2b8d566a": {
          "model_module": "@jupyter-widgets/base",
          "model_name": "LayoutModel",
          "model_module_version": "1.2.0",
          "state": {
            "_model_module": "@jupyter-widgets/base",
            "_model_module_version": "1.2.0",
            "_model_name": "LayoutModel",
            "_view_count": null,
            "_view_module": "@jupyter-widgets/base",
            "_view_module_version": "1.2.0",
            "_view_name": "LayoutView",
            "align_content": null,
            "align_items": null,
            "align_self": null,
            "border": null,
            "bottom": null,
            "display": null,
            "flex": null,
            "flex_flow": null,
            "grid_area": null,
            "grid_auto_columns": null,
            "grid_auto_flow": null,
            "grid_auto_rows": null,
            "grid_column": null,
            "grid_gap": null,
            "grid_row": null,
            "grid_template_areas": null,
            "grid_template_columns": null,
            "grid_template_rows": null,
            "height": null,
            "justify_content": null,
            "justify_items": null,
            "left": null,
            "margin": null,
            "max_height": null,
            "max_width": null,
            "min_height": null,
            "min_width": null,
            "object_fit": null,
            "object_position": null,
            "order": null,
            "overflow": null,
            "overflow_x": null,
            "overflow_y": null,
            "padding": null,
            "right": null,
            "top": null,
            "visibility": null,
            "width": null
          }
        },
        "ff35f480095f42b9a74251c95d8014cd": {
          "model_module": "@jupyter-widgets/controls",
          "model_name": "DescriptionStyleModel",
          "model_module_version": "1.5.0",
          "state": {
            "_model_module": "@jupyter-widgets/controls",
            "_model_module_version": "1.5.0",
            "_model_name": "DescriptionStyleModel",
            "_view_count": null,
            "_view_module": "@jupyter-widgets/base",
            "_view_module_version": "1.2.0",
            "_view_name": "StyleView",
            "description_width": ""
          }
        },
        "11445e0056c24193bd840896e820f8c6": {
          "model_module": "@jupyter-widgets/base",
          "model_name": "LayoutModel",
          "model_module_version": "1.2.0",
          "state": {
            "_model_module": "@jupyter-widgets/base",
            "_model_module_version": "1.2.0",
            "_model_name": "LayoutModel",
            "_view_count": null,
            "_view_module": "@jupyter-widgets/base",
            "_view_module_version": "1.2.0",
            "_view_name": "LayoutView",
            "align_content": null,
            "align_items": null,
            "align_self": null,
            "border": null,
            "bottom": null,
            "display": null,
            "flex": null,
            "flex_flow": null,
            "grid_area": null,
            "grid_auto_columns": null,
            "grid_auto_flow": null,
            "grid_auto_rows": null,
            "grid_column": null,
            "grid_gap": null,
            "grid_row": null,
            "grid_template_areas": null,
            "grid_template_columns": null,
            "grid_template_rows": null,
            "height": null,
            "justify_content": null,
            "justify_items": null,
            "left": null,
            "margin": null,
            "max_height": null,
            "max_width": null,
            "min_height": null,
            "min_width": null,
            "object_fit": null,
            "object_position": null,
            "order": null,
            "overflow": null,
            "overflow_x": null,
            "overflow_y": null,
            "padding": null,
            "right": null,
            "top": null,
            "visibility": null,
            "width": "20px"
          }
        },
        "b1fd08480dc74feba2f3804e1c8eef9c": {
          "model_module": "@jupyter-widgets/controls",
          "model_name": "ProgressStyleModel",
          "model_module_version": "1.5.0",
          "state": {
            "_model_module": "@jupyter-widgets/controls",
            "_model_module_version": "1.5.0",
            "_model_name": "ProgressStyleModel",
            "_view_count": null,
            "_view_module": "@jupyter-widgets/base",
            "_view_module_version": "1.2.0",
            "_view_name": "StyleView",
            "bar_color": null,
            "description_width": ""
          }
        },
        "a4dfe08e845b4c609607096964805bca": {
          "model_module": "@jupyter-widgets/base",
          "model_name": "LayoutModel",
          "model_module_version": "1.2.0",
          "state": {
            "_model_module": "@jupyter-widgets/base",
            "_model_module_version": "1.2.0",
            "_model_name": "LayoutModel",
            "_view_count": null,
            "_view_module": "@jupyter-widgets/base",
            "_view_module_version": "1.2.0",
            "_view_name": "LayoutView",
            "align_content": null,
            "align_items": null,
            "align_self": null,
            "border": null,
            "bottom": null,
            "display": null,
            "flex": null,
            "flex_flow": null,
            "grid_area": null,
            "grid_auto_columns": null,
            "grid_auto_flow": null,
            "grid_auto_rows": null,
            "grid_column": null,
            "grid_gap": null,
            "grid_row": null,
            "grid_template_areas": null,
            "grid_template_columns": null,
            "grid_template_rows": null,
            "height": null,
            "justify_content": null,
            "justify_items": null,
            "left": null,
            "margin": null,
            "max_height": null,
            "max_width": null,
            "min_height": null,
            "min_width": null,
            "object_fit": null,
            "object_position": null,
            "order": null,
            "overflow": null,
            "overflow_x": null,
            "overflow_y": null,
            "padding": null,
            "right": null,
            "top": null,
            "visibility": null,
            "width": null
          }
        },
        "4022206fcb2648c4bd77fc3824dcc4c9": {
          "model_module": "@jupyter-widgets/controls",
          "model_name": "DescriptionStyleModel",
          "model_module_version": "1.5.0",
          "state": {
            "_model_module": "@jupyter-widgets/controls",
            "_model_module_version": "1.5.0",
            "_model_name": "DescriptionStyleModel",
            "_view_count": null,
            "_view_module": "@jupyter-widgets/base",
            "_view_module_version": "1.2.0",
            "_view_name": "StyleView",
            "description_width": ""
          }
        },
        "d1403cf287764614abafeb4f6e85c119": {
          "model_module": "@jupyter-widgets/controls",
          "model_name": "HBoxModel",
          "model_module_version": "1.5.0",
          "state": {
            "_dom_classes": [],
            "_model_module": "@jupyter-widgets/controls",
            "_model_module_version": "1.5.0",
            "_model_name": "HBoxModel",
            "_view_count": null,
            "_view_module": "@jupyter-widgets/controls",
            "_view_module_version": "1.5.0",
            "_view_name": "HBoxView",
            "box_style": "",
            "children": [
              "IPY_MODEL_23708ad5da4a4228949a3dddce686027",
              "IPY_MODEL_495ea0e5706740c28a05d20c7c808547",
              "IPY_MODEL_957d8048ae8d4cecb753417ed2c14e8a"
            ],
            "layout": "IPY_MODEL_065c5100d2804529b09eae7055150ae4"
          }
        },
        "23708ad5da4a4228949a3dddce686027": {
          "model_module": "@jupyter-widgets/controls",
          "model_name": "HTMLModel",
          "model_module_version": "1.5.0",
          "state": {
            "_dom_classes": [],
            "_model_module": "@jupyter-widgets/controls",
            "_model_module_version": "1.5.0",
            "_model_name": "HTMLModel",
            "_view_count": null,
            "_view_module": "@jupyter-widgets/controls",
            "_view_module_version": "1.5.0",
            "_view_name": "HTMLView",
            "description": "",
            "description_tooltip": null,
            "layout": "IPY_MODEL_0cb62652cac54b24b4c1edbd96308921",
            "placeholder": "​",
            "style": "IPY_MODEL_0b234a110afb4327b4510e753893ddc0",
            "value": "modules.json: 100%"
          }
        },
        "495ea0e5706740c28a05d20c7c808547": {
          "model_module": "@jupyter-widgets/controls",
          "model_name": "FloatProgressModel",
          "model_module_version": "1.5.0",
          "state": {
            "_dom_classes": [],
            "_model_module": "@jupyter-widgets/controls",
            "_model_module_version": "1.5.0",
            "_model_name": "FloatProgressModel",
            "_view_count": null,
            "_view_module": "@jupyter-widgets/controls",
            "_view_module_version": "1.5.0",
            "_view_name": "ProgressView",
            "bar_style": "success",
            "description": "",
            "description_tooltip": null,
            "layout": "IPY_MODEL_c6d1c104114c4639872ce989e6fcbc6d",
            "max": 385,
            "min": 0,
            "orientation": "horizontal",
            "style": "IPY_MODEL_98a83093eddd4f71b69166ff21156491",
            "value": 385
          }
        },
        "957d8048ae8d4cecb753417ed2c14e8a": {
          "model_module": "@jupyter-widgets/controls",
          "model_name": "HTMLModel",
          "model_module_version": "1.5.0",
          "state": {
            "_dom_classes": [],
            "_model_module": "@jupyter-widgets/controls",
            "_model_module_version": "1.5.0",
            "_model_name": "HTMLModel",
            "_view_count": null,
            "_view_module": "@jupyter-widgets/controls",
            "_view_module_version": "1.5.0",
            "_view_name": "HTMLView",
            "description": "",
            "description_tooltip": null,
            "layout": "IPY_MODEL_93f9c10b762d41ecb77c3a49638a41d1",
            "placeholder": "​",
            "style": "IPY_MODEL_8923b37d477c47a2ade30a31793ff612",
            "value": " 385/385 [00:00&lt;00:00, 34.1kB/s]"
          }
        },
        "065c5100d2804529b09eae7055150ae4": {
          "model_module": "@jupyter-widgets/base",
          "model_name": "LayoutModel",
          "model_module_version": "1.2.0",
          "state": {
            "_model_module": "@jupyter-widgets/base",
            "_model_module_version": "1.2.0",
            "_model_name": "LayoutModel",
            "_view_count": null,
            "_view_module": "@jupyter-widgets/base",
            "_view_module_version": "1.2.0",
            "_view_name": "LayoutView",
            "align_content": null,
            "align_items": null,
            "align_self": null,
            "border": null,
            "bottom": null,
            "display": null,
            "flex": null,
            "flex_flow": null,
            "grid_area": null,
            "grid_auto_columns": null,
            "grid_auto_flow": null,
            "grid_auto_rows": null,
            "grid_column": null,
            "grid_gap": null,
            "grid_row": null,
            "grid_template_areas": null,
            "grid_template_columns": null,
            "grid_template_rows": null,
            "height": null,
            "justify_content": null,
            "justify_items": null,
            "left": null,
            "margin": null,
            "max_height": null,
            "max_width": null,
            "min_height": null,
            "min_width": null,
            "object_fit": null,
            "object_position": null,
            "order": null,
            "overflow": null,
            "overflow_x": null,
            "overflow_y": null,
            "padding": null,
            "right": null,
            "top": null,
            "visibility": null,
            "width": null
          }
        },
        "0cb62652cac54b24b4c1edbd96308921": {
          "model_module": "@jupyter-widgets/base",
          "model_name": "LayoutModel",
          "model_module_version": "1.2.0",
          "state": {
            "_model_module": "@jupyter-widgets/base",
            "_model_module_version": "1.2.0",
            "_model_name": "LayoutModel",
            "_view_count": null,
            "_view_module": "@jupyter-widgets/base",
            "_view_module_version": "1.2.0",
            "_view_name": "LayoutView",
            "align_content": null,
            "align_items": null,
            "align_self": null,
            "border": null,
            "bottom": null,
            "display": null,
            "flex": null,
            "flex_flow": null,
            "grid_area": null,
            "grid_auto_columns": null,
            "grid_auto_flow": null,
            "grid_auto_rows": null,
            "grid_column": null,
            "grid_gap": null,
            "grid_row": null,
            "grid_template_areas": null,
            "grid_template_columns": null,
            "grid_template_rows": null,
            "height": null,
            "justify_content": null,
            "justify_items": null,
            "left": null,
            "margin": null,
            "max_height": null,
            "max_width": null,
            "min_height": null,
            "min_width": null,
            "object_fit": null,
            "object_position": null,
            "order": null,
            "overflow": null,
            "overflow_x": null,
            "overflow_y": null,
            "padding": null,
            "right": null,
            "top": null,
            "visibility": null,
            "width": null
          }
        },
        "0b234a110afb4327b4510e753893ddc0": {
          "model_module": "@jupyter-widgets/controls",
          "model_name": "DescriptionStyleModel",
          "model_module_version": "1.5.0",
          "state": {
            "_model_module": "@jupyter-widgets/controls",
            "_model_module_version": "1.5.0",
            "_model_name": "DescriptionStyleModel",
            "_view_count": null,
            "_view_module": "@jupyter-widgets/base",
            "_view_module_version": "1.2.0",
            "_view_name": "StyleView",
            "description_width": ""
          }
        },
        "c6d1c104114c4639872ce989e6fcbc6d": {
          "model_module": "@jupyter-widgets/base",
          "model_name": "LayoutModel",
          "model_module_version": "1.2.0",
          "state": {
            "_model_module": "@jupyter-widgets/base",
            "_model_module_version": "1.2.0",
            "_model_name": "LayoutModel",
            "_view_count": null,
            "_view_module": "@jupyter-widgets/base",
            "_view_module_version": "1.2.0",
            "_view_name": "LayoutView",
            "align_content": null,
            "align_items": null,
            "align_self": null,
            "border": null,
            "bottom": null,
            "display": null,
            "flex": null,
            "flex_flow": null,
            "grid_area": null,
            "grid_auto_columns": null,
            "grid_auto_flow": null,
            "grid_auto_rows": null,
            "grid_column": null,
            "grid_gap": null,
            "grid_row": null,
            "grid_template_areas": null,
            "grid_template_columns": null,
            "grid_template_rows": null,
            "height": null,
            "justify_content": null,
            "justify_items": null,
            "left": null,
            "margin": null,
            "max_height": null,
            "max_width": null,
            "min_height": null,
            "min_width": null,
            "object_fit": null,
            "object_position": null,
            "order": null,
            "overflow": null,
            "overflow_x": null,
            "overflow_y": null,
            "padding": null,
            "right": null,
            "top": null,
            "visibility": null,
            "width": null
          }
        },
        "98a83093eddd4f71b69166ff21156491": {
          "model_module": "@jupyter-widgets/controls",
          "model_name": "ProgressStyleModel",
          "model_module_version": "1.5.0",
          "state": {
            "_model_module": "@jupyter-widgets/controls",
            "_model_module_version": "1.5.0",
            "_model_name": "ProgressStyleModel",
            "_view_count": null,
            "_view_module": "@jupyter-widgets/base",
            "_view_module_version": "1.2.0",
            "_view_name": "StyleView",
            "bar_color": null,
            "description_width": ""
          }
        },
        "93f9c10b762d41ecb77c3a49638a41d1": {
          "model_module": "@jupyter-widgets/base",
          "model_name": "LayoutModel",
          "model_module_version": "1.2.0",
          "state": {
            "_model_module": "@jupyter-widgets/base",
            "_model_module_version": "1.2.0",
            "_model_name": "LayoutModel",
            "_view_count": null,
            "_view_module": "@jupyter-widgets/base",
            "_view_module_version": "1.2.0",
            "_view_name": "LayoutView",
            "align_content": null,
            "align_items": null,
            "align_self": null,
            "border": null,
            "bottom": null,
            "display": null,
            "flex": null,
            "flex_flow": null,
            "grid_area": null,
            "grid_auto_columns": null,
            "grid_auto_flow": null,
            "grid_auto_rows": null,
            "grid_column": null,
            "grid_gap": null,
            "grid_row": null,
            "grid_template_areas": null,
            "grid_template_columns": null,
            "grid_template_rows": null,
            "height": null,
            "justify_content": null,
            "justify_items": null,
            "left": null,
            "margin": null,
            "max_height": null,
            "max_width": null,
            "min_height": null,
            "min_width": null,
            "object_fit": null,
            "object_position": null,
            "order": null,
            "overflow": null,
            "overflow_x": null,
            "overflow_y": null,
            "padding": null,
            "right": null,
            "top": null,
            "visibility": null,
            "width": null
          }
        },
        "8923b37d477c47a2ade30a31793ff612": {
          "model_module": "@jupyter-widgets/controls",
          "model_name": "DescriptionStyleModel",
          "model_module_version": "1.5.0",
          "state": {
            "_model_module": "@jupyter-widgets/controls",
            "_model_module_version": "1.5.0",
            "_model_name": "DescriptionStyleModel",
            "_view_count": null,
            "_view_module": "@jupyter-widgets/base",
            "_view_module_version": "1.2.0",
            "_view_name": "StyleView",
            "description_width": ""
          }
        },
        "22a0d04aa9bf4e50927b11c60aa206db": {
          "model_module": "@jupyter-widgets/controls",
          "model_name": "HBoxModel",
          "model_module_version": "1.5.0",
          "state": {
            "_dom_classes": [],
            "_model_module": "@jupyter-widgets/controls",
            "_model_module_version": "1.5.0",
            "_model_name": "HBoxModel",
            "_view_count": null,
            "_view_module": "@jupyter-widgets/controls",
            "_view_module_version": "1.5.0",
            "_view_name": "HBoxView",
            "box_style": "",
            "children": [
              "IPY_MODEL_7e713f7eaf8c46abaff0d22f875da908",
              "IPY_MODEL_b0cc379dfa55403aaca9dd318787c6de",
              "IPY_MODEL_51b3053c1b6841dd96bb778cb7c8cd61"
            ],
            "layout": "IPY_MODEL_0151a2a372d442a7bc48d8984bf28b90"
          }
        },
        "7e713f7eaf8c46abaff0d22f875da908": {
          "model_module": "@jupyter-widgets/controls",
          "model_name": "HTMLModel",
          "model_module_version": "1.5.0",
          "state": {
            "_dom_classes": [],
            "_model_module": "@jupyter-widgets/controls",
            "_model_module_version": "1.5.0",
            "_model_name": "HTMLModel",
            "_view_count": null,
            "_view_module": "@jupyter-widgets/controls",
            "_view_module_version": "1.5.0",
            "_view_name": "HTMLView",
            "description": "",
            "description_tooltip": null,
            "layout": "IPY_MODEL_193961b6d09f40449ca5c45384eb8ae3",
            "placeholder": "​",
            "style": "IPY_MODEL_a9957add551f4976860c287089b3e998",
            "value": "README.md: "
          }
        },
        "b0cc379dfa55403aaca9dd318787c6de": {
          "model_module": "@jupyter-widgets/controls",
          "model_name": "FloatProgressModel",
          "model_module_version": "1.5.0",
          "state": {
            "_dom_classes": [],
            "_model_module": "@jupyter-widgets/controls",
            "_model_module_version": "1.5.0",
            "_model_name": "FloatProgressModel",
            "_view_count": null,
            "_view_module": "@jupyter-widgets/controls",
            "_view_module_version": "1.5.0",
            "_view_name": "ProgressView",
            "bar_style": "success",
            "description": "",
            "description_tooltip": null,
            "layout": "IPY_MODEL_3af33476513d424cb79fb5a55e2e501c",
            "max": 1,
            "min": 0,
            "orientation": "horizontal",
            "style": "IPY_MODEL_cc6808867c2c4e04b94c8ff79b1f419a",
            "value": 1
          }
        },
        "51b3053c1b6841dd96bb778cb7c8cd61": {
          "model_module": "@jupyter-widgets/controls",
          "model_name": "HTMLModel",
          "model_module_version": "1.5.0",
          "state": {
            "_dom_classes": [],
            "_model_module": "@jupyter-widgets/controls",
            "_model_module_version": "1.5.0",
            "_model_name": "HTMLModel",
            "_view_count": null,
            "_view_module": "@jupyter-widgets/controls",
            "_view_module_version": "1.5.0",
            "_view_name": "HTMLView",
            "description": "",
            "description_tooltip": null,
            "layout": "IPY_MODEL_4dcebcc7e08e400a87cbc5ae578e13da",
            "placeholder": "​",
            "style": "IPY_MODEL_9e7edb2af550441a9a3d1774c95a9928",
            "value": " 67.9k/? [00:00&lt;00:00, 4.98MB/s]"
          }
        },
        "0151a2a372d442a7bc48d8984bf28b90": {
          "model_module": "@jupyter-widgets/base",
          "model_name": "LayoutModel",
          "model_module_version": "1.2.0",
          "state": {
            "_model_module": "@jupyter-widgets/base",
            "_model_module_version": "1.2.0",
            "_model_name": "LayoutModel",
            "_view_count": null,
            "_view_module": "@jupyter-widgets/base",
            "_view_module_version": "1.2.0",
            "_view_name": "LayoutView",
            "align_content": null,
            "align_items": null,
            "align_self": null,
            "border": null,
            "bottom": null,
            "display": null,
            "flex": null,
            "flex_flow": null,
            "grid_area": null,
            "grid_auto_columns": null,
            "grid_auto_flow": null,
            "grid_auto_rows": null,
            "grid_column": null,
            "grid_gap": null,
            "grid_row": null,
            "grid_template_areas": null,
            "grid_template_columns": null,
            "grid_template_rows": null,
            "height": null,
            "justify_content": null,
            "justify_items": null,
            "left": null,
            "margin": null,
            "max_height": null,
            "max_width": null,
            "min_height": null,
            "min_width": null,
            "object_fit": null,
            "object_position": null,
            "order": null,
            "overflow": null,
            "overflow_x": null,
            "overflow_y": null,
            "padding": null,
            "right": null,
            "top": null,
            "visibility": null,
            "width": null
          }
        },
        "193961b6d09f40449ca5c45384eb8ae3": {
          "model_module": "@jupyter-widgets/base",
          "model_name": "LayoutModel",
          "model_module_version": "1.2.0",
          "state": {
            "_model_module": "@jupyter-widgets/base",
            "_model_module_version": "1.2.0",
            "_model_name": "LayoutModel",
            "_view_count": null,
            "_view_module": "@jupyter-widgets/base",
            "_view_module_version": "1.2.0",
            "_view_name": "LayoutView",
            "align_content": null,
            "align_items": null,
            "align_self": null,
            "border": null,
            "bottom": null,
            "display": null,
            "flex": null,
            "flex_flow": null,
            "grid_area": null,
            "grid_auto_columns": null,
            "grid_auto_flow": null,
            "grid_auto_rows": null,
            "grid_column": null,
            "grid_gap": null,
            "grid_row": null,
            "grid_template_areas": null,
            "grid_template_columns": null,
            "grid_template_rows": null,
            "height": null,
            "justify_content": null,
            "justify_items": null,
            "left": null,
            "margin": null,
            "max_height": null,
            "max_width": null,
            "min_height": null,
            "min_width": null,
            "object_fit": null,
            "object_position": null,
            "order": null,
            "overflow": null,
            "overflow_x": null,
            "overflow_y": null,
            "padding": null,
            "right": null,
            "top": null,
            "visibility": null,
            "width": null
          }
        },
        "a9957add551f4976860c287089b3e998": {
          "model_module": "@jupyter-widgets/controls",
          "model_name": "DescriptionStyleModel",
          "model_module_version": "1.5.0",
          "state": {
            "_model_module": "@jupyter-widgets/controls",
            "_model_module_version": "1.5.0",
            "_model_name": "DescriptionStyleModel",
            "_view_count": null,
            "_view_module": "@jupyter-widgets/base",
            "_view_module_version": "1.2.0",
            "_view_name": "StyleView",
            "description_width": ""
          }
        },
        "3af33476513d424cb79fb5a55e2e501c": {
          "model_module": "@jupyter-widgets/base",
          "model_name": "LayoutModel",
          "model_module_version": "1.2.0",
          "state": {
            "_model_module": "@jupyter-widgets/base",
            "_model_module_version": "1.2.0",
            "_model_name": "LayoutModel",
            "_view_count": null,
            "_view_module": "@jupyter-widgets/base",
            "_view_module_version": "1.2.0",
            "_view_name": "LayoutView",
            "align_content": null,
            "align_items": null,
            "align_self": null,
            "border": null,
            "bottom": null,
            "display": null,
            "flex": null,
            "flex_flow": null,
            "grid_area": null,
            "grid_auto_columns": null,
            "grid_auto_flow": null,
            "grid_auto_rows": null,
            "grid_column": null,
            "grid_gap": null,
            "grid_row": null,
            "grid_template_areas": null,
            "grid_template_columns": null,
            "grid_template_rows": null,
            "height": null,
            "justify_content": null,
            "justify_items": null,
            "left": null,
            "margin": null,
            "max_height": null,
            "max_width": null,
            "min_height": null,
            "min_width": null,
            "object_fit": null,
            "object_position": null,
            "order": null,
            "overflow": null,
            "overflow_x": null,
            "overflow_y": null,
            "padding": null,
            "right": null,
            "top": null,
            "visibility": null,
            "width": "20px"
          }
        },
        "cc6808867c2c4e04b94c8ff79b1f419a": {
          "model_module": "@jupyter-widgets/controls",
          "model_name": "ProgressStyleModel",
          "model_module_version": "1.5.0",
          "state": {
            "_model_module": "@jupyter-widgets/controls",
            "_model_module_version": "1.5.0",
            "_model_name": "ProgressStyleModel",
            "_view_count": null,
            "_view_module": "@jupyter-widgets/base",
            "_view_module_version": "1.2.0",
            "_view_name": "StyleView",
            "bar_color": null,
            "description_width": ""
          }
        },
        "4dcebcc7e08e400a87cbc5ae578e13da": {
          "model_module": "@jupyter-widgets/base",
          "model_name": "LayoutModel",
          "model_module_version": "1.2.0",
          "state": {
            "_model_module": "@jupyter-widgets/base",
            "_model_module_version": "1.2.0",
            "_model_name": "LayoutModel",
            "_view_count": null,
            "_view_module": "@jupyter-widgets/base",
            "_view_module_version": "1.2.0",
            "_view_name": "LayoutView",
            "align_content": null,
            "align_items": null,
            "align_self": null,
            "border": null,
            "bottom": null,
            "display": null,
            "flex": null,
            "flex_flow": null,
            "grid_area": null,
            "grid_auto_columns": null,
            "grid_auto_flow": null,
            "grid_auto_rows": null,
            "grid_column": null,
            "grid_gap": null,
            "grid_row": null,
            "grid_template_areas": null,
            "grid_template_columns": null,
            "grid_template_rows": null,
            "height": null,
            "justify_content": null,
            "justify_items": null,
            "left": null,
            "margin": null,
            "max_height": null,
            "max_width": null,
            "min_height": null,
            "min_width": null,
            "object_fit": null,
            "object_position": null,
            "order": null,
            "overflow": null,
            "overflow_x": null,
            "overflow_y": null,
            "padding": null,
            "right": null,
            "top": null,
            "visibility": null,
            "width": null
          }
        },
        "9e7edb2af550441a9a3d1774c95a9928": {
          "model_module": "@jupyter-widgets/controls",
          "model_name": "DescriptionStyleModel",
          "model_module_version": "1.5.0",
          "state": {
            "_model_module": "@jupyter-widgets/controls",
            "_model_module_version": "1.5.0",
            "_model_name": "DescriptionStyleModel",
            "_view_count": null,
            "_view_module": "@jupyter-widgets/base",
            "_view_module_version": "1.2.0",
            "_view_name": "StyleView",
            "description_width": ""
          }
        },
        "503973f9e69344cb80e790d4059beb9c": {
          "model_module": "@jupyter-widgets/controls",
          "model_name": "HBoxModel",
          "model_module_version": "1.5.0",
          "state": {
            "_dom_classes": [],
            "_model_module": "@jupyter-widgets/controls",
            "_model_module_version": "1.5.0",
            "_model_name": "HBoxModel",
            "_view_count": null,
            "_view_module": "@jupyter-widgets/controls",
            "_view_module_version": "1.5.0",
            "_view_name": "HBoxView",
            "box_style": "",
            "children": [
              "IPY_MODEL_582ca48d49cf451c954dfed85460434c",
              "IPY_MODEL_9fb3835f9f444958aeeae50fdc11335e",
              "IPY_MODEL_87b7ca5cdff44bf98f8b0383f5bdce45"
            ],
            "layout": "IPY_MODEL_cb2e52fad1e84f879e60c8e599e1d61a"
          }
        },
        "582ca48d49cf451c954dfed85460434c": {
          "model_module": "@jupyter-widgets/controls",
          "model_name": "HTMLModel",
          "model_module_version": "1.5.0",
          "state": {
            "_dom_classes": [],
            "_model_module": "@jupyter-widgets/controls",
            "_model_module_version": "1.5.0",
            "_model_name": "HTMLModel",
            "_view_count": null,
            "_view_module": "@jupyter-widgets/controls",
            "_view_module_version": "1.5.0",
            "_view_name": "HTMLView",
            "description": "",
            "description_tooltip": null,
            "layout": "IPY_MODEL_1975f213d5f94894ae54935a7689142f",
            "placeholder": "​",
            "style": "IPY_MODEL_9eb463a5341f4d7f8a5e04726b30cd13",
            "value": "sentence_bert_config.json: 100%"
          }
        },
        "9fb3835f9f444958aeeae50fdc11335e": {
          "model_module": "@jupyter-widgets/controls",
          "model_name": "FloatProgressModel",
          "model_module_version": "1.5.0",
          "state": {
            "_dom_classes": [],
            "_model_module": "@jupyter-widgets/controls",
            "_model_module_version": "1.5.0",
            "_model_name": "FloatProgressModel",
            "_view_count": null,
            "_view_module": "@jupyter-widgets/controls",
            "_view_module_version": "1.5.0",
            "_view_name": "ProgressView",
            "bar_style": "success",
            "description": "",
            "description_tooltip": null,
            "layout": "IPY_MODEL_81fae37df3944e75a7a49a7cee6a8096",
            "max": 57,
            "min": 0,
            "orientation": "horizontal",
            "style": "IPY_MODEL_563bbb730256479f99ff063eb8eabb4a",
            "value": 57
          }
        },
        "87b7ca5cdff44bf98f8b0383f5bdce45": {
          "model_module": "@jupyter-widgets/controls",
          "model_name": "HTMLModel",
          "model_module_version": "1.5.0",
          "state": {
            "_dom_classes": [],
            "_model_module": "@jupyter-widgets/controls",
            "_model_module_version": "1.5.0",
            "_model_name": "HTMLModel",
            "_view_count": null,
            "_view_module": "@jupyter-widgets/controls",
            "_view_module_version": "1.5.0",
            "_view_name": "HTMLView",
            "description": "",
            "description_tooltip": null,
            "layout": "IPY_MODEL_faca4e409c064b05b3cb3b36788d26a4",
            "placeholder": "​",
            "style": "IPY_MODEL_9a71ed4da74a48df8ed78ddf6f7f178d",
            "value": " 57.0/57.0 [00:00&lt;00:00, 5.78kB/s]"
          }
        },
        "cb2e52fad1e84f879e60c8e599e1d61a": {
          "model_module": "@jupyter-widgets/base",
          "model_name": "LayoutModel",
          "model_module_version": "1.2.0",
          "state": {
            "_model_module": "@jupyter-widgets/base",
            "_model_module_version": "1.2.0",
            "_model_name": "LayoutModel",
            "_view_count": null,
            "_view_module": "@jupyter-widgets/base",
            "_view_module_version": "1.2.0",
            "_view_name": "LayoutView",
            "align_content": null,
            "align_items": null,
            "align_self": null,
            "border": null,
            "bottom": null,
            "display": null,
            "flex": null,
            "flex_flow": null,
            "grid_area": null,
            "grid_auto_columns": null,
            "grid_auto_flow": null,
            "grid_auto_rows": null,
            "grid_column": null,
            "grid_gap": null,
            "grid_row": null,
            "grid_template_areas": null,
            "grid_template_columns": null,
            "grid_template_rows": null,
            "height": null,
            "justify_content": null,
            "justify_items": null,
            "left": null,
            "margin": null,
            "max_height": null,
            "max_width": null,
            "min_height": null,
            "min_width": null,
            "object_fit": null,
            "object_position": null,
            "order": null,
            "overflow": null,
            "overflow_x": null,
            "overflow_y": null,
            "padding": null,
            "right": null,
            "top": null,
            "visibility": null,
            "width": null
          }
        },
        "1975f213d5f94894ae54935a7689142f": {
          "model_module": "@jupyter-widgets/base",
          "model_name": "LayoutModel",
          "model_module_version": "1.2.0",
          "state": {
            "_model_module": "@jupyter-widgets/base",
            "_model_module_version": "1.2.0",
            "_model_name": "LayoutModel",
            "_view_count": null,
            "_view_module": "@jupyter-widgets/base",
            "_view_module_version": "1.2.0",
            "_view_name": "LayoutView",
            "align_content": null,
            "align_items": null,
            "align_self": null,
            "border": null,
            "bottom": null,
            "display": null,
            "flex": null,
            "flex_flow": null,
            "grid_area": null,
            "grid_auto_columns": null,
            "grid_auto_flow": null,
            "grid_auto_rows": null,
            "grid_column": null,
            "grid_gap": null,
            "grid_row": null,
            "grid_template_areas": null,
            "grid_template_columns": null,
            "grid_template_rows": null,
            "height": null,
            "justify_content": null,
            "justify_items": null,
            "left": null,
            "margin": null,
            "max_height": null,
            "max_width": null,
            "min_height": null,
            "min_width": null,
            "object_fit": null,
            "object_position": null,
            "order": null,
            "overflow": null,
            "overflow_x": null,
            "overflow_y": null,
            "padding": null,
            "right": null,
            "top": null,
            "visibility": null,
            "width": null
          }
        },
        "9eb463a5341f4d7f8a5e04726b30cd13": {
          "model_module": "@jupyter-widgets/controls",
          "model_name": "DescriptionStyleModel",
          "model_module_version": "1.5.0",
          "state": {
            "_model_module": "@jupyter-widgets/controls",
            "_model_module_version": "1.5.0",
            "_model_name": "DescriptionStyleModel",
            "_view_count": null,
            "_view_module": "@jupyter-widgets/base",
            "_view_module_version": "1.2.0",
            "_view_name": "StyleView",
            "description_width": ""
          }
        },
        "81fae37df3944e75a7a49a7cee6a8096": {
          "model_module": "@jupyter-widgets/base",
          "model_name": "LayoutModel",
          "model_module_version": "1.2.0",
          "state": {
            "_model_module": "@jupyter-widgets/base",
            "_model_module_version": "1.2.0",
            "_model_name": "LayoutModel",
            "_view_count": null,
            "_view_module": "@jupyter-widgets/base",
            "_view_module_version": "1.2.0",
            "_view_name": "LayoutView",
            "align_content": null,
            "align_items": null,
            "align_self": null,
            "border": null,
            "bottom": null,
            "display": null,
            "flex": null,
            "flex_flow": null,
            "grid_area": null,
            "grid_auto_columns": null,
            "grid_auto_flow": null,
            "grid_auto_rows": null,
            "grid_column": null,
            "grid_gap": null,
            "grid_row": null,
            "grid_template_areas": null,
            "grid_template_columns": null,
            "grid_template_rows": null,
            "height": null,
            "justify_content": null,
            "justify_items": null,
            "left": null,
            "margin": null,
            "max_height": null,
            "max_width": null,
            "min_height": null,
            "min_width": null,
            "object_fit": null,
            "object_position": null,
            "order": null,
            "overflow": null,
            "overflow_x": null,
            "overflow_y": null,
            "padding": null,
            "right": null,
            "top": null,
            "visibility": null,
            "width": null
          }
        },
        "563bbb730256479f99ff063eb8eabb4a": {
          "model_module": "@jupyter-widgets/controls",
          "model_name": "ProgressStyleModel",
          "model_module_version": "1.5.0",
          "state": {
            "_model_module": "@jupyter-widgets/controls",
            "_model_module_version": "1.5.0",
            "_model_name": "ProgressStyleModel",
            "_view_count": null,
            "_view_module": "@jupyter-widgets/base",
            "_view_module_version": "1.2.0",
            "_view_name": "StyleView",
            "bar_color": null,
            "description_width": ""
          }
        },
        "faca4e409c064b05b3cb3b36788d26a4": {
          "model_module": "@jupyter-widgets/base",
          "model_name": "LayoutModel",
          "model_module_version": "1.2.0",
          "state": {
            "_model_module": "@jupyter-widgets/base",
            "_model_module_version": "1.2.0",
            "_model_name": "LayoutModel",
            "_view_count": null,
            "_view_module": "@jupyter-widgets/base",
            "_view_module_version": "1.2.0",
            "_view_name": "LayoutView",
            "align_content": null,
            "align_items": null,
            "align_self": null,
            "border": null,
            "bottom": null,
            "display": null,
            "flex": null,
            "flex_flow": null,
            "grid_area": null,
            "grid_auto_columns": null,
            "grid_auto_flow": null,
            "grid_auto_rows": null,
            "grid_column": null,
            "grid_gap": null,
            "grid_row": null,
            "grid_template_areas": null,
            "grid_template_columns": null,
            "grid_template_rows": null,
            "height": null,
            "justify_content": null,
            "justify_items": null,
            "left": null,
            "margin": null,
            "max_height": null,
            "max_width": null,
            "min_height": null,
            "min_width": null,
            "object_fit": null,
            "object_position": null,
            "order": null,
            "overflow": null,
            "overflow_x": null,
            "overflow_y": null,
            "padding": null,
            "right": null,
            "top": null,
            "visibility": null,
            "width": null
          }
        },
        "9a71ed4da74a48df8ed78ddf6f7f178d": {
          "model_module": "@jupyter-widgets/controls",
          "model_name": "DescriptionStyleModel",
          "model_module_version": "1.5.0",
          "state": {
            "_model_module": "@jupyter-widgets/controls",
            "_model_module_version": "1.5.0",
            "_model_name": "DescriptionStyleModel",
            "_view_count": null,
            "_view_module": "@jupyter-widgets/base",
            "_view_module_version": "1.2.0",
            "_view_name": "StyleView",
            "description_width": ""
          }
        },
        "c853cd2da6ba44da858b44c960ca0627": {
          "model_module": "@jupyter-widgets/controls",
          "model_name": "HBoxModel",
          "model_module_version": "1.5.0",
          "state": {
            "_dom_classes": [],
            "_model_module": "@jupyter-widgets/controls",
            "_model_module_version": "1.5.0",
            "_model_name": "HBoxModel",
            "_view_count": null,
            "_view_module": "@jupyter-widgets/controls",
            "_view_module_version": "1.5.0",
            "_view_name": "HBoxView",
            "box_style": "",
            "children": [
              "IPY_MODEL_8f00a4098a8541a3ab528f87e76c5589",
              "IPY_MODEL_77accc8a51444008bc70078ddbd8f8e6",
              "IPY_MODEL_d89f77a8f27f44dfa35501e4d2d34bd9"
            ],
            "layout": "IPY_MODEL_cb13f6ed29e341c8b3d3bda7665be7e2"
          }
        },
        "8f00a4098a8541a3ab528f87e76c5589": {
          "model_module": "@jupyter-widgets/controls",
          "model_name": "HTMLModel",
          "model_module_version": "1.5.0",
          "state": {
            "_dom_classes": [],
            "_model_module": "@jupyter-widgets/controls",
            "_model_module_version": "1.5.0",
            "_model_name": "HTMLModel",
            "_view_count": null,
            "_view_module": "@jupyter-widgets/controls",
            "_view_module_version": "1.5.0",
            "_view_name": "HTMLView",
            "description": "",
            "description_tooltip": null,
            "layout": "IPY_MODEL_28708f1188f747919c134206932e5dde",
            "placeholder": "​",
            "style": "IPY_MODEL_c41beecb91854dccbb902b11d0ec562b",
            "value": "config.json: 100%"
          }
        },
        "77accc8a51444008bc70078ddbd8f8e6": {
          "model_module": "@jupyter-widgets/controls",
          "model_name": "FloatProgressModel",
          "model_module_version": "1.5.0",
          "state": {
            "_dom_classes": [],
            "_model_module": "@jupyter-widgets/controls",
            "_model_module_version": "1.5.0",
            "_model_name": "FloatProgressModel",
            "_view_count": null,
            "_view_module": "@jupyter-widgets/controls",
            "_view_module_version": "1.5.0",
            "_view_name": "ProgressView",
            "bar_style": "success",
            "description": "",
            "description_tooltip": null,
            "layout": "IPY_MODEL_c5205d8359f7453a9299c731729de37e",
            "max": 619,
            "min": 0,
            "orientation": "horizontal",
            "style": "IPY_MODEL_3c71526a91dd41dda7c1811be1536c4a",
            "value": 619
          }
        },
        "d89f77a8f27f44dfa35501e4d2d34bd9": {
          "model_module": "@jupyter-widgets/controls",
          "model_name": "HTMLModel",
          "model_module_version": "1.5.0",
          "state": {
            "_dom_classes": [],
            "_model_module": "@jupyter-widgets/controls",
            "_model_module_version": "1.5.0",
            "_model_name": "HTMLModel",
            "_view_count": null,
            "_view_module": "@jupyter-widgets/controls",
            "_view_module_version": "1.5.0",
            "_view_name": "HTMLView",
            "description": "",
            "description_tooltip": null,
            "layout": "IPY_MODEL_82b58d3279da4735826f291f0a97bcc9",
            "placeholder": "​",
            "style": "IPY_MODEL_df0551757bd24c719fd92f76100c9e2e",
            "value": " 619/619 [00:00&lt;00:00, 56.0kB/s]"
          }
        },
        "cb13f6ed29e341c8b3d3bda7665be7e2": {
          "model_module": "@jupyter-widgets/base",
          "model_name": "LayoutModel",
          "model_module_version": "1.2.0",
          "state": {
            "_model_module": "@jupyter-widgets/base",
            "_model_module_version": "1.2.0",
            "_model_name": "LayoutModel",
            "_view_count": null,
            "_view_module": "@jupyter-widgets/base",
            "_view_module_version": "1.2.0",
            "_view_name": "LayoutView",
            "align_content": null,
            "align_items": null,
            "align_self": null,
            "border": null,
            "bottom": null,
            "display": null,
            "flex": null,
            "flex_flow": null,
            "grid_area": null,
            "grid_auto_columns": null,
            "grid_auto_flow": null,
            "grid_auto_rows": null,
            "grid_column": null,
            "grid_gap": null,
            "grid_row": null,
            "grid_template_areas": null,
            "grid_template_columns": null,
            "grid_template_rows": null,
            "height": null,
            "justify_content": null,
            "justify_items": null,
            "left": null,
            "margin": null,
            "max_height": null,
            "max_width": null,
            "min_height": null,
            "min_width": null,
            "object_fit": null,
            "object_position": null,
            "order": null,
            "overflow": null,
            "overflow_x": null,
            "overflow_y": null,
            "padding": null,
            "right": null,
            "top": null,
            "visibility": null,
            "width": null
          }
        },
        "28708f1188f747919c134206932e5dde": {
          "model_module": "@jupyter-widgets/base",
          "model_name": "LayoutModel",
          "model_module_version": "1.2.0",
          "state": {
            "_model_module": "@jupyter-widgets/base",
            "_model_module_version": "1.2.0",
            "_model_name": "LayoutModel",
            "_view_count": null,
            "_view_module": "@jupyter-widgets/base",
            "_view_module_version": "1.2.0",
            "_view_name": "LayoutView",
            "align_content": null,
            "align_items": null,
            "align_self": null,
            "border": null,
            "bottom": null,
            "display": null,
            "flex": null,
            "flex_flow": null,
            "grid_area": null,
            "grid_auto_columns": null,
            "grid_auto_flow": null,
            "grid_auto_rows": null,
            "grid_column": null,
            "grid_gap": null,
            "grid_row": null,
            "grid_template_areas": null,
            "grid_template_columns": null,
            "grid_template_rows": null,
            "height": null,
            "justify_content": null,
            "justify_items": null,
            "left": null,
            "margin": null,
            "max_height": null,
            "max_width": null,
            "min_height": null,
            "min_width": null,
            "object_fit": null,
            "object_position": null,
            "order": null,
            "overflow": null,
            "overflow_x": null,
            "overflow_y": null,
            "padding": null,
            "right": null,
            "top": null,
            "visibility": null,
            "width": null
          }
        },
        "c41beecb91854dccbb902b11d0ec562b": {
          "model_module": "@jupyter-widgets/controls",
          "model_name": "DescriptionStyleModel",
          "model_module_version": "1.5.0",
          "state": {
            "_model_module": "@jupyter-widgets/controls",
            "_model_module_version": "1.5.0",
            "_model_name": "DescriptionStyleModel",
            "_view_count": null,
            "_view_module": "@jupyter-widgets/base",
            "_view_module_version": "1.2.0",
            "_view_name": "StyleView",
            "description_width": ""
          }
        },
        "c5205d8359f7453a9299c731729de37e": {
          "model_module": "@jupyter-widgets/base",
          "model_name": "LayoutModel",
          "model_module_version": "1.2.0",
          "state": {
            "_model_module": "@jupyter-widgets/base",
            "_model_module_version": "1.2.0",
            "_model_name": "LayoutModel",
            "_view_count": null,
            "_view_module": "@jupyter-widgets/base",
            "_view_module_version": "1.2.0",
            "_view_name": "LayoutView",
            "align_content": null,
            "align_items": null,
            "align_self": null,
            "border": null,
            "bottom": null,
            "display": null,
            "flex": null,
            "flex_flow": null,
            "grid_area": null,
            "grid_auto_columns": null,
            "grid_auto_flow": null,
            "grid_auto_rows": null,
            "grid_column": null,
            "grid_gap": null,
            "grid_row": null,
            "grid_template_areas": null,
            "grid_template_columns": null,
            "grid_template_rows": null,
            "height": null,
            "justify_content": null,
            "justify_items": null,
            "left": null,
            "margin": null,
            "max_height": null,
            "max_width": null,
            "min_height": null,
            "min_width": null,
            "object_fit": null,
            "object_position": null,
            "order": null,
            "overflow": null,
            "overflow_x": null,
            "overflow_y": null,
            "padding": null,
            "right": null,
            "top": null,
            "visibility": null,
            "width": null
          }
        },
        "3c71526a91dd41dda7c1811be1536c4a": {
          "model_module": "@jupyter-widgets/controls",
          "model_name": "ProgressStyleModel",
          "model_module_version": "1.5.0",
          "state": {
            "_model_module": "@jupyter-widgets/controls",
            "_model_module_version": "1.5.0",
            "_model_name": "ProgressStyleModel",
            "_view_count": null,
            "_view_module": "@jupyter-widgets/base",
            "_view_module_version": "1.2.0",
            "_view_name": "StyleView",
            "bar_color": null,
            "description_width": ""
          }
        },
        "82b58d3279da4735826f291f0a97bcc9": {
          "model_module": "@jupyter-widgets/base",
          "model_name": "LayoutModel",
          "model_module_version": "1.2.0",
          "state": {
            "_model_module": "@jupyter-widgets/base",
            "_model_module_version": "1.2.0",
            "_model_name": "LayoutModel",
            "_view_count": null,
            "_view_module": "@jupyter-widgets/base",
            "_view_module_version": "1.2.0",
            "_view_name": "LayoutView",
            "align_content": null,
            "align_items": null,
            "align_self": null,
            "border": null,
            "bottom": null,
            "display": null,
            "flex": null,
            "flex_flow": null,
            "grid_area": null,
            "grid_auto_columns": null,
            "grid_auto_flow": null,
            "grid_auto_rows": null,
            "grid_column": null,
            "grid_gap": null,
            "grid_row": null,
            "grid_template_areas": null,
            "grid_template_columns": null,
            "grid_template_rows": null,
            "height": null,
            "justify_content": null,
            "justify_items": null,
            "left": null,
            "margin": null,
            "max_height": null,
            "max_width": null,
            "min_height": null,
            "min_width": null,
            "object_fit": null,
            "object_position": null,
            "order": null,
            "overflow": null,
            "overflow_x": null,
            "overflow_y": null,
            "padding": null,
            "right": null,
            "top": null,
            "visibility": null,
            "width": null
          }
        },
        "df0551757bd24c719fd92f76100c9e2e": {
          "model_module": "@jupyter-widgets/controls",
          "model_name": "DescriptionStyleModel",
          "model_module_version": "1.5.0",
          "state": {
            "_model_module": "@jupyter-widgets/controls",
            "_model_module_version": "1.5.0",
            "_model_name": "DescriptionStyleModel",
            "_view_count": null,
            "_view_module": "@jupyter-widgets/base",
            "_view_module_version": "1.2.0",
            "_view_name": "StyleView",
            "description_width": ""
          }
        },
        "47ab9b518e244f08942c0219d5103873": {
          "model_module": "@jupyter-widgets/controls",
          "model_name": "HBoxModel",
          "model_module_version": "1.5.0",
          "state": {
            "_dom_classes": [],
            "_model_module": "@jupyter-widgets/controls",
            "_model_module_version": "1.5.0",
            "_model_name": "HBoxModel",
            "_view_count": null,
            "_view_module": "@jupyter-widgets/controls",
            "_view_module_version": "1.5.0",
            "_view_name": "HBoxView",
            "box_style": "",
            "children": [
              "IPY_MODEL_85ecbeb018a24032bd8ab2db1cb9438e",
              "IPY_MODEL_48c9e1eda0f345898dc5788e85d800a1",
              "IPY_MODEL_b9539df0eac54f21bbc8f1a47f496b16"
            ],
            "layout": "IPY_MODEL_c188d1c846074cf9935d7514f1854a00"
          }
        },
        "85ecbeb018a24032bd8ab2db1cb9438e": {
          "model_module": "@jupyter-widgets/controls",
          "model_name": "HTMLModel",
          "model_module_version": "1.5.0",
          "state": {
            "_dom_classes": [],
            "_model_module": "@jupyter-widgets/controls",
            "_model_module_version": "1.5.0",
            "_model_name": "HTMLModel",
            "_view_count": null,
            "_view_module": "@jupyter-widgets/controls",
            "_view_module_version": "1.5.0",
            "_view_name": "HTMLView",
            "description": "",
            "description_tooltip": null,
            "layout": "IPY_MODEL_f057864463e140dd81f3868a97fe9b75",
            "placeholder": "​",
            "style": "IPY_MODEL_e2349ed74f824f7fb7a8607d4ab86596",
            "value": "model.safetensors: 100%"
          }
        },
        "48c9e1eda0f345898dc5788e85d800a1": {
          "model_module": "@jupyter-widgets/controls",
          "model_name": "FloatProgressModel",
          "model_module_version": "1.5.0",
          "state": {
            "_dom_classes": [],
            "_model_module": "@jupyter-widgets/controls",
            "_model_module_version": "1.5.0",
            "_model_name": "FloatProgressModel",
            "_view_count": null,
            "_view_module": "@jupyter-widgets/controls",
            "_view_module_version": "1.5.0",
            "_view_name": "ProgressView",
            "bar_style": "success",
            "description": "",
            "description_tooltip": null,
            "layout": "IPY_MODEL_11787a029d0c457da9d362e088bff07a",
            "max": 670332568,
            "min": 0,
            "orientation": "horizontal",
            "style": "IPY_MODEL_dca26118c6134d0c863d6859386c9acc",
            "value": 670332568
          }
        },
        "b9539df0eac54f21bbc8f1a47f496b16": {
          "model_module": "@jupyter-widgets/controls",
          "model_name": "HTMLModel",
          "model_module_version": "1.5.0",
          "state": {
            "_dom_classes": [],
            "_model_module": "@jupyter-widgets/controls",
            "_model_module_version": "1.5.0",
            "_model_name": "HTMLModel",
            "_view_count": null,
            "_view_module": "@jupyter-widgets/controls",
            "_view_module_version": "1.5.0",
            "_view_name": "HTMLView",
            "description": "",
            "description_tooltip": null,
            "layout": "IPY_MODEL_c6b2df65ae334519b8f065255cefac7f",
            "placeholder": "​",
            "style": "IPY_MODEL_bf87f5f6b8a2416eba3896f3adb424bf",
            "value": " 670M/670M [00:03&lt;00:00, 174MB/s]"
          }
        },
        "c188d1c846074cf9935d7514f1854a00": {
          "model_module": "@jupyter-widgets/base",
          "model_name": "LayoutModel",
          "model_module_version": "1.2.0",
          "state": {
            "_model_module": "@jupyter-widgets/base",
            "_model_module_version": "1.2.0",
            "_model_name": "LayoutModel",
            "_view_count": null,
            "_view_module": "@jupyter-widgets/base",
            "_view_module_version": "1.2.0",
            "_view_name": "LayoutView",
            "align_content": null,
            "align_items": null,
            "align_self": null,
            "border": null,
            "bottom": null,
            "display": null,
            "flex": null,
            "flex_flow": null,
            "grid_area": null,
            "grid_auto_columns": null,
            "grid_auto_flow": null,
            "grid_auto_rows": null,
            "grid_column": null,
            "grid_gap": null,
            "grid_row": null,
            "grid_template_areas": null,
            "grid_template_columns": null,
            "grid_template_rows": null,
            "height": null,
            "justify_content": null,
            "justify_items": null,
            "left": null,
            "margin": null,
            "max_height": null,
            "max_width": null,
            "min_height": null,
            "min_width": null,
            "object_fit": null,
            "object_position": null,
            "order": null,
            "overflow": null,
            "overflow_x": null,
            "overflow_y": null,
            "padding": null,
            "right": null,
            "top": null,
            "visibility": null,
            "width": null
          }
        },
        "f057864463e140dd81f3868a97fe9b75": {
          "model_module": "@jupyter-widgets/base",
          "model_name": "LayoutModel",
          "model_module_version": "1.2.0",
          "state": {
            "_model_module": "@jupyter-widgets/base",
            "_model_module_version": "1.2.0",
            "_model_name": "LayoutModel",
            "_view_count": null,
            "_view_module": "@jupyter-widgets/base",
            "_view_module_version": "1.2.0",
            "_view_name": "LayoutView",
            "align_content": null,
            "align_items": null,
            "align_self": null,
            "border": null,
            "bottom": null,
            "display": null,
            "flex": null,
            "flex_flow": null,
            "grid_area": null,
            "grid_auto_columns": null,
            "grid_auto_flow": null,
            "grid_auto_rows": null,
            "grid_column": null,
            "grid_gap": null,
            "grid_row": null,
            "grid_template_areas": null,
            "grid_template_columns": null,
            "grid_template_rows": null,
            "height": null,
            "justify_content": null,
            "justify_items": null,
            "left": null,
            "margin": null,
            "max_height": null,
            "max_width": null,
            "min_height": null,
            "min_width": null,
            "object_fit": null,
            "object_position": null,
            "order": null,
            "overflow": null,
            "overflow_x": null,
            "overflow_y": null,
            "padding": null,
            "right": null,
            "top": null,
            "visibility": null,
            "width": null
          }
        },
        "e2349ed74f824f7fb7a8607d4ab86596": {
          "model_module": "@jupyter-widgets/controls",
          "model_name": "DescriptionStyleModel",
          "model_module_version": "1.5.0",
          "state": {
            "_model_module": "@jupyter-widgets/controls",
            "_model_module_version": "1.5.0",
            "_model_name": "DescriptionStyleModel",
            "_view_count": null,
            "_view_module": "@jupyter-widgets/base",
            "_view_module_version": "1.2.0",
            "_view_name": "StyleView",
            "description_width": ""
          }
        },
        "11787a029d0c457da9d362e088bff07a": {
          "model_module": "@jupyter-widgets/base",
          "model_name": "LayoutModel",
          "model_module_version": "1.2.0",
          "state": {
            "_model_module": "@jupyter-widgets/base",
            "_model_module_version": "1.2.0",
            "_model_name": "LayoutModel",
            "_view_count": null,
            "_view_module": "@jupyter-widgets/base",
            "_view_module_version": "1.2.0",
            "_view_name": "LayoutView",
            "align_content": null,
            "align_items": null,
            "align_self": null,
            "border": null,
            "bottom": null,
            "display": null,
            "flex": null,
            "flex_flow": null,
            "grid_area": null,
            "grid_auto_columns": null,
            "grid_auto_flow": null,
            "grid_auto_rows": null,
            "grid_column": null,
            "grid_gap": null,
            "grid_row": null,
            "grid_template_areas": null,
            "grid_template_columns": null,
            "grid_template_rows": null,
            "height": null,
            "justify_content": null,
            "justify_items": null,
            "left": null,
            "margin": null,
            "max_height": null,
            "max_width": null,
            "min_height": null,
            "min_width": null,
            "object_fit": null,
            "object_position": null,
            "order": null,
            "overflow": null,
            "overflow_x": null,
            "overflow_y": null,
            "padding": null,
            "right": null,
            "top": null,
            "visibility": null,
            "width": null
          }
        },
        "dca26118c6134d0c863d6859386c9acc": {
          "model_module": "@jupyter-widgets/controls",
          "model_name": "ProgressStyleModel",
          "model_module_version": "1.5.0",
          "state": {
            "_model_module": "@jupyter-widgets/controls",
            "_model_module_version": "1.5.0",
            "_model_name": "ProgressStyleModel",
            "_view_count": null,
            "_view_module": "@jupyter-widgets/base",
            "_view_module_version": "1.2.0",
            "_view_name": "StyleView",
            "bar_color": null,
            "description_width": ""
          }
        },
        "c6b2df65ae334519b8f065255cefac7f": {
          "model_module": "@jupyter-widgets/base",
          "model_name": "LayoutModel",
          "model_module_version": "1.2.0",
          "state": {
            "_model_module": "@jupyter-widgets/base",
            "_model_module_version": "1.2.0",
            "_model_name": "LayoutModel",
            "_view_count": null,
            "_view_module": "@jupyter-widgets/base",
            "_view_module_version": "1.2.0",
            "_view_name": "LayoutView",
            "align_content": null,
            "align_items": null,
            "align_self": null,
            "border": null,
            "bottom": null,
            "display": null,
            "flex": null,
            "flex_flow": null,
            "grid_area": null,
            "grid_auto_columns": null,
            "grid_auto_flow": null,
            "grid_auto_rows": null,
            "grid_column": null,
            "grid_gap": null,
            "grid_row": null,
            "grid_template_areas": null,
            "grid_template_columns": null,
            "grid_template_rows": null,
            "height": null,
            "justify_content": null,
            "justify_items": null,
            "left": null,
            "margin": null,
            "max_height": null,
            "max_width": null,
            "min_height": null,
            "min_width": null,
            "object_fit": null,
            "object_position": null,
            "order": null,
            "overflow": null,
            "overflow_x": null,
            "overflow_y": null,
            "padding": null,
            "right": null,
            "top": null,
            "visibility": null,
            "width": null
          }
        },
        "bf87f5f6b8a2416eba3896f3adb424bf": {
          "model_module": "@jupyter-widgets/controls",
          "model_name": "DescriptionStyleModel",
          "model_module_version": "1.5.0",
          "state": {
            "_model_module": "@jupyter-widgets/controls",
            "_model_module_version": "1.5.0",
            "_model_name": "DescriptionStyleModel",
            "_view_count": null,
            "_view_module": "@jupyter-widgets/base",
            "_view_module_version": "1.2.0",
            "_view_name": "StyleView",
            "description_width": ""
          }
        },
        "8fbc7f99657f44fc813b006136c81549": {
          "model_module": "@jupyter-widgets/controls",
          "model_name": "HBoxModel",
          "model_module_version": "1.5.0",
          "state": {
            "_dom_classes": [],
            "_model_module": "@jupyter-widgets/controls",
            "_model_module_version": "1.5.0",
            "_model_name": "HBoxModel",
            "_view_count": null,
            "_view_module": "@jupyter-widgets/controls",
            "_view_module_version": "1.5.0",
            "_view_name": "HBoxView",
            "box_style": "",
            "children": [
              "IPY_MODEL_283b053516b84efaae99181296b136df",
              "IPY_MODEL_bfb8fc3ebbb34b399f0c9aa1fae07552",
              "IPY_MODEL_8bc1bc94fb694dcc89260acd3fb4a4ce"
            ],
            "layout": "IPY_MODEL_83c3d42257094a7ea6a3a21fda7bfbfe"
          }
        },
        "283b053516b84efaae99181296b136df": {
          "model_module": "@jupyter-widgets/controls",
          "model_name": "HTMLModel",
          "model_module_version": "1.5.0",
          "state": {
            "_dom_classes": [],
            "_model_module": "@jupyter-widgets/controls",
            "_model_module_version": "1.5.0",
            "_model_name": "HTMLModel",
            "_view_count": null,
            "_view_module": "@jupyter-widgets/controls",
            "_view_module_version": "1.5.0",
            "_view_name": "HTMLView",
            "description": "",
            "description_tooltip": null,
            "layout": "IPY_MODEL_0931d4c1754044b5a05665c734b05319",
            "placeholder": "​",
            "style": "IPY_MODEL_70a95d1cf3bd43a28c62ceba9a2fda64",
            "value": "tokenizer_config.json: 100%"
          }
        },
        "bfb8fc3ebbb34b399f0c9aa1fae07552": {
          "model_module": "@jupyter-widgets/controls",
          "model_name": "FloatProgressModel",
          "model_module_version": "1.5.0",
          "state": {
            "_dom_classes": [],
            "_model_module": "@jupyter-widgets/controls",
            "_model_module_version": "1.5.0",
            "_model_name": "FloatProgressModel",
            "_view_count": null,
            "_view_module": "@jupyter-widgets/controls",
            "_view_module_version": "1.5.0",
            "_view_name": "ProgressView",
            "bar_style": "success",
            "description": "",
            "description_tooltip": null,
            "layout": "IPY_MODEL_cac4c179ba8d494597007a64e9298f2d",
            "max": 342,
            "min": 0,
            "orientation": "horizontal",
            "style": "IPY_MODEL_9442a3231a5c4051812c198068ec637d",
            "value": 342
          }
        },
        "8bc1bc94fb694dcc89260acd3fb4a4ce": {
          "model_module": "@jupyter-widgets/controls",
          "model_name": "HTMLModel",
          "model_module_version": "1.5.0",
          "state": {
            "_dom_classes": [],
            "_model_module": "@jupyter-widgets/controls",
            "_model_module_version": "1.5.0",
            "_model_name": "HTMLModel",
            "_view_count": null,
            "_view_module": "@jupyter-widgets/controls",
            "_view_module_version": "1.5.0",
            "_view_name": "HTMLView",
            "description": "",
            "description_tooltip": null,
            "layout": "IPY_MODEL_d6b688f574d842feae80c16753349926",
            "placeholder": "​",
            "style": "IPY_MODEL_5f76f470fcf74f27be25c3a4caaa1183",
            "value": " 342/342 [00:00&lt;00:00, 20.8kB/s]"
          }
        },
        "83c3d42257094a7ea6a3a21fda7bfbfe": {
          "model_module": "@jupyter-widgets/base",
          "model_name": "LayoutModel",
          "model_module_version": "1.2.0",
          "state": {
            "_model_module": "@jupyter-widgets/base",
            "_model_module_version": "1.2.0",
            "_model_name": "LayoutModel",
            "_view_count": null,
            "_view_module": "@jupyter-widgets/base",
            "_view_module_version": "1.2.0",
            "_view_name": "LayoutView",
            "align_content": null,
            "align_items": null,
            "align_self": null,
            "border": null,
            "bottom": null,
            "display": null,
            "flex": null,
            "flex_flow": null,
            "grid_area": null,
            "grid_auto_columns": null,
            "grid_auto_flow": null,
            "grid_auto_rows": null,
            "grid_column": null,
            "grid_gap": null,
            "grid_row": null,
            "grid_template_areas": null,
            "grid_template_columns": null,
            "grid_template_rows": null,
            "height": null,
            "justify_content": null,
            "justify_items": null,
            "left": null,
            "margin": null,
            "max_height": null,
            "max_width": null,
            "min_height": null,
            "min_width": null,
            "object_fit": null,
            "object_position": null,
            "order": null,
            "overflow": null,
            "overflow_x": null,
            "overflow_y": null,
            "padding": null,
            "right": null,
            "top": null,
            "visibility": null,
            "width": null
          }
        },
        "0931d4c1754044b5a05665c734b05319": {
          "model_module": "@jupyter-widgets/base",
          "model_name": "LayoutModel",
          "model_module_version": "1.2.0",
          "state": {
            "_model_module": "@jupyter-widgets/base",
            "_model_module_version": "1.2.0",
            "_model_name": "LayoutModel",
            "_view_count": null,
            "_view_module": "@jupyter-widgets/base",
            "_view_module_version": "1.2.0",
            "_view_name": "LayoutView",
            "align_content": null,
            "align_items": null,
            "align_self": null,
            "border": null,
            "bottom": null,
            "display": null,
            "flex": null,
            "flex_flow": null,
            "grid_area": null,
            "grid_auto_columns": null,
            "grid_auto_flow": null,
            "grid_auto_rows": null,
            "grid_column": null,
            "grid_gap": null,
            "grid_row": null,
            "grid_template_areas": null,
            "grid_template_columns": null,
            "grid_template_rows": null,
            "height": null,
            "justify_content": null,
            "justify_items": null,
            "left": null,
            "margin": null,
            "max_height": null,
            "max_width": null,
            "min_height": null,
            "min_width": null,
            "object_fit": null,
            "object_position": null,
            "order": null,
            "overflow": null,
            "overflow_x": null,
            "overflow_y": null,
            "padding": null,
            "right": null,
            "top": null,
            "visibility": null,
            "width": null
          }
        },
        "70a95d1cf3bd43a28c62ceba9a2fda64": {
          "model_module": "@jupyter-widgets/controls",
          "model_name": "DescriptionStyleModel",
          "model_module_version": "1.5.0",
          "state": {
            "_model_module": "@jupyter-widgets/controls",
            "_model_module_version": "1.5.0",
            "_model_name": "DescriptionStyleModel",
            "_view_count": null,
            "_view_module": "@jupyter-widgets/base",
            "_view_module_version": "1.2.0",
            "_view_name": "StyleView",
            "description_width": ""
          }
        },
        "cac4c179ba8d494597007a64e9298f2d": {
          "model_module": "@jupyter-widgets/base",
          "model_name": "LayoutModel",
          "model_module_version": "1.2.0",
          "state": {
            "_model_module": "@jupyter-widgets/base",
            "_model_module_version": "1.2.0",
            "_model_name": "LayoutModel",
            "_view_count": null,
            "_view_module": "@jupyter-widgets/base",
            "_view_module_version": "1.2.0",
            "_view_name": "LayoutView",
            "align_content": null,
            "align_items": null,
            "align_self": null,
            "border": null,
            "bottom": null,
            "display": null,
            "flex": null,
            "flex_flow": null,
            "grid_area": null,
            "grid_auto_columns": null,
            "grid_auto_flow": null,
            "grid_auto_rows": null,
            "grid_column": null,
            "grid_gap": null,
            "grid_row": null,
            "grid_template_areas": null,
            "grid_template_columns": null,
            "grid_template_rows": null,
            "height": null,
            "justify_content": null,
            "justify_items": null,
            "left": null,
            "margin": null,
            "max_height": null,
            "max_width": null,
            "min_height": null,
            "min_width": null,
            "object_fit": null,
            "object_position": null,
            "order": null,
            "overflow": null,
            "overflow_x": null,
            "overflow_y": null,
            "padding": null,
            "right": null,
            "top": null,
            "visibility": null,
            "width": null
          }
        },
        "9442a3231a5c4051812c198068ec637d": {
          "model_module": "@jupyter-widgets/controls",
          "model_name": "ProgressStyleModel",
          "model_module_version": "1.5.0",
          "state": {
            "_model_module": "@jupyter-widgets/controls",
            "_model_module_version": "1.5.0",
            "_model_name": "ProgressStyleModel",
            "_view_count": null,
            "_view_module": "@jupyter-widgets/base",
            "_view_module_version": "1.2.0",
            "_view_name": "StyleView",
            "bar_color": null,
            "description_width": ""
          }
        },
        "d6b688f574d842feae80c16753349926": {
          "model_module": "@jupyter-widgets/base",
          "model_name": "LayoutModel",
          "model_module_version": "1.2.0",
          "state": {
            "_model_module": "@jupyter-widgets/base",
            "_model_module_version": "1.2.0",
            "_model_name": "LayoutModel",
            "_view_count": null,
            "_view_module": "@jupyter-widgets/base",
            "_view_module_version": "1.2.0",
            "_view_name": "LayoutView",
            "align_content": null,
            "align_items": null,
            "align_self": null,
            "border": null,
            "bottom": null,
            "display": null,
            "flex": null,
            "flex_flow": null,
            "grid_area": null,
            "grid_auto_columns": null,
            "grid_auto_flow": null,
            "grid_auto_rows": null,
            "grid_column": null,
            "grid_gap": null,
            "grid_row": null,
            "grid_template_areas": null,
            "grid_template_columns": null,
            "grid_template_rows": null,
            "height": null,
            "justify_content": null,
            "justify_items": null,
            "left": null,
            "margin": null,
            "max_height": null,
            "max_width": null,
            "min_height": null,
            "min_width": null,
            "object_fit": null,
            "object_position": null,
            "order": null,
            "overflow": null,
            "overflow_x": null,
            "overflow_y": null,
            "padding": null,
            "right": null,
            "top": null,
            "visibility": null,
            "width": null
          }
        },
        "5f76f470fcf74f27be25c3a4caaa1183": {
          "model_module": "@jupyter-widgets/controls",
          "model_name": "DescriptionStyleModel",
          "model_module_version": "1.5.0",
          "state": {
            "_model_module": "@jupyter-widgets/controls",
            "_model_module_version": "1.5.0",
            "_model_name": "DescriptionStyleModel",
            "_view_count": null,
            "_view_module": "@jupyter-widgets/base",
            "_view_module_version": "1.2.0",
            "_view_name": "StyleView",
            "description_width": ""
          }
        },
        "ab0a885576e74698a0b633625d790efd": {
          "model_module": "@jupyter-widgets/controls",
          "model_name": "HBoxModel",
          "model_module_version": "1.5.0",
          "state": {
            "_dom_classes": [],
            "_model_module": "@jupyter-widgets/controls",
            "_model_module_version": "1.5.0",
            "_model_name": "HBoxModel",
            "_view_count": null,
            "_view_module": "@jupyter-widgets/controls",
            "_view_module_version": "1.5.0",
            "_view_name": "HBoxView",
            "box_style": "",
            "children": [
              "IPY_MODEL_c870a2b243e34df9a14679104cce1616",
              "IPY_MODEL_98c8b320f1c64d959bba8a2d4331a875",
              "IPY_MODEL_35dbb679281c4f27a0f3145193a94f5c"
            ],
            "layout": "IPY_MODEL_d0e3130646a342d189bbe66e0247b16e"
          }
        },
        "c870a2b243e34df9a14679104cce1616": {
          "model_module": "@jupyter-widgets/controls",
          "model_name": "HTMLModel",
          "model_module_version": "1.5.0",
          "state": {
            "_dom_classes": [],
            "_model_module": "@jupyter-widgets/controls",
            "_model_module_version": "1.5.0",
            "_model_name": "HTMLModel",
            "_view_count": null,
            "_view_module": "@jupyter-widgets/controls",
            "_view_module_version": "1.5.0",
            "_view_name": "HTMLView",
            "description": "",
            "description_tooltip": null,
            "layout": "IPY_MODEL_5c8d1ae5e550453cba2b642071830eeb",
            "placeholder": "​",
            "style": "IPY_MODEL_8ea4b1a6e0e04de49ff519dad8cab93b",
            "value": "vocab.txt: "
          }
        },
        "98c8b320f1c64d959bba8a2d4331a875": {
          "model_module": "@jupyter-widgets/controls",
          "model_name": "FloatProgressModel",
          "model_module_version": "1.5.0",
          "state": {
            "_dom_classes": [],
            "_model_module": "@jupyter-widgets/controls",
            "_model_module_version": "1.5.0",
            "_model_name": "FloatProgressModel",
            "_view_count": null,
            "_view_module": "@jupyter-widgets/controls",
            "_view_module_version": "1.5.0",
            "_view_name": "ProgressView",
            "bar_style": "success",
            "description": "",
            "description_tooltip": null,
            "layout": "IPY_MODEL_53530c7ae0774a72aee9527b028fc4cf",
            "max": 1,
            "min": 0,
            "orientation": "horizontal",
            "style": "IPY_MODEL_5e663796eb1c4b1d87a58b243f813628",
            "value": 1
          }
        },
        "35dbb679281c4f27a0f3145193a94f5c": {
          "model_module": "@jupyter-widgets/controls",
          "model_name": "HTMLModel",
          "model_module_version": "1.5.0",
          "state": {
            "_dom_classes": [],
            "_model_module": "@jupyter-widgets/controls",
            "_model_module_version": "1.5.0",
            "_model_name": "HTMLModel",
            "_view_count": null,
            "_view_module": "@jupyter-widgets/controls",
            "_view_module_version": "1.5.0",
            "_view_name": "HTMLView",
            "description": "",
            "description_tooltip": null,
            "layout": "IPY_MODEL_2fcfc174ee3945a09d8f29ef42bd7ace",
            "placeholder": "​",
            "style": "IPY_MODEL_2e67a182b7d94a81b03f7fdf6ff9af71",
            "value": " 232k/? [00:00&lt;00:00, 9.02MB/s]"
          }
        },
        "d0e3130646a342d189bbe66e0247b16e": {
          "model_module": "@jupyter-widgets/base",
          "model_name": "LayoutModel",
          "model_module_version": "1.2.0",
          "state": {
            "_model_module": "@jupyter-widgets/base",
            "_model_module_version": "1.2.0",
            "_model_name": "LayoutModel",
            "_view_count": null,
            "_view_module": "@jupyter-widgets/base",
            "_view_module_version": "1.2.0",
            "_view_name": "LayoutView",
            "align_content": null,
            "align_items": null,
            "align_self": null,
            "border": null,
            "bottom": null,
            "display": null,
            "flex": null,
            "flex_flow": null,
            "grid_area": null,
            "grid_auto_columns": null,
            "grid_auto_flow": null,
            "grid_auto_rows": null,
            "grid_column": null,
            "grid_gap": null,
            "grid_row": null,
            "grid_template_areas": null,
            "grid_template_columns": null,
            "grid_template_rows": null,
            "height": null,
            "justify_content": null,
            "justify_items": null,
            "left": null,
            "margin": null,
            "max_height": null,
            "max_width": null,
            "min_height": null,
            "min_width": null,
            "object_fit": null,
            "object_position": null,
            "order": null,
            "overflow": null,
            "overflow_x": null,
            "overflow_y": null,
            "padding": null,
            "right": null,
            "top": null,
            "visibility": null,
            "width": null
          }
        },
        "5c8d1ae5e550453cba2b642071830eeb": {
          "model_module": "@jupyter-widgets/base",
          "model_name": "LayoutModel",
          "model_module_version": "1.2.0",
          "state": {
            "_model_module": "@jupyter-widgets/base",
            "_model_module_version": "1.2.0",
            "_model_name": "LayoutModel",
            "_view_count": null,
            "_view_module": "@jupyter-widgets/base",
            "_view_module_version": "1.2.0",
            "_view_name": "LayoutView",
            "align_content": null,
            "align_items": null,
            "align_self": null,
            "border": null,
            "bottom": null,
            "display": null,
            "flex": null,
            "flex_flow": null,
            "grid_area": null,
            "grid_auto_columns": null,
            "grid_auto_flow": null,
            "grid_auto_rows": null,
            "grid_column": null,
            "grid_gap": null,
            "grid_row": null,
            "grid_template_areas": null,
            "grid_template_columns": null,
            "grid_template_rows": null,
            "height": null,
            "justify_content": null,
            "justify_items": null,
            "left": null,
            "margin": null,
            "max_height": null,
            "max_width": null,
            "min_height": null,
            "min_width": null,
            "object_fit": null,
            "object_position": null,
            "order": null,
            "overflow": null,
            "overflow_x": null,
            "overflow_y": null,
            "padding": null,
            "right": null,
            "top": null,
            "visibility": null,
            "width": null
          }
        },
        "8ea4b1a6e0e04de49ff519dad8cab93b": {
          "model_module": "@jupyter-widgets/controls",
          "model_name": "DescriptionStyleModel",
          "model_module_version": "1.5.0",
          "state": {
            "_model_module": "@jupyter-widgets/controls",
            "_model_module_version": "1.5.0",
            "_model_name": "DescriptionStyleModel",
            "_view_count": null,
            "_view_module": "@jupyter-widgets/base",
            "_view_module_version": "1.2.0",
            "_view_name": "StyleView",
            "description_width": ""
          }
        },
        "53530c7ae0774a72aee9527b028fc4cf": {
          "model_module": "@jupyter-widgets/base",
          "model_name": "LayoutModel",
          "model_module_version": "1.2.0",
          "state": {
            "_model_module": "@jupyter-widgets/base",
            "_model_module_version": "1.2.0",
            "_model_name": "LayoutModel",
            "_view_count": null,
            "_view_module": "@jupyter-widgets/base",
            "_view_module_version": "1.2.0",
            "_view_name": "LayoutView",
            "align_content": null,
            "align_items": null,
            "align_self": null,
            "border": null,
            "bottom": null,
            "display": null,
            "flex": null,
            "flex_flow": null,
            "grid_area": null,
            "grid_auto_columns": null,
            "grid_auto_flow": null,
            "grid_auto_rows": null,
            "grid_column": null,
            "grid_gap": null,
            "grid_row": null,
            "grid_template_areas": null,
            "grid_template_columns": null,
            "grid_template_rows": null,
            "height": null,
            "justify_content": null,
            "justify_items": null,
            "left": null,
            "margin": null,
            "max_height": null,
            "max_width": null,
            "min_height": null,
            "min_width": null,
            "object_fit": null,
            "object_position": null,
            "order": null,
            "overflow": null,
            "overflow_x": null,
            "overflow_y": null,
            "padding": null,
            "right": null,
            "top": null,
            "visibility": null,
            "width": "20px"
          }
        },
        "5e663796eb1c4b1d87a58b243f813628": {
          "model_module": "@jupyter-widgets/controls",
          "model_name": "ProgressStyleModel",
          "model_module_version": "1.5.0",
          "state": {
            "_model_module": "@jupyter-widgets/controls",
            "_model_module_version": "1.5.0",
            "_model_name": "ProgressStyleModel",
            "_view_count": null,
            "_view_module": "@jupyter-widgets/base",
            "_view_module_version": "1.2.0",
            "_view_name": "StyleView",
            "bar_color": null,
            "description_width": ""
          }
        },
        "2fcfc174ee3945a09d8f29ef42bd7ace": {
          "model_module": "@jupyter-widgets/base",
          "model_name": "LayoutModel",
          "model_module_version": "1.2.0",
          "state": {
            "_model_module": "@jupyter-widgets/base",
            "_model_module_version": "1.2.0",
            "_model_name": "LayoutModel",
            "_view_count": null,
            "_view_module": "@jupyter-widgets/base",
            "_view_module_version": "1.2.0",
            "_view_name": "LayoutView",
            "align_content": null,
            "align_items": null,
            "align_self": null,
            "border": null,
            "bottom": null,
            "display": null,
            "flex": null,
            "flex_flow": null,
            "grid_area": null,
            "grid_auto_columns": null,
            "grid_auto_flow": null,
            "grid_auto_rows": null,
            "grid_column": null,
            "grid_gap": null,
            "grid_row": null,
            "grid_template_areas": null,
            "grid_template_columns": null,
            "grid_template_rows": null,
            "height": null,
            "justify_content": null,
            "justify_items": null,
            "left": null,
            "margin": null,
            "max_height": null,
            "max_width": null,
            "min_height": null,
            "min_width": null,
            "object_fit": null,
            "object_position": null,
            "order": null,
            "overflow": null,
            "overflow_x": null,
            "overflow_y": null,
            "padding": null,
            "right": null,
            "top": null,
            "visibility": null,
            "width": null
          }
        },
        "2e67a182b7d94a81b03f7fdf6ff9af71": {
          "model_module": "@jupyter-widgets/controls",
          "model_name": "DescriptionStyleModel",
          "model_module_version": "1.5.0",
          "state": {
            "_model_module": "@jupyter-widgets/controls",
            "_model_module_version": "1.5.0",
            "_model_name": "DescriptionStyleModel",
            "_view_count": null,
            "_view_module": "@jupyter-widgets/base",
            "_view_module_version": "1.2.0",
            "_view_name": "StyleView",
            "description_width": ""
          }
        },
        "20b5fc7bfcb6471c838118de2836324b": {
          "model_module": "@jupyter-widgets/controls",
          "model_name": "HBoxModel",
          "model_module_version": "1.5.0",
          "state": {
            "_dom_classes": [],
            "_model_module": "@jupyter-widgets/controls",
            "_model_module_version": "1.5.0",
            "_model_name": "HBoxModel",
            "_view_count": null,
            "_view_module": "@jupyter-widgets/controls",
            "_view_module_version": "1.5.0",
            "_view_name": "HBoxView",
            "box_style": "",
            "children": [
              "IPY_MODEL_7e884a78399641d48f0fec85a8735d7e",
              "IPY_MODEL_e5a70d09c884481cb8275f734bed6249",
              "IPY_MODEL_3b892b8a35b74becbd7f90f3e547b694"
            ],
            "layout": "IPY_MODEL_2dcd5bd96d59456bb95d11e0263a17cf"
          }
        },
        "7e884a78399641d48f0fec85a8735d7e": {
          "model_module": "@jupyter-widgets/controls",
          "model_name": "HTMLModel",
          "model_module_version": "1.5.0",
          "state": {
            "_dom_classes": [],
            "_model_module": "@jupyter-widgets/controls",
            "_model_module_version": "1.5.0",
            "_model_name": "HTMLModel",
            "_view_count": null,
            "_view_module": "@jupyter-widgets/controls",
            "_view_module_version": "1.5.0",
            "_view_name": "HTMLView",
            "description": "",
            "description_tooltip": null,
            "layout": "IPY_MODEL_10c8977cc3ff46d1bfd5483098520adc",
            "placeholder": "​",
            "style": "IPY_MODEL_dc52599c39554d379c3de95e06720928",
            "value": "tokenizer.json: "
          }
        },
        "e5a70d09c884481cb8275f734bed6249": {
          "model_module": "@jupyter-widgets/controls",
          "model_name": "FloatProgressModel",
          "model_module_version": "1.5.0",
          "state": {
            "_dom_classes": [],
            "_model_module": "@jupyter-widgets/controls",
            "_model_module_version": "1.5.0",
            "_model_name": "FloatProgressModel",
            "_view_count": null,
            "_view_module": "@jupyter-widgets/controls",
            "_view_module_version": "1.5.0",
            "_view_name": "ProgressView",
            "bar_style": "success",
            "description": "",
            "description_tooltip": null,
            "layout": "IPY_MODEL_52df34de80e64fd187549e51c7c409b0",
            "max": 1,
            "min": 0,
            "orientation": "horizontal",
            "style": "IPY_MODEL_9a08c4e614174e248eb5595ade04daea",
            "value": 1
          }
        },
        "3b892b8a35b74becbd7f90f3e547b694": {
          "model_module": "@jupyter-widgets/controls",
          "model_name": "HTMLModel",
          "model_module_version": "1.5.0",
          "state": {
            "_dom_classes": [],
            "_model_module": "@jupyter-widgets/controls",
            "_model_module_version": "1.5.0",
            "_model_name": "HTMLModel",
            "_view_count": null,
            "_view_module": "@jupyter-widgets/controls",
            "_view_module_version": "1.5.0",
            "_view_name": "HTMLView",
            "description": "",
            "description_tooltip": null,
            "layout": "IPY_MODEL_f706788c1b0448b69555565bbc148d7d",
            "placeholder": "​",
            "style": "IPY_MODEL_a9c58714259d46a891fed2d0c632cc8d",
            "value": " 712k/? [00:00&lt;00:00, 2.61MB/s]"
          }
        },
        "2dcd5bd96d59456bb95d11e0263a17cf": {
          "model_module": "@jupyter-widgets/base",
          "model_name": "LayoutModel",
          "model_module_version": "1.2.0",
          "state": {
            "_model_module": "@jupyter-widgets/base",
            "_model_module_version": "1.2.0",
            "_model_name": "LayoutModel",
            "_view_count": null,
            "_view_module": "@jupyter-widgets/base",
            "_view_module_version": "1.2.0",
            "_view_name": "LayoutView",
            "align_content": null,
            "align_items": null,
            "align_self": null,
            "border": null,
            "bottom": null,
            "display": null,
            "flex": null,
            "flex_flow": null,
            "grid_area": null,
            "grid_auto_columns": null,
            "grid_auto_flow": null,
            "grid_auto_rows": null,
            "grid_column": null,
            "grid_gap": null,
            "grid_row": null,
            "grid_template_areas": null,
            "grid_template_columns": null,
            "grid_template_rows": null,
            "height": null,
            "justify_content": null,
            "justify_items": null,
            "left": null,
            "margin": null,
            "max_height": null,
            "max_width": null,
            "min_height": null,
            "min_width": null,
            "object_fit": null,
            "object_position": null,
            "order": null,
            "overflow": null,
            "overflow_x": null,
            "overflow_y": null,
            "padding": null,
            "right": null,
            "top": null,
            "visibility": null,
            "width": null
          }
        },
        "10c8977cc3ff46d1bfd5483098520adc": {
          "model_module": "@jupyter-widgets/base",
          "model_name": "LayoutModel",
          "model_module_version": "1.2.0",
          "state": {
            "_model_module": "@jupyter-widgets/base",
            "_model_module_version": "1.2.0",
            "_model_name": "LayoutModel",
            "_view_count": null,
            "_view_module": "@jupyter-widgets/base",
            "_view_module_version": "1.2.0",
            "_view_name": "LayoutView",
            "align_content": null,
            "align_items": null,
            "align_self": null,
            "border": null,
            "bottom": null,
            "display": null,
            "flex": null,
            "flex_flow": null,
            "grid_area": null,
            "grid_auto_columns": null,
            "grid_auto_flow": null,
            "grid_auto_rows": null,
            "grid_column": null,
            "grid_gap": null,
            "grid_row": null,
            "grid_template_areas": null,
            "grid_template_columns": null,
            "grid_template_rows": null,
            "height": null,
            "justify_content": null,
            "justify_items": null,
            "left": null,
            "margin": null,
            "max_height": null,
            "max_width": null,
            "min_height": null,
            "min_width": null,
            "object_fit": null,
            "object_position": null,
            "order": null,
            "overflow": null,
            "overflow_x": null,
            "overflow_y": null,
            "padding": null,
            "right": null,
            "top": null,
            "visibility": null,
            "width": null
          }
        },
        "dc52599c39554d379c3de95e06720928": {
          "model_module": "@jupyter-widgets/controls",
          "model_name": "DescriptionStyleModel",
          "model_module_version": "1.5.0",
          "state": {
            "_model_module": "@jupyter-widgets/controls",
            "_model_module_version": "1.5.0",
            "_model_name": "DescriptionStyleModel",
            "_view_count": null,
            "_view_module": "@jupyter-widgets/base",
            "_view_module_version": "1.2.0",
            "_view_name": "StyleView",
            "description_width": ""
          }
        },
        "52df34de80e64fd187549e51c7c409b0": {
          "model_module": "@jupyter-widgets/base",
          "model_name": "LayoutModel",
          "model_module_version": "1.2.0",
          "state": {
            "_model_module": "@jupyter-widgets/base",
            "_model_module_version": "1.2.0",
            "_model_name": "LayoutModel",
            "_view_count": null,
            "_view_module": "@jupyter-widgets/base",
            "_view_module_version": "1.2.0",
            "_view_name": "LayoutView",
            "align_content": null,
            "align_items": null,
            "align_self": null,
            "border": null,
            "bottom": null,
            "display": null,
            "flex": null,
            "flex_flow": null,
            "grid_area": null,
            "grid_auto_columns": null,
            "grid_auto_flow": null,
            "grid_auto_rows": null,
            "grid_column": null,
            "grid_gap": null,
            "grid_row": null,
            "grid_template_areas": null,
            "grid_template_columns": null,
            "grid_template_rows": null,
            "height": null,
            "justify_content": null,
            "justify_items": null,
            "left": null,
            "margin": null,
            "max_height": null,
            "max_width": null,
            "min_height": null,
            "min_width": null,
            "object_fit": null,
            "object_position": null,
            "order": null,
            "overflow": null,
            "overflow_x": null,
            "overflow_y": null,
            "padding": null,
            "right": null,
            "top": null,
            "visibility": null,
            "width": "20px"
          }
        },
        "9a08c4e614174e248eb5595ade04daea": {
          "model_module": "@jupyter-widgets/controls",
          "model_name": "ProgressStyleModel",
          "model_module_version": "1.5.0",
          "state": {
            "_model_module": "@jupyter-widgets/controls",
            "_model_module_version": "1.5.0",
            "_model_name": "ProgressStyleModel",
            "_view_count": null,
            "_view_module": "@jupyter-widgets/base",
            "_view_module_version": "1.2.0",
            "_view_name": "StyleView",
            "bar_color": null,
            "description_width": ""
          }
        },
        "f706788c1b0448b69555565bbc148d7d": {
          "model_module": "@jupyter-widgets/base",
          "model_name": "LayoutModel",
          "model_module_version": "1.2.0",
          "state": {
            "_model_module": "@jupyter-widgets/base",
            "_model_module_version": "1.2.0",
            "_model_name": "LayoutModel",
            "_view_count": null,
            "_view_module": "@jupyter-widgets/base",
            "_view_module_version": "1.2.0",
            "_view_name": "LayoutView",
            "align_content": null,
            "align_items": null,
            "align_self": null,
            "border": null,
            "bottom": null,
            "display": null,
            "flex": null,
            "flex_flow": null,
            "grid_area": null,
            "grid_auto_columns": null,
            "grid_auto_flow": null,
            "grid_auto_rows": null,
            "grid_column": null,
            "grid_gap": null,
            "grid_row": null,
            "grid_template_areas": null,
            "grid_template_columns": null,
            "grid_template_rows": null,
            "height": null,
            "justify_content": null,
            "justify_items": null,
            "left": null,
            "margin": null,
            "max_height": null,
            "max_width": null,
            "min_height": null,
            "min_width": null,
            "object_fit": null,
            "object_position": null,
            "order": null,
            "overflow": null,
            "overflow_x": null,
            "overflow_y": null,
            "padding": null,
            "right": null,
            "top": null,
            "visibility": null,
            "width": null
          }
        },
        "a9c58714259d46a891fed2d0c632cc8d": {
          "model_module": "@jupyter-widgets/controls",
          "model_name": "DescriptionStyleModel",
          "model_module_version": "1.5.0",
          "state": {
            "_model_module": "@jupyter-widgets/controls",
            "_model_module_version": "1.5.0",
            "_model_name": "DescriptionStyleModel",
            "_view_count": null,
            "_view_module": "@jupyter-widgets/base",
            "_view_module_version": "1.2.0",
            "_view_name": "StyleView",
            "description_width": ""
          }
        },
        "60acbe8d27874d47bbe5faa79fb0d82d": {
          "model_module": "@jupyter-widgets/controls",
          "model_name": "HBoxModel",
          "model_module_version": "1.5.0",
          "state": {
            "_dom_classes": [],
            "_model_module": "@jupyter-widgets/controls",
            "_model_module_version": "1.5.0",
            "_model_name": "HBoxModel",
            "_view_count": null,
            "_view_module": "@jupyter-widgets/controls",
            "_view_module_version": "1.5.0",
            "_view_name": "HBoxView",
            "box_style": "",
            "children": [
              "IPY_MODEL_a4c1c0dce3cc44328d42d39fdcfff75a",
              "IPY_MODEL_cefe910e39d945c38e0d5eff597f24d9",
              "IPY_MODEL_6ef450a827714826a9efd691c6ba5e1f"
            ],
            "layout": "IPY_MODEL_73f7b20c47ba4d8d9ecc1819307f512b"
          }
        },
        "a4c1c0dce3cc44328d42d39fdcfff75a": {
          "model_module": "@jupyter-widgets/controls",
          "model_name": "HTMLModel",
          "model_module_version": "1.5.0",
          "state": {
            "_dom_classes": [],
            "_model_module": "@jupyter-widgets/controls",
            "_model_module_version": "1.5.0",
            "_model_name": "HTMLModel",
            "_view_count": null,
            "_view_module": "@jupyter-widgets/controls",
            "_view_module_version": "1.5.0",
            "_view_name": "HTMLView",
            "description": "",
            "description_tooltip": null,
            "layout": "IPY_MODEL_655272ed8de84a5dbfa82e0e7f8b26d5",
            "placeholder": "​",
            "style": "IPY_MODEL_7c8f43696b294882b53db0d84bd89ac9",
            "value": "special_tokens_map.json: 100%"
          }
        },
        "cefe910e39d945c38e0d5eff597f24d9": {
          "model_module": "@jupyter-widgets/controls",
          "model_name": "FloatProgressModel",
          "model_module_version": "1.5.0",
          "state": {
            "_dom_classes": [],
            "_model_module": "@jupyter-widgets/controls",
            "_model_module_version": "1.5.0",
            "_model_name": "FloatProgressModel",
            "_view_count": null,
            "_view_module": "@jupyter-widgets/controls",
            "_view_module_version": "1.5.0",
            "_view_name": "ProgressView",
            "bar_style": "success",
            "description": "",
            "description_tooltip": null,
            "layout": "IPY_MODEL_a64699aef4214a9491eee1ca14f60f1b",
            "max": 125,
            "min": 0,
            "orientation": "horizontal",
            "style": "IPY_MODEL_be7847d81f224c598c559047330c57c5",
            "value": 125
          }
        },
        "6ef450a827714826a9efd691c6ba5e1f": {
          "model_module": "@jupyter-widgets/controls",
          "model_name": "HTMLModel",
          "model_module_version": "1.5.0",
          "state": {
            "_dom_classes": [],
            "_model_module": "@jupyter-widgets/controls",
            "_model_module_version": "1.5.0",
            "_model_name": "HTMLModel",
            "_view_count": null,
            "_view_module": "@jupyter-widgets/controls",
            "_view_module_version": "1.5.0",
            "_view_name": "HTMLView",
            "description": "",
            "description_tooltip": null,
            "layout": "IPY_MODEL_0aa08790fc964143b4902d36a8ae23ee",
            "placeholder": "​",
            "style": "IPY_MODEL_534c433c16964a1f9cc155be5a049694",
            "value": " 125/125 [00:00&lt;00:00, 12.2kB/s]"
          }
        },
        "73f7b20c47ba4d8d9ecc1819307f512b": {
          "model_module": "@jupyter-widgets/base",
          "model_name": "LayoutModel",
          "model_module_version": "1.2.0",
          "state": {
            "_model_module": "@jupyter-widgets/base",
            "_model_module_version": "1.2.0",
            "_model_name": "LayoutModel",
            "_view_count": null,
            "_view_module": "@jupyter-widgets/base",
            "_view_module_version": "1.2.0",
            "_view_name": "LayoutView",
            "align_content": null,
            "align_items": null,
            "align_self": null,
            "border": null,
            "bottom": null,
            "display": null,
            "flex": null,
            "flex_flow": null,
            "grid_area": null,
            "grid_auto_columns": null,
            "grid_auto_flow": null,
            "grid_auto_rows": null,
            "grid_column": null,
            "grid_gap": null,
            "grid_row": null,
            "grid_template_areas": null,
            "grid_template_columns": null,
            "grid_template_rows": null,
            "height": null,
            "justify_content": null,
            "justify_items": null,
            "left": null,
            "margin": null,
            "max_height": null,
            "max_width": null,
            "min_height": null,
            "min_width": null,
            "object_fit": null,
            "object_position": null,
            "order": null,
            "overflow": null,
            "overflow_x": null,
            "overflow_y": null,
            "padding": null,
            "right": null,
            "top": null,
            "visibility": null,
            "width": null
          }
        },
        "655272ed8de84a5dbfa82e0e7f8b26d5": {
          "model_module": "@jupyter-widgets/base",
          "model_name": "LayoutModel",
          "model_module_version": "1.2.0",
          "state": {
            "_model_module": "@jupyter-widgets/base",
            "_model_module_version": "1.2.0",
            "_model_name": "LayoutModel",
            "_view_count": null,
            "_view_module": "@jupyter-widgets/base",
            "_view_module_version": "1.2.0",
            "_view_name": "LayoutView",
            "align_content": null,
            "align_items": null,
            "align_self": null,
            "border": null,
            "bottom": null,
            "display": null,
            "flex": null,
            "flex_flow": null,
            "grid_area": null,
            "grid_auto_columns": null,
            "grid_auto_flow": null,
            "grid_auto_rows": null,
            "grid_column": null,
            "grid_gap": null,
            "grid_row": null,
            "grid_template_areas": null,
            "grid_template_columns": null,
            "grid_template_rows": null,
            "height": null,
            "justify_content": null,
            "justify_items": null,
            "left": null,
            "margin": null,
            "max_height": null,
            "max_width": null,
            "min_height": null,
            "min_width": null,
            "object_fit": null,
            "object_position": null,
            "order": null,
            "overflow": null,
            "overflow_x": null,
            "overflow_y": null,
            "padding": null,
            "right": null,
            "top": null,
            "visibility": null,
            "width": null
          }
        },
        "7c8f43696b294882b53db0d84bd89ac9": {
          "model_module": "@jupyter-widgets/controls",
          "model_name": "DescriptionStyleModel",
          "model_module_version": "1.5.0",
          "state": {
            "_model_module": "@jupyter-widgets/controls",
            "_model_module_version": "1.5.0",
            "_model_name": "DescriptionStyleModel",
            "_view_count": null,
            "_view_module": "@jupyter-widgets/base",
            "_view_module_version": "1.2.0",
            "_view_name": "StyleView",
            "description_width": ""
          }
        },
        "a64699aef4214a9491eee1ca14f60f1b": {
          "model_module": "@jupyter-widgets/base",
          "model_name": "LayoutModel",
          "model_module_version": "1.2.0",
          "state": {
            "_model_module": "@jupyter-widgets/base",
            "_model_module_version": "1.2.0",
            "_model_name": "LayoutModel",
            "_view_count": null,
            "_view_module": "@jupyter-widgets/base",
            "_view_module_version": "1.2.0",
            "_view_name": "LayoutView",
            "align_content": null,
            "align_items": null,
            "align_self": null,
            "border": null,
            "bottom": null,
            "display": null,
            "flex": null,
            "flex_flow": null,
            "grid_area": null,
            "grid_auto_columns": null,
            "grid_auto_flow": null,
            "grid_auto_rows": null,
            "grid_column": null,
            "grid_gap": null,
            "grid_row": null,
            "grid_template_areas": null,
            "grid_template_columns": null,
            "grid_template_rows": null,
            "height": null,
            "justify_content": null,
            "justify_items": null,
            "left": null,
            "margin": null,
            "max_height": null,
            "max_width": null,
            "min_height": null,
            "min_width": null,
            "object_fit": null,
            "object_position": null,
            "order": null,
            "overflow": null,
            "overflow_x": null,
            "overflow_y": null,
            "padding": null,
            "right": null,
            "top": null,
            "visibility": null,
            "width": null
          }
        },
        "be7847d81f224c598c559047330c57c5": {
          "model_module": "@jupyter-widgets/controls",
          "model_name": "ProgressStyleModel",
          "model_module_version": "1.5.0",
          "state": {
            "_model_module": "@jupyter-widgets/controls",
            "_model_module_version": "1.5.0",
            "_model_name": "ProgressStyleModel",
            "_view_count": null,
            "_view_module": "@jupyter-widgets/base",
            "_view_module_version": "1.2.0",
            "_view_name": "StyleView",
            "bar_color": null,
            "description_width": ""
          }
        },
        "0aa08790fc964143b4902d36a8ae23ee": {
          "model_module": "@jupyter-widgets/base",
          "model_name": "LayoutModel",
          "model_module_version": "1.2.0",
          "state": {
            "_model_module": "@jupyter-widgets/base",
            "_model_module_version": "1.2.0",
            "_model_name": "LayoutModel",
            "_view_count": null,
            "_view_module": "@jupyter-widgets/base",
            "_view_module_version": "1.2.0",
            "_view_name": "LayoutView",
            "align_content": null,
            "align_items": null,
            "align_self": null,
            "border": null,
            "bottom": null,
            "display": null,
            "flex": null,
            "flex_flow": null,
            "grid_area": null,
            "grid_auto_columns": null,
            "grid_auto_flow": null,
            "grid_auto_rows": null,
            "grid_column": null,
            "grid_gap": null,
            "grid_row": null,
            "grid_template_areas": null,
            "grid_template_columns": null,
            "grid_template_rows": null,
            "height": null,
            "justify_content": null,
            "justify_items": null,
            "left": null,
            "margin": null,
            "max_height": null,
            "max_width": null,
            "min_height": null,
            "min_width": null,
            "object_fit": null,
            "object_position": null,
            "order": null,
            "overflow": null,
            "overflow_x": null,
            "overflow_y": null,
            "padding": null,
            "right": null,
            "top": null,
            "visibility": null,
            "width": null
          }
        },
        "534c433c16964a1f9cc155be5a049694": {
          "model_module": "@jupyter-widgets/controls",
          "model_name": "DescriptionStyleModel",
          "model_module_version": "1.5.0",
          "state": {
            "_model_module": "@jupyter-widgets/controls",
            "_model_module_version": "1.5.0",
            "_model_name": "DescriptionStyleModel",
            "_view_count": null,
            "_view_module": "@jupyter-widgets/base",
            "_view_module_version": "1.2.0",
            "_view_name": "StyleView",
            "description_width": ""
          }
        },
        "35c23ef7f9414ecbbb4d16754475baba": {
          "model_module": "@jupyter-widgets/controls",
          "model_name": "HBoxModel",
          "model_module_version": "1.5.0",
          "state": {
            "_dom_classes": [],
            "_model_module": "@jupyter-widgets/controls",
            "_model_module_version": "1.5.0",
            "_model_name": "HBoxModel",
            "_view_count": null,
            "_view_module": "@jupyter-widgets/controls",
            "_view_module_version": "1.5.0",
            "_view_name": "HBoxView",
            "box_style": "",
            "children": [
              "IPY_MODEL_3fad67e6daf24bbb926ca64c648975f8",
              "IPY_MODEL_eee83bc7155d4b2ca998ecfa595d93a0",
              "IPY_MODEL_a38f3ee9d8de40fe9701fcd2dba9e76b"
            ],
            "layout": "IPY_MODEL_271774b1ee7f44c2bfb2f5ace78e50ff"
          }
        },
        "3fad67e6daf24bbb926ca64c648975f8": {
          "model_module": "@jupyter-widgets/controls",
          "model_name": "HTMLModel",
          "model_module_version": "1.5.0",
          "state": {
            "_dom_classes": [],
            "_model_module": "@jupyter-widgets/controls",
            "_model_module_version": "1.5.0",
            "_model_name": "HTMLModel",
            "_view_count": null,
            "_view_module": "@jupyter-widgets/controls",
            "_view_module_version": "1.5.0",
            "_view_name": "HTMLView",
            "description": "",
            "description_tooltip": null,
            "layout": "IPY_MODEL_3bad0439545a47f8ac5a868dcfa5e165",
            "placeholder": "​",
            "style": "IPY_MODEL_12d0450005614a79ae9fea47a2e846ba",
            "value": "config.json: 100%"
          }
        },
        "eee83bc7155d4b2ca998ecfa595d93a0": {
          "model_module": "@jupyter-widgets/controls",
          "model_name": "FloatProgressModel",
          "model_module_version": "1.5.0",
          "state": {
            "_dom_classes": [],
            "_model_module": "@jupyter-widgets/controls",
            "_model_module_version": "1.5.0",
            "_model_name": "FloatProgressModel",
            "_view_count": null,
            "_view_module": "@jupyter-widgets/controls",
            "_view_module_version": "1.5.0",
            "_view_name": "ProgressView",
            "bar_style": "success",
            "description": "",
            "description_tooltip": null,
            "layout": "IPY_MODEL_cdc1a12cbfe449fb9fc2f7733f00363a",
            "max": 191,
            "min": 0,
            "orientation": "horizontal",
            "style": "IPY_MODEL_6ca8a99f4c294cb19b5000028db00dfa",
            "value": 191
          }
        },
        "a38f3ee9d8de40fe9701fcd2dba9e76b": {
          "model_module": "@jupyter-widgets/controls",
          "model_name": "HTMLModel",
          "model_module_version": "1.5.0",
          "state": {
            "_dom_classes": [],
            "_model_module": "@jupyter-widgets/controls",
            "_model_module_version": "1.5.0",
            "_model_name": "HTMLModel",
            "_view_count": null,
            "_view_module": "@jupyter-widgets/controls",
            "_view_module_version": "1.5.0",
            "_view_name": "HTMLView",
            "description": "",
            "description_tooltip": null,
            "layout": "IPY_MODEL_07676a68e35f4700b46705ad58936961",
            "placeholder": "​",
            "style": "IPY_MODEL_437dba4ef12049218b0d0003c599bc68",
            "value": " 191/191 [00:00&lt;00:00, 12.8kB/s]"
          }
        },
        "271774b1ee7f44c2bfb2f5ace78e50ff": {
          "model_module": "@jupyter-widgets/base",
          "model_name": "LayoutModel",
          "model_module_version": "1.2.0",
          "state": {
            "_model_module": "@jupyter-widgets/base",
            "_model_module_version": "1.2.0",
            "_model_name": "LayoutModel",
            "_view_count": null,
            "_view_module": "@jupyter-widgets/base",
            "_view_module_version": "1.2.0",
            "_view_name": "LayoutView",
            "align_content": null,
            "align_items": null,
            "align_self": null,
            "border": null,
            "bottom": null,
            "display": null,
            "flex": null,
            "flex_flow": null,
            "grid_area": null,
            "grid_auto_columns": null,
            "grid_auto_flow": null,
            "grid_auto_rows": null,
            "grid_column": null,
            "grid_gap": null,
            "grid_row": null,
            "grid_template_areas": null,
            "grid_template_columns": null,
            "grid_template_rows": null,
            "height": null,
            "justify_content": null,
            "justify_items": null,
            "left": null,
            "margin": null,
            "max_height": null,
            "max_width": null,
            "min_height": null,
            "min_width": null,
            "object_fit": null,
            "object_position": null,
            "order": null,
            "overflow": null,
            "overflow_x": null,
            "overflow_y": null,
            "padding": null,
            "right": null,
            "top": null,
            "visibility": null,
            "width": null
          }
        },
        "3bad0439545a47f8ac5a868dcfa5e165": {
          "model_module": "@jupyter-widgets/base",
          "model_name": "LayoutModel",
          "model_module_version": "1.2.0",
          "state": {
            "_model_module": "@jupyter-widgets/base",
            "_model_module_version": "1.2.0",
            "_model_name": "LayoutModel",
            "_view_count": null,
            "_view_module": "@jupyter-widgets/base",
            "_view_module_version": "1.2.0",
            "_view_name": "LayoutView",
            "align_content": null,
            "align_items": null,
            "align_self": null,
            "border": null,
            "bottom": null,
            "display": null,
            "flex": null,
            "flex_flow": null,
            "grid_area": null,
            "grid_auto_columns": null,
            "grid_auto_flow": null,
            "grid_auto_rows": null,
            "grid_column": null,
            "grid_gap": null,
            "grid_row": null,
            "grid_template_areas": null,
            "grid_template_columns": null,
            "grid_template_rows": null,
            "height": null,
            "justify_content": null,
            "justify_items": null,
            "left": null,
            "margin": null,
            "max_height": null,
            "max_width": null,
            "min_height": null,
            "min_width": null,
            "object_fit": null,
            "object_position": null,
            "order": null,
            "overflow": null,
            "overflow_x": null,
            "overflow_y": null,
            "padding": null,
            "right": null,
            "top": null,
            "visibility": null,
            "width": null
          }
        },
        "12d0450005614a79ae9fea47a2e846ba": {
          "model_module": "@jupyter-widgets/controls",
          "model_name": "DescriptionStyleModel",
          "model_module_version": "1.5.0",
          "state": {
            "_model_module": "@jupyter-widgets/controls",
            "_model_module_version": "1.5.0",
            "_model_name": "DescriptionStyleModel",
            "_view_count": null,
            "_view_module": "@jupyter-widgets/base",
            "_view_module_version": "1.2.0",
            "_view_name": "StyleView",
            "description_width": ""
          }
        },
        "cdc1a12cbfe449fb9fc2f7733f00363a": {
          "model_module": "@jupyter-widgets/base",
          "model_name": "LayoutModel",
          "model_module_version": "1.2.0",
          "state": {
            "_model_module": "@jupyter-widgets/base",
            "_model_module_version": "1.2.0",
            "_model_name": "LayoutModel",
            "_view_count": null,
            "_view_module": "@jupyter-widgets/base",
            "_view_module_version": "1.2.0",
            "_view_name": "LayoutView",
            "align_content": null,
            "align_items": null,
            "align_self": null,
            "border": null,
            "bottom": null,
            "display": null,
            "flex": null,
            "flex_flow": null,
            "grid_area": null,
            "grid_auto_columns": null,
            "grid_auto_flow": null,
            "grid_auto_rows": null,
            "grid_column": null,
            "grid_gap": null,
            "grid_row": null,
            "grid_template_areas": null,
            "grid_template_columns": null,
            "grid_template_rows": null,
            "height": null,
            "justify_content": null,
            "justify_items": null,
            "left": null,
            "margin": null,
            "max_height": null,
            "max_width": null,
            "min_height": null,
            "min_width": null,
            "object_fit": null,
            "object_position": null,
            "order": null,
            "overflow": null,
            "overflow_x": null,
            "overflow_y": null,
            "padding": null,
            "right": null,
            "top": null,
            "visibility": null,
            "width": null
          }
        },
        "6ca8a99f4c294cb19b5000028db00dfa": {
          "model_module": "@jupyter-widgets/controls",
          "model_name": "ProgressStyleModel",
          "model_module_version": "1.5.0",
          "state": {
            "_model_module": "@jupyter-widgets/controls",
            "_model_module_version": "1.5.0",
            "_model_name": "ProgressStyleModel",
            "_view_count": null,
            "_view_module": "@jupyter-widgets/base",
            "_view_module_version": "1.2.0",
            "_view_name": "StyleView",
            "bar_color": null,
            "description_width": ""
          }
        },
        "07676a68e35f4700b46705ad58936961": {
          "model_module": "@jupyter-widgets/base",
          "model_name": "LayoutModel",
          "model_module_version": "1.2.0",
          "state": {
            "_model_module": "@jupyter-widgets/base",
            "_model_module_version": "1.2.0",
            "_model_name": "LayoutModel",
            "_view_count": null,
            "_view_module": "@jupyter-widgets/base",
            "_view_module_version": "1.2.0",
            "_view_name": "LayoutView",
            "align_content": null,
            "align_items": null,
            "align_self": null,
            "border": null,
            "bottom": null,
            "display": null,
            "flex": null,
            "flex_flow": null,
            "grid_area": null,
            "grid_auto_columns": null,
            "grid_auto_flow": null,
            "grid_auto_rows": null,
            "grid_column": null,
            "grid_gap": null,
            "grid_row": null,
            "grid_template_areas": null,
            "grid_template_columns": null,
            "grid_template_rows": null,
            "height": null,
            "justify_content": null,
            "justify_items": null,
            "left": null,
            "margin": null,
            "max_height": null,
            "max_width": null,
            "min_height": null,
            "min_width": null,
            "object_fit": null,
            "object_position": null,
            "order": null,
            "overflow": null,
            "overflow_x": null,
            "overflow_y": null,
            "padding": null,
            "right": null,
            "top": null,
            "visibility": null,
            "width": null
          }
        },
        "437dba4ef12049218b0d0003c599bc68": {
          "model_module": "@jupyter-widgets/controls",
          "model_name": "DescriptionStyleModel",
          "model_module_version": "1.5.0",
          "state": {
            "_model_module": "@jupyter-widgets/controls",
            "_model_module_version": "1.5.0",
            "_model_name": "DescriptionStyleModel",
            "_view_count": null,
            "_view_module": "@jupyter-widgets/base",
            "_view_module_version": "1.2.0",
            "_view_name": "StyleView",
            "description_width": ""
          }
        }
      }
    }
  },
  "nbformat": 4,
  "nbformat_minor": 0
}